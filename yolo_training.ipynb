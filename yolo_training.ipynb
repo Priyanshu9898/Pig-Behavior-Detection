{
 "cells": [
  {
   "cell_type": "code",
   "execution_count": 1,
   "id": "a5c58d62",
   "metadata": {
    "_cell_guid": "b1076dfc-b9ad-4769-8c92-a6c4dae69d19",
    "_uuid": "8f2839f25d086af736a60e9eeb907d3b93b6e0e5",
    "execution": {
     "iopub.execute_input": "2025-05-13T13:58:29.898618Z",
     "iopub.status.busy": "2025-05-13T13:58:29.898369Z",
     "iopub.status.idle": "2025-05-13T13:58:31.576946Z",
     "shell.execute_reply": "2025-05-13T13:58:31.576326Z"
    },
    "papermill": {
     "duration": 1.68549,
     "end_time": "2025-05-13T13:58:31.578542",
     "exception": false,
     "start_time": "2025-05-13T13:58:29.893052",
     "status": "completed"
    },
    "tags": []
   },
   "outputs": [
    {
     "name": "stdout",
     "output_type": "stream",
     "text": [
      "/kaggle/input/pigbehaviordetection/annotated/2019_11_11/000016/depth_scale.npy\n",
      "/kaggle/input/pigbehaviordetection/annotated/2019_11_11/000016/background_depth.png\n",
      "/kaggle/input/pigbehaviordetection/annotated/2019_11_11/000016/depth.mp4\n",
      "/kaggle/input/pigbehaviordetection/annotated/2019_11_11/000016/inverse_intrinsic.npy\n",
      "/kaggle/input/pigbehaviordetection/annotated/2019_11_11/000016/output.json\n",
      "/kaggle/input/pigbehaviordetection/annotated/2019_11_11/000016/rot.npy\n",
      "/kaggle/input/pigbehaviordetection/annotated/2019_11_11/000016/times.txt\n",
      "/kaggle/input/pigbehaviordetection/annotated/2019_11_11/000016/color.mp4\n",
      "/kaggle/input/pigbehaviordetection/annotated/2019_11_11/000016/background.png\n",
      "/kaggle/input/pigbehaviordetection/annotated/2019_11_11/000016/mask.png\n",
      "/kaggle/input/pigbehaviordetection/annotated/2019_11_11/000028/depth_scale.npy\n",
      "/kaggle/input/pigbehaviordetection/annotated/2019_11_11/000028/background_depth.png\n",
      "/kaggle/input/pigbehaviordetection/annotated/2019_11_11/000028/depth.mp4\n",
      "/kaggle/input/pigbehaviordetection/annotated/2019_11_11/000028/inverse_intrinsic.npy\n",
      "/kaggle/input/pigbehaviordetection/annotated/2019_11_11/000028/output.json\n",
      "/kaggle/input/pigbehaviordetection/annotated/2019_11_11/000028/rot.npy\n",
      "/kaggle/input/pigbehaviordetection/annotated/2019_11_11/000028/times.txt\n",
      "/kaggle/input/pigbehaviordetection/annotated/2019_11_11/000028/color.mp4\n",
      "/kaggle/input/pigbehaviordetection/annotated/2019_11_11/000028/background.png\n",
      "/kaggle/input/pigbehaviordetection/annotated/2019_11_11/000028/mask.png\n",
      "/kaggle/input/pigbehaviordetection/annotated/2019_11_11/000036/depth_scale.npy\n",
      "/kaggle/input/pigbehaviordetection/annotated/2019_11_11/000036/background_depth.png\n",
      "/kaggle/input/pigbehaviordetection/annotated/2019_11_11/000036/depth.mp4\n",
      "/kaggle/input/pigbehaviordetection/annotated/2019_11_11/000036/inverse_intrinsic.npy\n",
      "/kaggle/input/pigbehaviordetection/annotated/2019_11_11/000036/output.json\n",
      "/kaggle/input/pigbehaviordetection/annotated/2019_11_11/000036/rot.npy\n",
      "/kaggle/input/pigbehaviordetection/annotated/2019_11_11/000036/times.txt\n",
      "/kaggle/input/pigbehaviordetection/annotated/2019_11_11/000036/color.mp4\n",
      "/kaggle/input/pigbehaviordetection/annotated/2019_11_11/000036/background.png\n",
      "/kaggle/input/pigbehaviordetection/annotated/2019_11_11/000036/mask.png\n",
      "/kaggle/input/pigbehaviordetection/annotated/2019_11_05/000009/depth_scale.npy\n",
      "/kaggle/input/pigbehaviordetection/annotated/2019_11_05/000009/background_depth.png\n",
      "/kaggle/input/pigbehaviordetection/annotated/2019_11_05/000009/depth.mp4\n",
      "/kaggle/input/pigbehaviordetection/annotated/2019_11_05/000009/inverse_intrinsic.npy\n",
      "/kaggle/input/pigbehaviordetection/annotated/2019_11_05/000009/output.json\n",
      "/kaggle/input/pigbehaviordetection/annotated/2019_11_05/000009/rot.npy\n",
      "/kaggle/input/pigbehaviordetection/annotated/2019_11_05/000009/times.txt\n",
      "/kaggle/input/pigbehaviordetection/annotated/2019_11_05/000009/color.mp4\n",
      "/kaggle/input/pigbehaviordetection/annotated/2019_11_05/000009/background.png\n",
      "/kaggle/input/pigbehaviordetection/annotated/2019_11_05/000009/mask.png\n",
      "/kaggle/input/pigbehaviordetection/annotated/2019_11_05/000002/depth_scale.npy\n",
      "/kaggle/input/pigbehaviordetection/annotated/2019_11_05/000002/background_depth.png\n",
      "/kaggle/input/pigbehaviordetection/annotated/2019_11_05/000002/depth.mp4\n",
      "/kaggle/input/pigbehaviordetection/annotated/2019_11_05/000002/inverse_intrinsic.npy\n",
      "/kaggle/input/pigbehaviordetection/annotated/2019_11_05/000002/output.json\n",
      "/kaggle/input/pigbehaviordetection/annotated/2019_11_05/000002/rot.npy\n",
      "/kaggle/input/pigbehaviordetection/annotated/2019_11_05/000002/times.txt\n",
      "/kaggle/input/pigbehaviordetection/annotated/2019_11_05/000002/color.mp4\n",
      "/kaggle/input/pigbehaviordetection/annotated/2019_11_05/000002/background.png\n",
      "/kaggle/input/pigbehaviordetection/annotated/2019_11_05/000002/mask.png\n",
      "/kaggle/input/pigbehaviordetection/annotated/2019_11_22/000010/depth_scale.npy\n",
      "/kaggle/input/pigbehaviordetection/annotated/2019_11_22/000010/background_depth.png\n",
      "/kaggle/input/pigbehaviordetection/annotated/2019_11_22/000010/depth.mp4\n",
      "/kaggle/input/pigbehaviordetection/annotated/2019_11_22/000010/inverse_intrinsic.npy\n",
      "/kaggle/input/pigbehaviordetection/annotated/2019_11_22/000010/output.json\n",
      "/kaggle/input/pigbehaviordetection/annotated/2019_11_22/000010/rot.npy\n",
      "/kaggle/input/pigbehaviordetection/annotated/2019_11_22/000010/times.txt\n",
      "/kaggle/input/pigbehaviordetection/annotated/2019_11_22/000010/color.mp4\n",
      "/kaggle/input/pigbehaviordetection/annotated/2019_11_22/000010/background.png\n",
      "/kaggle/input/pigbehaviordetection/annotated/2019_11_22/000010/mask.png\n",
      "/kaggle/input/pigbehaviordetection/annotated/2019_12_02/000005/depth_scale.npy\n",
      "/kaggle/input/pigbehaviordetection/annotated/2019_12_02/000005/background_depth.png\n",
      "/kaggle/input/pigbehaviordetection/annotated/2019_12_02/000005/depth.mp4\n",
      "/kaggle/input/pigbehaviordetection/annotated/2019_12_02/000005/inverse_intrinsic.npy\n",
      "/kaggle/input/pigbehaviordetection/annotated/2019_12_02/000005/output.json\n",
      "/kaggle/input/pigbehaviordetection/annotated/2019_12_02/000005/rot.npy\n",
      "/kaggle/input/pigbehaviordetection/annotated/2019_12_02/000005/times.txt\n",
      "/kaggle/input/pigbehaviordetection/annotated/2019_12_02/000005/color.mp4\n",
      "/kaggle/input/pigbehaviordetection/annotated/2019_12_02/000005/background.png\n",
      "/kaggle/input/pigbehaviordetection/annotated/2019_12_02/000005/mask.png\n",
      "/kaggle/input/pigbehaviordetection/annotated/2019_12_02/000208/depth_scale.npy\n",
      "/kaggle/input/pigbehaviordetection/annotated/2019_12_02/000208/background_depth.png\n",
      "/kaggle/input/pigbehaviordetection/annotated/2019_12_02/000208/depth.mp4\n",
      "/kaggle/input/pigbehaviordetection/annotated/2019_12_02/000208/inverse_intrinsic.npy\n",
      "/kaggle/input/pigbehaviordetection/annotated/2019_12_02/000208/output.json\n",
      "/kaggle/input/pigbehaviordetection/annotated/2019_12_02/000208/rot.npy\n",
      "/kaggle/input/pigbehaviordetection/annotated/2019_12_02/000208/times.txt\n",
      "/kaggle/input/pigbehaviordetection/annotated/2019_12_02/000208/color.mp4\n",
      "/kaggle/input/pigbehaviordetection/annotated/2019_12_02/000208/background.png\n",
      "/kaggle/input/pigbehaviordetection/annotated/2019_12_02/000208/mask.png\n",
      "/kaggle/input/pigbehaviordetection/annotated/2019_12_10/000060/depth_scale.npy\n",
      "/kaggle/input/pigbehaviordetection/annotated/2019_12_10/000060/background_depth.png\n",
      "/kaggle/input/pigbehaviordetection/annotated/2019_12_10/000060/depth.mp4\n",
      "/kaggle/input/pigbehaviordetection/annotated/2019_12_10/000060/inverse_intrinsic.npy\n",
      "/kaggle/input/pigbehaviordetection/annotated/2019_12_10/000060/output.json\n",
      "/kaggle/input/pigbehaviordetection/annotated/2019_12_10/000060/rot.npy\n",
      "/kaggle/input/pigbehaviordetection/annotated/2019_12_10/000060/times.txt\n",
      "/kaggle/input/pigbehaviordetection/annotated/2019_12_10/000060/color.mp4\n",
      "/kaggle/input/pigbehaviordetection/annotated/2019_12_10/000060/background.png\n",
      "/kaggle/input/pigbehaviordetection/annotated/2019_12_10/000060/mask.png\n",
      "/kaggle/input/pigbehaviordetection/annotated/2019_12_10/000078/depth_scale.npy\n",
      "/kaggle/input/pigbehaviordetection/annotated/2019_12_10/000078/background_depth.png\n",
      "/kaggle/input/pigbehaviordetection/annotated/2019_12_10/000078/depth.mp4\n",
      "/kaggle/input/pigbehaviordetection/annotated/2019_12_10/000078/inverse_intrinsic.npy\n",
      "/kaggle/input/pigbehaviordetection/annotated/2019_12_10/000078/output.json\n",
      "/kaggle/input/pigbehaviordetection/annotated/2019_12_10/000078/rot.npy\n",
      "/kaggle/input/pigbehaviordetection/annotated/2019_12_10/000078/times.txt\n",
      "/kaggle/input/pigbehaviordetection/annotated/2019_12_10/000078/color.mp4\n",
      "/kaggle/input/pigbehaviordetection/annotated/2019_12_10/000078/background.png\n",
      "/kaggle/input/pigbehaviordetection/annotated/2019_12_10/000078/mask.png\n",
      "/kaggle/input/pigbehaviordetection/annotated/2019_11_28/000113/depth_scale.npy\n",
      "/kaggle/input/pigbehaviordetection/annotated/2019_11_28/000113/background_depth.png\n",
      "/kaggle/input/pigbehaviordetection/annotated/2019_11_28/000113/depth.mp4\n",
      "/kaggle/input/pigbehaviordetection/annotated/2019_11_28/000113/inverse_intrinsic.npy\n",
      "/kaggle/input/pigbehaviordetection/annotated/2019_11_28/000113/output.json\n",
      "/kaggle/input/pigbehaviordetection/annotated/2019_11_28/000113/rot.npy\n",
      "/kaggle/input/pigbehaviordetection/annotated/2019_11_28/000113/times.txt\n",
      "/kaggle/input/pigbehaviordetection/annotated/2019_11_28/000113/color.mp4\n",
      "/kaggle/input/pigbehaviordetection/annotated/2019_11_28/000113/background.png\n",
      "/kaggle/input/pigbehaviordetection/annotated/2019_11_28/000113/mask.png\n",
      "/kaggle/input/pigbehaviordetection/annotated/2019_11_15/000033/depth_scale.npy\n",
      "/kaggle/input/pigbehaviordetection/annotated/2019_11_15/000033/background_depth.png\n",
      "/kaggle/input/pigbehaviordetection/annotated/2019_11_15/000033/depth.mp4\n",
      "/kaggle/input/pigbehaviordetection/annotated/2019_11_15/000033/inverse_intrinsic.npy\n",
      "/kaggle/input/pigbehaviordetection/annotated/2019_11_15/000033/output.json\n",
      "/kaggle/input/pigbehaviordetection/annotated/2019_11_15/000033/rot.npy\n",
      "/kaggle/input/pigbehaviordetection/annotated/2019_11_15/000033/times.txt\n",
      "/kaggle/input/pigbehaviordetection/annotated/2019_11_15/000033/color.mp4\n",
      "/kaggle/input/pigbehaviordetection/annotated/2019_11_15/000033/background.png\n",
      "/kaggle/input/pigbehaviordetection/annotated/2019_11_15/000033/mask.png\n"
     ]
    }
   ],
   "source": [
    "# This Python 3 environment comes with many helpful analytics libraries installed\n",
    "# It is defined by the kaggle/python Docker image: https://github.com/kaggle/docker-python\n",
    "# For example, here's several helpful packages to load\n",
    "\n",
    "import numpy as np # linear algebra\n",
    "import pandas as pd # data processing, CSV file I/O (e.g. pd.read_csv)\n",
    "\n",
    "# Input data files are available in the read-only \"../input/\" directory\n",
    "# For example, running this (by clicking run or pressing Shift+Enter) will list all files under the input directory\n",
    "\n",
    "import os\n",
    "for dirname, _, filenames in os.walk('/kaggle/input'):\n",
    "    for filename in filenames:\n",
    "        print(os.path.join(dirname, filename))\n",
    "\n",
    "# You can write up to 20GB to the current directory (/kaggle/working/) that gets preserved as output when you create a version using \"Save & Run All\" \n",
    "# You can also write temporary files to /kaggle/temp/, but they won't be saved outside of the current session"
   ]
  },
  {
   "cell_type": "code",
   "execution_count": 2,
   "id": "e6a589c2",
   "metadata": {
    "execution": {
     "iopub.execute_input": "2025-05-13T13:58:31.587984Z",
     "iopub.status.busy": "2025-05-13T13:58:31.587228Z",
     "iopub.status.idle": "2025-05-13T13:58:40.210583Z",
     "shell.execute_reply": "2025-05-13T13:58:40.209809Z"
    },
    "papermill": {
     "duration": 8.629265,
     "end_time": "2025-05-13T13:58:40.212035",
     "exception": false,
     "start_time": "2025-05-13T13:58:31.582770",
     "status": "completed"
    },
    "tags": []
   },
   "outputs": [
    {
     "name": "stdout",
     "output_type": "stream",
     "text": [
      "Hit:1 http://archive.ubuntu.com/ubuntu jammy InRelease\r\n",
      "Get:2 http://archive.ubuntu.com/ubuntu jammy-updates InRelease [128 kB]\r\n",
      "Get:3 https://cloud.r-project.org/bin/linux/ubuntu jammy-cran40/ InRelease [3,632 B]\r\n",
      "Get:4 https://developer.download.nvidia.com/compute/cuda/repos/ubuntu2204/x86_64  InRelease [1,581 B]\r\n",
      "Get:5 https://r2u.stat.illinois.edu/ubuntu jammy InRelease [6,555 B]\r\n",
      "Get:6 http://security.ubuntu.com/ubuntu jammy-security InRelease [129 kB]\r\n",
      "Get:7 http://archive.ubuntu.com/ubuntu jammy-backports InRelease [127 kB]\r\n",
      "Get:8 https://cloud.r-project.org/bin/linux/ubuntu jammy-cran40/ Packages [77.5 kB]\r\n",
      "Get:9 https://ppa.launchpadcontent.net/deadsnakes/ppa/ubuntu jammy InRelease [18.1 kB]\r\n",
      "Get:10 https://r2u.stat.illinois.edu/ubuntu jammy/main amd64 Packages [2,722 kB]\r\n",
      "Get:11 https://developer.download.nvidia.com/compute/cuda/repos/ubuntu2204/x86_64  Packages [1,665 kB]\r\n",
      "Get:12 http://archive.ubuntu.com/ubuntu jammy-updates/universe amd64 Packages [1,546 kB]\r\n",
      "Get:13 https://ppa.launchpadcontent.net/graphics-drivers/ppa/ubuntu jammy InRelease [24.3 kB]\r\n",
      "Hit:14 https://ppa.launchpadcontent.net/ubuntugis/ppa/ubuntu jammy InRelease\r\n",
      "Get:15 http://archive.ubuntu.com/ubuntu jammy-updates/restricted amd64 Packages [4,436 kB]\r\n",
      "Get:16 http://archive.ubuntu.com/ubuntu jammy-updates/multiverse amd64 Packages [55.7 kB]\r\n",
      "Get:17 http://archive.ubuntu.com/ubuntu jammy-updates/main amd64 Packages [3,211 kB]\r\n",
      "Get:18 http://archive.ubuntu.com/ubuntu jammy-backports/universe amd64 Packages [35.2 kB]\r\n",
      "Get:19 http://archive.ubuntu.com/ubuntu jammy-backports/main amd64 Packages [83.2 kB]\r\n",
      "Get:20 http://security.ubuntu.com/ubuntu jammy-security/main amd64 Packages [2,901 kB]\r\n",
      "Get:21 https://ppa.launchpadcontent.net/deadsnakes/ppa/ubuntu jammy/main amd64 Packages [34.2 kB]\r\n",
      "Get:22 https://ppa.launchpadcontent.net/graphics-drivers/ppa/ubuntu jammy/main amd64 Packages [46.3 kB]\r\n",
      "Get:23 https://r2u.stat.illinois.edu/ubuntu jammy/main all Packages [8,932 kB]\r\n",
      "Get:24 http://security.ubuntu.com/ubuntu jammy-security/restricted amd64 Packages [4,282 kB]\r\n",
      "Get:25 http://security.ubuntu.com/ubuntu jammy-security/multiverse amd64 Packages [47.7 kB]\r\n",
      "Get:26 http://security.ubuntu.com/ubuntu jammy-security/universe amd64 Packages [1,245 kB]\r\n",
      "Fetched 31.8 MB in 4s (7,224 kB/s)\r\n",
      "\r\n",
      "W: Skipping acquire of configured file 'main/source/Sources' as repository 'https://r2u.stat.illinois.edu/ubuntu jammy InRelease' does not seem to provide it (sources.list entry misspelt?)\r\n",
      "\r\n",
      "\r\n",
      "\r\n",
      "build-essential is already the newest version (12.9ubuntu3).\r\n",
      "git is already the newest version (1:2.34.1-1ubuntu1.12).\r\n",
      "libopencv-dev is already the newest version (4.5.4+dfsg-9ubuntu4+jammy0).\r\n",
      "0 upgraded, 0 newly installed, 0 to remove and 160 not upgraded.\r\n"
     ]
    }
   ],
   "source": [
    "!apt-get update\n",
    "!apt-get install -y build-essential libopencv-dev git"
   ]
  },
  {
   "cell_type": "code",
   "execution_count": 3,
   "id": "28b96694",
   "metadata": {
    "execution": {
     "iopub.execute_input": "2025-05-13T13:58:40.226755Z",
     "iopub.status.busy": "2025-05-13T13:58:40.226513Z",
     "iopub.status.idle": "2025-05-13T13:58:40.231361Z",
     "shell.execute_reply": "2025-05-13T13:58:40.230866Z"
    },
    "papermill": {
     "duration": 0.013229,
     "end_time": "2025-05-13T13:58:40.232491",
     "exception": false,
     "start_time": "2025-05-13T13:58:40.219262",
     "status": "completed"
    },
    "tags": []
   },
   "outputs": [],
   "source": [
    "import os\n",
    "\n",
    "YOLO_ROOT = \"/kaggle/working/yolo\"\n",
    "for subdir in [\"images/train\",\"images/val\",\"labels/train\",\"labels/val\",\"backup\"]:\n",
    "    os.makedirs(os.path.join(YOLO_ROOT, subdir), exist_ok=True)"
   ]
  },
  {
   "cell_type": "code",
   "execution_count": 4,
   "id": "1aa2e8e3",
   "metadata": {
    "execution": {
     "iopub.execute_input": "2025-05-13T13:58:40.247219Z",
     "iopub.status.busy": "2025-05-13T13:58:40.247014Z",
     "iopub.status.idle": "2025-05-13T13:58:40.759331Z",
     "shell.execute_reply": "2025-05-13T13:58:40.758794Z"
    },
    "papermill": {
     "duration": 0.520888,
     "end_time": "2025-05-13T13:58:40.760687",
     "exception": false,
     "start_time": "2025-05-13T13:58:40.239799",
     "status": "completed"
    },
    "tags": []
   },
   "outputs": [],
   "source": [
    "import json, cv2\n",
    "from pathlib import Path\n",
    "\n",
    "ANNOT_DIR = Path(\"/kaggle/input/pigbehaviordetection/annotated\")\n",
    "YOLO      = Path(YOLO_ROOT)\n",
    "train_seqs = ['000002','000009','000016','000028','000036','000033','000010']\n",
    "val_seqs   = ['000113','000005','000208','000060','000078']"
   ]
  },
  {
   "cell_type": "code",
   "execution_count": 5,
   "id": "c7a70677",
   "metadata": {
    "execution": {
     "iopub.execute_input": "2025-05-13T13:58:40.775968Z",
     "iopub.status.busy": "2025-05-13T13:58:40.775396Z",
     "iopub.status.idle": "2025-05-13T13:58:40.779475Z",
     "shell.execute_reply": "2025-05-13T13:58:40.778862Z"
    },
    "papermill": {
     "duration": 0.01282,
     "end_time": "2025-05-13T13:58:40.780569",
     "exception": false,
     "start_time": "2025-05-13T13:58:40.767749",
     "status": "completed"
    },
    "tags": []
   },
   "outputs": [],
   "source": [
    "def to_yolo(bbox, W, H):\n",
    "    x,y,w,h = bbox[\"x\"], bbox[\"y\"], bbox[\"width\"], bbox[\"height\"]\n",
    "    cx, cy = x + w/2, y + h/2\n",
    "    return f\"0 {cx/W:.6f} {cy/H:.6f} {w/W:.6f} {h/H:.6f}\\n\""
   ]
  },
  {
   "cell_type": "code",
   "execution_count": null,
   "id": "daab6b3f",
   "metadata": {
    "execution": {
     "iopub.execute_input": "2025-05-13T13:58:40.794915Z",
     "iopub.status.busy": "2025-05-13T13:58:40.794675Z",
     "iopub.status.idle": "2025-05-13T15:09:29.644998Z",
     "shell.execute_reply": "2025-05-13T15:09:29.644223Z"
    },
    "papermill": {
     "duration": 4248.866177,
     "end_time": "2025-05-13T15:09:29.653291",
     "exception": false,
     "start_time": "2025-05-13T13:58:40.787114",
     "status": "completed"
    },
    "tags": []
   },
   "outputs": [
    {
     "name": "stdout",
     "output_type": "stream",
     "text": [
      "✅ YOLO data conversion complete\n"
     ]
    }
   ],
   "source": [
    "# Open train.txt / val.txt for Darknet\n",
    "train_list = open(YOLO/\"train.txt\",\"w\")\n",
    "val_list   = open(YOLO/\"val.txt\",\"w\")\n",
    "\n",
    "for split, seqs, list_f in [(\"train\",train_seqs,train_list),(\"val\",val_seqs,val_list)]:\n",
    "    for date_dir in ANNOT_DIR.iterdir():\n",
    "        if not date_dir.is_dir(): continue\n",
    "        for seq in seqs:\n",
    "            clip = date_dir/seq\n",
    "            if not clip.exists(): continue\n",
    "\n",
    "            # Load ground-truth JSON\n",
    "            ann = json.load(open(clip/\"output.json\"))\n",
    "\n",
    "    \n",
    "            cap = cv2.VideoCapture(str(clip/\"color.mp4\"))\n",
    "            W = cap.get(cv2.CAP_PROP_FRAME_WIDTH)\n",
    "            H = cap.get(cv2.CAP_PROP_FRAME_HEIGHT)\n",
    "\n",
    "            # Build map raw_frame_idx -> list of bboxes\n",
    "            frame_map = {}\n",
    "            for obj in ann[\"objects\"]:\n",
    "                for fr in obj[\"frames\"]:\n",
    "                    raw = fr[\"frameNumber\"] * 3\n",
    "                    frame_map.setdefault(raw, []).append(fr[\"bbox\"])\n",
    "\n",
    "            # For each raw frame with annotations...\n",
    "            for raw_idx, bboxes in frame_map.items():\n",
    "                img_path = YOLO/f\"images/{split}/{seq}_{raw_idx:04d}.jpg\"\n",
    "                lbl_path = YOLO/f\"labels/{split}/{seq}_{raw_idx:04d}.txt\"\n",
    "\n",
    "                # Save image if not already\n",
    "                if not img_path.exists():\n",
    "                    cap.set(cv2.CAP_PROP_POS_FRAMES, raw_idx)\n",
    "                    ret, frame = cap.read()\n",
    "                    cv2.imwrite(str(img_path), frame)\n",
    "\n",
    "                # Write label file\n",
    "                with open(lbl_path, \"w\") as lf:\n",
    "                    for bb in bboxes:\n",
    "                        lf.write(to_yolo(bb, W, H))\n",
    "\n",
    "                # Append image absolute path to train.txt / val.txt\n",
    "                list_f.write(str(img_path.resolve()) + \"\\n\")\n",
    "\n",
    "            cap.release()\n",
    "\n",
    "train_list.close()\n",
    "val_list.close()\n",
    "print(\"✅ YOLO data conversion complete\")"
   ]
  },
  {
   "cell_type": "code",
   "execution_count": null,
   "id": "9e3ccaa0",
   "metadata": {
    "execution": {
     "iopub.execute_input": "2025-05-13T15:09:29.667666Z",
     "iopub.status.busy": "2025-05-13T15:09:29.667225Z",
     "iopub.status.idle": "2025-05-13T15:09:29.670672Z",
     "shell.execute_reply": "2025-05-13T15:09:29.670140Z"
    },
    "papermill": {
     "duration": 0.011719,
     "end_time": "2025-05-13T15:09:29.671664",
     "exception": false,
     "start_time": "2025-05-13T15:09:29.659945",
     "status": "completed"
    },
    "tags": []
   },
   "outputs": [],
   "source": [
    "# with open(YOLO/\"obj.names\",\"w\") as f:\n",
    "#     f.write(\"pig\\n\")\n",
    "\n",
    "# with open(YOLO/\"obj.data\",\"w\") as f:\n",
    "#     f.write(\"classes = 1\\n\")\n",
    "#     f.write(f\"train  = {YOLO}/train.txt\\n\")\n",
    "#     f.write(f\"valid  = {YOLO}/val.txt\\n\")\n",
    "#     f.write(\"names  = obj.names\\n\")\n",
    "#     f.write(\"backup = backup/\\n\")\n",
    "\n",
    "\n",
    "# CFG_BASE = Path(\"/kaggle/working/cfg/yolov3.cfg\")\n",
    "# CFG_NEW  = YOLO/\"yolov3_pig.cfg\"\n",
    "# !cp \"{CFG_BASE}\" \"{CFG_NEW}\"\n",
    "# # change classes=80 → classes=1, filters=255 → filters=18\n",
    "# !sed -i 's/classes=80/classes=1/' \"{CFG_NEW}\"\n",
    "# !sed -i 's/filters=255/filters=18/'  \"{CFG_NEW}\"\n",
    "\n",
    "# print(\"✅ Created YOLO config:\", CFG_NEW)"
   ]
  },
  {
   "cell_type": "code",
   "execution_count": 8,
   "id": "13e9513a",
   "metadata": {
    "execution": {
     "iopub.execute_input": "2025-05-13T15:09:29.685790Z",
     "iopub.status.busy": "2025-05-13T15:09:29.685303Z",
     "iopub.status.idle": "2025-05-13T15:10:46.791400Z",
     "shell.execute_reply": "2025-05-13T15:10:46.790543Z"
    },
    "papermill": {
     "duration": 77.114627,
     "end_time": "2025-05-13T15:10:46.792882",
     "exception": false,
     "start_time": "2025-05-13T15:09:29.678255",
     "status": "completed"
    },
    "tags": []
   },
   "outputs": [
    {
     "name": "stdout",
     "output_type": "stream",
     "text": [
      "\u001b[2K   \u001b[90m━━━━━━━━━━━━━━━━━━━━━━━━━━━━━━━━━━━━━━━━\u001b[0m \u001b[32m1.0/1.0 MB\u001b[0m \u001b[31m20.5 MB/s\u001b[0m eta \u001b[36m0:00:00\u001b[0m\r\n",
      "\u001b[2K   \u001b[90m━━━━━━━━━━━━━━━━━━━━━━━━━━━━━━━━━━━━━━━━\u001b[0m \u001b[32m363.4/363.4 MB\u001b[0m \u001b[31m4.3 MB/s\u001b[0m eta \u001b[36m0:00:00\u001b[0m\r\n",
      "\u001b[2K   \u001b[90m━━━━━━━━━━━━━━━━━━━━━━━━━━━━━━━━━━━━━━━━\u001b[0m \u001b[32m664.8/664.8 MB\u001b[0m \u001b[31m1.9 MB/s\u001b[0m eta \u001b[36m0:00:00\u001b[0m\r\n",
      "\u001b[2K   \u001b[90m━━━━━━━━━━━━━━━━━━━━━━━━━━━━━━━━━━━━━━━━\u001b[0m \u001b[32m211.5/211.5 MB\u001b[0m \u001b[31m8.1 MB/s\u001b[0m eta \u001b[36m0:00:00\u001b[0m\r\n",
      "\u001b[2K   \u001b[90m━━━━━━━━━━━━━━━━━━━━━━━━━━━━━━━━━━━━━━━━\u001b[0m \u001b[32m56.3/56.3 MB\u001b[0m \u001b[31m29.7 MB/s\u001b[0m eta \u001b[36m0:00:00\u001b[0m\r\n",
      "\u001b[2K   \u001b[90m━━━━━━━━━━━━━━━━━━━━━━━━━━━━━━━━━━━━━━━━\u001b[0m \u001b[32m127.9/127.9 MB\u001b[0m \u001b[31m13.1 MB/s\u001b[0m eta \u001b[36m0:00:00\u001b[0m\r\n",
      "\u001b[2K   \u001b[90m━━━━━━━━━━━━━━━━━━━━━━━━━━━━━━━━━━━━━━━━\u001b[0m \u001b[32m207.5/207.5 MB\u001b[0m \u001b[31m8.1 MB/s\u001b[0m eta \u001b[36m0:00:00\u001b[0m\r\n",
      "\u001b[2K   \u001b[90m━━━━━━━━━━━━━━━━━━━━━━━━━━━━━━━━━━━━━━━━\u001b[0m \u001b[32m21.1/21.1 MB\u001b[0m \u001b[31m63.1 MB/s\u001b[0m eta \u001b[36m0:00:00\u001b[0m\r\n",
      "\u001b[?25h\u001b[31mERROR: pip's dependency resolver does not currently take into account all the packages that are installed. This behaviour is the source of the following dependency conflicts.\r\n",
      "pylibcugraph-cu12 24.12.0 requires pylibraft-cu12==24.12.*, but you have pylibraft-cu12 25.2.0 which is incompatible.\r\n",
      "pylibcugraph-cu12 24.12.0 requires rmm-cu12==24.12.*, but you have rmm-cu12 25.2.0 which is incompatible.\u001b[0m\u001b[31m\r\n",
      "\u001b[0m"
     ]
    }
   ],
   "source": [
    "!pip install ultralytics --quiet"
   ]
  },
  {
   "cell_type": "code",
   "execution_count": 9,
   "id": "769e2af1",
   "metadata": {
    "execution": {
     "iopub.execute_input": "2025-05-13T15:10:46.839419Z",
     "iopub.status.busy": "2025-05-13T15:10:46.839158Z",
     "iopub.status.idle": "2025-05-13T15:10:46.860927Z",
     "shell.execute_reply": "2025-05-13T15:10:46.860302Z"
    },
    "papermill": {
     "duration": 0.045997,
     "end_time": "2025-05-13T15:10:46.862083",
     "exception": false,
     "start_time": "2025-05-13T15:10:46.816086",
     "status": "completed"
    },
    "tags": []
   },
   "outputs": [],
   "source": [
    "from pathlib import Path\n",
    "import yaml"
   ]
  },
  {
   "cell_type": "code",
   "execution_count": 10,
   "id": "6d2525fe",
   "metadata": {
    "execution": {
     "iopub.execute_input": "2025-05-13T15:10:46.907758Z",
     "iopub.status.busy": "2025-05-13T15:10:46.907545Z",
     "iopub.status.idle": "2025-05-13T15:10:46.910950Z",
     "shell.execute_reply": "2025-05-13T15:10:46.910346Z"
    },
    "papermill": {
     "duration": 0.027437,
     "end_time": "2025-05-13T15:10:46.912036",
     "exception": false,
     "start_time": "2025-05-13T15:10:46.884599",
     "status": "completed"
    },
    "tags": []
   },
   "outputs": [],
   "source": [
    "YOLO_DIR = Path(\"/kaggle/working/yolo\")\n",
    "data_yaml = YOLO_DIR/\"data.yaml\""
   ]
  },
  {
   "cell_type": "code",
   "execution_count": 11,
   "id": "3f1dde67",
   "metadata": {
    "execution": {
     "iopub.execute_input": "2025-05-13T15:10:46.957200Z",
     "iopub.status.busy": "2025-05-13T15:10:46.956963Z",
     "iopub.status.idle": "2025-05-13T15:10:46.962764Z",
     "shell.execute_reply": "2025-05-13T15:10:46.962122Z"
    },
    "papermill": {
     "duration": 0.029905,
     "end_time": "2025-05-13T15:10:46.963999",
     "exception": false,
     "start_time": "2025-05-13T15:10:46.934094",
     "status": "completed"
    },
    "tags": []
   },
   "outputs": [
    {
     "name": "stdout",
     "output_type": "stream",
     "text": [
      "Wrote data config to: /kaggle/working/yolo/data.yaml\n"
     ]
    }
   ],
   "source": [
    "config = {\n",
    "    'path': str(YOLO_DIR),\n",
    "    'train': 'images/train',\n",
    "    'val':   'images/val',\n",
    "    'nc':    1,\n",
    "    'names': ['pig']\n",
    "}\n",
    "with open(data_yaml, 'w') as f:\n",
    "    yaml.dump(config, f)\n",
    "print(\"Wrote data config to:\", data_yaml)"
   ]
  },
  {
   "cell_type": "code",
   "execution_count": 12,
   "id": "6d9b4146",
   "metadata": {
    "execution": {
     "iopub.execute_input": "2025-05-13T15:10:47.009045Z",
     "iopub.status.busy": "2025-05-13T15:10:47.008771Z",
     "iopub.status.idle": "2025-05-13T15:10:50.405644Z",
     "shell.execute_reply": "2025-05-13T15:10:50.405083Z"
    },
    "papermill": {
     "duration": 3.420887,
     "end_time": "2025-05-13T15:10:50.406936",
     "exception": false,
     "start_time": "2025-05-13T15:10:46.986049",
     "status": "completed"
    },
    "tags": []
   },
   "outputs": [
    {
     "name": "stdout",
     "output_type": "stream",
     "text": [
      "Creating new Ultralytics Settings v0.0.6 file ✅ \n",
      "View Ultralytics Settings with 'yolo settings' or at '/root/.config/Ultralytics/settings.json'\n",
      "Update Settings with 'yolo settings key=value', i.e. 'yolo settings runs_dir=path/to/dir'. For help see https://docs.ultralytics.com/quickstart/#ultralytics-settings.\n"
     ]
    }
   ],
   "source": [
    "from ultralytics import YOLO"
   ]
  },
  {
   "cell_type": "code",
   "execution_count": 13,
   "id": "5459d58b",
   "metadata": {
    "execution": {
     "iopub.execute_input": "2025-05-13T15:10:50.453218Z",
     "iopub.status.busy": "2025-05-13T15:10:50.452874Z",
     "iopub.status.idle": "2025-05-13T15:10:51.283798Z",
     "shell.execute_reply": "2025-05-13T15:10:51.282883Z"
    },
    "papermill": {
     "duration": 0.855173,
     "end_time": "2025-05-13T15:10:51.285135",
     "exception": false,
     "start_time": "2025-05-13T15:10:50.429962",
     "status": "completed"
    },
    "tags": []
   },
   "outputs": [
    {
     "name": "stdout",
     "output_type": "stream",
     "text": [
      "Downloading https://github.com/ultralytics/assets/releases/download/v8.3.0/yolov8n.pt to 'yolov8n.pt'...\n"
     ]
    },
    {
     "name": "stderr",
     "output_type": "stream",
     "text": [
      "100%|██████████| 6.25M/6.25M [00:00<00:00, 79.9MB/s]\n"
     ]
    }
   ],
   "source": [
    "model = YOLO('yolov8n.pt')  "
   ]
  },
  {
   "cell_type": "code",
   "execution_count": null,
   "id": "52d07ece",
   "metadata": {
    "execution": {
     "iopub.execute_input": "2025-05-13T15:10:51.335453Z",
     "iopub.status.busy": "2025-05-13T15:10:51.335209Z",
     "iopub.status.idle": "2025-05-13T15:37:02.546595Z",
     "shell.execute_reply": "2025-05-13T15:37:02.545616Z"
    },
    "papermill": {
     "duration": 1571.237784,
     "end_time": "2025-05-13T15:37:02.548340",
     "exception": false,
     "start_time": "2025-05-13T15:10:51.310556",
     "status": "completed"
    },
    "tags": []
   },
   "outputs": [
    {
     "name": "stdout",
     "output_type": "stream",
     "text": [
      "Ultralytics 8.3.133 🚀 Python-3.11.11 torch-2.5.1+cu124 CUDA:0 (Tesla T4, 15095MiB)\n",
      "\u001b[34m\u001b[1mengine/trainer: \u001b[0magnostic_nms=False, amp=True, augment=False, auto_augment=randaugment, batch=16, bgr=0.0, box=7.5, cache=False, cfg=None, classes=None, close_mosaic=10, cls=0.5, conf=None, copy_paste=0.0, copy_paste_mode=flip, cos_lr=False, cutmix=0.0, data=/kaggle/working/yolo/data.yaml, degrees=0.0, deterministic=True, device=None, dfl=1.5, dnn=False, dropout=0.0, dynamic=False, embed=None, epochs=50, erasing=0.4, exist_ok=False, fliplr=0.5, flipud=0.0, format=torchscript, fraction=1.0, freeze=None, half=False, hsv_h=0.015, hsv_s=0.7, hsv_v=0.4, imgsz=416, int8=False, iou=0.7, keras=False, kobj=1.0, line_width=None, lr0=0.01, lrf=0.01, mask_ratio=4, max_det=300, mixup=0.0, mode=train, model=yolov8n.pt, momentum=0.937, mosaic=1.0, multi_scale=False, name=yolov8_pig, nbs=64, nms=False, opset=None, optimize=False, optimizer=auto, overlap_mask=True, patience=100, perspective=0.0, plots=True, pose=12.0, pretrained=True, profile=False, project=/kaggle/working/yolo/runs, rect=False, resume=False, retina_masks=False, save=True, save_conf=False, save_crop=False, save_dir=/kaggle/working/yolo/runs/yolov8_pig, save_frames=False, save_json=False, save_period=-1, save_txt=False, scale=0.5, seed=0, shear=0.0, show=False, show_boxes=True, show_conf=True, show_labels=True, simplify=True, single_cls=False, source=None, split=val, stream_buffer=False, task=detect, time=None, tracker=botsort.yaml, translate=0.1, val=True, verbose=True, vid_stride=1, visualize=False, warmup_bias_lr=0.1, warmup_epochs=3.0, warmup_momentum=0.8, weight_decay=0.0005, workers=8, workspace=None\n",
      "Downloading https://ultralytics.com/assets/Arial.ttf to '/root/.config/Ultralytics/Arial.ttf'...\n"
     ]
    },
    {
     "name": "stderr",
     "output_type": "stream",
     "text": [
      "100%|██████████| 755k/755k [00:00<00:00, 18.2MB/s]\n"
     ]
    },
    {
     "name": "stdout",
     "output_type": "stream",
     "text": [
      "Overriding model.yaml nc=80 with nc=1\n",
      "\n",
      "                   from  n    params  module                                       arguments                     \n",
      "  0                  -1  1       464  ultralytics.nn.modules.conv.Conv             [3, 16, 3, 2]                 \n",
      "  1                  -1  1      4672  ultralytics.nn.modules.conv.Conv             [16, 32, 3, 2]                \n",
      "  2                  -1  1      7360  ultralytics.nn.modules.block.C2f             [32, 32, 1, True]             \n",
      "  3                  -1  1     18560  ultralytics.nn.modules.conv.Conv             [32, 64, 3, 2]                \n",
      "  4                  -1  2     49664  ultralytics.nn.modules.block.C2f             [64, 64, 2, True]             \n",
      "  5                  -1  1     73984  ultralytics.nn.modules.conv.Conv             [64, 128, 3, 2]               \n",
      "  6                  -1  2    197632  ultralytics.nn.modules.block.C2f             [128, 128, 2, True]           \n",
      "  7                  -1  1    295424  ultralytics.nn.modules.conv.Conv             [128, 256, 3, 2]              \n",
      "  8                  -1  1    460288  ultralytics.nn.modules.block.C2f             [256, 256, 1, True]           \n",
      "  9                  -1  1    164608  ultralytics.nn.modules.block.SPPF            [256, 256, 5]                 \n",
      " 10                  -1  1         0  torch.nn.modules.upsampling.Upsample         [None, 2, 'nearest']          \n",
      " 11             [-1, 6]  1         0  ultralytics.nn.modules.conv.Concat           [1]                           \n",
      " 12                  -1  1    148224  ultralytics.nn.modules.block.C2f             [384, 128, 1]                 \n",
      " 13                  -1  1         0  torch.nn.modules.upsampling.Upsample         [None, 2, 'nearest']          \n",
      " 14             [-1, 4]  1         0  ultralytics.nn.modules.conv.Concat           [1]                           \n",
      " 15                  -1  1     37248  ultralytics.nn.modules.block.C2f             [192, 64, 1]                  \n",
      " 16                  -1  1     36992  ultralytics.nn.modules.conv.Conv             [64, 64, 3, 2]                \n",
      " 17            [-1, 12]  1         0  ultralytics.nn.modules.conv.Concat           [1]                           \n",
      " 18                  -1  1    123648  ultralytics.nn.modules.block.C2f             [192, 128, 1]                 \n",
      " 19                  -1  1    147712  ultralytics.nn.modules.conv.Conv             [128, 128, 3, 2]              \n",
      " 20             [-1, 9]  1         0  ultralytics.nn.modules.conv.Concat           [1]                           \n",
      " 21                  -1  1    493056  ultralytics.nn.modules.block.C2f             [384, 256, 1]                 \n",
      " 22        [15, 18, 21]  1    751507  ultralytics.nn.modules.head.Detect           [1, [64, 128, 256]]           \n",
      "Model summary: 129 layers, 3,011,043 parameters, 3,011,027 gradients, 8.2 GFLOPs\n",
      "\n",
      "Transferred 319/355 items from pretrained weights\n",
      "Freezing layer 'model.22.dfl.conv.weight'\n",
      "\u001b[34m\u001b[1mAMP: \u001b[0mrunning Automatic Mixed Precision (AMP) checks...\n",
      "Downloading https://github.com/ultralytics/assets/releases/download/v8.3.0/yolo11n.pt to 'yolo11n.pt'...\n"
     ]
    },
    {
     "name": "stderr",
     "output_type": "stream",
     "text": [
      "100%|██████████| 5.35M/5.35M [00:00<00:00, 72.5MB/s]\n"
     ]
    },
    {
     "name": "stdout",
     "output_type": "stream",
     "text": [
      "\u001b[34m\u001b[1mAMP: \u001b[0mchecks passed ✅\n",
      "\u001b[34m\u001b[1mtrain: \u001b[0mFast image access ✅ (ping: 0.0±0.0 ms, read: 2329.5±1556.8 MB/s, size: 318.8 KB)\n"
     ]
    },
    {
     "name": "stderr",
     "output_type": "stream",
     "text": [
      "\u001b[34m\u001b[1mtrain: \u001b[0mScanning /kaggle/working/yolo/labels/train... 2974 images, 0 backgrounds, 0 corrupt: 100%|██████████| 2974/2974 [00:02<00:00, 1437.41it/s]"
     ]
    },
    {
     "name": "stdout",
     "output_type": "stream",
     "text": [
      "\u001b[34m\u001b[1mtrain: \u001b[0mNew cache created: /kaggle/working/yolo/labels/train.cache\n"
     ]
    },
    {
     "name": "stderr",
     "output_type": "stream",
     "text": [
      "\n"
     ]
    },
    {
     "name": "stdout",
     "output_type": "stream",
     "text": [
      "\u001b[34m\u001b[1malbumentations: \u001b[0mBlur(p=0.01, blur_limit=(3, 7)), MedianBlur(p=0.01, blur_limit=(3, 7)), ToGray(p=0.01, num_output_channels=3, method='weighted_average'), CLAHE(p=0.01, clip_limit=(1.0, 4.0), tile_grid_size=(8, 8))\n",
      "\u001b[34m\u001b[1mval: \u001b[0mFast image access ✅ (ping: 0.0±0.0 ms, read: 2173.3±1047.7 MB/s, size: 333.8 KB)\n"
     ]
    },
    {
     "name": "stderr",
     "output_type": "stream",
     "text": [
      "\u001b[34m\u001b[1mval: \u001b[0mScanning /kaggle/working/yolo/labels/val... 1744 images, 0 backgrounds, 0 corrupt: 100%|██████████| 1744/1744 [00:01<00:00, 1393.65it/s]"
     ]
    },
    {
     "name": "stdout",
     "output_type": "stream",
     "text": [
      "\u001b[34m\u001b[1mval: \u001b[0mNew cache created: /kaggle/working/yolo/labels/val.cache\n"
     ]
    },
    {
     "name": "stderr",
     "output_type": "stream",
     "text": [
      "\n"
     ]
    },
    {
     "name": "stdout",
     "output_type": "stream",
     "text": [
      "Plotting labels to /kaggle/working/yolo/runs/yolov8_pig/labels.jpg... \n",
      "\u001b[34m\u001b[1moptimizer:\u001b[0m 'optimizer=auto' found, ignoring 'lr0=0.01' and 'momentum=0.937' and determining best 'optimizer', 'lr0' and 'momentum' automatically... \n",
      "\u001b[34m\u001b[1moptimizer:\u001b[0m AdamW(lr=0.002, momentum=0.9) with parameter groups 57 weight(decay=0.0), 64 weight(decay=0.0005), 63 bias(decay=0.0)\n",
      "Image sizes 416 train, 416 val\n",
      "Using 2 dataloader workers\n",
      "Logging results to \u001b[1m/kaggle/working/yolo/runs/yolov8_pig\u001b[0m\n",
      "Starting training for 50 epochs...\n",
      "\n",
      "      Epoch    GPU_mem   box_loss   cls_loss   dfl_loss  Instances       Size\n"
     ]
    },
    {
     "name": "stderr",
     "output_type": "stream",
     "text": [
      "       1/50     0.904G      1.679      1.894      1.395         62        416: 100%|██████████| 186/186 [00:24<00:00,  7.69it/s]\n",
      "                 Class     Images  Instances      Box(P          R      mAP50  mAP50-95): 100%|██████████| 55/55 [00:10<00:00,  5.49it/s]\n"
     ]
    },
    {
     "name": "stdout",
     "output_type": "stream",
     "text": [
      "                   all       1744       4091      0.326      0.742      0.308      0.126\n",
      "\n",
      "      Epoch    GPU_mem   box_loss   cls_loss   dfl_loss  Instances       Size\n"
     ]
    },
    {
     "name": "stderr",
     "output_type": "stream",
     "text": [
      "       2/50     0.961G      1.578      1.451      1.319         86        416: 100%|██████████| 186/186 [00:22<00:00,  8.32it/s]\n",
      "                 Class     Images  Instances      Box(P          R      mAP50  mAP50-95): 100%|██████████| 55/55 [00:08<00:00,  6.38it/s]\n"
     ]
    },
    {
     "name": "stdout",
     "output_type": "stream",
     "text": [
      "                   all       1744       4091      0.302       0.76       0.37      0.173\n",
      "\n",
      "      Epoch    GPU_mem   box_loss   cls_loss   dfl_loss  Instances       Size\n"
     ]
    },
    {
     "name": "stderr",
     "output_type": "stream",
     "text": [
      "       3/50     0.965G      1.527      1.362        1.3         75        416: 100%|██████████| 186/186 [00:21<00:00,  8.55it/s]\n",
      "                 Class     Images  Instances      Box(P          R      mAP50  mAP50-95): 100%|██████████| 55/55 [00:08<00:00,  6.41it/s]\n"
     ]
    },
    {
     "name": "stdout",
     "output_type": "stream",
     "text": [
      "                   all       1744       4091      0.332      0.791      0.371      0.187\n",
      "\n",
      "      Epoch    GPU_mem   box_loss   cls_loss   dfl_loss  Instances       Size\n"
     ]
    },
    {
     "name": "stderr",
     "output_type": "stream",
     "text": [
      "       4/50     0.965G      1.522      1.326      1.294         69        416: 100%|██████████| 186/186 [00:21<00:00,  8.51it/s]\n",
      "                 Class     Images  Instances      Box(P          R      mAP50  mAP50-95): 100%|██████████| 55/55 [00:08<00:00,  6.40it/s]\n"
     ]
    },
    {
     "name": "stdout",
     "output_type": "stream",
     "text": [
      "                   all       1744       4091      0.337      0.777      0.357      0.163\n",
      "\n",
      "      Epoch    GPU_mem   box_loss   cls_loss   dfl_loss  Instances       Size\n"
     ]
    },
    {
     "name": "stderr",
     "output_type": "stream",
     "text": [
      "       5/50     0.965G       1.48      1.279      1.275         86        416: 100%|██████████| 186/186 [00:22<00:00,  8.44it/s]\n",
      "                 Class     Images  Instances      Box(P          R      mAP50  mAP50-95): 100%|██████████| 55/55 [00:08<00:00,  6.37it/s]"
     ]
    },
    {
     "name": "stdout",
     "output_type": "stream",
     "text": [
      "                   all       1744       4091      0.336      0.796      0.343      0.182\n"
     ]
    },
    {
     "name": "stderr",
     "output_type": "stream",
     "text": [
      "\n"
     ]
    },
    {
     "name": "stdout",
     "output_type": "stream",
     "text": [
      "\n",
      "      Epoch    GPU_mem   box_loss   cls_loss   dfl_loss  Instances       Size\n"
     ]
    },
    {
     "name": "stderr",
     "output_type": "stream",
     "text": [
      "       6/50     0.965G      1.453      1.238      1.264         52        416: 100%|██████████| 186/186 [00:22<00:00,  8.44it/s]\n",
      "                 Class     Images  Instances      Box(P          R      mAP50  mAP50-95): 100%|██████████| 55/55 [00:08<00:00,  6.41it/s]"
     ]
    },
    {
     "name": "stdout",
     "output_type": "stream",
     "text": [
      "                   all       1744       4091      0.345      0.859      0.365      0.186\n"
     ]
    },
    {
     "name": "stderr",
     "output_type": "stream",
     "text": [
      "\n"
     ]
    },
    {
     "name": "stdout",
     "output_type": "stream",
     "text": [
      "\n",
      "      Epoch    GPU_mem   box_loss   cls_loss   dfl_loss  Instances       Size\n"
     ]
    },
    {
     "name": "stderr",
     "output_type": "stream",
     "text": [
      "       7/50     0.965G      1.425      1.237      1.243         78        416: 100%|██████████| 186/186 [00:21<00:00,  8.46it/s]\n",
      "                 Class     Images  Instances      Box(P          R      mAP50  mAP50-95): 100%|██████████| 55/55 [00:08<00:00,  6.35it/s]"
     ]
    },
    {
     "name": "stdout",
     "output_type": "stream",
     "text": [
      "                   all       1744       4091      0.341      0.728      0.339      0.181\n"
     ]
    },
    {
     "name": "stderr",
     "output_type": "stream",
     "text": [
      "\n"
     ]
    },
    {
     "name": "stdout",
     "output_type": "stream",
     "text": [
      "\n",
      "      Epoch    GPU_mem   box_loss   cls_loss   dfl_loss  Instances       Size\n"
     ]
    },
    {
     "name": "stderr",
     "output_type": "stream",
     "text": [
      "       8/50     0.965G      1.394      1.196       1.23         72        416: 100%|██████████| 186/186 [00:22<00:00,  8.37it/s]\n",
      "                 Class     Images  Instances      Box(P          R      mAP50  mAP50-95): 100%|██████████| 55/55 [00:08<00:00,  6.44it/s]"
     ]
    },
    {
     "name": "stdout",
     "output_type": "stream",
     "text": [
      "                   all       1744       4091      0.348      0.829       0.36      0.194\n"
     ]
    },
    {
     "name": "stderr",
     "output_type": "stream",
     "text": [
      "\n"
     ]
    },
    {
     "name": "stdout",
     "output_type": "stream",
     "text": [
      "\n",
      "      Epoch    GPU_mem   box_loss   cls_loss   dfl_loss  Instances       Size\n"
     ]
    },
    {
     "name": "stderr",
     "output_type": "stream",
     "text": [
      "       9/50     0.965G      1.378      1.183      1.226         84        416: 100%|██████████| 186/186 [00:21<00:00,  8.59it/s]\n",
      "                 Class     Images  Instances      Box(P          R      mAP50  mAP50-95): 100%|██████████| 55/55 [00:08<00:00,  6.28it/s]"
     ]
    },
    {
     "name": "stdout",
     "output_type": "stream",
     "text": [
      "                   all       1744       4091       0.36       0.86      0.375      0.209\n"
     ]
    },
    {
     "name": "stderr",
     "output_type": "stream",
     "text": [
      "\n"
     ]
    },
    {
     "name": "stdout",
     "output_type": "stream",
     "text": [
      "\n",
      "      Epoch    GPU_mem   box_loss   cls_loss   dfl_loss  Instances       Size\n"
     ]
    },
    {
     "name": "stderr",
     "output_type": "stream",
     "text": [
      "      10/50     0.965G      1.371      1.178      1.228         77        416: 100%|██████████| 186/186 [00:21<00:00,  8.47it/s]\n",
      "                 Class     Images  Instances      Box(P          R      mAP50  mAP50-95): 100%|██████████| 55/55 [00:08<00:00,  6.29it/s]"
     ]
    },
    {
     "name": "stdout",
     "output_type": "stream",
     "text": [
      "                   all       1744       4091      0.345      0.807      0.438      0.214\n"
     ]
    },
    {
     "name": "stderr",
     "output_type": "stream",
     "text": [
      "\n"
     ]
    },
    {
     "name": "stdout",
     "output_type": "stream",
     "text": [
      "\n",
      "      Epoch    GPU_mem   box_loss   cls_loss   dfl_loss  Instances       Size\n"
     ]
    },
    {
     "name": "stderr",
     "output_type": "stream",
     "text": [
      "      11/50     0.965G      1.349      1.173      1.207         96        416: 100%|██████████| 186/186 [00:21<00:00,  8.51it/s]\n",
      "                 Class     Images  Instances      Box(P          R      mAP50  mAP50-95): 100%|██████████| 55/55 [00:08<00:00,  6.43it/s]"
     ]
    },
    {
     "name": "stdout",
     "output_type": "stream",
     "text": [
      "                   all       1744       4091      0.343      0.807      0.382      0.184\n"
     ]
    },
    {
     "name": "stderr",
     "output_type": "stream",
     "text": [
      "\n"
     ]
    },
    {
     "name": "stdout",
     "output_type": "stream",
     "text": [
      "\n",
      "      Epoch    GPU_mem   box_loss   cls_loss   dfl_loss  Instances       Size\n"
     ]
    },
    {
     "name": "stderr",
     "output_type": "stream",
     "text": [
      "      12/50     0.965G      1.334       1.15      1.199         77        416: 100%|██████████| 186/186 [00:21<00:00,  8.54it/s]\n",
      "                 Class     Images  Instances      Box(P          R      mAP50  mAP50-95): 100%|██████████| 55/55 [00:08<00:00,  6.52it/s]"
     ]
    },
    {
     "name": "stdout",
     "output_type": "stream",
     "text": [
      "                   all       1744       4091      0.339      0.781      0.399      0.183\n"
     ]
    },
    {
     "name": "stderr",
     "output_type": "stream",
     "text": [
      "\n"
     ]
    },
    {
     "name": "stdout",
     "output_type": "stream",
     "text": [
      "\n",
      "      Epoch    GPU_mem   box_loss   cls_loss   dfl_loss  Instances       Size\n"
     ]
    },
    {
     "name": "stderr",
     "output_type": "stream",
     "text": [
      "      13/50     0.965G      1.322      1.143      1.197         71        416: 100%|██████████| 186/186 [00:21<00:00,  8.49it/s]\n",
      "                 Class     Images  Instances      Box(P          R      mAP50  mAP50-95): 100%|██████████| 55/55 [00:08<00:00,  6.41it/s]"
     ]
    },
    {
     "name": "stdout",
     "output_type": "stream",
     "text": [
      "                   all       1744       4091      0.353      0.817      0.431      0.221\n"
     ]
    },
    {
     "name": "stderr",
     "output_type": "stream",
     "text": [
      "\n"
     ]
    },
    {
     "name": "stdout",
     "output_type": "stream",
     "text": [
      "\n",
      "      Epoch    GPU_mem   box_loss   cls_loss   dfl_loss  Instances       Size\n"
     ]
    },
    {
     "name": "stderr",
     "output_type": "stream",
     "text": [
      "      14/50     0.965G      1.317      1.136      1.198         65        416: 100%|██████████| 186/186 [00:21<00:00,  8.56it/s]\n",
      "                 Class     Images  Instances      Box(P          R      mAP50  mAP50-95): 100%|██████████| 55/55 [00:08<00:00,  6.33it/s]"
     ]
    },
    {
     "name": "stdout",
     "output_type": "stream",
     "text": [
      "                   all       1744       4091       0.34      0.756      0.412       0.17\n"
     ]
    },
    {
     "name": "stderr",
     "output_type": "stream",
     "text": [
      "\n"
     ]
    },
    {
     "name": "stdout",
     "output_type": "stream",
     "text": [
      "\n",
      "      Epoch    GPU_mem   box_loss   cls_loss   dfl_loss  Instances       Size\n"
     ]
    },
    {
     "name": "stderr",
     "output_type": "stream",
     "text": [
      "      15/50     0.965G      1.304      1.124      1.193         79        416: 100%|██████████| 186/186 [00:21<00:00,  8.46it/s]\n",
      "                 Class     Images  Instances      Box(P          R      mAP50  mAP50-95): 100%|██████████| 55/55 [00:08<00:00,  6.38it/s]"
     ]
    },
    {
     "name": "stdout",
     "output_type": "stream",
     "text": [
      "                   all       1744       4091      0.363      0.742      0.416      0.206\n"
     ]
    },
    {
     "name": "stderr",
     "output_type": "stream",
     "text": [
      "\n"
     ]
    },
    {
     "name": "stdout",
     "output_type": "stream",
     "text": [
      "\n",
      "      Epoch    GPU_mem   box_loss   cls_loss   dfl_loss  Instances       Size\n"
     ]
    },
    {
     "name": "stderr",
     "output_type": "stream",
     "text": [
      "      16/50     0.965G       1.29      1.129      1.184         93        416: 100%|██████████| 186/186 [00:21<00:00,  8.54it/s]\n",
      "                 Class     Images  Instances      Box(P          R      mAP50  mAP50-95): 100%|██████████| 55/55 [00:08<00:00,  6.46it/s]"
     ]
    },
    {
     "name": "stdout",
     "output_type": "stream",
     "text": [
      "                   all       1744       4091      0.377      0.715      0.434      0.198\n"
     ]
    },
    {
     "name": "stderr",
     "output_type": "stream",
     "text": [
      "\n"
     ]
    },
    {
     "name": "stdout",
     "output_type": "stream",
     "text": [
      "\n",
      "      Epoch    GPU_mem   box_loss   cls_loss   dfl_loss  Instances       Size\n"
     ]
    },
    {
     "name": "stderr",
     "output_type": "stream",
     "text": [
      "      17/50     0.965G      1.283      1.103      1.173         87        416: 100%|██████████| 186/186 [00:21<00:00,  8.57it/s]\n",
      "                 Class     Images  Instances      Box(P          R      mAP50  mAP50-95): 100%|██████████| 55/55 [00:08<00:00,  6.16it/s]\n"
     ]
    },
    {
     "name": "stdout",
     "output_type": "stream",
     "text": [
      "                   all       1744       4091      0.361      0.779      0.422       0.21\n",
      "\n",
      "      Epoch    GPU_mem   box_loss   cls_loss   dfl_loss  Instances       Size\n"
     ]
    },
    {
     "name": "stderr",
     "output_type": "stream",
     "text": [
      "      18/50     0.965G      1.278      1.114      1.175         69        416: 100%|██████████| 186/186 [00:21<00:00,  8.77it/s]\n",
      "                 Class     Images  Instances      Box(P          R      mAP50  mAP50-95): 100%|██████████| 55/55 [00:08<00:00,  6.19it/s]"
     ]
    },
    {
     "name": "stdout",
     "output_type": "stream",
     "text": [
      "                   all       1744       4091      0.356      0.799      0.415      0.205\n"
     ]
    },
    {
     "name": "stderr",
     "output_type": "stream",
     "text": [
      "\n"
     ]
    },
    {
     "name": "stdout",
     "output_type": "stream",
     "text": [
      "\n",
      "      Epoch    GPU_mem   box_loss   cls_loss   dfl_loss  Instances       Size\n"
     ]
    },
    {
     "name": "stderr",
     "output_type": "stream",
     "text": [
      "      19/50     0.965G      1.268      1.097      1.167        108        416: 100%|██████████| 186/186 [00:21<00:00,  8.69it/s]\n",
      "                 Class     Images  Instances      Box(P          R      mAP50  mAP50-95): 100%|██████████| 55/55 [00:09<00:00,  6.00it/s]"
     ]
    },
    {
     "name": "stdout",
     "output_type": "stream",
     "text": [
      "                   all       1744       4091      0.355      0.776      0.364      0.186\n"
     ]
    },
    {
     "name": "stderr",
     "output_type": "stream",
     "text": [
      "\n"
     ]
    },
    {
     "name": "stdout",
     "output_type": "stream",
     "text": [
      "\n",
      "      Epoch    GPU_mem   box_loss   cls_loss   dfl_loss  Instances       Size\n"
     ]
    },
    {
     "name": "stderr",
     "output_type": "stream",
     "text": [
      "      20/50     0.965G      1.255      1.088       1.16         68        416: 100%|██████████| 186/186 [00:21<00:00,  8.74it/s]\n",
      "                 Class     Images  Instances      Box(P          R      mAP50  mAP50-95): 100%|██████████| 55/55 [00:08<00:00,  6.19it/s]"
     ]
    },
    {
     "name": "stdout",
     "output_type": "stream",
     "text": [
      "                   all       1744       4091      0.372      0.726      0.423      0.192\n"
     ]
    },
    {
     "name": "stderr",
     "output_type": "stream",
     "text": [
      "\n"
     ]
    },
    {
     "name": "stdout",
     "output_type": "stream",
     "text": [
      "\n",
      "      Epoch    GPU_mem   box_loss   cls_loss   dfl_loss  Instances       Size\n"
     ]
    },
    {
     "name": "stderr",
     "output_type": "stream",
     "text": [
      "      21/50     0.965G      1.263      1.077      1.165         78        416: 100%|██████████| 186/186 [00:21<00:00,  8.73it/s]\n",
      "                 Class     Images  Instances      Box(P          R      mAP50  mAP50-95): 100%|██████████| 55/55 [00:09<00:00,  6.03it/s]"
     ]
    },
    {
     "name": "stdout",
     "output_type": "stream",
     "text": [
      "                   all       1744       4091      0.375      0.685      0.422      0.183\n"
     ]
    },
    {
     "name": "stderr",
     "output_type": "stream",
     "text": [
      "\n"
     ]
    },
    {
     "name": "stdout",
     "output_type": "stream",
     "text": [
      "\n",
      "      Epoch    GPU_mem   box_loss   cls_loss   dfl_loss  Instances       Size\n"
     ]
    },
    {
     "name": "stderr",
     "output_type": "stream",
     "text": [
      "      22/50     0.965G      1.249      1.085      1.158         92        416: 100%|██████████| 186/186 [00:21<00:00,  8.63it/s]\n",
      "                 Class     Images  Instances      Box(P          R      mAP50  mAP50-95): 100%|██████████| 55/55 [00:08<00:00,  6.19it/s]"
     ]
    },
    {
     "name": "stdout",
     "output_type": "stream",
     "text": [
      "                   all       1744       4091      0.365      0.781      0.421      0.201\n"
     ]
    },
    {
     "name": "stderr",
     "output_type": "stream",
     "text": [
      "\n"
     ]
    },
    {
     "name": "stdout",
     "output_type": "stream",
     "text": [
      "\n",
      "      Epoch    GPU_mem   box_loss   cls_loss   dfl_loss  Instances       Size\n"
     ]
    },
    {
     "name": "stderr",
     "output_type": "stream",
     "text": [
      "      23/50     0.965G      1.233      1.079      1.145         70        416: 100%|██████████| 186/186 [00:21<00:00,  8.61it/s]\n",
      "                 Class     Images  Instances      Box(P          R      mAP50  mAP50-95): 100%|██████████| 55/55 [00:08<00:00,  6.38it/s]"
     ]
    },
    {
     "name": "stdout",
     "output_type": "stream",
     "text": [
      "                   all       1744       4091      0.341      0.816      0.371      0.197\n"
     ]
    },
    {
     "name": "stderr",
     "output_type": "stream",
     "text": [
      "\n"
     ]
    },
    {
     "name": "stdout",
     "output_type": "stream",
     "text": [
      "\n",
      "      Epoch    GPU_mem   box_loss   cls_loss   dfl_loss  Instances       Size\n"
     ]
    },
    {
     "name": "stderr",
     "output_type": "stream",
     "text": [
      "      24/50     0.965G      1.232      1.066      1.151         64        416: 100%|██████████| 186/186 [00:21<00:00,  8.58it/s]\n",
      "                 Class     Images  Instances      Box(P          R      mAP50  mAP50-95): 100%|██████████| 55/55 [00:08<00:00,  6.42it/s]"
     ]
    },
    {
     "name": "stdout",
     "output_type": "stream",
     "text": [
      "                   all       1744       4091       0.37       0.72       0.43      0.194\n"
     ]
    },
    {
     "name": "stderr",
     "output_type": "stream",
     "text": [
      "\n"
     ]
    },
    {
     "name": "stdout",
     "output_type": "stream",
     "text": [
      "\n",
      "      Epoch    GPU_mem   box_loss   cls_loss   dfl_loss  Instances       Size\n"
     ]
    },
    {
     "name": "stderr",
     "output_type": "stream",
     "text": [
      "      25/50     0.965G      1.214      1.063      1.135         75        416: 100%|██████████| 186/186 [00:21<00:00,  8.50it/s]\n",
      "                 Class     Images  Instances      Box(P          R      mAP50  mAP50-95): 100%|██████████| 55/55 [00:08<00:00,  6.43it/s]"
     ]
    },
    {
     "name": "stdout",
     "output_type": "stream",
     "text": [
      "                   all       1744       4091      0.354      0.813      0.408      0.209\n"
     ]
    },
    {
     "name": "stderr",
     "output_type": "stream",
     "text": [
      "\n"
     ]
    },
    {
     "name": "stdout",
     "output_type": "stream",
     "text": [
      "\n",
      "      Epoch    GPU_mem   box_loss   cls_loss   dfl_loss  Instances       Size\n"
     ]
    },
    {
     "name": "stderr",
     "output_type": "stream",
     "text": [
      "      26/50     0.965G       1.22       1.05      1.138        108        416: 100%|██████████| 186/186 [00:21<00:00,  8.50it/s]\n",
      "                 Class     Images  Instances      Box(P          R      mAP50  mAP50-95): 100%|██████████| 55/55 [00:08<00:00,  6.38it/s]"
     ]
    },
    {
     "name": "stdout",
     "output_type": "stream",
     "text": [
      "                   all       1744       4091      0.377       0.79      0.402      0.209\n"
     ]
    },
    {
     "name": "stderr",
     "output_type": "stream",
     "text": [
      "\n"
     ]
    },
    {
     "name": "stdout",
     "output_type": "stream",
     "text": [
      "\n",
      "      Epoch    GPU_mem   box_loss   cls_loss   dfl_loss  Instances       Size\n"
     ]
    },
    {
     "name": "stderr",
     "output_type": "stream",
     "text": [
      "      27/50     0.965G       1.19      1.056      1.128         89        416: 100%|██████████| 186/186 [00:22<00:00,  8.40it/s]\n",
      "                 Class     Images  Instances      Box(P          R      mAP50  mAP50-95): 100%|██████████| 55/55 [00:08<00:00,  6.41it/s]\n"
     ]
    },
    {
     "name": "stdout",
     "output_type": "stream",
     "text": [
      "                   all       1744       4091      0.371      0.732      0.406      0.197\n",
      "\n",
      "      Epoch    GPU_mem   box_loss   cls_loss   dfl_loss  Instances       Size\n"
     ]
    },
    {
     "name": "stderr",
     "output_type": "stream",
     "text": [
      "      28/50     0.965G      1.191      1.049      1.131         78        416: 100%|██████████| 186/186 [00:22<00:00,  8.44it/s]\n",
      "                 Class     Images  Instances      Box(P          R      mAP50  mAP50-95): 100%|██████████| 55/55 [00:08<00:00,  6.44it/s]"
     ]
    },
    {
     "name": "stdout",
     "output_type": "stream",
     "text": [
      "                   all       1744       4091      0.358      0.811      0.405      0.223\n"
     ]
    },
    {
     "name": "stderr",
     "output_type": "stream",
     "text": [
      "\n"
     ]
    },
    {
     "name": "stdout",
     "output_type": "stream",
     "text": [
      "\n",
      "      Epoch    GPU_mem   box_loss   cls_loss   dfl_loss  Instances       Size\n"
     ]
    },
    {
     "name": "stderr",
     "output_type": "stream",
     "text": [
      "      29/50     0.965G      1.183      1.045      1.124         81        416: 100%|██████████| 186/186 [00:21<00:00,  8.50it/s]\n",
      "                 Class     Images  Instances      Box(P          R      mAP50  mAP50-95): 100%|██████████| 55/55 [00:08<00:00,  6.29it/s]"
     ]
    },
    {
     "name": "stdout",
     "output_type": "stream",
     "text": [
      "                   all       1744       4091      0.374      0.747      0.413      0.213\n"
     ]
    },
    {
     "name": "stderr",
     "output_type": "stream",
     "text": [
      "\n"
     ]
    },
    {
     "name": "stdout",
     "output_type": "stream",
     "text": [
      "\n",
      "      Epoch    GPU_mem   box_loss   cls_loss   dfl_loss  Instances       Size\n"
     ]
    },
    {
     "name": "stderr",
     "output_type": "stream",
     "text": [
      "      30/50     0.965G      1.181      1.044      1.127         77        416: 100%|██████████| 186/186 [00:21<00:00,  8.55it/s]\n",
      "                 Class     Images  Instances      Box(P          R      mAP50  mAP50-95): 100%|██████████| 55/55 [00:08<00:00,  6.38it/s]"
     ]
    },
    {
     "name": "stdout",
     "output_type": "stream",
     "text": [
      "                   all       1744       4091      0.365      0.762       0.41      0.212\n"
     ]
    },
    {
     "name": "stderr",
     "output_type": "stream",
     "text": [
      "\n"
     ]
    },
    {
     "name": "stdout",
     "output_type": "stream",
     "text": [
      "\n",
      "      Epoch    GPU_mem   box_loss   cls_loss   dfl_loss  Instances       Size\n"
     ]
    },
    {
     "name": "stderr",
     "output_type": "stream",
     "text": [
      "      31/50     0.965G      1.171       1.03      1.121         71        416: 100%|██████████| 186/186 [00:21<00:00,  8.46it/s]\n",
      "                 Class     Images  Instances      Box(P          R      mAP50  mAP50-95): 100%|██████████| 55/55 [00:08<00:00,  6.39it/s]"
     ]
    },
    {
     "name": "stdout",
     "output_type": "stream",
     "text": [
      "                   all       1744       4091      0.388      0.752       0.41      0.201\n"
     ]
    },
    {
     "name": "stderr",
     "output_type": "stream",
     "text": [
      "\n"
     ]
    },
    {
     "name": "stdout",
     "output_type": "stream",
     "text": [
      "\n",
      "      Epoch    GPU_mem   box_loss   cls_loss   dfl_loss  Instances       Size\n"
     ]
    },
    {
     "name": "stderr",
     "output_type": "stream",
     "text": [
      "      32/50     0.965G      1.163      1.025      1.116        115        416: 100%|██████████| 186/186 [00:21<00:00,  8.52it/s]\n",
      "                 Class     Images  Instances      Box(P          R      mAP50  mAP50-95): 100%|██████████| 55/55 [00:08<00:00,  6.32it/s]"
     ]
    },
    {
     "name": "stdout",
     "output_type": "stream",
     "text": [
      "                   all       1744       4091       0.36      0.806      0.384       0.19\n"
     ]
    },
    {
     "name": "stderr",
     "output_type": "stream",
     "text": [
      "\n"
     ]
    },
    {
     "name": "stdout",
     "output_type": "stream",
     "text": [
      "\n",
      "      Epoch    GPU_mem   box_loss   cls_loss   dfl_loss  Instances       Size\n"
     ]
    },
    {
     "name": "stderr",
     "output_type": "stream",
     "text": [
      "      33/50     0.965G      1.157       1.03      1.119         73        416: 100%|██████████| 186/186 [00:21<00:00,  8.50it/s]\n",
      "                 Class     Images  Instances      Box(P          R      mAP50  mAP50-95): 100%|██████████| 55/55 [00:08<00:00,  6.35it/s]"
     ]
    },
    {
     "name": "stdout",
     "output_type": "stream",
     "text": [
      "                   all       1744       4091      0.347      0.852      0.384        0.2\n"
     ]
    },
    {
     "name": "stderr",
     "output_type": "stream",
     "text": [
      "\n"
     ]
    },
    {
     "name": "stdout",
     "output_type": "stream",
     "text": [
      "\n",
      "      Epoch    GPU_mem   box_loss   cls_loss   dfl_loss  Instances       Size\n"
     ]
    },
    {
     "name": "stderr",
     "output_type": "stream",
     "text": [
      "      34/50     0.965G       1.15      1.018      1.114         95        416: 100%|██████████| 186/186 [00:21<00:00,  8.50it/s]\n",
      "                 Class     Images  Instances      Box(P          R      mAP50  mAP50-95): 100%|██████████| 55/55 [00:08<00:00,  6.20it/s]"
     ]
    },
    {
     "name": "stdout",
     "output_type": "stream",
     "text": [
      "                   all       1744       4091       0.35      0.829      0.373      0.202\n"
     ]
    },
    {
     "name": "stderr",
     "output_type": "stream",
     "text": [
      "\n"
     ]
    },
    {
     "name": "stdout",
     "output_type": "stream",
     "text": [
      "\n",
      "      Epoch    GPU_mem   box_loss   cls_loss   dfl_loss  Instances       Size\n"
     ]
    },
    {
     "name": "stderr",
     "output_type": "stream",
     "text": [
      "      35/50     0.965G      1.144       1.02      1.106         74        416: 100%|██████████| 186/186 [00:22<00:00,  8.41it/s]\n",
      "                 Class     Images  Instances      Box(P          R      mAP50  mAP50-95): 100%|██████████| 55/55 [00:08<00:00,  6.38it/s]"
     ]
    },
    {
     "name": "stdout",
     "output_type": "stream",
     "text": [
      "                   all       1744       4091      0.344      0.792      0.378      0.197\n"
     ]
    },
    {
     "name": "stderr",
     "output_type": "stream",
     "text": [
      "\n"
     ]
    },
    {
     "name": "stdout",
     "output_type": "stream",
     "text": [
      "\n",
      "      Epoch    GPU_mem   box_loss   cls_loss   dfl_loss  Instances       Size\n"
     ]
    },
    {
     "name": "stderr",
     "output_type": "stream",
     "text": [
      "      36/50     0.965G      1.138       1.01      1.108         75        416: 100%|██████████| 186/186 [00:21<00:00,  8.48it/s]\n",
      "                 Class     Images  Instances      Box(P          R      mAP50  mAP50-95): 100%|██████████| 55/55 [00:08<00:00,  6.39it/s]"
     ]
    },
    {
     "name": "stdout",
     "output_type": "stream",
     "text": [
      "                   all       1744       4091      0.344      0.836      0.388      0.207\n"
     ]
    },
    {
     "name": "stderr",
     "output_type": "stream",
     "text": [
      "\n"
     ]
    },
    {
     "name": "stdout",
     "output_type": "stream",
     "text": [
      "\n",
      "      Epoch    GPU_mem   box_loss   cls_loss   dfl_loss  Instances       Size\n"
     ]
    },
    {
     "name": "stderr",
     "output_type": "stream",
     "text": [
      "      37/50     0.965G      1.124      1.012      1.099         74        416: 100%|██████████| 186/186 [00:21<00:00,  8.52it/s]\n",
      "                 Class     Images  Instances      Box(P          R      mAP50  mAP50-95): 100%|██████████| 55/55 [00:08<00:00,  6.48it/s]"
     ]
    },
    {
     "name": "stdout",
     "output_type": "stream",
     "text": [
      "                   all       1744       4091       0.34      0.847      0.421      0.221\n"
     ]
    },
    {
     "name": "stderr",
     "output_type": "stream",
     "text": [
      "\n"
     ]
    },
    {
     "name": "stdout",
     "output_type": "stream",
     "text": [
      "\n",
      "      Epoch    GPU_mem   box_loss   cls_loss   dfl_loss  Instances       Size\n"
     ]
    },
    {
     "name": "stderr",
     "output_type": "stream",
     "text": [
      "      38/50     0.965G      1.125      1.009      1.103         58        416: 100%|██████████| 186/186 [00:21<00:00,  8.49it/s]\n",
      "                 Class     Images  Instances      Box(P          R      mAP50  mAP50-95): 100%|██████████| 55/55 [00:08<00:00,  6.59it/s]"
     ]
    },
    {
     "name": "stdout",
     "output_type": "stream",
     "text": [
      "                   all       1744       4091      0.356      0.812      0.404       0.21\n"
     ]
    },
    {
     "name": "stderr",
     "output_type": "stream",
     "text": [
      "\n"
     ]
    },
    {
     "name": "stdout",
     "output_type": "stream",
     "text": [
      "\n",
      "      Epoch    GPU_mem   box_loss   cls_loss   dfl_loss  Instances       Size\n"
     ]
    },
    {
     "name": "stderr",
     "output_type": "stream",
     "text": [
      "      39/50     0.965G      1.122      1.019      1.103         73        416: 100%|██████████| 186/186 [00:21<00:00,  8.53it/s]\n",
      "                 Class     Images  Instances      Box(P          R      mAP50  mAP50-95): 100%|██████████| 55/55 [00:08<00:00,  6.54it/s]"
     ]
    },
    {
     "name": "stdout",
     "output_type": "stream",
     "text": [
      "                   all       1744       4091      0.368      0.774       0.42       0.21\n"
     ]
    },
    {
     "name": "stderr",
     "output_type": "stream",
     "text": [
      "\n"
     ]
    },
    {
     "name": "stdout",
     "output_type": "stream",
     "text": [
      "\n",
      "      Epoch    GPU_mem   box_loss   cls_loss   dfl_loss  Instances       Size\n"
     ]
    },
    {
     "name": "stderr",
     "output_type": "stream",
     "text": [
      "      40/50     0.965G      1.108      1.003      1.095         94        416: 100%|██████████| 186/186 [00:22<00:00,  8.45it/s]\n",
      "                 Class     Images  Instances      Box(P          R      mAP50  mAP50-95): 100%|██████████| 55/55 [00:08<00:00,  6.59it/s]"
     ]
    },
    {
     "name": "stdout",
     "output_type": "stream",
     "text": [
      "                   all       1744       4091      0.368      0.763      0.427      0.214\n"
     ]
    },
    {
     "name": "stderr",
     "output_type": "stream",
     "text": [
      "\n"
     ]
    },
    {
     "name": "stdout",
     "output_type": "stream",
     "text": [
      "Closing dataloader mosaic\n",
      "\u001b[34m\u001b[1malbumentations: \u001b[0mBlur(p=0.01, blur_limit=(3, 7)), MedianBlur(p=0.01, blur_limit=(3, 7)), ToGray(p=0.01, num_output_channels=3, method='weighted_average'), CLAHE(p=0.01, clip_limit=(1.0, 4.0), tile_grid_size=(8, 8))\n",
      "\n",
      "      Epoch    GPU_mem   box_loss   cls_loss   dfl_loss  Instances       Size\n"
     ]
    },
    {
     "name": "stderr",
     "output_type": "stream",
     "text": [
      "      41/50     0.965G      1.055     0.9643      1.073         23        416: 100%|██████████| 186/186 [00:21<00:00,  8.58it/s]\n",
      "                 Class     Images  Instances      Box(P          R      mAP50  mAP50-95): 100%|██████████| 55/55 [00:08<00:00,  6.38it/s]\n"
     ]
    },
    {
     "name": "stdout",
     "output_type": "stream",
     "text": [
      "                   all       1744       4091      0.362      0.787      0.398      0.202\n",
      "\n",
      "      Epoch    GPU_mem   box_loss   cls_loss   dfl_loss  Instances       Size\n"
     ]
    },
    {
     "name": "stderr",
     "output_type": "stream",
     "text": [
      "      42/50     0.965G      1.037     0.9451      1.066         39        416: 100%|██████████| 186/186 [00:20<00:00,  8.94it/s]\n",
      "                 Class     Images  Instances      Box(P          R      mAP50  mAP50-95): 100%|██████████| 55/55 [00:08<00:00,  6.29it/s]"
     ]
    },
    {
     "name": "stdout",
     "output_type": "stream",
     "text": [
      "                   all       1744       4091      0.359      0.814      0.387      0.202\n"
     ]
    },
    {
     "name": "stderr",
     "output_type": "stream",
     "text": [
      "\n"
     ]
    },
    {
     "name": "stdout",
     "output_type": "stream",
     "text": [
      "\n",
      "      Epoch    GPU_mem   box_loss   cls_loss   dfl_loss  Instances       Size\n"
     ]
    },
    {
     "name": "stderr",
     "output_type": "stream",
     "text": [
      "      43/50     0.965G       1.02     0.9401      1.059         34        416: 100%|██████████| 186/186 [00:20<00:00,  8.96it/s]\n",
      "                 Class     Images  Instances      Box(P          R      mAP50  mAP50-95): 100%|██████████| 55/55 [00:08<00:00,  6.33it/s]"
     ]
    },
    {
     "name": "stdout",
     "output_type": "stream",
     "text": [
      "                   all       1744       4091      0.351       0.78      0.397        0.2\n"
     ]
    },
    {
     "name": "stderr",
     "output_type": "stream",
     "text": [
      "\n"
     ]
    },
    {
     "name": "stdout",
     "output_type": "stream",
     "text": [
      "\n",
      "      Epoch    GPU_mem   box_loss   cls_loss   dfl_loss  Instances       Size\n"
     ]
    },
    {
     "name": "stderr",
     "output_type": "stream",
     "text": [
      "      44/50     0.965G      1.006     0.9331      1.049         42        416: 100%|██████████| 186/186 [00:20<00:00,  8.91it/s]\n",
      "                 Class     Images  Instances      Box(P          R      mAP50  mAP50-95): 100%|██████████| 55/55 [00:08<00:00,  6.34it/s]"
     ]
    },
    {
     "name": "stdout",
     "output_type": "stream",
     "text": [
      "                   all       1744       4091      0.363      0.774      0.389      0.204\n"
     ]
    },
    {
     "name": "stderr",
     "output_type": "stream",
     "text": [
      "\n"
     ]
    },
    {
     "name": "stdout",
     "output_type": "stream",
     "text": [
      "\n",
      "      Epoch    GPU_mem   box_loss   cls_loss   dfl_loss  Instances       Size\n"
     ]
    },
    {
     "name": "stderr",
     "output_type": "stream",
     "text": [
      "      45/50     0.965G      1.008     0.9281      1.052         35        416: 100%|██████████| 186/186 [00:20<00:00,  8.87it/s]\n",
      "                 Class     Images  Instances      Box(P          R      mAP50  mAP50-95): 100%|██████████| 55/55 [00:08<00:00,  6.60it/s]"
     ]
    },
    {
     "name": "stdout",
     "output_type": "stream",
     "text": [
      "                   all       1744       4091      0.356      0.798      0.399      0.204\n"
     ]
    },
    {
     "name": "stderr",
     "output_type": "stream",
     "text": [
      "\n"
     ]
    },
    {
     "name": "stdout",
     "output_type": "stream",
     "text": [
      "\n",
      "      Epoch    GPU_mem   box_loss   cls_loss   dfl_loss  Instances       Size\n"
     ]
    },
    {
     "name": "stderr",
     "output_type": "stream",
     "text": [
      "      46/50     0.965G     0.9926     0.9273      1.048         46        416: 100%|██████████| 186/186 [00:20<00:00,  8.86it/s]\n",
      "                 Class     Images  Instances      Box(P          R      mAP50  mAP50-95): 100%|██████████| 55/55 [00:08<00:00,  6.52it/s]"
     ]
    },
    {
     "name": "stdout",
     "output_type": "stream",
     "text": [
      "                   all       1744       4091      0.363      0.793      0.399       0.21\n"
     ]
    },
    {
     "name": "stderr",
     "output_type": "stream",
     "text": [
      "\n"
     ]
    },
    {
     "name": "stdout",
     "output_type": "stream",
     "text": [
      "\n",
      "      Epoch    GPU_mem   box_loss   cls_loss   dfl_loss  Instances       Size\n"
     ]
    },
    {
     "name": "stderr",
     "output_type": "stream",
     "text": [
      "      47/50     0.965G     0.9822     0.9218      1.044         26        416: 100%|██████████| 186/186 [00:21<00:00,  8.70it/s]\n",
      "                 Class     Images  Instances      Box(P          R      mAP50  mAP50-95): 100%|██████████| 55/55 [00:08<00:00,  6.58it/s]"
     ]
    },
    {
     "name": "stdout",
     "output_type": "stream",
     "text": [
      "                   all       1744       4091      0.356      0.807      0.382      0.203\n"
     ]
    },
    {
     "name": "stderr",
     "output_type": "stream",
     "text": [
      "\n"
     ]
    },
    {
     "name": "stdout",
     "output_type": "stream",
     "text": [
      "\n",
      "      Epoch    GPU_mem   box_loss   cls_loss   dfl_loss  Instances       Size\n"
     ]
    },
    {
     "name": "stderr",
     "output_type": "stream",
     "text": [
      "      48/50     0.965G     0.9703     0.9155      1.038         31        416: 100%|██████████| 186/186 [00:21<00:00,  8.68it/s]\n",
      "                 Class     Images  Instances      Box(P          R      mAP50  mAP50-95): 100%|██████████| 55/55 [00:08<00:00,  6.47it/s]"
     ]
    },
    {
     "name": "stdout",
     "output_type": "stream",
     "text": [
      "                   all       1744       4091      0.359        0.8      0.386      0.201\n"
     ]
    },
    {
     "name": "stderr",
     "output_type": "stream",
     "text": [
      "\n"
     ]
    },
    {
     "name": "stdout",
     "output_type": "stream",
     "text": [
      "\n",
      "      Epoch    GPU_mem   box_loss   cls_loss   dfl_loss  Instances       Size\n"
     ]
    },
    {
     "name": "stderr",
     "output_type": "stream",
     "text": [
      "      49/50     0.965G     0.9613      0.909      1.034         44        416: 100%|██████████| 186/186 [00:21<00:00,  8.78it/s]\n",
      "                 Class     Images  Instances      Box(P          R      mAP50  mAP50-95): 100%|██████████| 55/55 [00:08<00:00,  6.47it/s]\n"
     ]
    },
    {
     "name": "stdout",
     "output_type": "stream",
     "text": [
      "                   all       1744       4091      0.357      0.785       0.38        0.2\n",
      "\n",
      "      Epoch    GPU_mem   box_loss   cls_loss   dfl_loss  Instances       Size\n"
     ]
    },
    {
     "name": "stderr",
     "output_type": "stream",
     "text": [
      "      50/50     0.965G     0.9642     0.9079      1.036         48        416: 100%|██████████| 186/186 [00:21<00:00,  8.71it/s]\n",
      "                 Class     Images  Instances      Box(P          R      mAP50  mAP50-95): 100%|██████████| 55/55 [00:08<00:00,  6.51it/s]"
     ]
    },
    {
     "name": "stdout",
     "output_type": "stream",
     "text": [
      "                   all       1744       4091      0.354      0.795      0.377        0.2\n"
     ]
    },
    {
     "name": "stderr",
     "output_type": "stream",
     "text": [
      "\n"
     ]
    },
    {
     "name": "stdout",
     "output_type": "stream",
     "text": [
      "\n",
      "50 epochs completed in 0.427 hours.\n",
      "Optimizer stripped from /kaggle/working/yolo/runs/yolov8_pig/weights/last.pt, 6.2MB\n",
      "Optimizer stripped from /kaggle/working/yolo/runs/yolov8_pig/weights/best.pt, 6.2MB\n",
      "\n",
      "Validating /kaggle/working/yolo/runs/yolov8_pig/weights/best.pt...\n",
      "Ultralytics 8.3.133 🚀 Python-3.11.11 torch-2.5.1+cu124 CUDA:0 (Tesla T4, 15095MiB)\n",
      "Model summary (fused): 72 layers, 3,005,843 parameters, 0 gradients, 8.1 GFLOPs\n"
     ]
    },
    {
     "name": "stderr",
     "output_type": "stream",
     "text": [
      "                 Class     Images  Instances      Box(P          R      mAP50  mAP50-95): 100%|██████████| 55/55 [00:09<00:00,  5.88it/s]\n"
     ]
    },
    {
     "name": "stdout",
     "output_type": "stream",
     "text": [
      "                   all       1744       4091      0.354      0.817      0.431      0.221\n"
     ]
    },
    {
     "name": "stderr",
     "output_type": "stream",
     "text": [
      "/usr/local/lib/python3.11/dist-packages/matplotlib/colors.py:721: RuntimeWarning: invalid value encountered in less\n",
      "  xa[xa < 0] = -1\n",
      "/usr/local/lib/python3.11/dist-packages/matplotlib/colors.py:721: RuntimeWarning: invalid value encountered in less\n",
      "  xa[xa < 0] = -1\n"
     ]
    },
    {
     "name": "stdout",
     "output_type": "stream",
     "text": [
      "Speed: 0.1ms preprocess, 0.7ms inference, 0.0ms loss, 1.2ms postprocess per image\n",
      "Results saved to \u001b[1m/kaggle/working/yolo/runs/yolov8_pig\u001b[0m\n"
     ]
    }
   ],
   "source": [
    "results = model.train(\n",
    "    data=str(data_yaml),\n",
    "    epochs=50,\n",
    "    imgsz=416,\n",
    "    batch=16,            \n",
    "    save=True,           \n",
    "    project=str(YOLO_DIR/\"runs\"),\n",
    "    name=\"yolov8_pig\"\n",
    ")"
   ]
  },
  {
   "cell_type": "code",
   "execution_count": 15,
   "id": "ada1ead3",
   "metadata": {
    "execution": {
     "iopub.execute_input": "2025-05-13T15:37:04.196125Z",
     "iopub.status.busy": "2025-05-13T15:37:04.195823Z",
     "iopub.status.idle": "2025-05-13T15:37:16.303075Z",
     "shell.execute_reply": "2025-05-13T15:37:16.302320Z"
    },
    "papermill": {
     "duration": 12.90232,
     "end_time": "2025-05-13T15:37:16.307585",
     "exception": false,
     "start_time": "2025-05-13T15:37:03.405265",
     "status": "completed"
    },
    "tags": []
   },
   "outputs": [
    {
     "name": "stdout",
     "output_type": "stream",
     "text": [
      "Ultralytics 8.3.133 🚀 Python-3.11.11 torch-2.5.1+cu124 CUDA:0 (Tesla T4, 15095MiB)\n",
      "Model summary (fused): 72 layers, 3,005,843 parameters, 0 gradients, 8.1 GFLOPs\n",
      "\u001b[34m\u001b[1mval: \u001b[0mFast image access ✅ (ping: 0.0±0.0 ms, read: 3491.7±1023.6 MB/s, size: 361.6 KB)\n"
     ]
    },
    {
     "name": "stderr",
     "output_type": "stream",
     "text": [
      "\u001b[34m\u001b[1mval: \u001b[0mScanning /kaggle/working/yolo/labels/val.cache... 1744 images, 0 backgrounds, 0 corrupt: 100%|██████████| 1744/1744 [00:00<?, ?it/s]\n",
      "                 Class     Images  Instances      Box(P          R      mAP50  mAP50-95): 100%|██████████| 109/109 [00:09<00:00, 11.55it/s]\n"
     ]
    },
    {
     "name": "stdout",
     "output_type": "stream",
     "text": [
      "                   all       1744       4091      0.353      0.816      0.431      0.221\n"
     ]
    },
    {
     "name": "stderr",
     "output_type": "stream",
     "text": [
      "/usr/local/lib/python3.11/dist-packages/matplotlib/colors.py:721: RuntimeWarning: invalid value encountered in less\n",
      "  xa[xa < 0] = -1\n",
      "/usr/local/lib/python3.11/dist-packages/matplotlib/colors.py:721: RuntimeWarning: invalid value encountered in less\n",
      "  xa[xa < 0] = -1\n"
     ]
    },
    {
     "name": "stdout",
     "output_type": "stream",
     "text": [
      "Speed: 0.1ms preprocess, 1.2ms inference, 0.0ms loss, 1.0ms postprocess per image\n",
      "Results saved to \u001b[1m/kaggle/working/yolo/runs/yolov8_pig2\u001b[0m\n",
      "ultralytics.utils.metrics.DetMetrics object with attributes:\n",
      "\n",
      "ap_class_index: array([0])\n",
      "box: ultralytics.utils.metrics.Metric object\n",
      "confusion_matrix: <ultralytics.utils.metrics.ConfusionMatrix object at 0x7a437ae68bd0>\n",
      "curves: ['Precision-Recall(B)', 'F1-Confidence(B)', 'Precision-Confidence(B)', 'Recall-Confidence(B)']\n",
      "curves_results: [[array([          0,    0.001001,    0.002002,    0.003003,    0.004004,    0.005005,    0.006006,    0.007007,    0.008008,    0.009009,     0.01001,    0.011011,    0.012012,    0.013013,    0.014014,    0.015015,    0.016016,    0.017017,    0.018018,    0.019019,     0.02002,    0.021021,    0.022022,    0.023023,\n",
      "          0.024024,    0.025025,    0.026026,    0.027027,    0.028028,    0.029029,     0.03003,    0.031031,    0.032032,    0.033033,    0.034034,    0.035035,    0.036036,    0.037037,    0.038038,    0.039039,     0.04004,    0.041041,    0.042042,    0.043043,    0.044044,    0.045045,    0.046046,    0.047047,\n",
      "          0.048048,    0.049049,     0.05005,    0.051051,    0.052052,    0.053053,    0.054054,    0.055055,    0.056056,    0.057057,    0.058058,    0.059059,     0.06006,    0.061061,    0.062062,    0.063063,    0.064064,    0.065065,    0.066066,    0.067067,    0.068068,    0.069069,     0.07007,    0.071071,\n",
      "          0.072072,    0.073073,    0.074074,    0.075075,    0.076076,    0.077077,    0.078078,    0.079079,     0.08008,    0.081081,    0.082082,    0.083083,    0.084084,    0.085085,    0.086086,    0.087087,    0.088088,    0.089089,     0.09009,    0.091091,    0.092092,    0.093093,    0.094094,    0.095095,\n",
      "          0.096096,    0.097097,    0.098098,    0.099099,      0.1001,      0.1011,      0.1021,      0.1031,      0.1041,     0.10511,     0.10611,     0.10711,     0.10811,     0.10911,     0.11011,     0.11111,     0.11211,     0.11311,     0.11411,     0.11512,     0.11612,     0.11712,     0.11812,     0.11912,\n",
      "           0.12012,     0.12112,     0.12212,     0.12312,     0.12412,     0.12513,     0.12613,     0.12713,     0.12813,     0.12913,     0.13013,     0.13113,     0.13213,     0.13313,     0.13413,     0.13514,     0.13614,     0.13714,     0.13814,     0.13914,     0.14014,     0.14114,     0.14214,     0.14314,\n",
      "           0.14414,     0.14515,     0.14615,     0.14715,     0.14815,     0.14915,     0.15015,     0.15115,     0.15215,     0.15315,     0.15415,     0.15516,     0.15616,     0.15716,     0.15816,     0.15916,     0.16016,     0.16116,     0.16216,     0.16316,     0.16416,     0.16517,     0.16617,     0.16717,\n",
      "           0.16817,     0.16917,     0.17017,     0.17117,     0.17217,     0.17317,     0.17417,     0.17518,     0.17618,     0.17718,     0.17818,     0.17918,     0.18018,     0.18118,     0.18218,     0.18318,     0.18418,     0.18519,     0.18619,     0.18719,     0.18819,     0.18919,     0.19019,     0.19119,\n",
      "           0.19219,     0.19319,     0.19419,      0.1952,      0.1962,      0.1972,      0.1982,      0.1992,      0.2002,      0.2012,      0.2022,      0.2032,      0.2042,     0.20521,     0.20621,     0.20721,     0.20821,     0.20921,     0.21021,     0.21121,     0.21221,     0.21321,     0.21421,     0.21522,\n",
      "           0.21622,     0.21722,     0.21822,     0.21922,     0.22022,     0.22122,     0.22222,     0.22322,     0.22422,     0.22523,     0.22623,     0.22723,     0.22823,     0.22923,     0.23023,     0.23123,     0.23223,     0.23323,     0.23423,     0.23524,     0.23624,     0.23724,     0.23824,     0.23924,\n",
      "           0.24024,     0.24124,     0.24224,     0.24324,     0.24424,     0.24525,     0.24625,     0.24725,     0.24825,     0.24925,     0.25025,     0.25125,     0.25225,     0.25325,     0.25425,     0.25526,     0.25626,     0.25726,     0.25826,     0.25926,     0.26026,     0.26126,     0.26226,     0.26326,\n",
      "           0.26426,     0.26527,     0.26627,     0.26727,     0.26827,     0.26927,     0.27027,     0.27127,     0.27227,     0.27327,     0.27427,     0.27528,     0.27628,     0.27728,     0.27828,     0.27928,     0.28028,     0.28128,     0.28228,     0.28328,     0.28428,     0.28529,     0.28629,     0.28729,\n",
      "           0.28829,     0.28929,     0.29029,     0.29129,     0.29229,     0.29329,     0.29429,      0.2953,      0.2963,      0.2973,      0.2983,      0.2993,      0.3003,      0.3013,      0.3023,      0.3033,      0.3043,     0.30531,     0.30631,     0.30731,     0.30831,     0.30931,     0.31031,     0.31131,\n",
      "           0.31231,     0.31331,     0.31431,     0.31532,     0.31632,     0.31732,     0.31832,     0.31932,     0.32032,     0.32132,     0.32232,     0.32332,     0.32432,     0.32533,     0.32633,     0.32733,     0.32833,     0.32933,     0.33033,     0.33133,     0.33233,     0.33333,     0.33433,     0.33534,\n",
      "           0.33634,     0.33734,     0.33834,     0.33934,     0.34034,     0.34134,     0.34234,     0.34334,     0.34434,     0.34535,     0.34635,     0.34735,     0.34835,     0.34935,     0.35035,     0.35135,     0.35235,     0.35335,     0.35435,     0.35536,     0.35636,     0.35736,     0.35836,     0.35936,\n",
      "           0.36036,     0.36136,     0.36236,     0.36336,     0.36436,     0.36537,     0.36637,     0.36737,     0.36837,     0.36937,     0.37037,     0.37137,     0.37237,     0.37337,     0.37437,     0.37538,     0.37638,     0.37738,     0.37838,     0.37938,     0.38038,     0.38138,     0.38238,     0.38338,\n",
      "           0.38438,     0.38539,     0.38639,     0.38739,     0.38839,     0.38939,     0.39039,     0.39139,     0.39239,     0.39339,     0.39439,      0.3954,      0.3964,      0.3974,      0.3984,      0.3994,      0.4004,      0.4014,      0.4024,      0.4034,      0.4044,     0.40541,     0.40641,     0.40741,\n",
      "           0.40841,     0.40941,     0.41041,     0.41141,     0.41241,     0.41341,     0.41441,     0.41542,     0.41642,     0.41742,     0.41842,     0.41942,     0.42042,     0.42142,     0.42242,     0.42342,     0.42442,     0.42543,     0.42643,     0.42743,     0.42843,     0.42943,     0.43043,     0.43143,\n",
      "           0.43243,     0.43343,     0.43443,     0.43544,     0.43644,     0.43744,     0.43844,     0.43944,     0.44044,     0.44144,     0.44244,     0.44344,     0.44444,     0.44545,     0.44645,     0.44745,     0.44845,     0.44945,     0.45045,     0.45145,     0.45245,     0.45345,     0.45445,     0.45546,\n",
      "           0.45646,     0.45746,     0.45846,     0.45946,     0.46046,     0.46146,     0.46246,     0.46346,     0.46446,     0.46547,     0.46647,     0.46747,     0.46847,     0.46947,     0.47047,     0.47147,     0.47247,     0.47347,     0.47447,     0.47548,     0.47648,     0.47748,     0.47848,     0.47948,\n",
      "           0.48048,     0.48148,     0.48248,     0.48348,     0.48448,     0.48549,     0.48649,     0.48749,     0.48849,     0.48949,     0.49049,     0.49149,     0.49249,     0.49349,     0.49449,      0.4955,      0.4965,      0.4975,      0.4985,      0.4995,      0.5005,      0.5015,      0.5025,      0.5035,\n",
      "            0.5045,     0.50551,     0.50651,     0.50751,     0.50851,     0.50951,     0.51051,     0.51151,     0.51251,     0.51351,     0.51451,     0.51552,     0.51652,     0.51752,     0.51852,     0.51952,     0.52052,     0.52152,     0.52252,     0.52352,     0.52452,     0.52553,     0.52653,     0.52753,\n",
      "           0.52853,     0.52953,     0.53053,     0.53153,     0.53253,     0.53353,     0.53453,     0.53554,     0.53654,     0.53754,     0.53854,     0.53954,     0.54054,     0.54154,     0.54254,     0.54354,     0.54454,     0.54555,     0.54655,     0.54755,     0.54855,     0.54955,     0.55055,     0.55155,\n",
      "           0.55255,     0.55355,     0.55455,     0.55556,     0.55656,     0.55756,     0.55856,     0.55956,     0.56056,     0.56156,     0.56256,     0.56356,     0.56456,     0.56557,     0.56657,     0.56757,     0.56857,     0.56957,     0.57057,     0.57157,     0.57257,     0.57357,     0.57457,     0.57558,\n",
      "           0.57658,     0.57758,     0.57858,     0.57958,     0.58058,     0.58158,     0.58258,     0.58358,     0.58458,     0.58559,     0.58659,     0.58759,     0.58859,     0.58959,     0.59059,     0.59159,     0.59259,     0.59359,     0.59459,      0.5956,      0.5966,      0.5976,      0.5986,      0.5996,\n",
      "            0.6006,      0.6016,      0.6026,      0.6036,      0.6046,     0.60561,     0.60661,     0.60761,     0.60861,     0.60961,     0.61061,     0.61161,     0.61261,     0.61361,     0.61461,     0.61562,     0.61662,     0.61762,     0.61862,     0.61962,     0.62062,     0.62162,     0.62262,     0.62362,\n",
      "           0.62462,     0.62563,     0.62663,     0.62763,     0.62863,     0.62963,     0.63063,     0.63163,     0.63263,     0.63363,     0.63463,     0.63564,     0.63664,     0.63764,     0.63864,     0.63964,     0.64064,     0.64164,     0.64264,     0.64364,     0.64464,     0.64565,     0.64665,     0.64765,\n",
      "           0.64865,     0.64965,     0.65065,     0.65165,     0.65265,     0.65365,     0.65465,     0.65566,     0.65666,     0.65766,     0.65866,     0.65966,     0.66066,     0.66166,     0.66266,     0.66366,     0.66466,     0.66567,     0.66667,     0.66767,     0.66867,     0.66967,     0.67067,     0.67167,\n",
      "           0.67267,     0.67367,     0.67467,     0.67568,     0.67668,     0.67768,     0.67868,     0.67968,     0.68068,     0.68168,     0.68268,     0.68368,     0.68468,     0.68569,     0.68669,     0.68769,     0.68869,     0.68969,     0.69069,     0.69169,     0.69269,     0.69369,     0.69469,      0.6957,\n",
      "            0.6967,      0.6977,      0.6987,      0.6997,      0.7007,      0.7017,      0.7027,      0.7037,      0.7047,     0.70571,     0.70671,     0.70771,     0.70871,     0.70971,     0.71071,     0.71171,     0.71271,     0.71371,     0.71471,     0.71572,     0.71672,     0.71772,     0.71872,     0.71972,\n",
      "           0.72072,     0.72172,     0.72272,     0.72372,     0.72472,     0.72573,     0.72673,     0.72773,     0.72873,     0.72973,     0.73073,     0.73173,     0.73273,     0.73373,     0.73473,     0.73574,     0.73674,     0.73774,     0.73874,     0.73974,     0.74074,     0.74174,     0.74274,     0.74374,\n",
      "           0.74474,     0.74575,     0.74675,     0.74775,     0.74875,     0.74975,     0.75075,     0.75175,     0.75275,     0.75375,     0.75475,     0.75576,     0.75676,     0.75776,     0.75876,     0.75976,     0.76076,     0.76176,     0.76276,     0.76376,     0.76476,     0.76577,     0.76677,     0.76777,\n",
      "           0.76877,     0.76977,     0.77077,     0.77177,     0.77277,     0.77377,     0.77477,     0.77578,     0.77678,     0.77778,     0.77878,     0.77978,     0.78078,     0.78178,     0.78278,     0.78378,     0.78478,     0.78579,     0.78679,     0.78779,     0.78879,     0.78979,     0.79079,     0.79179,\n",
      "           0.79279,     0.79379,     0.79479,      0.7958,      0.7968,      0.7978,      0.7988,      0.7998,      0.8008,      0.8018,      0.8028,      0.8038,      0.8048,     0.80581,     0.80681,     0.80781,     0.80881,     0.80981,     0.81081,     0.81181,     0.81281,     0.81381,     0.81481,     0.81582,\n",
      "           0.81682,     0.81782,     0.81882,     0.81982,     0.82082,     0.82182,     0.82282,     0.82382,     0.82482,     0.82583,     0.82683,     0.82783,     0.82883,     0.82983,     0.83083,     0.83183,     0.83283,     0.83383,     0.83483,     0.83584,     0.83684,     0.83784,     0.83884,     0.83984,\n",
      "           0.84084,     0.84184,     0.84284,     0.84384,     0.84484,     0.84585,     0.84685,     0.84785,     0.84885,     0.84985,     0.85085,     0.85185,     0.85285,     0.85385,     0.85485,     0.85586,     0.85686,     0.85786,     0.85886,     0.85986,     0.86086,     0.86186,     0.86286,     0.86386,\n",
      "           0.86486,     0.86587,     0.86687,     0.86787,     0.86887,     0.86987,     0.87087,     0.87187,     0.87287,     0.87387,     0.87487,     0.87588,     0.87688,     0.87788,     0.87888,     0.87988,     0.88088,     0.88188,     0.88288,     0.88388,     0.88488,     0.88589,     0.88689,     0.88789,\n",
      "           0.88889,     0.88989,     0.89089,     0.89189,     0.89289,     0.89389,     0.89489,      0.8959,      0.8969,      0.8979,      0.8989,      0.8999,      0.9009,      0.9019,      0.9029,      0.9039,      0.9049,     0.90591,     0.90691,     0.90791,     0.90891,     0.90991,     0.91091,     0.91191,\n",
      "           0.91291,     0.91391,     0.91491,     0.91592,     0.91692,     0.91792,     0.91892,     0.91992,     0.92092,     0.92192,     0.92292,     0.92392,     0.92492,     0.92593,     0.92693,     0.92793,     0.92893,     0.92993,     0.93093,     0.93193,     0.93293,     0.93393,     0.93493,     0.93594,\n",
      "           0.93694,     0.93794,     0.93894,     0.93994,     0.94094,     0.94194,     0.94294,     0.94394,     0.94494,     0.94595,     0.94695,     0.94795,     0.94895,     0.94995,     0.95095,     0.95195,     0.95295,     0.95395,     0.95495,     0.95596,     0.95696,     0.95796,     0.95896,     0.95996,\n",
      "           0.96096,     0.96196,     0.96296,     0.96396,     0.96496,     0.96597,     0.96697,     0.96797,     0.96897,     0.96997,     0.97097,     0.97197,     0.97297,     0.97397,     0.97497,     0.97598,     0.97698,     0.97798,     0.97898,     0.97998,     0.98098,     0.98198,     0.98298,     0.98398,\n",
      "           0.98498,     0.98599,     0.98699,     0.98799,     0.98899,     0.98999,     0.99099,     0.99199,     0.99299,     0.99399,     0.99499,       0.996,       0.997,       0.998,       0.999,           1]), array([[       0.75,     0.66667,     0.66667,     0.66667,     0.66667,     0.66667,     0.64773,     0.64773,     0.64773,     0.64773,     0.64773,     0.64773,     0.64773,     0.64773,      0.6383,        0.62,     0.61062,      0.6087,     0.60163,     0.59447,     0.59447,     0.59447,     0.59447,\n",
      "            0.59447,     0.59447,     0.59447,     0.59447,     0.59447,     0.59447,     0.59447,     0.59447,     0.59447,     0.58929,     0.58382,     0.58382,     0.58382,     0.58382,     0.58382,     0.58382,     0.58382,     0.58382,     0.58382,     0.58382,     0.58382,     0.58382,     0.58382,\n",
      "            0.58382,     0.58382,     0.58382,     0.58382,     0.58127,     0.58127,     0.58021,     0.57979,     0.57534,     0.57534,     0.57534,     0.57534,     0.57534,     0.57534,     0.57534,     0.57534,     0.57505,     0.57505,     0.57505,     0.57505,     0.57505,     0.57411,      0.5723,\n",
      "            0.57185,     0.57185,     0.57185,     0.57185,     0.57185,     0.57185,     0.57185,     0.57185,     0.57185,     0.57185,     0.57185,     0.57185,     0.57185,     0.57185,     0.57185,     0.57185,     0.57185,     0.57185,     0.57185,     0.57185,     0.57185,     0.57185,     0.57185,\n",
      "            0.57185,     0.57185,     0.57185,     0.56828,     0.56828,     0.56828,     0.56828,     0.56828,     0.56828,      0.5679,     0.56393,     0.55878,     0.55716,     0.55716,     0.55716,     0.55716,     0.55716,     0.55716,     0.55716,     0.55716,     0.55716,     0.55716,     0.55716,\n",
      "            0.55716,     0.55716,     0.55716,     0.55716,     0.55716,     0.55716,     0.55716,     0.55716,     0.55702,     0.55702,      0.5534,     0.55321,     0.55321,     0.55321,     0.55301,      0.5529,      0.5496,      0.5496,      0.5488,      0.5488,     0.54769,     0.54769,     0.54335,\n",
      "            0.54215,     0.53861,     0.53695,     0.53604,     0.53591,     0.53158,     0.53158,     0.53158,     0.53158,     0.53158,     0.53136,     0.53125,     0.53063,     0.52872,     0.52872,     0.52822,     0.52583,     0.52529,     0.52529,     0.52529,     0.52512,     0.52512,     0.52512,\n",
      "            0.52512,     0.52512,     0.52512,     0.52418,     0.52359,     0.52105,     0.52105,     0.52105,     0.52105,     0.51976,     0.51882,     0.51876,     0.51526,      0.5148,     0.51251,     0.51207,     0.51161,     0.51158,     0.51008,     0.50861,     0.50683,     0.50679,     0.50573,\n",
      "            0.50562,     0.50562,     0.50562,     0.50561,     0.50524,     0.50509,     0.50509,     0.50509,     0.50509,     0.50509,     0.50411,     0.50377,     0.50375,     0.50375,     0.50375,     0.50375,     0.50375,     0.50375,     0.50375,     0.50375,     0.50375,     0.50375,     0.50375,\n",
      "            0.50375,     0.50375,     0.50375,     0.50375,     0.50375,     0.50375,     0.50375,      0.5031,      0.5031,      0.5031,      0.5031,      0.5031,     0.50305,     0.50305,     0.50305,     0.50296,     0.50296,     0.50296,     0.50296,     0.50296,     0.50296,     0.50296,     0.50213,\n",
      "            0.50213,     0.50053,         0.5,     0.49948,     0.49896,     0.49896,     0.49871,     0.49846,     0.49796,     0.49771,     0.49751,     0.49751,     0.49751,     0.49751,     0.49751,     0.49703,     0.49681,     0.49681,     0.49663,     0.49663,     0.49663,     0.49663,     0.49663,\n",
      "            0.49596,     0.49596,     0.49485,     0.49485,     0.49485,     0.49462,     0.49193,     0.49193,     0.49133,     0.49133,     0.49112,     0.49015,     0.49015,     0.49015,     0.49015,     0.49015,     0.49015,     0.49015,     0.49015,     0.49015,     0.49015,     0.49015,     0.49015,\n",
      "            0.49015,     0.49015,     0.49015,     0.49015,     0.49015,     0.49015,     0.49015,     0.49015,     0.49015,     0.49015,     0.48998,      0.4896,     0.48923,     0.48846,     0.48789,     0.48783,     0.48783,     0.48783,     0.48751,     0.48751,     0.48672,     0.48672,     0.48672,\n",
      "            0.48672,     0.48618,     0.48574,     0.48574,     0.48574,     0.48574,     0.48574,     0.48574,     0.48574,     0.48413,     0.48413,     0.48363,     0.48276,     0.48247,     0.48234,     0.48147,     0.48143,     0.48143,     0.48077,      0.4796,     0.47947,     0.47894,     0.47894,\n",
      "            0.47894,     0.47865,     0.47862,     0.47862,     0.47697,      0.4754,     0.47517,     0.47517,     0.47517,     0.47517,     0.47508,     0.47462,     0.47448,     0.47448,     0.47448,     0.47432,     0.47432,     0.47408,     0.47383,     0.47239,     0.47239,     0.47195,     0.47159,\n",
      "            0.47084,      0.4707,      0.4707,      0.4707,      0.4707,      0.4707,      0.4707,      0.4707,      0.4707,      0.4707,      0.4707,     0.47065,     0.46983,     0.46931,     0.46922,     0.46919,     0.46863,     0.46782,     0.46704,     0.46623,     0.46528,     0.46528,     0.46518,\n",
      "            0.46457,     0.46425,     0.46394,     0.46384,      0.4621,     0.46191,      0.4617,      0.4617,     0.46053,     0.45905,     0.45902,     0.45902,     0.45902,     0.45824,     0.45824,     0.45824,     0.45639,     0.45631,     0.45535,     0.45535,     0.45535,     0.45442,     0.45436,\n",
      "            0.45416,     0.45416,     0.45416,     0.45416,     0.45379,     0.45379,     0.45379,     0.45379,     0.45253,     0.45235,     0.45235,     0.45235,     0.45206,     0.45206,     0.45121,      0.4508,     0.45066,     0.45007,     0.44987,     0.44953,     0.44823,     0.44783,     0.44777,\n",
      "            0.44773,     0.44728,     0.44728,     0.44728,     0.44728,     0.44728,     0.44637,     0.44611,     0.44562,      0.4447,      0.4447,      0.4447,      0.4447,     0.44335,     0.44165,     0.44157,     0.44121,     0.44121,     0.44121,     0.44085,     0.43984,     0.43984,     0.43984,\n",
      "            0.43984,     0.43984,     0.43984,     0.43984,     0.43984,      0.4393,      0.4392,      0.4392,      0.4392,      0.4392,      0.4392,      0.4392,      0.4392,       0.439,       0.439,       0.439,       0.439,       0.439,       0.439,       0.439,       0.439,       0.439,       0.439,\n",
      "              0.439,       0.439,     0.43825,     0.43815,     0.43815,     0.43793,     0.43702,     0.43702,     0.43702,     0.43702,       0.436,     0.43583,     0.43549,      0.4346,     0.43447,     0.43447,     0.43328,     0.43328,     0.43328,     0.43276,     0.43256,     0.43251,     0.43251,\n",
      "            0.43235,     0.43162,     0.43158,     0.43141,     0.43126,     0.43042,     0.42998,      0.4293,     0.42915,     0.42851,     0.42833,     0.42746,     0.42731,     0.42618,     0.42618,     0.42607,     0.42572,      0.4256,      0.4252,     0.42506,     0.42466,     0.42447,     0.42447,\n",
      "            0.42332,     0.42254,     0.42254,     0.42227,     0.42185,     0.42164,     0.42151,     0.42003,     0.41909,     0.41888,     0.41884,     0.41869,     0.41803,     0.41768,     0.41642,     0.41602,     0.41539,     0.41522,     0.41522,     0.41522,     0.41442,      0.4136,     0.41306,\n",
      "            0.41292,     0.41292,     0.41291,     0.41291,     0.41291,     0.41291,     0.41255,     0.41255,     0.41255,      0.4125,     0.41182,     0.41131,     0.41124,     0.41123,     0.41123,     0.41091,     0.41022,     0.40965,     0.40965,     0.40965,     0.40965,     0.40919,     0.40917,\n",
      "            0.40906,     0.40906,     0.40871,     0.40792,     0.40792,     0.40769,     0.40737,     0.40703,     0.40663,     0.40658,     0.40632,     0.40631,     0.40572,     0.40561,      0.4046,      0.4046,     0.40418,     0.40418,     0.40418,     0.40418,     0.40289,     0.40278,     0.40167,\n",
      "            0.40115,     0.40115,     0.40115,     0.40115,     0.40115,     0.40115,     0.40115,     0.40087,      0.3999,      0.3999,     0.39943,      0.3988,     0.39871,     0.39845,     0.39828,     0.39826,     0.39826,     0.39813,      0.3981,     0.39797,     0.39781,     0.39766,     0.39766,\n",
      "            0.39709,     0.39693,      0.3966,      0.3966,      0.3966,      0.3966,     0.39606,     0.39572,      0.3956,     0.39552,      0.3955,      0.3955,     0.39545,     0.39542,     0.39507,     0.39507,     0.39507,     0.39488,     0.39488,     0.39488,     0.39449,     0.39449,     0.39414,\n",
      "            0.39388,     0.39388,      0.3935,     0.39281,     0.39277,     0.39277,     0.39213,     0.39201,     0.39179,      0.3916,     0.39149,     0.39122,     0.39122,      0.3904,      0.3904,     0.39015,     0.38982,     0.38953,     0.38806,     0.38776,     0.38763,     0.38688,     0.38671,\n",
      "            0.38671,     0.38671,     0.38671,     0.38671,     0.38671,     0.38671,     0.38671,     0.38671,     0.38649,     0.38608,     0.38608,     0.38601,     0.38601,     0.38586,     0.38467,     0.38442,     0.38396,     0.38359,     0.38305,     0.38289,     0.38256,     0.38193,     0.38143,\n",
      "            0.38136,     0.38116,     0.38091,     0.38071,     0.38071,     0.38027,     0.37982,     0.37967,     0.37967,     0.37967,     0.37965,     0.37943,     0.37943,     0.37921,     0.37921,     0.37902,     0.37889,     0.37868,     0.37857,     0.37857,     0.37817,       0.378,      0.3778,\n",
      "             0.3778,      0.3778,      0.3778,     0.37773,     0.37747,     0.37669,     0.37614,     0.37586,     0.37561,     0.37557,     0.37551,     0.37546,     0.37518,     0.37421,     0.37421,     0.37421,     0.37421,     0.37421,     0.37394,     0.37394,     0.37378,     0.37362,     0.37322,\n",
      "            0.37244,     0.37244,     0.37238,     0.37215,     0.37215,      0.3713,      0.3713,      0.3713,     0.37115,     0.37092,      0.3705,     0.37021,     0.36997,     0.36997,     0.36983,     0.36983,     0.36983,     0.36964,     0.36958,     0.36958,     0.36905,     0.36905,     0.36905,\n",
      "            0.36905,     0.36807,     0.36803,     0.36799,     0.36799,     0.36799,     0.36799,     0.36799,     0.36799,     0.36799,     0.36799,     0.36799,     0.36799,     0.36732,     0.36726,     0.36724,     0.36724,      0.3672,      0.3672,      0.3672,      0.3672,     0.36691,     0.36662,\n",
      "            0.36662,     0.36568,     0.36563,     0.36516,     0.36491,     0.36491,     0.36477,     0.36452,     0.36452,     0.36425,     0.36407,     0.36374,     0.36317,     0.36311,     0.36262,     0.36226,     0.36207,     0.36202,     0.36188,     0.36164,     0.36149,     0.36129,     0.36129,\n",
      "            0.36129,     0.36105,     0.36105,     0.36069,     0.36019,      0.3593,      0.3593,     0.35919,     0.35919,     0.35919,     0.35853,     0.35846,      0.3574,     0.35729,     0.35703,     0.35703,     0.35638,     0.35612,     0.35609,     0.35609,     0.35609,     0.35607,     0.35607,\n",
      "            0.35589,     0.35572,     0.35572,     0.35507,     0.35505,     0.35434,     0.35434,     0.35424,     0.35416,     0.35393,     0.35368,     0.35325,     0.35325,     0.35307,     0.35302,     0.35235,     0.35232,     0.35209,      0.3517,     0.35151,      0.3515,     0.35144,     0.35106,\n",
      "            0.35082,      0.3508,      0.3508,      0.3508,     0.35065,     0.35065,     0.35036,     0.34968,     0.34932,     0.34901,     0.34871,     0.34858,     0.34852,     0.34848,     0.34845,     0.34836,     0.34835,     0.34759,     0.34746,     0.34746,     0.34713,     0.34687,     0.34687,\n",
      "            0.34687,     0.34662,     0.34662,     0.34651,     0.34645,     0.34634,     0.34619,     0.34582,     0.34582,     0.34582,     0.34582,     0.34557,     0.34527,     0.34527,     0.34519,      0.3449,     0.34472,     0.34461,     0.34443,     0.34443,     0.34443,     0.34413,     0.34413,\n",
      "            0.34413,     0.34372,     0.34289,     0.34268,     0.34263,     0.34263,     0.34255,      0.3423,      0.3423,     0.34223,     0.34196,     0.34196,     0.34196,     0.34196,     0.34137,     0.34114,     0.34085,     0.34026,     0.34004,     0.33946,     0.33881,     0.33881,     0.33865,\n",
      "            0.33753,     0.33725,      0.3369,     0.33683,     0.33683,     0.33677,     0.33618,     0.33615,     0.33599,     0.33565,     0.33535,     0.33507,     0.33411,     0.33327,     0.33292,     0.33238,     0.33215,     0.33186,     0.33174,     0.33113,     0.33061,     0.33061,     0.32992,\n",
      "            0.32903,     0.32874,     0.32858,     0.32764,     0.32739,     0.32697,      0.3262,     0.32601,     0.32538,     0.32491,     0.32467,     0.32391,     0.32249,     0.32201,     0.32073,     0.32053,     0.31966,      0.3189,     0.31866,     0.31811,     0.31719,     0.31697,     0.31602,\n",
      "            0.31596,     0.31485,     0.31308,     0.31257,     0.30938,      0.3086,     0.30817,     0.30736,     0.30684,     0.30566,     0.30472,     0.30469,     0.30283,     0.30011,     0.29601,     0.29497,     0.29401,     0.29223,     0.29106,     0.28934,     0.28836,     0.28769,      0.2859,\n",
      "            0.28415,     0.28065,     0.27747,     0.27522,     0.27308,     0.26946,     0.26743,     0.26333,      0.2632,     0.26096,     0.25835,     0.25489,     0.25198,      0.2466,     0.22591,     0.20707,     0.13274,     0.11897,    0.097146,     0.09067,    0.084194,    0.077717,    0.071241,\n",
      "           0.064764,    0.058288,    0.051811,    0.045335,    0.038859,    0.032382,    0.025906,    0.019429,    0.012953,   0.0064764,           0]]), 'Recall', 'Precision'], [array([          0,    0.001001,    0.002002,    0.003003,    0.004004,    0.005005,    0.006006,    0.007007,    0.008008,    0.009009,     0.01001,    0.011011,    0.012012,    0.013013,    0.014014,    0.015015,    0.016016,    0.017017,    0.018018,    0.019019,     0.02002,    0.021021,    0.022022,    0.023023,\n",
      "          0.024024,    0.025025,    0.026026,    0.027027,    0.028028,    0.029029,     0.03003,    0.031031,    0.032032,    0.033033,    0.034034,    0.035035,    0.036036,    0.037037,    0.038038,    0.039039,     0.04004,    0.041041,    0.042042,    0.043043,    0.044044,    0.045045,    0.046046,    0.047047,\n",
      "          0.048048,    0.049049,     0.05005,    0.051051,    0.052052,    0.053053,    0.054054,    0.055055,    0.056056,    0.057057,    0.058058,    0.059059,     0.06006,    0.061061,    0.062062,    0.063063,    0.064064,    0.065065,    0.066066,    0.067067,    0.068068,    0.069069,     0.07007,    0.071071,\n",
      "          0.072072,    0.073073,    0.074074,    0.075075,    0.076076,    0.077077,    0.078078,    0.079079,     0.08008,    0.081081,    0.082082,    0.083083,    0.084084,    0.085085,    0.086086,    0.087087,    0.088088,    0.089089,     0.09009,    0.091091,    0.092092,    0.093093,    0.094094,    0.095095,\n",
      "          0.096096,    0.097097,    0.098098,    0.099099,      0.1001,      0.1011,      0.1021,      0.1031,      0.1041,     0.10511,     0.10611,     0.10711,     0.10811,     0.10911,     0.11011,     0.11111,     0.11211,     0.11311,     0.11411,     0.11512,     0.11612,     0.11712,     0.11812,     0.11912,\n",
      "           0.12012,     0.12112,     0.12212,     0.12312,     0.12412,     0.12513,     0.12613,     0.12713,     0.12813,     0.12913,     0.13013,     0.13113,     0.13213,     0.13313,     0.13413,     0.13514,     0.13614,     0.13714,     0.13814,     0.13914,     0.14014,     0.14114,     0.14214,     0.14314,\n",
      "           0.14414,     0.14515,     0.14615,     0.14715,     0.14815,     0.14915,     0.15015,     0.15115,     0.15215,     0.15315,     0.15415,     0.15516,     0.15616,     0.15716,     0.15816,     0.15916,     0.16016,     0.16116,     0.16216,     0.16316,     0.16416,     0.16517,     0.16617,     0.16717,\n",
      "           0.16817,     0.16917,     0.17017,     0.17117,     0.17217,     0.17317,     0.17417,     0.17518,     0.17618,     0.17718,     0.17818,     0.17918,     0.18018,     0.18118,     0.18218,     0.18318,     0.18418,     0.18519,     0.18619,     0.18719,     0.18819,     0.18919,     0.19019,     0.19119,\n",
      "           0.19219,     0.19319,     0.19419,      0.1952,      0.1962,      0.1972,      0.1982,      0.1992,      0.2002,      0.2012,      0.2022,      0.2032,      0.2042,     0.20521,     0.20621,     0.20721,     0.20821,     0.20921,     0.21021,     0.21121,     0.21221,     0.21321,     0.21421,     0.21522,\n",
      "           0.21622,     0.21722,     0.21822,     0.21922,     0.22022,     0.22122,     0.22222,     0.22322,     0.22422,     0.22523,     0.22623,     0.22723,     0.22823,     0.22923,     0.23023,     0.23123,     0.23223,     0.23323,     0.23423,     0.23524,     0.23624,     0.23724,     0.23824,     0.23924,\n",
      "           0.24024,     0.24124,     0.24224,     0.24324,     0.24424,     0.24525,     0.24625,     0.24725,     0.24825,     0.24925,     0.25025,     0.25125,     0.25225,     0.25325,     0.25425,     0.25526,     0.25626,     0.25726,     0.25826,     0.25926,     0.26026,     0.26126,     0.26226,     0.26326,\n",
      "           0.26426,     0.26527,     0.26627,     0.26727,     0.26827,     0.26927,     0.27027,     0.27127,     0.27227,     0.27327,     0.27427,     0.27528,     0.27628,     0.27728,     0.27828,     0.27928,     0.28028,     0.28128,     0.28228,     0.28328,     0.28428,     0.28529,     0.28629,     0.28729,\n",
      "           0.28829,     0.28929,     0.29029,     0.29129,     0.29229,     0.29329,     0.29429,      0.2953,      0.2963,      0.2973,      0.2983,      0.2993,      0.3003,      0.3013,      0.3023,      0.3033,      0.3043,     0.30531,     0.30631,     0.30731,     0.30831,     0.30931,     0.31031,     0.31131,\n",
      "           0.31231,     0.31331,     0.31431,     0.31532,     0.31632,     0.31732,     0.31832,     0.31932,     0.32032,     0.32132,     0.32232,     0.32332,     0.32432,     0.32533,     0.32633,     0.32733,     0.32833,     0.32933,     0.33033,     0.33133,     0.33233,     0.33333,     0.33433,     0.33534,\n",
      "           0.33634,     0.33734,     0.33834,     0.33934,     0.34034,     0.34134,     0.34234,     0.34334,     0.34434,     0.34535,     0.34635,     0.34735,     0.34835,     0.34935,     0.35035,     0.35135,     0.35235,     0.35335,     0.35435,     0.35536,     0.35636,     0.35736,     0.35836,     0.35936,\n",
      "           0.36036,     0.36136,     0.36236,     0.36336,     0.36436,     0.36537,     0.36637,     0.36737,     0.36837,     0.36937,     0.37037,     0.37137,     0.37237,     0.37337,     0.37437,     0.37538,     0.37638,     0.37738,     0.37838,     0.37938,     0.38038,     0.38138,     0.38238,     0.38338,\n",
      "           0.38438,     0.38539,     0.38639,     0.38739,     0.38839,     0.38939,     0.39039,     0.39139,     0.39239,     0.39339,     0.39439,      0.3954,      0.3964,      0.3974,      0.3984,      0.3994,      0.4004,      0.4014,      0.4024,      0.4034,      0.4044,     0.40541,     0.40641,     0.40741,\n",
      "           0.40841,     0.40941,     0.41041,     0.41141,     0.41241,     0.41341,     0.41441,     0.41542,     0.41642,     0.41742,     0.41842,     0.41942,     0.42042,     0.42142,     0.42242,     0.42342,     0.42442,     0.42543,     0.42643,     0.42743,     0.42843,     0.42943,     0.43043,     0.43143,\n",
      "           0.43243,     0.43343,     0.43443,     0.43544,     0.43644,     0.43744,     0.43844,     0.43944,     0.44044,     0.44144,     0.44244,     0.44344,     0.44444,     0.44545,     0.44645,     0.44745,     0.44845,     0.44945,     0.45045,     0.45145,     0.45245,     0.45345,     0.45445,     0.45546,\n",
      "           0.45646,     0.45746,     0.45846,     0.45946,     0.46046,     0.46146,     0.46246,     0.46346,     0.46446,     0.46547,     0.46647,     0.46747,     0.46847,     0.46947,     0.47047,     0.47147,     0.47247,     0.47347,     0.47447,     0.47548,     0.47648,     0.47748,     0.47848,     0.47948,\n",
      "           0.48048,     0.48148,     0.48248,     0.48348,     0.48448,     0.48549,     0.48649,     0.48749,     0.48849,     0.48949,     0.49049,     0.49149,     0.49249,     0.49349,     0.49449,      0.4955,      0.4965,      0.4975,      0.4985,      0.4995,      0.5005,      0.5015,      0.5025,      0.5035,\n",
      "            0.5045,     0.50551,     0.50651,     0.50751,     0.50851,     0.50951,     0.51051,     0.51151,     0.51251,     0.51351,     0.51451,     0.51552,     0.51652,     0.51752,     0.51852,     0.51952,     0.52052,     0.52152,     0.52252,     0.52352,     0.52452,     0.52553,     0.52653,     0.52753,\n",
      "           0.52853,     0.52953,     0.53053,     0.53153,     0.53253,     0.53353,     0.53453,     0.53554,     0.53654,     0.53754,     0.53854,     0.53954,     0.54054,     0.54154,     0.54254,     0.54354,     0.54454,     0.54555,     0.54655,     0.54755,     0.54855,     0.54955,     0.55055,     0.55155,\n",
      "           0.55255,     0.55355,     0.55455,     0.55556,     0.55656,     0.55756,     0.55856,     0.55956,     0.56056,     0.56156,     0.56256,     0.56356,     0.56456,     0.56557,     0.56657,     0.56757,     0.56857,     0.56957,     0.57057,     0.57157,     0.57257,     0.57357,     0.57457,     0.57558,\n",
      "           0.57658,     0.57758,     0.57858,     0.57958,     0.58058,     0.58158,     0.58258,     0.58358,     0.58458,     0.58559,     0.58659,     0.58759,     0.58859,     0.58959,     0.59059,     0.59159,     0.59259,     0.59359,     0.59459,      0.5956,      0.5966,      0.5976,      0.5986,      0.5996,\n",
      "            0.6006,      0.6016,      0.6026,      0.6036,      0.6046,     0.60561,     0.60661,     0.60761,     0.60861,     0.60961,     0.61061,     0.61161,     0.61261,     0.61361,     0.61461,     0.61562,     0.61662,     0.61762,     0.61862,     0.61962,     0.62062,     0.62162,     0.62262,     0.62362,\n",
      "           0.62462,     0.62563,     0.62663,     0.62763,     0.62863,     0.62963,     0.63063,     0.63163,     0.63263,     0.63363,     0.63463,     0.63564,     0.63664,     0.63764,     0.63864,     0.63964,     0.64064,     0.64164,     0.64264,     0.64364,     0.64464,     0.64565,     0.64665,     0.64765,\n",
      "           0.64865,     0.64965,     0.65065,     0.65165,     0.65265,     0.65365,     0.65465,     0.65566,     0.65666,     0.65766,     0.65866,     0.65966,     0.66066,     0.66166,     0.66266,     0.66366,     0.66466,     0.66567,     0.66667,     0.66767,     0.66867,     0.66967,     0.67067,     0.67167,\n",
      "           0.67267,     0.67367,     0.67467,     0.67568,     0.67668,     0.67768,     0.67868,     0.67968,     0.68068,     0.68168,     0.68268,     0.68368,     0.68468,     0.68569,     0.68669,     0.68769,     0.68869,     0.68969,     0.69069,     0.69169,     0.69269,     0.69369,     0.69469,      0.6957,\n",
      "            0.6967,      0.6977,      0.6987,      0.6997,      0.7007,      0.7017,      0.7027,      0.7037,      0.7047,     0.70571,     0.70671,     0.70771,     0.70871,     0.70971,     0.71071,     0.71171,     0.71271,     0.71371,     0.71471,     0.71572,     0.71672,     0.71772,     0.71872,     0.71972,\n",
      "           0.72072,     0.72172,     0.72272,     0.72372,     0.72472,     0.72573,     0.72673,     0.72773,     0.72873,     0.72973,     0.73073,     0.73173,     0.73273,     0.73373,     0.73473,     0.73574,     0.73674,     0.73774,     0.73874,     0.73974,     0.74074,     0.74174,     0.74274,     0.74374,\n",
      "           0.74474,     0.74575,     0.74675,     0.74775,     0.74875,     0.74975,     0.75075,     0.75175,     0.75275,     0.75375,     0.75475,     0.75576,     0.75676,     0.75776,     0.75876,     0.75976,     0.76076,     0.76176,     0.76276,     0.76376,     0.76476,     0.76577,     0.76677,     0.76777,\n",
      "           0.76877,     0.76977,     0.77077,     0.77177,     0.77277,     0.77377,     0.77477,     0.77578,     0.77678,     0.77778,     0.77878,     0.77978,     0.78078,     0.78178,     0.78278,     0.78378,     0.78478,     0.78579,     0.78679,     0.78779,     0.78879,     0.78979,     0.79079,     0.79179,\n",
      "           0.79279,     0.79379,     0.79479,      0.7958,      0.7968,      0.7978,      0.7988,      0.7998,      0.8008,      0.8018,      0.8028,      0.8038,      0.8048,     0.80581,     0.80681,     0.80781,     0.80881,     0.80981,     0.81081,     0.81181,     0.81281,     0.81381,     0.81481,     0.81582,\n",
      "           0.81682,     0.81782,     0.81882,     0.81982,     0.82082,     0.82182,     0.82282,     0.82382,     0.82482,     0.82583,     0.82683,     0.82783,     0.82883,     0.82983,     0.83083,     0.83183,     0.83283,     0.83383,     0.83483,     0.83584,     0.83684,     0.83784,     0.83884,     0.83984,\n",
      "           0.84084,     0.84184,     0.84284,     0.84384,     0.84484,     0.84585,     0.84685,     0.84785,     0.84885,     0.84985,     0.85085,     0.85185,     0.85285,     0.85385,     0.85485,     0.85586,     0.85686,     0.85786,     0.85886,     0.85986,     0.86086,     0.86186,     0.86286,     0.86386,\n",
      "           0.86486,     0.86587,     0.86687,     0.86787,     0.86887,     0.86987,     0.87087,     0.87187,     0.87287,     0.87387,     0.87487,     0.87588,     0.87688,     0.87788,     0.87888,     0.87988,     0.88088,     0.88188,     0.88288,     0.88388,     0.88488,     0.88589,     0.88689,     0.88789,\n",
      "           0.88889,     0.88989,     0.89089,     0.89189,     0.89289,     0.89389,     0.89489,      0.8959,      0.8969,      0.8979,      0.8989,      0.8999,      0.9009,      0.9019,      0.9029,      0.9039,      0.9049,     0.90591,     0.90691,     0.90791,     0.90891,     0.90991,     0.91091,     0.91191,\n",
      "           0.91291,     0.91391,     0.91491,     0.91592,     0.91692,     0.91792,     0.91892,     0.91992,     0.92092,     0.92192,     0.92292,     0.92392,     0.92492,     0.92593,     0.92693,     0.92793,     0.92893,     0.92993,     0.93093,     0.93193,     0.93293,     0.93393,     0.93493,     0.93594,\n",
      "           0.93694,     0.93794,     0.93894,     0.93994,     0.94094,     0.94194,     0.94294,     0.94394,     0.94494,     0.94595,     0.94695,     0.94795,     0.94895,     0.94995,     0.95095,     0.95195,     0.95295,     0.95395,     0.95495,     0.95596,     0.95696,     0.95796,     0.95896,     0.95996,\n",
      "           0.96096,     0.96196,     0.96296,     0.96396,     0.96496,     0.96597,     0.96697,     0.96797,     0.96897,     0.96997,     0.97097,     0.97197,     0.97297,     0.97397,     0.97497,     0.97598,     0.97698,     0.97798,     0.97898,     0.97998,     0.98098,     0.98198,     0.98298,     0.98398,\n",
      "           0.98498,     0.98599,     0.98699,     0.98799,     0.98899,     0.98999,     0.99099,     0.99199,     0.99299,     0.99399,     0.99499,       0.996,       0.997,       0.998,       0.999,           1]), array([[    0.18356,     0.18364,     0.25347,     0.29654,     0.32542,     0.34594,     0.35971,     0.36801,     0.37449,     0.37997,     0.38457,     0.38856,     0.39143,     0.39442,     0.39704,     0.39907,     0.40099,     0.40258,     0.40404,     0.40531,     0.40717,     0.40907,     0.41127,\n",
      "            0.41434,     0.41919,     0.42349,     0.42649,     0.42905,      0.4311,     0.43275,     0.43498,     0.43707,     0.43879,     0.44053,     0.44173,     0.44319,     0.44402,     0.44551,     0.44704,     0.44814,      0.4497,     0.45119,     0.45304,     0.45507,      0.4567,     0.45818,\n",
      "            0.45935,     0.46035,     0.46123,     0.46193,     0.46243,      0.4629,     0.46393,     0.46447,     0.46518,     0.46556,     0.46608,     0.46665,     0.46738,     0.46841,     0.46935,     0.47005,     0.47057,     0.47142,      0.4722,     0.47269,     0.47327,     0.47384,      0.4743,\n",
      "            0.47463,     0.47531,     0.47584,     0.47629,     0.47694,     0.47744,     0.47816,     0.47899,     0.47952,     0.48013,     0.48081,     0.48136,     0.48159,     0.48189,     0.48262,     0.48306,     0.48341,     0.48384,     0.48454,     0.48463,     0.48525,     0.48576,     0.48621,\n",
      "             0.4871,     0.48727,     0.48731,     0.48771,     0.48839,     0.48932,     0.48975,     0.48999,     0.48996,     0.49037,     0.49033,     0.49083,     0.49162,     0.49167,     0.49223,     0.49267,     0.49296,     0.49366,     0.49326,     0.49298,     0.49314,     0.49303,      0.4939,\n",
      "            0.49361,     0.49335,     0.49352,     0.49347,     0.49303,     0.49336,     0.49287,      0.4924,     0.49264,     0.49326,     0.49253,     0.49283,     0.49294,     0.49363,     0.49281,     0.49309,     0.49299,     0.49308,     0.49328,     0.49339,     0.49296,     0.49363,     0.49367,\n",
      "            0.49271,     0.49306,     0.49362,     0.49373,     0.49378,     0.49419,     0.49394,     0.49375,     0.49372,     0.49424,     0.49407,     0.49352,     0.49422,     0.49454,     0.49335,     0.49338,     0.49181,     0.49114,      0.4908,     0.49084,     0.48999,     0.48987,     0.49006,\n",
      "            0.48959,     0.48969,     0.48797,     0.48915,      0.4885,     0.48888,     0.48827,     0.48769,     0.48747,     0.48662,     0.48575,     0.48545,     0.48555,     0.48552,      0.4856,     0.48593,     0.48467,     0.48331,     0.48313,     0.48363,     0.48369,      0.4834,     0.48266,\n",
      "            0.48241,     0.48178,     0.48036,      0.4799,      0.4786,     0.47757,     0.47704,      0.4756,     0.47491,     0.47442,     0.47389,     0.47262,     0.47298,     0.47247,     0.47223,     0.47157,     0.47068,     0.47038,      0.4694,     0.46821,     0.46774,     0.46695,     0.46597,\n",
      "            0.46471,     0.46342,     0.46262,     0.46268,     0.46245,     0.46237,     0.46165,     0.46148,      0.4605,     0.45945,     0.45847,      0.4582,     0.45786,     0.45627,     0.45506,     0.45418,     0.45306,     0.45283,     0.45109,     0.45104,     0.44877,     0.44602,     0.44454,\n",
      "            0.44155,     0.44061,     0.43835,      0.4369,     0.43552,     0.43525,     0.43465,     0.43323,     0.43156,     0.42909,     0.42831,     0.42689,     0.42628,     0.42439,      0.4225,     0.42027,     0.41928,     0.41752,     0.41697,     0.41631,     0.41468,     0.41425,      0.4124,\n",
      "            0.41112,     0.41017,      0.4088,     0.40816,     0.40628,     0.40483,     0.40157,     0.39962,     0.39834,     0.39629,     0.39571,     0.39342,     0.39127,     0.38833,     0.38757,     0.38613,     0.38334,     0.38235,      0.3803,     0.37844,      0.3777,     0.37568,     0.37256,\n",
      "            0.37122,     0.36851,     0.36652,     0.36385,     0.36106,     0.35811,     0.35636,     0.35193,     0.34977,     0.34753,     0.34501,     0.34333,     0.34083,      0.3396,     0.33861,     0.33621,     0.33306,     0.33016,     0.32794,     0.32507,     0.32197,     0.32034,     0.31858,\n",
      "            0.31632,      0.3151,     0.31236,     0.30925,     0.30755,       0.305,     0.30125,     0.29919,     0.29495,     0.29162,     0.28756,     0.28432,     0.28175,     0.27997,     0.27658,     0.27472,     0.27152,     0.26928,     0.26697,     0.26516,     0.26219,     0.25964,     0.25871,\n",
      "            0.25616,     0.25224,     0.25134,      0.2489,     0.24384,     0.24158,     0.23914,      0.2377,      0.2357,     0.23425,     0.23103,     0.22737,     0.22544,     0.22471,      0.2224,     0.22133,     0.21862,     0.21638,     0.21504,     0.21195,     0.21086,     0.20888,     0.20459,\n",
      "            0.20386,     0.20194,     0.19951,     0.19753,     0.19534,     0.19131,     0.18821,     0.18479,     0.18283,      0.1807,     0.17695,     0.17538,     0.17415,     0.17226,     0.17175,     0.16972,     0.16824,     0.16639,     0.16467,     0.16313,      0.1621,      0.1599,     0.15732,\n",
      "            0.15498,     0.15236,     0.15129,     0.14919,     0.14776,     0.14679,     0.14422,     0.14355,     0.14006,     0.13898,     0.13747,     0.13587,     0.13329,     0.13287,     0.13181,     0.12828,     0.12677,     0.12368,     0.12292,     0.12153,      0.1203,     0.11931,     0.11711,\n",
      "            0.11553,     0.11379,     0.11305,     0.11141,     0.11063,     0.10884,     0.10714,     0.10456,     0.10328,     0.10214,    0.099058,    0.097911,    0.096756,     0.09538,    0.095033,     0.09414,    0.092443,    0.091836,    0.089788,    0.088393,    0.087081,    0.085112,    0.084173,\n",
      "           0.081137,    0.079582,    0.077863,    0.077026,    0.076206,    0.074249,     0.07213,    0.071441,    0.070598,    0.070662,    0.069768,    0.068077,     0.06809,     0.06689,    0.066023,    0.063707,    0.063307,    0.062878,    0.062002,    0.060156,     0.05934,    0.057504,    0.056759,\n",
      "           0.056014,    0.054582,    0.054073,    0.052916,    0.051388,    0.049167,    0.048328,     0.04733,    0.046912,    0.045435,    0.044109,    0.043757,    0.043392,    0.042288,    0.041779,     0.04073,    0.040118,    0.040139,    0.039474,    0.039229,    0.038404,    0.037424,    0.036059,\n",
      "           0.035534,    0.035087,    0.035111,    0.034717,    0.033698,    0.033179,    0.032819,     0.03162,     0.03085,    0.029568,    0.029144,    0.028659,    0.028674,    0.027849,     0.02732,     0.02678,    0.026292,    0.026042,    0.025411,    0.023938,    0.023572,    0.023132,    0.021201,\n",
      "           0.020668,    0.019719,    0.019249,    0.019251,    0.019252,    0.019254,    0.018359,    0.017826,    0.017352,    0.017357,    0.016529,    0.016317,    0.015853,    0.015448,    0.015238,    0.014973,    0.014908,    0.014498,    0.014497,    0.014204,     0.01346,    0.013081,    0.013065,\n",
      "           0.012877,    0.012393,    0.012005,    0.011743,    0.011489,    0.011241,    0.011145,    0.010665,    0.010667,    0.010668,    0.010668,    0.010484,    0.009455,   0.0091152,   0.0089326,     0.00875,    0.008338,   0.0078815,   0.0075373,   0.0072492,   0.0070445,   0.0068398,   0.0064345,\n",
      "          0.0058161,   0.0056659,   0.0055157,   0.0053655,   0.0050299,    0.004864,   0.0048643,   0.0048647,    0.004865,   0.0048654,   0.0048658,   0.0047365,   0.0043808,   0.0043811,   0.0043814,   0.0042292,   0.0037846,   0.0034623,   0.0029719,   0.0028605,   0.0027906,   0.0027207,   0.0026507,\n",
      "          0.0025808,   0.0025109,    0.002441,   0.0024379,    0.002438,   0.0024382,   0.0024383,   0.0024385,   0.0024389,    0.002393,    0.002335,    0.002277,    0.002219,    0.002161,    0.002103,    0.002045,    0.001987,   0.0019517,   0.0019519,    0.001952,   0.0019521,   0.0019522,   0.0019523,\n",
      "          0.0019524,   0.0019525,   0.0019526,   0.0016782,   0.0014649,   0.0014649,    0.001465,    0.001465,    0.001465,   0.0014651,   0.0014651,   0.0014651,   0.0014652,   0.0014542,   0.0014156,    0.001377,   0.0013384,   0.0012998,   0.0012612,   0.0012226,    0.001184,   0.0011453,   0.0011067,\n",
      "          0.0010681,   0.0010295,  0.00099086,  0.00092786,  0.00085126,  0.00077466,  0.00069805,  0.00062145,  0.00054483,  0.00048324,  0.00046299,  0.00044273,  0.00042248,  0.00040222,  0.00038197,  0.00036171,  0.00034146,   0.0003212,  0.00030095,  0.00028069,  0.00026044,  0.00024018,  0.00021993,\n",
      "         0.00019967,  0.00017942,  0.00015916,  0.00013891,  0.00011865,  9.8396e-05,  7.8141e-05,  5.7886e-05,  3.7631e-05,  1.7376e-05,           0,           0,           0,           0,           0,           0,           0,           0,           0,           0,           0,           0,           0,\n",
      "                  0,           0,           0,           0,           0,           0,           0,           0,           0,           0,           0,           0,           0,           0,           0,           0,           0,           0,           0,           0,           0,           0,           0,\n",
      "                  0,           0,           0,           0,           0,           0,           0,           0,           0,           0,           0,           0,           0,           0,           0,           0,           0,           0,           0,           0,           0,           0,           0,\n",
      "                  0,           0,           0,           0,           0,           0,           0,           0,           0,           0,           0,           0,           0,           0,           0,           0,           0,           0,           0,           0,           0,           0,           0,\n",
      "                  0,           0,           0,           0,           0,           0,           0,           0,           0,           0,           0,           0,           0,           0,           0,           0,           0,           0,           0,           0,           0,           0,           0,\n",
      "                  0,           0,           0,           0,           0,           0,           0,           0,           0,           0,           0,           0,           0,           0,           0,           0,           0,           0,           0,           0,           0,           0,           0,\n",
      "                  0,           0,           0,           0,           0,           0,           0,           0,           0,           0,           0,           0,           0,           0,           0,           0,           0,           0,           0,           0,           0,           0,           0,\n",
      "                  0,           0,           0,           0,           0,           0,           0,           0,           0,           0,           0,           0,           0,           0,           0,           0,           0,           0,           0,           0,           0,           0,           0,\n",
      "                  0,           0,           0,           0,           0,           0,           0,           0,           0,           0,           0,           0,           0,           0,           0,           0,           0,           0,           0,           0,           0,           0,           0,\n",
      "                  0,           0,           0,           0,           0,           0,           0,           0,           0,           0,           0,           0,           0,           0,           0,           0,           0,           0,           0,           0,           0,           0,           0,\n",
      "                  0,           0,           0,           0,           0,           0,           0,           0,           0,           0,           0,           0,           0,           0,           0,           0,           0,           0,           0,           0,           0,           0,           0,\n",
      "                  0,           0,           0,           0,           0,           0,           0,           0,           0,           0,           0,           0,           0,           0,           0,           0,           0,           0,           0,           0,           0,           0,           0,\n",
      "                  0,           0,           0,           0,           0,           0,           0,           0,           0,           0,           0,           0,           0,           0,           0,           0,           0,           0,           0,           0,           0,           0,           0,\n",
      "                  0,           0,           0,           0,           0,           0,           0,           0,           0,           0,           0,           0,           0,           0,           0,           0,           0,           0,           0,           0,           0,           0,           0,\n",
      "                  0,           0,           0,           0,           0,           0,           0,           0,           0,           0,           0,           0,           0,           0,           0,           0,           0,           0,           0,           0,           0,           0,           0,\n",
      "                  0,           0,           0,           0,           0,           0,           0,           0,           0,           0,           0,           0,           0,           0,           0,           0,           0,           0,           0,           0,           0,           0,           0,\n",
      "                  0,           0,           0,           0,           0,           0,           0,           0,           0,           0,           0]]), 'Confidence', 'F1'], [array([          0,    0.001001,    0.002002,    0.003003,    0.004004,    0.005005,    0.006006,    0.007007,    0.008008,    0.009009,     0.01001,    0.011011,    0.012012,    0.013013,    0.014014,    0.015015,    0.016016,    0.017017,    0.018018,    0.019019,     0.02002,    0.021021,    0.022022,    0.023023,\n",
      "          0.024024,    0.025025,    0.026026,    0.027027,    0.028028,    0.029029,     0.03003,    0.031031,    0.032032,    0.033033,    0.034034,    0.035035,    0.036036,    0.037037,    0.038038,    0.039039,     0.04004,    0.041041,    0.042042,    0.043043,    0.044044,    0.045045,    0.046046,    0.047047,\n",
      "          0.048048,    0.049049,     0.05005,    0.051051,    0.052052,    0.053053,    0.054054,    0.055055,    0.056056,    0.057057,    0.058058,    0.059059,     0.06006,    0.061061,    0.062062,    0.063063,    0.064064,    0.065065,    0.066066,    0.067067,    0.068068,    0.069069,     0.07007,    0.071071,\n",
      "          0.072072,    0.073073,    0.074074,    0.075075,    0.076076,    0.077077,    0.078078,    0.079079,     0.08008,    0.081081,    0.082082,    0.083083,    0.084084,    0.085085,    0.086086,    0.087087,    0.088088,    0.089089,     0.09009,    0.091091,    0.092092,    0.093093,    0.094094,    0.095095,\n",
      "          0.096096,    0.097097,    0.098098,    0.099099,      0.1001,      0.1011,      0.1021,      0.1031,      0.1041,     0.10511,     0.10611,     0.10711,     0.10811,     0.10911,     0.11011,     0.11111,     0.11211,     0.11311,     0.11411,     0.11512,     0.11612,     0.11712,     0.11812,     0.11912,\n",
      "           0.12012,     0.12112,     0.12212,     0.12312,     0.12412,     0.12513,     0.12613,     0.12713,     0.12813,     0.12913,     0.13013,     0.13113,     0.13213,     0.13313,     0.13413,     0.13514,     0.13614,     0.13714,     0.13814,     0.13914,     0.14014,     0.14114,     0.14214,     0.14314,\n",
      "           0.14414,     0.14515,     0.14615,     0.14715,     0.14815,     0.14915,     0.15015,     0.15115,     0.15215,     0.15315,     0.15415,     0.15516,     0.15616,     0.15716,     0.15816,     0.15916,     0.16016,     0.16116,     0.16216,     0.16316,     0.16416,     0.16517,     0.16617,     0.16717,\n",
      "           0.16817,     0.16917,     0.17017,     0.17117,     0.17217,     0.17317,     0.17417,     0.17518,     0.17618,     0.17718,     0.17818,     0.17918,     0.18018,     0.18118,     0.18218,     0.18318,     0.18418,     0.18519,     0.18619,     0.18719,     0.18819,     0.18919,     0.19019,     0.19119,\n",
      "           0.19219,     0.19319,     0.19419,      0.1952,      0.1962,      0.1972,      0.1982,      0.1992,      0.2002,      0.2012,      0.2022,      0.2032,      0.2042,     0.20521,     0.20621,     0.20721,     0.20821,     0.20921,     0.21021,     0.21121,     0.21221,     0.21321,     0.21421,     0.21522,\n",
      "           0.21622,     0.21722,     0.21822,     0.21922,     0.22022,     0.22122,     0.22222,     0.22322,     0.22422,     0.22523,     0.22623,     0.22723,     0.22823,     0.22923,     0.23023,     0.23123,     0.23223,     0.23323,     0.23423,     0.23524,     0.23624,     0.23724,     0.23824,     0.23924,\n",
      "           0.24024,     0.24124,     0.24224,     0.24324,     0.24424,     0.24525,     0.24625,     0.24725,     0.24825,     0.24925,     0.25025,     0.25125,     0.25225,     0.25325,     0.25425,     0.25526,     0.25626,     0.25726,     0.25826,     0.25926,     0.26026,     0.26126,     0.26226,     0.26326,\n",
      "           0.26426,     0.26527,     0.26627,     0.26727,     0.26827,     0.26927,     0.27027,     0.27127,     0.27227,     0.27327,     0.27427,     0.27528,     0.27628,     0.27728,     0.27828,     0.27928,     0.28028,     0.28128,     0.28228,     0.28328,     0.28428,     0.28529,     0.28629,     0.28729,\n",
      "           0.28829,     0.28929,     0.29029,     0.29129,     0.29229,     0.29329,     0.29429,      0.2953,      0.2963,      0.2973,      0.2983,      0.2993,      0.3003,      0.3013,      0.3023,      0.3033,      0.3043,     0.30531,     0.30631,     0.30731,     0.30831,     0.30931,     0.31031,     0.31131,\n",
      "           0.31231,     0.31331,     0.31431,     0.31532,     0.31632,     0.31732,     0.31832,     0.31932,     0.32032,     0.32132,     0.32232,     0.32332,     0.32432,     0.32533,     0.32633,     0.32733,     0.32833,     0.32933,     0.33033,     0.33133,     0.33233,     0.33333,     0.33433,     0.33534,\n",
      "           0.33634,     0.33734,     0.33834,     0.33934,     0.34034,     0.34134,     0.34234,     0.34334,     0.34434,     0.34535,     0.34635,     0.34735,     0.34835,     0.34935,     0.35035,     0.35135,     0.35235,     0.35335,     0.35435,     0.35536,     0.35636,     0.35736,     0.35836,     0.35936,\n",
      "           0.36036,     0.36136,     0.36236,     0.36336,     0.36436,     0.36537,     0.36637,     0.36737,     0.36837,     0.36937,     0.37037,     0.37137,     0.37237,     0.37337,     0.37437,     0.37538,     0.37638,     0.37738,     0.37838,     0.37938,     0.38038,     0.38138,     0.38238,     0.38338,\n",
      "           0.38438,     0.38539,     0.38639,     0.38739,     0.38839,     0.38939,     0.39039,     0.39139,     0.39239,     0.39339,     0.39439,      0.3954,      0.3964,      0.3974,      0.3984,      0.3994,      0.4004,      0.4014,      0.4024,      0.4034,      0.4044,     0.40541,     0.40641,     0.40741,\n",
      "           0.40841,     0.40941,     0.41041,     0.41141,     0.41241,     0.41341,     0.41441,     0.41542,     0.41642,     0.41742,     0.41842,     0.41942,     0.42042,     0.42142,     0.42242,     0.42342,     0.42442,     0.42543,     0.42643,     0.42743,     0.42843,     0.42943,     0.43043,     0.43143,\n",
      "           0.43243,     0.43343,     0.43443,     0.43544,     0.43644,     0.43744,     0.43844,     0.43944,     0.44044,     0.44144,     0.44244,     0.44344,     0.44444,     0.44545,     0.44645,     0.44745,     0.44845,     0.44945,     0.45045,     0.45145,     0.45245,     0.45345,     0.45445,     0.45546,\n",
      "           0.45646,     0.45746,     0.45846,     0.45946,     0.46046,     0.46146,     0.46246,     0.46346,     0.46446,     0.46547,     0.46647,     0.46747,     0.46847,     0.46947,     0.47047,     0.47147,     0.47247,     0.47347,     0.47447,     0.47548,     0.47648,     0.47748,     0.47848,     0.47948,\n",
      "           0.48048,     0.48148,     0.48248,     0.48348,     0.48448,     0.48549,     0.48649,     0.48749,     0.48849,     0.48949,     0.49049,     0.49149,     0.49249,     0.49349,     0.49449,      0.4955,      0.4965,      0.4975,      0.4985,      0.4995,      0.5005,      0.5015,      0.5025,      0.5035,\n",
      "            0.5045,     0.50551,     0.50651,     0.50751,     0.50851,     0.50951,     0.51051,     0.51151,     0.51251,     0.51351,     0.51451,     0.51552,     0.51652,     0.51752,     0.51852,     0.51952,     0.52052,     0.52152,     0.52252,     0.52352,     0.52452,     0.52553,     0.52653,     0.52753,\n",
      "           0.52853,     0.52953,     0.53053,     0.53153,     0.53253,     0.53353,     0.53453,     0.53554,     0.53654,     0.53754,     0.53854,     0.53954,     0.54054,     0.54154,     0.54254,     0.54354,     0.54454,     0.54555,     0.54655,     0.54755,     0.54855,     0.54955,     0.55055,     0.55155,\n",
      "           0.55255,     0.55355,     0.55455,     0.55556,     0.55656,     0.55756,     0.55856,     0.55956,     0.56056,     0.56156,     0.56256,     0.56356,     0.56456,     0.56557,     0.56657,     0.56757,     0.56857,     0.56957,     0.57057,     0.57157,     0.57257,     0.57357,     0.57457,     0.57558,\n",
      "           0.57658,     0.57758,     0.57858,     0.57958,     0.58058,     0.58158,     0.58258,     0.58358,     0.58458,     0.58559,     0.58659,     0.58759,     0.58859,     0.58959,     0.59059,     0.59159,     0.59259,     0.59359,     0.59459,      0.5956,      0.5966,      0.5976,      0.5986,      0.5996,\n",
      "            0.6006,      0.6016,      0.6026,      0.6036,      0.6046,     0.60561,     0.60661,     0.60761,     0.60861,     0.60961,     0.61061,     0.61161,     0.61261,     0.61361,     0.61461,     0.61562,     0.61662,     0.61762,     0.61862,     0.61962,     0.62062,     0.62162,     0.62262,     0.62362,\n",
      "           0.62462,     0.62563,     0.62663,     0.62763,     0.62863,     0.62963,     0.63063,     0.63163,     0.63263,     0.63363,     0.63463,     0.63564,     0.63664,     0.63764,     0.63864,     0.63964,     0.64064,     0.64164,     0.64264,     0.64364,     0.64464,     0.64565,     0.64665,     0.64765,\n",
      "           0.64865,     0.64965,     0.65065,     0.65165,     0.65265,     0.65365,     0.65465,     0.65566,     0.65666,     0.65766,     0.65866,     0.65966,     0.66066,     0.66166,     0.66266,     0.66366,     0.66466,     0.66567,     0.66667,     0.66767,     0.66867,     0.66967,     0.67067,     0.67167,\n",
      "           0.67267,     0.67367,     0.67467,     0.67568,     0.67668,     0.67768,     0.67868,     0.67968,     0.68068,     0.68168,     0.68268,     0.68368,     0.68468,     0.68569,     0.68669,     0.68769,     0.68869,     0.68969,     0.69069,     0.69169,     0.69269,     0.69369,     0.69469,      0.6957,\n",
      "            0.6967,      0.6977,      0.6987,      0.6997,      0.7007,      0.7017,      0.7027,      0.7037,      0.7047,     0.70571,     0.70671,     0.70771,     0.70871,     0.70971,     0.71071,     0.71171,     0.71271,     0.71371,     0.71471,     0.71572,     0.71672,     0.71772,     0.71872,     0.71972,\n",
      "           0.72072,     0.72172,     0.72272,     0.72372,     0.72472,     0.72573,     0.72673,     0.72773,     0.72873,     0.72973,     0.73073,     0.73173,     0.73273,     0.73373,     0.73473,     0.73574,     0.73674,     0.73774,     0.73874,     0.73974,     0.74074,     0.74174,     0.74274,     0.74374,\n",
      "           0.74474,     0.74575,     0.74675,     0.74775,     0.74875,     0.74975,     0.75075,     0.75175,     0.75275,     0.75375,     0.75475,     0.75576,     0.75676,     0.75776,     0.75876,     0.75976,     0.76076,     0.76176,     0.76276,     0.76376,     0.76476,     0.76577,     0.76677,     0.76777,\n",
      "           0.76877,     0.76977,     0.77077,     0.77177,     0.77277,     0.77377,     0.77477,     0.77578,     0.77678,     0.77778,     0.77878,     0.77978,     0.78078,     0.78178,     0.78278,     0.78378,     0.78478,     0.78579,     0.78679,     0.78779,     0.78879,     0.78979,     0.79079,     0.79179,\n",
      "           0.79279,     0.79379,     0.79479,      0.7958,      0.7968,      0.7978,      0.7988,      0.7998,      0.8008,      0.8018,      0.8028,      0.8038,      0.8048,     0.80581,     0.80681,     0.80781,     0.80881,     0.80981,     0.81081,     0.81181,     0.81281,     0.81381,     0.81481,     0.81582,\n",
      "           0.81682,     0.81782,     0.81882,     0.81982,     0.82082,     0.82182,     0.82282,     0.82382,     0.82482,     0.82583,     0.82683,     0.82783,     0.82883,     0.82983,     0.83083,     0.83183,     0.83283,     0.83383,     0.83483,     0.83584,     0.83684,     0.83784,     0.83884,     0.83984,\n",
      "           0.84084,     0.84184,     0.84284,     0.84384,     0.84484,     0.84585,     0.84685,     0.84785,     0.84885,     0.84985,     0.85085,     0.85185,     0.85285,     0.85385,     0.85485,     0.85586,     0.85686,     0.85786,     0.85886,     0.85986,     0.86086,     0.86186,     0.86286,     0.86386,\n",
      "           0.86486,     0.86587,     0.86687,     0.86787,     0.86887,     0.86987,     0.87087,     0.87187,     0.87287,     0.87387,     0.87487,     0.87588,     0.87688,     0.87788,     0.87888,     0.87988,     0.88088,     0.88188,     0.88288,     0.88388,     0.88488,     0.88589,     0.88689,     0.88789,\n",
      "           0.88889,     0.88989,     0.89089,     0.89189,     0.89289,     0.89389,     0.89489,      0.8959,      0.8969,      0.8979,      0.8989,      0.8999,      0.9009,      0.9019,      0.9029,      0.9039,      0.9049,     0.90591,     0.90691,     0.90791,     0.90891,     0.90991,     0.91091,     0.91191,\n",
      "           0.91291,     0.91391,     0.91491,     0.91592,     0.91692,     0.91792,     0.91892,     0.91992,     0.92092,     0.92192,     0.92292,     0.92392,     0.92492,     0.92593,     0.92693,     0.92793,     0.92893,     0.92993,     0.93093,     0.93193,     0.93293,     0.93393,     0.93493,     0.93594,\n",
      "           0.93694,     0.93794,     0.93894,     0.93994,     0.94094,     0.94194,     0.94294,     0.94394,     0.94494,     0.94595,     0.94695,     0.94795,     0.94895,     0.94995,     0.95095,     0.95195,     0.95295,     0.95395,     0.95495,     0.95596,     0.95696,     0.95796,     0.95896,     0.95996,\n",
      "           0.96096,     0.96196,     0.96296,     0.96396,     0.96496,     0.96597,     0.96697,     0.96797,     0.96897,     0.96997,     0.97097,     0.97197,     0.97297,     0.97397,     0.97497,     0.97598,     0.97698,     0.97798,     0.97898,     0.97998,     0.98098,     0.98198,     0.98298,     0.98398,\n",
      "           0.98498,     0.98599,     0.98699,     0.98799,     0.98899,     0.98999,     0.99099,     0.99199,     0.99299,     0.99399,     0.99499,       0.996,       0.997,       0.998,       0.999,           1]), array([[    0.10122,     0.10127,      0.1455,     0.17463,     0.19502,     0.20997,     0.22021,     0.22649,     0.23143,     0.23565,      0.2392,     0.24229,     0.24454,     0.24689,     0.24897,      0.2506,     0.25213,      0.2534,     0.25459,     0.25566,     0.25714,     0.25871,     0.26052,\n",
      "            0.26306,     0.26713,     0.27073,      0.2733,     0.27545,      0.2772,     0.27865,     0.28052,      0.2823,     0.28378,     0.28528,     0.28635,     0.28767,     0.28852,     0.28982,     0.29119,     0.29221,     0.29358,       0.295,      0.2967,     0.29849,     0.29991,     0.30122,\n",
      "             0.3023,     0.30322,     0.30398,     0.30467,      0.3052,     0.30576,     0.30668,     0.30726,     0.30793,     0.30837,      0.3089,     0.30951,     0.31023,     0.31114,     0.31199,     0.31264,     0.31323,     0.31401,     0.31474,      0.3152,     0.31579,     0.31644,     0.31699,\n",
      "            0.31739,     0.31811,     0.31873,     0.31927,        0.32,     0.32057,     0.32128,     0.32214,     0.32271,     0.32332,     0.32399,     0.32455,     0.32495,     0.32539,     0.32615,     0.32669,     0.32715,     0.32776,      0.3285,     0.32876,     0.32942,     0.33005,     0.33073,\n",
      "             0.3317,     0.33209,     0.33238,     0.33295,     0.33375,     0.33472,     0.33532,     0.33582,     0.33612,     0.33672,     0.33709,     0.33773,     0.33862,     0.33902,     0.33975,     0.34036,     0.34096,     0.34185,      0.3419,     0.34208,     0.34258,     0.34286,     0.34404,\n",
      "            0.34436,      0.3446,     0.34508,     0.34546,     0.34559,     0.34626,     0.34646,     0.34668,     0.34736,      0.3483,     0.34842,     0.34911,     0.34956,     0.35055,      0.3506,      0.3514,     0.35175,     0.35251,      0.3534,     0.35402,     0.35433,     0.35534,     0.35601,\n",
      "             0.3562,     0.35726,     0.35833,     0.35902,     0.35977,     0.36078,     0.36129,     0.36177,     0.36265,     0.36375,     0.36439,     0.36467,     0.36601,     0.36715,     0.36708,     0.36788,     0.36765,     0.36792,      0.3687,     0.36974,     0.37023,     0.37112,     0.37199,\n",
      "             0.3727,      0.3737,     0.37333,     0.37535,      0.3757,       0.377,     0.37751,     0.37835,     0.37914,     0.37963,     0.38039,     0.38101,      0.3823,     0.38351,     0.38461,     0.38583,     0.38631,     0.38623,     0.38732,     0.38896,     0.39022,     0.39143,     0.39209,\n",
      "            0.39336,     0.39442,     0.39479,     0.39549,     0.39598,      0.3968,      0.3978,     0.39803,     0.39859,     0.39959,     0.40061,     0.40111,     0.40295,     0.40391,     0.40518,     0.40648,     0.40748,     0.40862,     0.40941,     0.40977,     0.41115,      0.4119,     0.41252,\n",
      "            0.41259,     0.41367,     0.41475,     0.41663,     0.41875,     0.42062,     0.42205,       0.424,     0.42492,     0.42592,     0.42716,      0.4287,     0.43039,     0.43168,     0.43233,     0.43295,     0.43433,     0.43576,     0.43611,     0.43808,     0.43827,     0.43815,     0.43896,\n",
      "            0.43803,     0.43982,      0.4394,     0.43996,      0.4407,     0.44274,     0.44413,       0.446,     0.44715,     0.44755,      0.4499,     0.45092,     0.45213,     0.45239,     0.45312,     0.45381,      0.4548,     0.45502,     0.45647,     0.45849,     0.45904,     0.46123,     0.46183,\n",
      "            0.46394,       0.465,     0.46662,     0.46842,       0.469,     0.47063,     0.46902,     0.47016,     0.47137,     0.47207,      0.4737,     0.47442,     0.47476,     0.47475,      0.4766,       0.478,     0.47857,     0.48067,     0.48126,     0.48262,     0.48394,     0.48512,      0.4844,\n",
      "            0.48634,       0.486,     0.48749,     0.48785,     0.48955,     0.48911,     0.48939,      0.4871,     0.48805,     0.48838,     0.48929,     0.49001,     0.49168,     0.49264,      0.4947,     0.49536,     0.49565,     0.49622,     0.49706,     0.49599,     0.49759,     0.49835,     0.49923,\n",
      "            0.49931,     0.50175,      0.5018,     0.50096,     0.50189,     0.50211,     0.50137,     0.50306,     0.50066,     0.50153,     0.50096,     0.50095,     0.50224,     0.50462,     0.50348,     0.50481,     0.50402,     0.50509,     0.50553,     0.50981,     0.51176,     0.51396,     0.51874,\n",
      "            0.52049,     0.51806,     0.52342,     0.52455,     0.52234,     0.52451,     0.52337,     0.52641,     0.52715,      0.5303,     0.53085,     0.53045,     0.53235,     0.53443,     0.53598,     0.54154,     0.54267,     0.54591,     0.54769,     0.54867,     0.55269,     0.55179,     0.55046,\n",
      "            0.55406,     0.55603,     0.55609,     0.55563,     0.55546,     0.55397,     0.55265,     0.55179,     0.55335,     0.55563,     0.55232,     0.55407,     0.55823,     0.56222,     0.56716,     0.56684,     0.56779,     0.56746,     0.56735,     0.56749,     0.57126,     0.56919,     0.57051,\n",
      "            0.56893,     0.56716,     0.56796,      0.5699,     0.56821,     0.56823,     0.56696,     0.56919,     0.56537,      0.5668,      0.5645,     0.56236,     0.56207,     0.56501,     0.56826,     0.56489,     0.56603,     0.56616,     0.56696,      0.5699,     0.57176,     0.57416,     0.57047,\n",
      "            0.56923,     0.56886,     0.57201,     0.57314,     0.57383,     0.57296,     0.57192,     0.56953,     0.56899,     0.57153,     0.56742,     0.57261,     0.57904,     0.57687,     0.57897,     0.57963,     0.57966,     0.58005,     0.58247,     0.57955,      0.5774,     0.58009,     0.58076,\n",
      "             0.5714,     0.56824,     0.56626,     0.57088,     0.57214,     0.56721,      0.5637,     0.56467,      0.5667,     0.57505,     0.57775,     0.57589,     0.57774,     0.58032,      0.5793,     0.57178,     0.57773,     0.57904,     0.57899,     0.58506,     0.59218,     0.58705,     0.58699,\n",
      "            0.58602,     0.57955,     0.58148,     0.58037,     0.57835,     0.58282,     0.58224,     0.58029,     0.58023,     0.58015,     0.57275,     0.58203,     0.59012,      0.5875,     0.58832,     0.58202,     0.58012,     0.58896,     0.58613,     0.58459,     0.57931,     0.57288,     0.57194,\n",
      "             0.5757,     0.58224,     0.59597,      0.5988,     0.59641,     0.60791,     0.60622,     0.60153,     0.60656,     0.60327,     0.61638,     0.62361,     0.63808,     0.63143,      0.6269,     0.64344,     0.63916,     0.63691,     0.63115,     0.62463,     0.62096,     0.61646,     0.59542,\n",
      "            0.61386,     0.60875,     0.61561,     0.61871,     0.62182,     0.62492,     0.61366,     0.61327,     0.61593,     0.63062,        0.62,     0.62834,     0.62152,     0.61646,     0.62413,     0.62421,     0.63157,     0.62976,     0.63825,     0.63344,     0.63491,     0.62823,     0.63818,\n",
      "            0.63944,      0.6305,     0.63903,      0.6339,     0.62877,     0.62364,     0.63396,     0.63544,     0.64672,     0.65381,     0.66077,     0.66266,     0.63906,     0.63056,     0.62578,     0.62101,     0.60948,     0.59592,     0.58503,     0.57561,     0.56845,     0.56129,     0.54606,\n",
      "            0.52095,     0.51421,     0.50748,     0.50075,     0.48434,     0.47975,     0.48637,     0.49299,     0.49962,     0.50904,     0.51864,     0.51929,     0.50396,     0.51272,     0.52148,     0.52018,     0.52564,     0.50355,     0.46533,     0.45568,     0.44924,     0.44279,     0.43635,\n",
      "             0.4299,     0.42346,     0.41701,     0.45683,      0.4682,     0.47957,     0.49094,     0.50803,     0.54745,      0.5503,     0.54369,     0.53708,     0.53047,     0.52386,     0.51725,     0.51064,     0.50403,      0.5066,     0.52349,     0.54039,     0.55728,     0.57505,     0.59731,\n",
      "            0.61957,     0.64183,     0.66408,     0.62915,      0.6052,     0.62181,     0.63843,     0.65504,     0.67165,     0.68826,     0.70488,     0.72149,      0.7381,     0.74813,     0.74154,     0.73494,     0.72835,     0.72176,     0.71517,     0.70858,     0.70199,     0.69539,      0.6888,\n",
      "            0.68221,     0.67562,     0.66903,     0.64988,     0.62374,      0.5976,     0.57146,     0.54532,     0.51917,     0.49448,     0.47375,     0.45302,      0.4323,     0.41157,     0.39085,     0.37012,     0.34939,     0.32867,     0.30794,     0.28722,     0.26649,     0.24576,     0.22504,\n",
      "            0.20431,     0.18359,     0.16286,     0.14214,     0.12141,     0.10068,    0.079957,    0.059232,    0.038506,     0.01778,           1,           1,           1,           1,           1,           1,           1,           1,           1,           1,           1,           1,           1,\n",
      "                  1,           1,           1,           1,           1,           1,           1,           1,           1,           1,           1,           1,           1,           1,           1,           1,           1,           1,           1,           1,           1,           1,           1,\n",
      "                  1,           1,           1,           1,           1,           1,           1,           1,           1,           1,           1,           1,           1,           1,           1,           1,           1,           1,           1,           1,           1,           1,           1,\n",
      "                  1,           1,           1,           1,           1,           1,           1,           1,           1,           1,           1,           1,           1,           1,           1,           1,           1,           1,           1,           1,           1,           1,           1,\n",
      "                  1,           1,           1,           1,           1,           1,           1,           1,           1,           1,           1,           1,           1,           1,           1,           1,           1,           1,           1,           1,           1,           1,           1,\n",
      "                  1,           1,           1,           1,           1,           1,           1,           1,           1,           1,           1,           1,           1,           1,           1,           1,           1,           1,           1,           1,           1,           1,           1,\n",
      "                  1,           1,           1,           1,           1,           1,           1,           1,           1,           1,           1,           1,           1,           1,           1,           1,           1,           1,           1,           1,           1,           1,           1,\n",
      "                  1,           1,           1,           1,           1,           1,           1,           1,           1,           1,           1,           1,           1,           1,           1,           1,           1,           1,           1,           1,           1,           1,           1,\n",
      "                  1,           1,           1,           1,           1,           1,           1,           1,           1,           1,           1,           1,           1,           1,           1,           1,           1,           1,           1,           1,           1,           1,           1,\n",
      "                  1,           1,           1,           1,           1,           1,           1,           1,           1,           1,           1,           1,           1,           1,           1,           1,           1,           1,           1,           1,           1,           1,           1,\n",
      "                  1,           1,           1,           1,           1,           1,           1,           1,           1,           1,           1,           1,           1,           1,           1,           1,           1,           1,           1,           1,           1,           1,           1,\n",
      "                  1,           1,           1,           1,           1,           1,           1,           1,           1,           1,           1,           1,           1,           1,           1,           1,           1,           1,           1,           1,           1,           1,           1,\n",
      "                  1,           1,           1,           1,           1,           1,           1,           1,           1,           1,           1,           1,           1,           1,           1,           1,           1,           1,           1,           1,           1,           1,           1,\n",
      "                  1,           1,           1,           1,           1,           1,           1,           1,           1,           1,           1,           1,           1,           1,           1,           1,           1,           1,           1,           1,           1,           1,           1,\n",
      "                  1,           1,           1,           1,           1,           1,           1,           1,           1,           1,           1,           1,           1,           1,           1,           1,           1,           1,           1,           1,           1,           1,           1,\n",
      "                  1,           1,           1,           1,           1,           1,           1,           1,           1,           1,           1,           1,           1,           1,           1,           1,           1,           1,           1,           1,           1,           1,           1,\n",
      "                  1,           1,           1,           1,           1,           1,           1,           1,           1,           1,           1]]), 'Confidence', 'Precision'], [array([          0,    0.001001,    0.002002,    0.003003,    0.004004,    0.005005,    0.006006,    0.007007,    0.008008,    0.009009,     0.01001,    0.011011,    0.012012,    0.013013,    0.014014,    0.015015,    0.016016,    0.017017,    0.018018,    0.019019,     0.02002,    0.021021,    0.022022,    0.023023,\n",
      "          0.024024,    0.025025,    0.026026,    0.027027,    0.028028,    0.029029,     0.03003,    0.031031,    0.032032,    0.033033,    0.034034,    0.035035,    0.036036,    0.037037,    0.038038,    0.039039,     0.04004,    0.041041,    0.042042,    0.043043,    0.044044,    0.045045,    0.046046,    0.047047,\n",
      "          0.048048,    0.049049,     0.05005,    0.051051,    0.052052,    0.053053,    0.054054,    0.055055,    0.056056,    0.057057,    0.058058,    0.059059,     0.06006,    0.061061,    0.062062,    0.063063,    0.064064,    0.065065,    0.066066,    0.067067,    0.068068,    0.069069,     0.07007,    0.071071,\n",
      "          0.072072,    0.073073,    0.074074,    0.075075,    0.076076,    0.077077,    0.078078,    0.079079,     0.08008,    0.081081,    0.082082,    0.083083,    0.084084,    0.085085,    0.086086,    0.087087,    0.088088,    0.089089,     0.09009,    0.091091,    0.092092,    0.093093,    0.094094,    0.095095,\n",
      "          0.096096,    0.097097,    0.098098,    0.099099,      0.1001,      0.1011,      0.1021,      0.1031,      0.1041,     0.10511,     0.10611,     0.10711,     0.10811,     0.10911,     0.11011,     0.11111,     0.11211,     0.11311,     0.11411,     0.11512,     0.11612,     0.11712,     0.11812,     0.11912,\n",
      "           0.12012,     0.12112,     0.12212,     0.12312,     0.12412,     0.12513,     0.12613,     0.12713,     0.12813,     0.12913,     0.13013,     0.13113,     0.13213,     0.13313,     0.13413,     0.13514,     0.13614,     0.13714,     0.13814,     0.13914,     0.14014,     0.14114,     0.14214,     0.14314,\n",
      "           0.14414,     0.14515,     0.14615,     0.14715,     0.14815,     0.14915,     0.15015,     0.15115,     0.15215,     0.15315,     0.15415,     0.15516,     0.15616,     0.15716,     0.15816,     0.15916,     0.16016,     0.16116,     0.16216,     0.16316,     0.16416,     0.16517,     0.16617,     0.16717,\n",
      "           0.16817,     0.16917,     0.17017,     0.17117,     0.17217,     0.17317,     0.17417,     0.17518,     0.17618,     0.17718,     0.17818,     0.17918,     0.18018,     0.18118,     0.18218,     0.18318,     0.18418,     0.18519,     0.18619,     0.18719,     0.18819,     0.18919,     0.19019,     0.19119,\n",
      "           0.19219,     0.19319,     0.19419,      0.1952,      0.1962,      0.1972,      0.1982,      0.1992,      0.2002,      0.2012,      0.2022,      0.2032,      0.2042,     0.20521,     0.20621,     0.20721,     0.20821,     0.20921,     0.21021,     0.21121,     0.21221,     0.21321,     0.21421,     0.21522,\n",
      "           0.21622,     0.21722,     0.21822,     0.21922,     0.22022,     0.22122,     0.22222,     0.22322,     0.22422,     0.22523,     0.22623,     0.22723,     0.22823,     0.22923,     0.23023,     0.23123,     0.23223,     0.23323,     0.23423,     0.23524,     0.23624,     0.23724,     0.23824,     0.23924,\n",
      "           0.24024,     0.24124,     0.24224,     0.24324,     0.24424,     0.24525,     0.24625,     0.24725,     0.24825,     0.24925,     0.25025,     0.25125,     0.25225,     0.25325,     0.25425,     0.25526,     0.25626,     0.25726,     0.25826,     0.25926,     0.26026,     0.26126,     0.26226,     0.26326,\n",
      "           0.26426,     0.26527,     0.26627,     0.26727,     0.26827,     0.26927,     0.27027,     0.27127,     0.27227,     0.27327,     0.27427,     0.27528,     0.27628,     0.27728,     0.27828,     0.27928,     0.28028,     0.28128,     0.28228,     0.28328,     0.28428,     0.28529,     0.28629,     0.28729,\n",
      "           0.28829,     0.28929,     0.29029,     0.29129,     0.29229,     0.29329,     0.29429,      0.2953,      0.2963,      0.2973,      0.2983,      0.2993,      0.3003,      0.3013,      0.3023,      0.3033,      0.3043,     0.30531,     0.30631,     0.30731,     0.30831,     0.30931,     0.31031,     0.31131,\n",
      "           0.31231,     0.31331,     0.31431,     0.31532,     0.31632,     0.31732,     0.31832,     0.31932,     0.32032,     0.32132,     0.32232,     0.32332,     0.32432,     0.32533,     0.32633,     0.32733,     0.32833,     0.32933,     0.33033,     0.33133,     0.33233,     0.33333,     0.33433,     0.33534,\n",
      "           0.33634,     0.33734,     0.33834,     0.33934,     0.34034,     0.34134,     0.34234,     0.34334,     0.34434,     0.34535,     0.34635,     0.34735,     0.34835,     0.34935,     0.35035,     0.35135,     0.35235,     0.35335,     0.35435,     0.35536,     0.35636,     0.35736,     0.35836,     0.35936,\n",
      "           0.36036,     0.36136,     0.36236,     0.36336,     0.36436,     0.36537,     0.36637,     0.36737,     0.36837,     0.36937,     0.37037,     0.37137,     0.37237,     0.37337,     0.37437,     0.37538,     0.37638,     0.37738,     0.37838,     0.37938,     0.38038,     0.38138,     0.38238,     0.38338,\n",
      "           0.38438,     0.38539,     0.38639,     0.38739,     0.38839,     0.38939,     0.39039,     0.39139,     0.39239,     0.39339,     0.39439,      0.3954,      0.3964,      0.3974,      0.3984,      0.3994,      0.4004,      0.4014,      0.4024,      0.4034,      0.4044,     0.40541,     0.40641,     0.40741,\n",
      "           0.40841,     0.40941,     0.41041,     0.41141,     0.41241,     0.41341,     0.41441,     0.41542,     0.41642,     0.41742,     0.41842,     0.41942,     0.42042,     0.42142,     0.42242,     0.42342,     0.42442,     0.42543,     0.42643,     0.42743,     0.42843,     0.42943,     0.43043,     0.43143,\n",
      "           0.43243,     0.43343,     0.43443,     0.43544,     0.43644,     0.43744,     0.43844,     0.43944,     0.44044,     0.44144,     0.44244,     0.44344,     0.44444,     0.44545,     0.44645,     0.44745,     0.44845,     0.44945,     0.45045,     0.45145,     0.45245,     0.45345,     0.45445,     0.45546,\n",
      "           0.45646,     0.45746,     0.45846,     0.45946,     0.46046,     0.46146,     0.46246,     0.46346,     0.46446,     0.46547,     0.46647,     0.46747,     0.46847,     0.46947,     0.47047,     0.47147,     0.47247,     0.47347,     0.47447,     0.47548,     0.47648,     0.47748,     0.47848,     0.47948,\n",
      "           0.48048,     0.48148,     0.48248,     0.48348,     0.48448,     0.48549,     0.48649,     0.48749,     0.48849,     0.48949,     0.49049,     0.49149,     0.49249,     0.49349,     0.49449,      0.4955,      0.4965,      0.4975,      0.4985,      0.4995,      0.5005,      0.5015,      0.5025,      0.5035,\n",
      "            0.5045,     0.50551,     0.50651,     0.50751,     0.50851,     0.50951,     0.51051,     0.51151,     0.51251,     0.51351,     0.51451,     0.51552,     0.51652,     0.51752,     0.51852,     0.51952,     0.52052,     0.52152,     0.52252,     0.52352,     0.52452,     0.52553,     0.52653,     0.52753,\n",
      "           0.52853,     0.52953,     0.53053,     0.53153,     0.53253,     0.53353,     0.53453,     0.53554,     0.53654,     0.53754,     0.53854,     0.53954,     0.54054,     0.54154,     0.54254,     0.54354,     0.54454,     0.54555,     0.54655,     0.54755,     0.54855,     0.54955,     0.55055,     0.55155,\n",
      "           0.55255,     0.55355,     0.55455,     0.55556,     0.55656,     0.55756,     0.55856,     0.55956,     0.56056,     0.56156,     0.56256,     0.56356,     0.56456,     0.56557,     0.56657,     0.56757,     0.56857,     0.56957,     0.57057,     0.57157,     0.57257,     0.57357,     0.57457,     0.57558,\n",
      "           0.57658,     0.57758,     0.57858,     0.57958,     0.58058,     0.58158,     0.58258,     0.58358,     0.58458,     0.58559,     0.58659,     0.58759,     0.58859,     0.58959,     0.59059,     0.59159,     0.59259,     0.59359,     0.59459,      0.5956,      0.5966,      0.5976,      0.5986,      0.5996,\n",
      "            0.6006,      0.6016,      0.6026,      0.6036,      0.6046,     0.60561,     0.60661,     0.60761,     0.60861,     0.60961,     0.61061,     0.61161,     0.61261,     0.61361,     0.61461,     0.61562,     0.61662,     0.61762,     0.61862,     0.61962,     0.62062,     0.62162,     0.62262,     0.62362,\n",
      "           0.62462,     0.62563,     0.62663,     0.62763,     0.62863,     0.62963,     0.63063,     0.63163,     0.63263,     0.63363,     0.63463,     0.63564,     0.63664,     0.63764,     0.63864,     0.63964,     0.64064,     0.64164,     0.64264,     0.64364,     0.64464,     0.64565,     0.64665,     0.64765,\n",
      "           0.64865,     0.64965,     0.65065,     0.65165,     0.65265,     0.65365,     0.65465,     0.65566,     0.65666,     0.65766,     0.65866,     0.65966,     0.66066,     0.66166,     0.66266,     0.66366,     0.66466,     0.66567,     0.66667,     0.66767,     0.66867,     0.66967,     0.67067,     0.67167,\n",
      "           0.67267,     0.67367,     0.67467,     0.67568,     0.67668,     0.67768,     0.67868,     0.67968,     0.68068,     0.68168,     0.68268,     0.68368,     0.68468,     0.68569,     0.68669,     0.68769,     0.68869,     0.68969,     0.69069,     0.69169,     0.69269,     0.69369,     0.69469,      0.6957,\n",
      "            0.6967,      0.6977,      0.6987,      0.6997,      0.7007,      0.7017,      0.7027,      0.7037,      0.7047,     0.70571,     0.70671,     0.70771,     0.70871,     0.70971,     0.71071,     0.71171,     0.71271,     0.71371,     0.71471,     0.71572,     0.71672,     0.71772,     0.71872,     0.71972,\n",
      "           0.72072,     0.72172,     0.72272,     0.72372,     0.72472,     0.72573,     0.72673,     0.72773,     0.72873,     0.72973,     0.73073,     0.73173,     0.73273,     0.73373,     0.73473,     0.73574,     0.73674,     0.73774,     0.73874,     0.73974,     0.74074,     0.74174,     0.74274,     0.74374,\n",
      "           0.74474,     0.74575,     0.74675,     0.74775,     0.74875,     0.74975,     0.75075,     0.75175,     0.75275,     0.75375,     0.75475,     0.75576,     0.75676,     0.75776,     0.75876,     0.75976,     0.76076,     0.76176,     0.76276,     0.76376,     0.76476,     0.76577,     0.76677,     0.76777,\n",
      "           0.76877,     0.76977,     0.77077,     0.77177,     0.77277,     0.77377,     0.77477,     0.77578,     0.77678,     0.77778,     0.77878,     0.77978,     0.78078,     0.78178,     0.78278,     0.78378,     0.78478,     0.78579,     0.78679,     0.78779,     0.78879,     0.78979,     0.79079,     0.79179,\n",
      "           0.79279,     0.79379,     0.79479,      0.7958,      0.7968,      0.7978,      0.7988,      0.7998,      0.8008,      0.8018,      0.8028,      0.8038,      0.8048,     0.80581,     0.80681,     0.80781,     0.80881,     0.80981,     0.81081,     0.81181,     0.81281,     0.81381,     0.81481,     0.81582,\n",
      "           0.81682,     0.81782,     0.81882,     0.81982,     0.82082,     0.82182,     0.82282,     0.82382,     0.82482,     0.82583,     0.82683,     0.82783,     0.82883,     0.82983,     0.83083,     0.83183,     0.83283,     0.83383,     0.83483,     0.83584,     0.83684,     0.83784,     0.83884,     0.83984,\n",
      "           0.84084,     0.84184,     0.84284,     0.84384,     0.84484,     0.84585,     0.84685,     0.84785,     0.84885,     0.84985,     0.85085,     0.85185,     0.85285,     0.85385,     0.85485,     0.85586,     0.85686,     0.85786,     0.85886,     0.85986,     0.86086,     0.86186,     0.86286,     0.86386,\n",
      "           0.86486,     0.86587,     0.86687,     0.86787,     0.86887,     0.86987,     0.87087,     0.87187,     0.87287,     0.87387,     0.87487,     0.87588,     0.87688,     0.87788,     0.87888,     0.87988,     0.88088,     0.88188,     0.88288,     0.88388,     0.88488,     0.88589,     0.88689,     0.88789,\n",
      "           0.88889,     0.88989,     0.89089,     0.89189,     0.89289,     0.89389,     0.89489,      0.8959,      0.8969,      0.8979,      0.8989,      0.8999,      0.9009,      0.9019,      0.9029,      0.9039,      0.9049,     0.90591,     0.90691,     0.90791,     0.90891,     0.90991,     0.91091,     0.91191,\n",
      "           0.91291,     0.91391,     0.91491,     0.91592,     0.91692,     0.91792,     0.91892,     0.91992,     0.92092,     0.92192,     0.92292,     0.92392,     0.92492,     0.92593,     0.92693,     0.92793,     0.92893,     0.92993,     0.93093,     0.93193,     0.93293,     0.93393,     0.93493,     0.93594,\n",
      "           0.93694,     0.93794,     0.93894,     0.93994,     0.94094,     0.94194,     0.94294,     0.94394,     0.94494,     0.94595,     0.94695,     0.94795,     0.94895,     0.94995,     0.95095,     0.95195,     0.95295,     0.95395,     0.95495,     0.95596,     0.95696,     0.95796,     0.95896,     0.95996,\n",
      "           0.96096,     0.96196,     0.96296,     0.96396,     0.96496,     0.96597,     0.96697,     0.96797,     0.96897,     0.96997,     0.97097,     0.97197,     0.97297,     0.97397,     0.97497,     0.97598,     0.97698,     0.97798,     0.97898,     0.97998,     0.98098,     0.98198,     0.98298,     0.98398,\n",
      "           0.98498,     0.98599,     0.98699,     0.98799,     0.98899,     0.98999,     0.99099,     0.99199,     0.99299,     0.99399,     0.99499,       0.996,       0.997,       0.998,       0.999,           1]), array([[    0.98436,     0.98436,     0.98264,      0.9824,     0.98216,     0.98167,     0.98142,     0.98093,     0.98069,     0.98044,     0.98044,     0.98044,      0.9802,     0.97996,     0.97971,     0.97922,     0.97898,     0.97873,     0.97824,     0.97751,     0.97751,     0.97678,     0.97604,\n",
      "            0.97507,     0.97311,     0.97189,     0.97042,     0.96993,      0.9692,     0.96822,     0.96798,     0.96749,       0.967,     0.96651,     0.96578,      0.9648,     0.96309,      0.9626,     0.96187,     0.96089,      0.9604,     0.95893,     0.95771,     0.95722,     0.95698,     0.95673,\n",
      "              0.956,     0.95551,     0.95551,     0.95478,      0.9538,     0.95233,     0.95209,     0.95111,     0.95062,     0.94965,     0.94891,     0.94793,      0.9472,      0.9472,     0.94696,     0.94671,     0.94549,     0.94525,       0.945,     0.94476,     0.94402,      0.9428,     0.94158,\n",
      "            0.94061,     0.93962,      0.9384,     0.93718,     0.93596,     0.93498,     0.93449,     0.93351,     0.93278,     0.93229,      0.9318,     0.93131,     0.92985,     0.92838,     0.92765,     0.92652,     0.92545,     0.92374,     0.92292,     0.92154,      0.9208,     0.91958,     0.91762,\n",
      "             0.9164,     0.91469,     0.91274,     0.91127,     0.91005,     0.90931,     0.90785,     0.90589,     0.90345,     0.90198,     0.89905,     0.89782,     0.89685,      0.8944,     0.89305,     0.89171,     0.88951,     0.88805,     0.88511,     0.88205,     0.87979,     0.87729,     0.87509,\n",
      "            0.87118,     0.86804,     0.86605,     0.86336,     0.85994,     0.85774,     0.85358,     0.84946,     0.84681,     0.84486,     0.83989,     0.83769,     0.83574,      0.8341,     0.82914,     0.82624,     0.82376,     0.82009,     0.81643,     0.81374,     0.80983,     0.80812,     0.80494,\n",
      "            0.79883,      0.7954,     0.79307,     0.79027,     0.78685,     0.78416,     0.78049,     0.77732,     0.77316,     0.77072,     0.76705,     0.76314,     0.76069,     0.75727,     0.75207,     0.74885,     0.74261,     0.73845,     0.73381,     0.72989,     0.72427,     0.72036,     0.71792,\n",
      "            0.71327,      0.7101,     0.70423,     0.70196,     0.69812,     0.69518,     0.69103,      0.6859,     0.68247,     0.67758,     0.67184,     0.66879,      0.6652,     0.66145,     0.65852,     0.65616,     0.65021,     0.64556,      0.6419,     0.63921,     0.63603,     0.63187,     0.62764,\n",
      "            0.62356,     0.61883,      0.6133,     0.61012,     0.60478,     0.59961,      0.5957,     0.59074,     0.58739,     0.58372,     0.57997,     0.57516,     0.57248,     0.56905,     0.56588,     0.56148,     0.55708,     0.55414,     0.54999,     0.54608,     0.54241,     0.53899,     0.53532,\n",
      "             0.5319,     0.52677,     0.52298,     0.52017,     0.51633,     0.51332,     0.50945,     0.50623,     0.50257,     0.49871,     0.49474,     0.49206,     0.48907,     0.48384,     0.48032,      0.4776,     0.47348,     0.47128,     0.46713,     0.46479,     0.45979,     0.45417,     0.45026,\n",
      "            0.44512,     0.44141,      0.4373,     0.43388,     0.43046,     0.42801,     0.42557,     0.42117,     0.41701,     0.41209,      0.4087,     0.40529,     0.40324,     0.39966,     0.39575,     0.39135,      0.3889,     0.38572,     0.38377,     0.38123,     0.37814,     0.37595,     0.37253,\n",
      "             0.3691,      0.3669,     0.36373,     0.36164,     0.35835,     0.35517,     0.35108,     0.34748,      0.3449,     0.34148,     0.33977,     0.33604,     0.33275,     0.32853,     0.32657,     0.32388,     0.31973,     0.31742,     0.31435,     0.31125,      0.3097,     0.30653,     0.30268,\n",
      "            0.30017,     0.29676,     0.29366,     0.29012,     0.28599,     0.28246,      0.2802,     0.27548,     0.27255,     0.26974,     0.26644,     0.26424,     0.26082,     0.25911,     0.25739,     0.25446,     0.25079,     0.24737,     0.24468,     0.24176,     0.23798,     0.23603,     0.23393,\n",
      "            0.23148,     0.22967,     0.22676,     0.22366,     0.22171,     0.21902,     0.21531,     0.21291,     0.20906,     0.20557,     0.20166,     0.19848,      0.1958,     0.19372,     0.19066,     0.18871,      0.1858,     0.18357,     0.18137,     0.17917,     0.17624,      0.1737,     0.17233,\n",
      "            0.16989,     0.16671,     0.16537,     0.16316,     0.15905,     0.15693,     0.15497,     0.15351,     0.15179,     0.15033,     0.14764,      0.1447,       0.143,     0.14226,     0.14031,     0.13909,     0.13689,     0.13493,     0.13378,     0.13134,     0.13029,     0.12882,     0.12564,\n",
      "            0.12491,     0.12337,     0.12156,     0.12012,     0.11851,     0.11562,     0.11342,     0.11098,     0.10951,     0.10789,     0.10535,     0.10417,     0.10316,     0.10171,      0.1012,    0.099803,    0.098753,    0.097487,    0.096309,    0.095256,    0.094452,    0.093013,    0.091241,\n",
      "           0.089709,    0.087998,    0.087265,    0.085832,    0.084919,    0.084283,     0.08262,    0.082132,    0.079932,    0.079198,    0.078262,     0.07727,     0.07561,    0.075287,    0.074554,    0.072354,    0.071376,    0.069421,    0.068932,    0.068017,    0.067221,    0.066575,    0.065253,\n",
      "           0.064287,    0.063215,    0.062726,    0.061702,    0.061219,    0.060132,    0.059109,    0.057565,    0.056794,     0.05608,    0.054265,    0.053532,    0.052788,    0.051988,    0.051765,     0.05123,    0.050226,    0.049866,    0.048643,    0.047845,    0.047092,    0.045925,    0.045375,\n",
      "           0.043669,    0.042787,    0.041806,    0.041299,    0.040821,    0.039724,     0.03853,    0.038132,    0.037644,    0.037644,    0.037126,    0.036177,    0.036177,     0.03549,    0.035006,    0.033733,    0.033488,    0.033244,    0.032755,    0.031708,    0.031235,    0.030233,    0.029822,\n",
      "           0.029413,     0.02864,    0.028355,    0.027722,    0.026888,    0.025666,     0.02521,    0.024671,    0.024444,    0.023644,    0.022938,    0.022733,    0.022524,    0.021934,    0.021658,    0.021103,    0.020777,    0.020777,    0.020425,    0.020296,     0.01986,    0.019344,    0.018617,\n",
      "           0.018333,    0.018088,    0.018088,    0.017877,    0.017339,    0.017055,    0.016866,    0.016237,    0.015828,    0.015155,    0.014925,    0.014666,    0.014666,    0.014238,    0.013964,    0.013675,    0.013422,    0.013293,    0.012967,    0.012203,    0.012014,    0.011787,    0.010793,\n",
      "           0.010511,    0.010022,   0.0097776,   0.0097776,   0.0097776,   0.0097776,   0.0093189,   0.0090442,   0.0087998,   0.0087998,   0.0083761,   0.0082657,   0.0080288,    0.007822,   0.0077132,   0.0075776,   0.0075431,   0.0073332,   0.0073318,   0.0071823,   0.0068022,   0.0066091,   0.0065999,\n",
      "          0.0065039,    0.006258,   0.0060594,   0.0059265,   0.0057975,   0.0056717,   0.0056221,   0.0053777,   0.0053777,   0.0053777,   0.0053777,   0.0052836,   0.0047627,   0.0045908,   0.0044984,    0.004406,   0.0041977,    0.003967,   0.0037931,   0.0036476,   0.0035442,   0.0034408,   0.0032363,\n",
      "          0.0029244,   0.0028487,   0.0027729,   0.0026972,   0.0025281,   0.0024444,   0.0024444,   0.0024444,   0.0024444,   0.0024444,   0.0024444,   0.0023791,      0.0022,      0.0022,      0.0022,   0.0021233,   0.0018991,   0.0017371,   0.0014907,   0.0014347,   0.0013996,   0.0013645,   0.0013294,\n",
      "          0.0012943,   0.0012592,   0.0012241,   0.0012222,   0.0012222,   0.0012222,   0.0012222,   0.0012222,   0.0012222,   0.0011991,     0.00117,   0.0011409,   0.0011118,   0.0010827,   0.0010537,   0.0010246,  0.00099548,  0.00097776,  0.00097776,  0.00097776,  0.00097776,  0.00097776,  0.00097776,\n",
      "         0.00097776,  0.00097776,  0.00097776,  0.00084021,  0.00073332,  0.00073332,  0.00073332,  0.00073332,  0.00073332,  0.00073332,  0.00073332,  0.00073332,  0.00073332,  0.00072783,  0.00070849,  0.00068916,  0.00066982,  0.00065048,  0.00063115,  0.00061181,  0.00059248,  0.00057314,  0.00055381,\n",
      "         0.00053447,  0.00051513,   0.0004958,  0.00046426,  0.00042592,  0.00038758,  0.00034924,   0.0003109,  0.00027256,  0.00024174,  0.00023161,  0.00022147,  0.00021134,  0.00020121,  0.00019108,  0.00018094,  0.00017081,  0.00016068,  0.00015055,  0.00014041,  0.00013028,  0.00012015,  0.00011002,\n",
      "         9.9884e-05,  8.9752e-05,  7.9619e-05,  6.9487e-05,  5.9354e-05,  4.9222e-05,  3.9089e-05,  2.8957e-05,  1.8825e-05,  8.6921e-06,           0,           0,           0,           0,           0,           0,           0,           0,           0,           0,           0,           0,           0,\n",
      "                  0,           0,           0,           0,           0,           0,           0,           0,           0,           0,           0,           0,           0,           0,           0,           0,           0,           0,           0,           0,           0,           0,           0,\n",
      "                  0,           0,           0,           0,           0,           0,           0,           0,           0,           0,           0,           0,           0,           0,           0,           0,           0,           0,           0,           0,           0,           0,           0,\n",
      "                  0,           0,           0,           0,           0,           0,           0,           0,           0,           0,           0,           0,           0,           0,           0,           0,           0,           0,           0,           0,           0,           0,           0,\n",
      "                  0,           0,           0,           0,           0,           0,           0,           0,           0,           0,           0,           0,           0,           0,           0,           0,           0,           0,           0,           0,           0,           0,           0,\n",
      "                  0,           0,           0,           0,           0,           0,           0,           0,           0,           0,           0,           0,           0,           0,           0,           0,           0,           0,           0,           0,           0,           0,           0,\n",
      "                  0,           0,           0,           0,           0,           0,           0,           0,           0,           0,           0,           0,           0,           0,           0,           0,           0,           0,           0,           0,           0,           0,           0,\n",
      "                  0,           0,           0,           0,           0,           0,           0,           0,           0,           0,           0,           0,           0,           0,           0,           0,           0,           0,           0,           0,           0,           0,           0,\n",
      "                  0,           0,           0,           0,           0,           0,           0,           0,           0,           0,           0,           0,           0,           0,           0,           0,           0,           0,           0,           0,           0,           0,           0,\n",
      "                  0,           0,           0,           0,           0,           0,           0,           0,           0,           0,           0,           0,           0,           0,           0,           0,           0,           0,           0,           0,           0,           0,           0,\n",
      "                  0,           0,           0,           0,           0,           0,           0,           0,           0,           0,           0,           0,           0,           0,           0,           0,           0,           0,           0,           0,           0,           0,           0,\n",
      "                  0,           0,           0,           0,           0,           0,           0,           0,           0,           0,           0,           0,           0,           0,           0,           0,           0,           0,           0,           0,           0,           0,           0,\n",
      "                  0,           0,           0,           0,           0,           0,           0,           0,           0,           0,           0,           0,           0,           0,           0,           0,           0,           0,           0,           0,           0,           0,           0,\n",
      "                  0,           0,           0,           0,           0,           0,           0,           0,           0,           0,           0,           0,           0,           0,           0,           0,           0,           0,           0,           0,           0,           0,           0,\n",
      "                  0,           0,           0,           0,           0,           0,           0,           0,           0,           0,           0,           0,           0,           0,           0,           0,           0,           0,           0,           0,           0,           0,           0,\n",
      "                  0,           0,           0,           0,           0,           0,           0,           0,           0,           0,           0,           0,           0,           0,           0,           0,           0,           0,           0,           0,           0,           0,           0,\n",
      "                  0,           0,           0,           0,           0,           0,           0,           0,           0,           0,           0]]), 'Confidence', 'Recall']]\n",
      "fitness: 0.2422633635155771\n",
      "keys: ['metrics/precision(B)', 'metrics/recall(B)', 'metrics/mAP50(B)', 'metrics/mAP50-95(B)']\n",
      "maps: array([    0.22129])\n",
      "names: {0: 'pig'}\n",
      "plot: True\n",
      "results_dict: {'metrics/precision(B)': 0.3534006883347815, 'metrics/recall(B)': 0.8164263016377414, 'metrics/mAP50(B)': 0.4309962733284384, 'metrics/mAP50-95(B)': 0.22129304020303694, 'fitness': 0.2422633635155771}\n",
      "save_dir: PosixPath('/kaggle/working/yolo/runs/yolov8_pig2')\n",
      "speed: {'preprocess': 0.0892042287828899, 'inference': 1.1908055745400759, 'loss': 0.0011681307327257814, 'postprocess': 0.958151393925877}\n",
      "task: 'detect'\n"
     ]
    }
   ],
   "source": [
    "metrics = model.val()  \n",
    "print(metrics)  "
   ]
  },
  {
   "cell_type": "code",
   "execution_count": 16,
   "id": "7dc654e9",
   "metadata": {
    "execution": {
     "iopub.execute_input": "2025-05-13T15:37:17.970451Z",
     "iopub.status.busy": "2025-05-13T15:37:17.970143Z",
     "iopub.status.idle": "2025-05-13T15:37:58.492740Z",
     "shell.execute_reply": "2025-05-13T15:37:58.492164Z"
    },
    "papermill": {
     "duration": 41.324354,
     "end_time": "2025-05-13T15:37:58.493854",
     "exception": false,
     "start_time": "2025-05-13T15:37:17.169500",
     "status": "completed"
    },
    "tags": []
   },
   "outputs": [
    {
     "name": "stdout",
     "output_type": "stream",
     "text": [
      "\n",
      "WARNING ⚠️ \n",
      "inference results will accumulate in RAM unless `stream=True` is passed, causing potential out-of-memory\n",
      "errors for large sources or long-running streams and videos. See https://docs.ultralytics.com/modes/predict/ for help.\n",
      "\n",
      "Example:\n",
      "    results = model(source=..., stream=True)  # generator of Results objects\n",
      "    for r in results:\n",
      "        boxes = r.boxes  # Boxes object for bbox outputs\n",
      "        masks = r.masks  # Masks object for segment masks outputs\n",
      "        probs = r.probs  # Class probabilities for classification outputs\n",
      "\n",
      "image 1/1744 /kaggle/working/yolo/images/val/000005_0000.jpg: 256x416 5 pigs, 37.7ms\n",
      "image 2/1744 /kaggle/working/yolo/images/val/000005_0021.jpg: 256x416 1 pig, 6.1ms\n",
      "image 3/1744 /kaggle/working/yolo/images/val/000005_0033.jpg: 256x416 3 pigs, 5.9ms\n",
      "image 4/1744 /kaggle/working/yolo/images/val/000005_0036.jpg: 256x416 2 pigs, 6.2ms\n",
      "image 5/1744 /kaggle/working/yolo/images/val/000005_0039.jpg: 256x416 2 pigs, 5.9ms\n",
      "image 6/1744 /kaggle/working/yolo/images/val/000005_0051.jpg: 256x416 2 pigs, 6.0ms\n",
      "image 7/1744 /kaggle/working/yolo/images/val/000005_0057.jpg: 256x416 (no detections), 6.0ms\n",
      "image 8/1744 /kaggle/working/yolo/images/val/000005_0060.jpg: 256x416 2 pigs, 5.7ms\n",
      "image 9/1744 /kaggle/working/yolo/images/val/000005_0063.jpg: 256x416 1 pig, 5.8ms\n",
      "image 10/1744 /kaggle/working/yolo/images/val/000005_0066.jpg: 256x416 1 pig, 5.9ms\n",
      "image 11/1744 /kaggle/working/yolo/images/val/000005_0069.jpg: 256x416 1 pig, 5.8ms\n",
      "image 12/1744 /kaggle/working/yolo/images/val/000005_0072.jpg: 256x416 3 pigs, 5.8ms\n",
      "image 13/1744 /kaggle/working/yolo/images/val/000005_0075.jpg: 256x416 1 pig, 6.0ms\n",
      "image 14/1744 /kaggle/working/yolo/images/val/000005_0078.jpg: 256x416 (no detections), 6.1ms\n",
      "image 15/1744 /kaggle/working/yolo/images/val/000005_0081.jpg: 256x416 (no detections), 5.7ms\n",
      "image 16/1744 /kaggle/working/yolo/images/val/000005_0084.jpg: 256x416 (no detections), 6.1ms\n",
      "image 17/1744 /kaggle/working/yolo/images/val/000005_0111.jpg: 256x416 1 pig, 5.8ms\n",
      "image 18/1744 /kaggle/working/yolo/images/val/000005_0117.jpg: 256x416 1 pig, 5.8ms\n",
      "image 19/1744 /kaggle/working/yolo/images/val/000005_0126.jpg: 256x416 (no detections), 6.0ms\n",
      "image 20/1744 /kaggle/working/yolo/images/val/000005_0180.jpg: 256x416 1 pig, 5.8ms\n",
      "image 21/1744 /kaggle/working/yolo/images/val/000005_0186.jpg: 256x416 1 pig, 5.9ms\n",
      "image 22/1744 /kaggle/working/yolo/images/val/000005_0195.jpg: 256x416 1 pig, 6.0ms\n",
      "image 23/1744 /kaggle/working/yolo/images/val/000005_0201.jpg: 256x416 2 pigs, 5.8ms\n",
      "image 24/1744 /kaggle/working/yolo/images/val/000005_0207.jpg: 256x416 1 pig, 5.9ms\n",
      "image 25/1744 /kaggle/working/yolo/images/val/000005_0213.jpg: 256x416 1 pig, 5.8ms\n",
      "image 26/1744 /kaggle/working/yolo/images/val/000005_0216.jpg: 256x416 1 pig, 5.7ms\n",
      "image 27/1744 /kaggle/working/yolo/images/val/000005_0234.jpg: 256x416 (no detections), 8.0ms\n",
      "image 28/1744 /kaggle/working/yolo/images/val/000005_0237.jpg: 256x416 (no detections), 9.0ms\n",
      "image 29/1744 /kaggle/working/yolo/images/val/000005_0249.jpg: 256x416 1 pig, 6.3ms\n",
      "image 30/1744 /kaggle/working/yolo/images/val/000005_0294.jpg: 256x416 (no detections), 5.9ms\n",
      "image 31/1744 /kaggle/working/yolo/images/val/000005_0318.jpg: 256x416 (no detections), 5.8ms\n",
      "image 32/1744 /kaggle/working/yolo/images/val/000005_0351.jpg: 256x416 1 pig, 5.9ms\n",
      "image 33/1744 /kaggle/working/yolo/images/val/000005_0357.jpg: 256x416 1 pig, 8.8ms\n",
      "image 34/1744 /kaggle/working/yolo/images/val/000005_0369.jpg: 256x416 1 pig, 11.5ms\n",
      "image 35/1744 /kaggle/working/yolo/images/val/000005_0372.jpg: 256x416 1 pig, 9.2ms\n",
      "image 36/1744 /kaggle/working/yolo/images/val/000005_0378.jpg: 256x416 1 pig, 6.2ms\n",
      "image 37/1744 /kaggle/working/yolo/images/val/000005_0381.jpg: 256x416 (no detections), 6.0ms\n",
      "image 38/1744 /kaggle/working/yolo/images/val/000005_0384.jpg: 256x416 (no detections), 5.9ms\n",
      "image 39/1744 /kaggle/working/yolo/images/val/000005_0387.jpg: 256x416 (no detections), 5.8ms\n",
      "image 40/1744 /kaggle/working/yolo/images/val/000005_0393.jpg: 256x416 (no detections), 5.8ms\n",
      "image 41/1744 /kaggle/working/yolo/images/val/000005_0402.jpg: 256x416 (no detections), 5.9ms\n",
      "image 42/1744 /kaggle/working/yolo/images/val/000005_0405.jpg: 256x416 (no detections), 5.8ms\n",
      "image 43/1744 /kaggle/working/yolo/images/val/000005_0411.jpg: 256x416 1 pig, 5.7ms\n",
      "image 44/1744 /kaggle/working/yolo/images/val/000005_0420.jpg: 256x416 1 pig, 5.7ms\n",
      "image 45/1744 /kaggle/working/yolo/images/val/000005_0429.jpg: 256x416 1 pig, 5.9ms\n",
      "image 46/1744 /kaggle/working/yolo/images/val/000005_0441.jpg: 256x416 1 pig, 6.1ms\n",
      "image 47/1744 /kaggle/working/yolo/images/val/000005_0474.jpg: 256x416 1 pig, 5.8ms\n",
      "image 48/1744 /kaggle/working/yolo/images/val/000005_0501.jpg: 256x416 1 pig, 6.1ms\n",
      "image 49/1744 /kaggle/working/yolo/images/val/000005_0507.jpg: 256x416 1 pig, 5.6ms\n",
      "image 50/1744 /kaggle/working/yolo/images/val/000005_0567.jpg: 256x416 1 pig, 5.7ms\n",
      "image 51/1744 /kaggle/working/yolo/images/val/000005_0570.jpg: 256x416 1 pig, 5.7ms\n",
      "image 52/1744 /kaggle/working/yolo/images/val/000005_0582.jpg: 256x416 2 pigs, 6.0ms\n",
      "image 53/1744 /kaggle/working/yolo/images/val/000005_0585.jpg: 256x416 1 pig, 6.0ms\n",
      "image 54/1744 /kaggle/working/yolo/images/val/000005_0606.jpg: 256x416 2 pigs, 5.9ms\n",
      "image 55/1744 /kaggle/working/yolo/images/val/000005_0645.jpg: 256x416 3 pigs, 5.9ms\n",
      "image 56/1744 /kaggle/working/yolo/images/val/000005_0648.jpg: 256x416 1 pig, 5.8ms\n",
      "image 57/1744 /kaggle/working/yolo/images/val/000005_0657.jpg: 256x416 2 pigs, 5.7ms\n",
      "image 58/1744 /kaggle/working/yolo/images/val/000005_0660.jpg: 256x416 (no detections), 5.8ms\n",
      "image 59/1744 /kaggle/working/yolo/images/val/000005_0663.jpg: 256x416 1 pig, 5.8ms\n",
      "image 60/1744 /kaggle/working/yolo/images/val/000005_0693.jpg: 256x416 1 pig, 5.8ms\n",
      "image 61/1744 /kaggle/working/yolo/images/val/000005_0714.jpg: 256x416 1 pig, 5.9ms\n",
      "image 62/1744 /kaggle/working/yolo/images/val/000005_0717.jpg: 256x416 1 pig, 5.8ms\n",
      "image 63/1744 /kaggle/working/yolo/images/val/000005_0720.jpg: 256x416 1 pig, 5.7ms\n",
      "image 64/1744 /kaggle/working/yolo/images/val/000005_0723.jpg: 256x416 1 pig, 5.9ms\n",
      "image 65/1744 /kaggle/working/yolo/images/val/000005_0726.jpg: 256x416 (no detections), 5.7ms\n",
      "image 66/1744 /kaggle/working/yolo/images/val/000005_0735.jpg: 256x416 2 pigs, 5.7ms\n",
      "image 67/1744 /kaggle/working/yolo/images/val/000005_0738.jpg: 256x416 3 pigs, 6.3ms\n",
      "image 68/1744 /kaggle/working/yolo/images/val/000005_0747.jpg: 256x416 2 pigs, 5.9ms\n",
      "image 69/1744 /kaggle/working/yolo/images/val/000005_0750.jpg: 256x416 3 pigs, 5.8ms\n",
      "image 70/1744 /kaggle/working/yolo/images/val/000005_0762.jpg: 256x416 1 pig, 5.8ms\n",
      "image 71/1744 /kaggle/working/yolo/images/val/000005_0765.jpg: 256x416 2 pigs, 5.7ms\n",
      "image 72/1744 /kaggle/working/yolo/images/val/000005_0774.jpg: 256x416 1 pig, 5.7ms\n",
      "image 73/1744 /kaggle/working/yolo/images/val/000005_0783.jpg: 256x416 1 pig, 5.7ms\n",
      "image 74/1744 /kaggle/working/yolo/images/val/000005_0795.jpg: 256x416 1 pig, 5.8ms\n",
      "image 75/1744 /kaggle/working/yolo/images/val/000005_0798.jpg: 256x416 1 pig, 5.8ms\n",
      "image 76/1744 /kaggle/working/yolo/images/val/000005_0801.jpg: 256x416 1 pig, 5.8ms\n",
      "image 77/1744 /kaggle/working/yolo/images/val/000005_0807.jpg: 256x416 2 pigs, 5.8ms\n",
      "image 78/1744 /kaggle/working/yolo/images/val/000005_0810.jpg: 256x416 3 pigs, 5.9ms\n",
      "image 79/1744 /kaggle/working/yolo/images/val/000005_0813.jpg: 256x416 2 pigs, 5.9ms\n",
      "image 80/1744 /kaggle/working/yolo/images/val/000005_0816.jpg: 256x416 1 pig, 5.9ms\n",
      "image 81/1744 /kaggle/working/yolo/images/val/000005_0822.jpg: 256x416 1 pig, 5.9ms\n",
      "image 82/1744 /kaggle/working/yolo/images/val/000005_0831.jpg: 256x416 1 pig, 5.9ms\n",
      "image 83/1744 /kaggle/working/yolo/images/val/000005_0834.jpg: 256x416 1 pig, 5.8ms\n",
      "image 84/1744 /kaggle/working/yolo/images/val/000005_0840.jpg: 256x416 1 pig, 5.8ms\n",
      "image 85/1744 /kaggle/working/yolo/images/val/000005_0843.jpg: 256x416 1 pig, 5.9ms\n",
      "image 86/1744 /kaggle/working/yolo/images/val/000005_0864.jpg: 256x416 2 pigs, 6.3ms\n",
      "image 87/1744 /kaggle/working/yolo/images/val/000005_0879.jpg: 256x416 1 pig, 6.5ms\n",
      "image 88/1744 /kaggle/working/yolo/images/val/000005_0885.jpg: 256x416 2 pigs, 5.8ms\n",
      "image 89/1744 /kaggle/working/yolo/images/val/000005_0888.jpg: 256x416 2 pigs, 5.8ms\n",
      "image 90/1744 /kaggle/working/yolo/images/val/000005_0894.jpg: 256x416 1 pig, 5.9ms\n",
      "image 91/1744 /kaggle/working/yolo/images/val/000005_0906.jpg: 256x416 1 pig, 5.8ms\n",
      "image 92/1744 /kaggle/working/yolo/images/val/000005_0912.jpg: 256x416 1 pig, 5.8ms\n",
      "image 93/1744 /kaggle/working/yolo/images/val/000005_0921.jpg: 256x416 1 pig, 5.7ms\n",
      "image 94/1744 /kaggle/working/yolo/images/val/000005_0948.jpg: 256x416 2 pigs, 5.7ms\n",
      "image 95/1744 /kaggle/working/yolo/images/val/000005_0969.jpg: 256x416 1 pig, 6.1ms\n",
      "image 96/1744 /kaggle/working/yolo/images/val/000005_0972.jpg: 256x416 2 pigs, 5.9ms\n",
      "image 97/1744 /kaggle/working/yolo/images/val/000005_0975.jpg: 256x416 3 pigs, 6.3ms\n",
      "image 98/1744 /kaggle/working/yolo/images/val/000005_0999.jpg: 256x416 (no detections), 6.1ms\n",
      "image 99/1744 /kaggle/working/yolo/images/val/000005_1026.jpg: 256x416 1 pig, 6.2ms\n",
      "image 100/1744 /kaggle/working/yolo/images/val/000005_1044.jpg: 256x416 1 pig, 6.0ms\n",
      "image 101/1744 /kaggle/working/yolo/images/val/000005_1056.jpg: 256x416 1 pig, 5.8ms\n",
      "image 102/1744 /kaggle/working/yolo/images/val/000005_1068.jpg: 256x416 2 pigs, 5.8ms\n",
      "image 103/1744 /kaggle/working/yolo/images/val/000005_1071.jpg: 256x416 2 pigs, 6.2ms\n",
      "image 104/1744 /kaggle/working/yolo/images/val/000005_1110.jpg: 256x416 1 pig, 5.8ms\n",
      "image 105/1744 /kaggle/working/yolo/images/val/000005_1116.jpg: 256x416 1 pig, 5.9ms\n",
      "image 106/1744 /kaggle/working/yolo/images/val/000005_1131.jpg: 256x416 3 pigs, 5.9ms\n",
      "image 107/1744 /kaggle/working/yolo/images/val/000005_1134.jpg: 256x416 3 pigs, 6.0ms\n",
      "image 108/1744 /kaggle/working/yolo/images/val/000005_1137.jpg: 256x416 3 pigs, 6.0ms\n",
      "image 109/1744 /kaggle/working/yolo/images/val/000005_1149.jpg: 256x416 3 pigs, 5.8ms\n",
      "image 110/1744 /kaggle/working/yolo/images/val/000005_1152.jpg: 256x416 2 pigs, 5.7ms\n",
      "image 111/1744 /kaggle/working/yolo/images/val/000005_1161.jpg: 256x416 2 pigs, 5.7ms\n",
      "image 112/1744 /kaggle/working/yolo/images/val/000005_1173.jpg: 256x416 2 pigs, 5.7ms\n",
      "image 113/1744 /kaggle/working/yolo/images/val/000005_1191.jpg: 256x416 3 pigs, 5.7ms\n",
      "image 114/1744 /kaggle/working/yolo/images/val/000005_1194.jpg: 256x416 3 pigs, 5.9ms\n",
      "image 115/1744 /kaggle/working/yolo/images/val/000005_1209.jpg: 256x416 3 pigs, 5.7ms\n",
      "image 116/1744 /kaggle/working/yolo/images/val/000005_1230.jpg: 256x416 3 pigs, 5.7ms\n",
      "image 117/1744 /kaggle/working/yolo/images/val/000005_1248.jpg: 256x416 3 pigs, 5.7ms\n",
      "image 118/1744 /kaggle/working/yolo/images/val/000005_1251.jpg: 256x416 3 pigs, 5.8ms\n",
      "image 119/1744 /kaggle/working/yolo/images/val/000005_1260.jpg: 256x416 3 pigs, 5.8ms\n",
      "image 120/1744 /kaggle/working/yolo/images/val/000005_1263.jpg: 256x416 3 pigs, 5.7ms\n",
      "image 121/1744 /kaggle/working/yolo/images/val/000005_1266.jpg: 256x416 2 pigs, 5.7ms\n",
      "image 122/1744 /kaggle/working/yolo/images/val/000005_1272.jpg: 256x416 2 pigs, 5.7ms\n",
      "image 123/1744 /kaggle/working/yolo/images/val/000005_1278.jpg: 256x416 (no detections), 5.7ms\n",
      "image 124/1744 /kaggle/working/yolo/images/val/000005_1293.jpg: 256x416 1 pig, 6.9ms\n",
      "image 125/1744 /kaggle/working/yolo/images/val/000005_1311.jpg: 256x416 1 pig, 5.6ms\n",
      "image 126/1744 /kaggle/working/yolo/images/val/000005_1317.jpg: 256x416 1 pig, 5.7ms\n",
      "image 127/1744 /kaggle/working/yolo/images/val/000005_1323.jpg: 256x416 1 pig, 5.7ms\n",
      "image 128/1744 /kaggle/working/yolo/images/val/000005_1329.jpg: 256x416 2 pigs, 6.0ms\n",
      "image 129/1744 /kaggle/working/yolo/images/val/000005_1332.jpg: 256x416 2 pigs, 5.8ms\n",
      "image 130/1744 /kaggle/working/yolo/images/val/000005_1335.jpg: 256x416 2 pigs, 5.8ms\n",
      "image 131/1744 /kaggle/working/yolo/images/val/000005_1338.jpg: 256x416 2 pigs, 5.7ms\n",
      "image 132/1744 /kaggle/working/yolo/images/val/000005_1341.jpg: 256x416 2 pigs, 5.8ms\n",
      "image 133/1744 /kaggle/working/yolo/images/val/000005_1344.jpg: 256x416 1 pig, 5.7ms\n",
      "image 134/1744 /kaggle/working/yolo/images/val/000005_1350.jpg: 256x416 1 pig, 5.7ms\n",
      "image 135/1744 /kaggle/working/yolo/images/val/000005_1353.jpg: 256x416 1 pig, 5.8ms\n",
      "image 136/1744 /kaggle/working/yolo/images/val/000005_1368.jpg: 256x416 1 pig, 5.7ms\n",
      "image 137/1744 /kaggle/working/yolo/images/val/000005_1383.jpg: 256x416 1 pig, 5.7ms\n",
      "image 138/1744 /kaggle/working/yolo/images/val/000005_1386.jpg: 256x416 2 pigs, 5.8ms\n",
      "image 139/1744 /kaggle/working/yolo/images/val/000005_1392.jpg: 256x416 2 pigs, 5.7ms\n",
      "image 140/1744 /kaggle/working/yolo/images/val/000005_1395.jpg: 256x416 2 pigs, 5.7ms\n",
      "image 141/1744 /kaggle/working/yolo/images/val/000005_1398.jpg: 256x416 2 pigs, 5.7ms\n",
      "image 142/1744 /kaggle/working/yolo/images/val/000005_1416.jpg: 256x416 2 pigs, 5.7ms\n",
      "image 143/1744 /kaggle/working/yolo/images/val/000005_1449.jpg: 256x416 2 pigs, 5.7ms\n",
      "image 144/1744 /kaggle/working/yolo/images/val/000005_1458.jpg: 256x416 1 pig, 5.7ms\n",
      "image 145/1744 /kaggle/working/yolo/images/val/000005_1488.jpg: 256x416 2 pigs, 5.7ms\n",
      "image 146/1744 /kaggle/working/yolo/images/val/000005_1491.jpg: 256x416 3 pigs, 5.7ms\n",
      "image 147/1744 /kaggle/working/yolo/images/val/000005_1506.jpg: 256x416 (no detections), 5.8ms\n",
      "image 148/1744 /kaggle/working/yolo/images/val/000005_1512.jpg: 256x416 3 pigs, 5.8ms\n",
      "image 149/1744 /kaggle/working/yolo/images/val/000005_1518.jpg: 256x416 2 pigs, 5.9ms\n",
      "image 150/1744 /kaggle/working/yolo/images/val/000005_1521.jpg: 256x416 1 pig, 5.7ms\n",
      "image 151/1744 /kaggle/working/yolo/images/val/000005_1536.jpg: 256x416 2 pigs, 5.7ms\n",
      "image 152/1744 /kaggle/working/yolo/images/val/000005_1539.jpg: 256x416 2 pigs, 5.7ms\n",
      "image 153/1744 /kaggle/working/yolo/images/val/000005_1542.jpg: 256x416 (no detections), 6.0ms\n",
      "image 154/1744 /kaggle/working/yolo/images/val/000005_1554.jpg: 256x416 2 pigs, 5.7ms\n",
      "image 155/1744 /kaggle/working/yolo/images/val/000005_1557.jpg: 256x416 3 pigs, 5.7ms\n",
      "image 156/1744 /kaggle/working/yolo/images/val/000005_1560.jpg: 256x416 3 pigs, 5.8ms\n",
      "image 157/1744 /kaggle/working/yolo/images/val/000005_1563.jpg: 256x416 4 pigs, 5.7ms\n",
      "image 158/1744 /kaggle/working/yolo/images/val/000005_1566.jpg: 256x416 4 pigs, 5.8ms\n",
      "image 159/1744 /kaggle/working/yolo/images/val/000005_1569.jpg: 256x416 3 pigs, 5.6ms\n",
      "image 160/1744 /kaggle/working/yolo/images/val/000005_1575.jpg: 256x416 3 pigs, 5.8ms\n",
      "image 161/1744 /kaggle/working/yolo/images/val/000005_1587.jpg: 256x416 1 pig, 5.8ms\n",
      "image 162/1744 /kaggle/working/yolo/images/val/000005_1599.jpg: 256x416 2 pigs, 5.8ms\n",
      "image 163/1744 /kaggle/working/yolo/images/val/000005_1617.jpg: 256x416 2 pigs, 5.8ms\n",
      "image 164/1744 /kaggle/working/yolo/images/val/000005_1635.jpg: 256x416 1 pig, 6.0ms\n",
      "image 165/1744 /kaggle/working/yolo/images/val/000005_1641.jpg: 256x416 1 pig, 5.7ms\n",
      "image 166/1744 /kaggle/working/yolo/images/val/000005_1647.jpg: 256x416 1 pig, 5.9ms\n",
      "image 167/1744 /kaggle/working/yolo/images/val/000005_1650.jpg: 256x416 1 pig, 5.7ms\n",
      "image 168/1744 /kaggle/working/yolo/images/val/000005_1659.jpg: 256x416 1 pig, 5.7ms\n",
      "image 169/1744 /kaggle/working/yolo/images/val/000005_1674.jpg: 256x416 (no detections), 5.7ms\n",
      "image 170/1744 /kaggle/working/yolo/images/val/000005_1689.jpg: 256x416 1 pig, 5.8ms\n",
      "image 171/1744 /kaggle/working/yolo/images/val/000005_1692.jpg: 256x416 3 pigs, 5.7ms\n",
      "image 172/1744 /kaggle/working/yolo/images/val/000005_1701.jpg: 256x416 3 pigs, 5.7ms\n",
      "image 173/1744 /kaggle/working/yolo/images/val/000005_1704.jpg: 256x416 2 pigs, 5.9ms\n",
      "image 174/1744 /kaggle/working/yolo/images/val/000005_1710.jpg: 256x416 3 pigs, 5.7ms\n",
      "image 175/1744 /kaggle/working/yolo/images/val/000005_1713.jpg: 256x416 3 pigs, 5.7ms\n",
      "image 176/1744 /kaggle/working/yolo/images/val/000005_1719.jpg: 256x416 3 pigs, 5.7ms\n",
      "image 177/1744 /kaggle/working/yolo/images/val/000005_1722.jpg: 256x416 2 pigs, 5.7ms\n",
      "image 178/1744 /kaggle/working/yolo/images/val/000005_1731.jpg: 256x416 3 pigs, 5.7ms\n",
      "image 179/1744 /kaggle/working/yolo/images/val/000005_1737.jpg: 256x416 2 pigs, 5.6ms\n",
      "image 180/1744 /kaggle/working/yolo/images/val/000005_1740.jpg: 256x416 2 pigs, 5.7ms\n",
      "image 181/1744 /kaggle/working/yolo/images/val/000005_1746.jpg: 256x416 2 pigs, 5.8ms\n",
      "image 182/1744 /kaggle/working/yolo/images/val/000005_1761.jpg: 256x416 1 pig, 5.7ms\n",
      "image 183/1744 /kaggle/working/yolo/images/val/000005_1782.jpg: 256x416 1 pig, 5.7ms\n",
      "image 184/1744 /kaggle/working/yolo/images/val/000005_1785.jpg: 256x416 (no detections), 5.8ms\n",
      "image 185/1744 /kaggle/working/yolo/images/val/000005_1797.jpg: 256x416 2 pigs, 5.8ms\n",
      "image 186/1744 /kaggle/working/yolo/images/val/000060_0000.jpg: 256x416 2 pigs, 5.7ms\n",
      "image 187/1744 /kaggle/working/yolo/images/val/000060_0021.jpg: 256x416 1 pig, 5.7ms\n",
      "image 188/1744 /kaggle/working/yolo/images/val/000060_0027.jpg: 256x416 1 pig, 5.7ms\n",
      "image 189/1744 /kaggle/working/yolo/images/val/000060_0036.jpg: 256x416 1 pig, 5.6ms\n",
      "image 190/1744 /kaggle/working/yolo/images/val/000060_0045.jpg: 256x416 1 pig, 5.7ms\n",
      "image 191/1744 /kaggle/working/yolo/images/val/000060_0051.jpg: 256x416 1 pig, 5.7ms\n",
      "image 192/1744 /kaggle/working/yolo/images/val/000060_0057.jpg: 256x416 2 pigs, 5.7ms\n",
      "image 193/1744 /kaggle/working/yolo/images/val/000060_0075.jpg: 256x416 1 pig, 5.7ms\n",
      "image 194/1744 /kaggle/working/yolo/images/val/000060_0087.jpg: 256x416 1 pig, 6.0ms\n",
      "image 195/1744 /kaggle/working/yolo/images/val/000060_0093.jpg: 256x416 1 pig, 5.6ms\n",
      "image 196/1744 /kaggle/working/yolo/images/val/000060_0096.jpg: 256x416 1 pig, 5.8ms\n",
      "image 197/1744 /kaggle/working/yolo/images/val/000060_0099.jpg: 256x416 1 pig, 5.7ms\n",
      "image 198/1744 /kaggle/working/yolo/images/val/000060_0102.jpg: 256x416 1 pig, 5.7ms\n",
      "image 199/1744 /kaggle/working/yolo/images/val/000060_0105.jpg: 256x416 1 pig, 5.7ms\n",
      "image 200/1744 /kaggle/working/yolo/images/val/000060_0108.jpg: 256x416 1 pig, 5.7ms\n",
      "image 201/1744 /kaggle/working/yolo/images/val/000060_0111.jpg: 256x416 (no detections), 5.7ms\n",
      "image 202/1744 /kaggle/working/yolo/images/val/000060_0117.jpg: 256x416 2 pigs, 5.7ms\n",
      "image 203/1744 /kaggle/working/yolo/images/val/000060_0123.jpg: 256x416 2 pigs, 5.8ms\n",
      "image 204/1744 /kaggle/working/yolo/images/val/000060_0129.jpg: 256x416 2 pigs, 5.7ms\n",
      "image 205/1744 /kaggle/working/yolo/images/val/000060_0138.jpg: 256x416 2 pigs, 5.7ms\n",
      "image 206/1744 /kaggle/working/yolo/images/val/000060_0144.jpg: 256x416 1 pig, 5.7ms\n",
      "image 207/1744 /kaggle/working/yolo/images/val/000060_0150.jpg: 256x416 2 pigs, 5.6ms\n",
      "image 208/1744 /kaggle/working/yolo/images/val/000060_0156.jpg: 256x416 2 pigs, 5.7ms\n",
      "image 209/1744 /kaggle/working/yolo/images/val/000060_0162.jpg: 256x416 2 pigs, 5.7ms\n",
      "image 210/1744 /kaggle/working/yolo/images/val/000060_0168.jpg: 256x416 2 pigs, 5.7ms\n",
      "image 211/1744 /kaggle/working/yolo/images/val/000060_0180.jpg: 256x416 2 pigs, 5.7ms\n",
      "image 212/1744 /kaggle/working/yolo/images/val/000060_0186.jpg: 256x416 2 pigs, 5.8ms\n",
      "image 213/1744 /kaggle/working/yolo/images/val/000060_0192.jpg: 256x416 2 pigs, 5.7ms\n",
      "image 214/1744 /kaggle/working/yolo/images/val/000060_0210.jpg: 256x416 2 pigs, 5.7ms\n",
      "image 215/1744 /kaggle/working/yolo/images/val/000060_0216.jpg: 256x416 2 pigs, 5.8ms\n",
      "image 216/1744 /kaggle/working/yolo/images/val/000060_0219.jpg: 256x416 2 pigs, 5.6ms\n",
      "image 217/1744 /kaggle/working/yolo/images/val/000060_0222.jpg: 256x416 2 pigs, 7.2ms\n",
      "image 218/1744 /kaggle/working/yolo/images/val/000060_0228.jpg: 256x416 2 pigs, 5.7ms\n",
      "image 219/1744 /kaggle/working/yolo/images/val/000060_0231.jpg: 256x416 2 pigs, 5.8ms\n",
      "image 220/1744 /kaggle/working/yolo/images/val/000060_0258.jpg: 256x416 2 pigs, 5.6ms\n",
      "image 221/1744 /kaggle/working/yolo/images/val/000060_0267.jpg: 256x416 1 pig, 5.6ms\n",
      "image 222/1744 /kaggle/working/yolo/images/val/000060_0273.jpg: 256x416 1 pig, 5.5ms\n",
      "image 223/1744 /kaggle/working/yolo/images/val/000060_0276.jpg: 256x416 (no detections), 5.7ms\n",
      "image 224/1744 /kaggle/working/yolo/images/val/000060_0321.jpg: 256x416 1 pig, 6.1ms\n",
      "image 225/1744 /kaggle/working/yolo/images/val/000060_0327.jpg: 256x416 2 pigs, 5.7ms\n",
      "image 226/1744 /kaggle/working/yolo/images/val/000060_0339.jpg: 256x416 2 pigs, 5.8ms\n",
      "image 227/1744 /kaggle/working/yolo/images/val/000060_0345.jpg: 256x416 2 pigs, 5.9ms\n",
      "image 228/1744 /kaggle/working/yolo/images/val/000060_0357.jpg: 256x416 1 pig, 5.7ms\n",
      "image 229/1744 /kaggle/working/yolo/images/val/000060_0375.jpg: 256x416 2 pigs, 5.8ms\n",
      "image 230/1744 /kaggle/working/yolo/images/val/000060_0387.jpg: 256x416 2 pigs, 6.5ms\n",
      "image 231/1744 /kaggle/working/yolo/images/val/000060_0393.jpg: 256x416 2 pigs, 5.7ms\n",
      "image 232/1744 /kaggle/working/yolo/images/val/000060_0399.jpg: 256x416 1 pig, 5.8ms\n",
      "image 233/1744 /kaggle/working/yolo/images/val/000060_0405.jpg: 256x416 1 pig, 5.7ms\n",
      "image 234/1744 /kaggle/working/yolo/images/val/000060_0411.jpg: 256x416 1 pig, 6.7ms\n",
      "image 235/1744 /kaggle/working/yolo/images/val/000060_0441.jpg: 256x416 1 pig, 6.1ms\n",
      "image 236/1744 /kaggle/working/yolo/images/val/000060_0450.jpg: 256x416 1 pig, 5.8ms\n",
      "image 237/1744 /kaggle/working/yolo/images/val/000060_0504.jpg: 256x416 1 pig, 5.8ms\n",
      "image 238/1744 /kaggle/working/yolo/images/val/000060_0510.jpg: 256x416 2 pigs, 5.7ms\n",
      "image 239/1744 /kaggle/working/yolo/images/val/000060_0516.jpg: 256x416 2 pigs, 5.7ms\n",
      "image 240/1744 /kaggle/working/yolo/images/val/000060_0522.jpg: 256x416 2 pigs, 5.6ms\n",
      "image 241/1744 /kaggle/working/yolo/images/val/000060_0585.jpg: 256x416 2 pigs, 5.8ms\n",
      "image 242/1744 /kaggle/working/yolo/images/val/000060_0603.jpg: 256x416 2 pigs, 5.8ms\n",
      "image 243/1744 /kaggle/working/yolo/images/val/000060_0609.jpg: 256x416 2 pigs, 5.9ms\n",
      "image 244/1744 /kaggle/working/yolo/images/val/000060_0618.jpg: 256x416 2 pigs, 6.2ms\n",
      "image 245/1744 /kaggle/working/yolo/images/val/000060_0624.jpg: 256x416 2 pigs, 5.7ms\n",
      "image 246/1744 /kaggle/working/yolo/images/val/000060_0627.jpg: 256x416 2 pigs, 5.7ms\n",
      "image 247/1744 /kaggle/working/yolo/images/val/000060_0633.jpg: 256x416 2 pigs, 5.7ms\n",
      "image 248/1744 /kaggle/working/yolo/images/val/000060_0639.jpg: 256x416 2 pigs, 7.7ms\n",
      "image 249/1744 /kaggle/working/yolo/images/val/000060_0642.jpg: 256x416 2 pigs, 5.8ms\n",
      "image 250/1744 /kaggle/working/yolo/images/val/000060_0645.jpg: 256x416 1 pig, 5.7ms\n",
      "image 251/1744 /kaggle/working/yolo/images/val/000060_0663.jpg: 256x416 1 pig, 5.7ms\n",
      "image 252/1744 /kaggle/working/yolo/images/val/000060_0672.jpg: 256x416 1 pig, 6.0ms\n",
      "image 253/1744 /kaggle/working/yolo/images/val/000060_0717.jpg: 256x416 1 pig, 8.2ms\n",
      "image 254/1744 /kaggle/working/yolo/images/val/000060_0723.jpg: 256x416 2 pigs, 5.6ms\n",
      "image 255/1744 /kaggle/working/yolo/images/val/000060_0726.jpg: 256x416 2 pigs, 5.9ms\n",
      "image 256/1744 /kaggle/working/yolo/images/val/000060_0732.jpg: 256x416 2 pigs, 5.9ms\n",
      "image 257/1744 /kaggle/working/yolo/images/val/000060_0738.jpg: 256x416 2 pigs, 5.7ms\n",
      "image 258/1744 /kaggle/working/yolo/images/val/000060_0741.jpg: 256x416 2 pigs, 6.9ms\n",
      "image 259/1744 /kaggle/working/yolo/images/val/000060_0756.jpg: 256x416 2 pigs, 5.9ms\n",
      "image 260/1744 /kaggle/working/yolo/images/val/000060_0771.jpg: 256x416 2 pigs, 5.9ms\n",
      "image 261/1744 /kaggle/working/yolo/images/val/000060_0774.jpg: 256x416 2 pigs, 5.7ms\n",
      "image 262/1744 /kaggle/working/yolo/images/val/000060_0780.jpg: 256x416 2 pigs, 5.8ms\n",
      "image 263/1744 /kaggle/working/yolo/images/val/000060_0786.jpg: 256x416 1 pig, 5.8ms\n",
      "image 264/1744 /kaggle/working/yolo/images/val/000060_0792.jpg: 256x416 1 pig, 5.7ms\n",
      "image 265/1744 /kaggle/working/yolo/images/val/000060_0798.jpg: 256x416 1 pig, 5.7ms\n",
      "image 266/1744 /kaggle/working/yolo/images/val/000060_0834.jpg: 256x416 (no detections), 5.7ms\n",
      "image 267/1744 /kaggle/working/yolo/images/val/000060_0843.jpg: 256x416 (no detections), 5.7ms\n",
      "image 268/1744 /kaggle/working/yolo/images/val/000060_0852.jpg: 256x416 1 pig, 6.4ms\n",
      "image 269/1744 /kaggle/working/yolo/images/val/000060_0897.jpg: 256x416 1 pig, 5.7ms\n",
      "image 270/1744 /kaggle/working/yolo/images/val/000060_0900.jpg: 256x416 1 pig, 5.9ms\n",
      "image 271/1744 /kaggle/working/yolo/images/val/000060_0903.jpg: 256x416 1 pig, 5.6ms\n",
      "image 272/1744 /kaggle/working/yolo/images/val/000060_0909.jpg: 256x416 2 pigs, 5.7ms\n",
      "image 273/1744 /kaggle/working/yolo/images/val/000060_0918.jpg: 256x416 1 pig, 5.7ms\n",
      "image 274/1744 /kaggle/working/yolo/images/val/000060_0924.jpg: 256x416 2 pigs, 5.8ms\n",
      "image 275/1744 /kaggle/working/yolo/images/val/000060_0927.jpg: 256x416 2 pigs, 5.9ms\n",
      "image 276/1744 /kaggle/working/yolo/images/val/000060_0936.jpg: 256x416 2 pigs, 5.9ms\n",
      "image 277/1744 /kaggle/working/yolo/images/val/000060_0954.jpg: 256x416 2 pigs, 6.1ms\n",
      "image 278/1744 /kaggle/working/yolo/images/val/000060_0960.jpg: 256x416 2 pigs, 5.6ms\n",
      "image 279/1744 /kaggle/working/yolo/images/val/000060_0963.jpg: 256x416 (no detections), 5.7ms\n",
      "image 280/1744 /kaggle/working/yolo/images/val/000060_0966.jpg: 256x416 1 pig, 5.6ms\n",
      "image 281/1744 /kaggle/working/yolo/images/val/000060_0969.jpg: 256x416 1 pig, 5.7ms\n",
      "image 282/1744 /kaggle/working/yolo/images/val/000060_0972.jpg: 256x416 1 pig, 5.7ms\n",
      "image 283/1744 /kaggle/working/yolo/images/val/000060_0975.jpg: 256x416 2 pigs, 5.7ms\n",
      "image 284/1744 /kaggle/working/yolo/images/val/000060_0993.jpg: 256x416 1 pig, 5.7ms\n",
      "image 285/1744 /kaggle/working/yolo/images/val/000060_1008.jpg: 256x416 1 pig, 5.7ms\n",
      "image 286/1744 /kaggle/working/yolo/images/val/000060_1017.jpg: 256x416 (no detections), 5.8ms\n",
      "image 287/1744 /kaggle/working/yolo/images/val/000060_1026.jpg: 256x416 (no detections), 5.7ms\n",
      "image 288/1744 /kaggle/working/yolo/images/val/000060_1032.jpg: 256x416 1 pig, 6.1ms\n",
      "image 289/1744 /kaggle/working/yolo/images/val/000060_1038.jpg: 256x416 1 pig, 5.6ms\n",
      "image 290/1744 /kaggle/working/yolo/images/val/000060_1044.jpg: 256x416 1 pig, 5.7ms\n",
      "image 291/1744 /kaggle/working/yolo/images/val/000060_1050.jpg: 256x416 1 pig, 5.9ms\n",
      "image 292/1744 /kaggle/working/yolo/images/val/000060_1059.jpg: 256x416 (no detections), 5.7ms\n",
      "image 293/1744 /kaggle/working/yolo/images/val/000060_1092.jpg: 256x416 (no detections), 5.7ms\n",
      "image 294/1744 /kaggle/working/yolo/images/val/000060_1113.jpg: 256x416 1 pig, 5.7ms\n",
      "image 295/1744 /kaggle/working/yolo/images/val/000060_1119.jpg: 256x416 1 pig, 5.7ms\n",
      "image 296/1744 /kaggle/working/yolo/images/val/000060_1125.jpg: 256x416 1 pig, 5.7ms\n",
      "image 297/1744 /kaggle/working/yolo/images/val/000060_1131.jpg: 256x416 (no detections), 5.8ms\n",
      "image 298/1744 /kaggle/working/yolo/images/val/000060_1137.jpg: 256x416 (no detections), 6.0ms\n",
      "image 299/1744 /kaggle/working/yolo/images/val/000060_1173.jpg: 256x416 1 pig, 5.7ms\n",
      "image 300/1744 /kaggle/working/yolo/images/val/000060_1179.jpg: 256x416 1 pig, 5.8ms\n",
      "image 301/1744 /kaggle/working/yolo/images/val/000060_1185.jpg: 256x416 1 pig, 5.9ms\n",
      "image 302/1744 /kaggle/working/yolo/images/val/000060_1191.jpg: 256x416 1 pig, 5.9ms\n",
      "image 303/1744 /kaggle/working/yolo/images/val/000060_1197.jpg: 256x416 1 pig, 5.9ms\n",
      "image 304/1744 /kaggle/working/yolo/images/val/000060_1206.jpg: 256x416 1 pig, 5.7ms\n",
      "image 305/1744 /kaggle/working/yolo/images/val/000060_1212.jpg: 256x416 1 pig, 5.8ms\n",
      "image 306/1744 /kaggle/working/yolo/images/val/000060_1218.jpg: 256x416 1 pig, 5.7ms\n",
      "image 307/1744 /kaggle/working/yolo/images/val/000060_1224.jpg: 256x416 1 pig, 5.7ms\n",
      "image 308/1744 /kaggle/working/yolo/images/val/000060_1233.jpg: 256x416 1 pig, 5.6ms\n",
      "image 309/1744 /kaggle/working/yolo/images/val/000060_1239.jpg: 256x416 1 pig, 5.9ms\n",
      "image 310/1744 /kaggle/working/yolo/images/val/000060_1242.jpg: 256x416 1 pig, 5.7ms\n",
      "image 311/1744 /kaggle/working/yolo/images/val/000060_1245.jpg: 256x416 1 pig, 5.7ms\n",
      "image 312/1744 /kaggle/working/yolo/images/val/000060_1251.jpg: 256x416 1 pig, 5.9ms\n",
      "image 313/1744 /kaggle/working/yolo/images/val/000060_1257.jpg: 256x416 1 pig, 5.7ms\n",
      "image 314/1744 /kaggle/working/yolo/images/val/000060_1263.jpg: 256x416 (no detections), 5.7ms\n",
      "image 315/1744 /kaggle/working/yolo/images/val/000060_1326.jpg: 256x416 (no detections), 5.7ms\n",
      "image 316/1744 /kaggle/working/yolo/images/val/000060_1335.jpg: 256x416 (no detections), 5.7ms\n",
      "image 317/1744 /kaggle/working/yolo/images/val/000060_1341.jpg: 256x416 1 pig, 5.8ms\n",
      "image 318/1744 /kaggle/working/yolo/images/val/000060_1347.jpg: 256x416 1 pig, 5.8ms\n",
      "image 319/1744 /kaggle/working/yolo/images/val/000060_1350.jpg: 256x416 1 pig, 5.8ms\n",
      "image 320/1744 /kaggle/working/yolo/images/val/000060_1353.jpg: 256x416 1 pig, 5.8ms\n",
      "image 321/1744 /kaggle/working/yolo/images/val/000060_1359.jpg: 256x416 1 pig, 5.8ms\n",
      "image 322/1744 /kaggle/working/yolo/images/val/000060_1365.jpg: 256x416 1 pig, 5.9ms\n",
      "image 323/1744 /kaggle/working/yolo/images/val/000060_1383.jpg: 256x416 1 pig, 5.8ms\n",
      "image 324/1744 /kaggle/working/yolo/images/val/000060_1389.jpg: 256x416 1 pig, 6.3ms\n",
      "image 325/1744 /kaggle/working/yolo/images/val/000060_1395.jpg: 256x416 1 pig, 6.5ms\n",
      "image 326/1744 /kaggle/working/yolo/images/val/000060_1401.jpg: 256x416 1 pig, 6.4ms\n",
      "image 327/1744 /kaggle/working/yolo/images/val/000060_1419.jpg: 256x416 1 pig, 6.8ms\n",
      "image 328/1744 /kaggle/working/yolo/images/val/000060_1437.jpg: 256x416 (no detections), 6.5ms\n",
      "image 329/1744 /kaggle/working/yolo/images/val/000060_1479.jpg: 256x416 (no detections), 6.4ms\n",
      "image 330/1744 /kaggle/working/yolo/images/val/000060_1485.jpg: 256x416 1 pig, 6.3ms\n",
      "image 331/1744 /kaggle/working/yolo/images/val/000060_1491.jpg: 256x416 1 pig, 6.0ms\n",
      "image 332/1744 /kaggle/working/yolo/images/val/000060_1500.jpg: 256x416 1 pig, 5.7ms\n",
      "image 333/1744 /kaggle/working/yolo/images/val/000060_1503.jpg: 256x416 1 pig, 5.8ms\n",
      "image 334/1744 /kaggle/working/yolo/images/val/000060_1509.jpg: 256x416 1 pig, 5.9ms\n",
      "image 335/1744 /kaggle/working/yolo/images/val/000060_1533.jpg: 256x416 1 pig, 5.9ms\n",
      "image 336/1744 /kaggle/working/yolo/images/val/000060_1536.jpg: 256x416 (no detections), 5.8ms\n",
      "image 337/1744 /kaggle/working/yolo/images/val/000060_1542.jpg: 256x416 (no detections), 5.8ms\n",
      "image 338/1744 /kaggle/working/yolo/images/val/000060_1548.jpg: 256x416 (no detections), 5.8ms\n",
      "image 339/1744 /kaggle/working/yolo/images/val/000060_1554.jpg: 256x416 (no detections), 5.9ms\n",
      "image 340/1744 /kaggle/working/yolo/images/val/000060_1575.jpg: 256x416 (no detections), 5.9ms\n",
      "image 341/1744 /kaggle/working/yolo/images/val/000060_1650.jpg: 256x416 1 pig, 6.0ms\n",
      "image 342/1744 /kaggle/working/yolo/images/val/000060_1653.jpg: 256x416 1 pig, 6.0ms\n",
      "image 343/1744 /kaggle/working/yolo/images/val/000060_1659.jpg: 256x416 1 pig, 5.8ms\n",
      "image 344/1744 /kaggle/working/yolo/images/val/000060_1665.jpg: 256x416 1 pig, 5.8ms\n",
      "image 345/1744 /kaggle/working/yolo/images/val/000060_1680.jpg: 256x416 1 pig, 6.2ms\n",
      "image 346/1744 /kaggle/working/yolo/images/val/000060_1686.jpg: 256x416 1 pig, 5.9ms\n",
      "image 347/1744 /kaggle/working/yolo/images/val/000060_1698.jpg: 256x416 1 pig, 5.9ms\n",
      "image 348/1744 /kaggle/working/yolo/images/val/000060_1704.jpg: 256x416 (no detections), 5.9ms\n",
      "image 349/1744 /kaggle/working/yolo/images/val/000060_1710.jpg: 256x416 1 pig, 5.8ms\n",
      "image 350/1744 /kaggle/working/yolo/images/val/000060_1716.jpg: 256x416 (no detections), 5.8ms\n",
      "image 351/1744 /kaggle/working/yolo/images/val/000060_1740.jpg: 256x416 (no detections), 5.7ms\n",
      "image 352/1744 /kaggle/working/yolo/images/val/000060_1764.jpg: 256x416 (no detections), 5.6ms\n",
      "image 353/1744 /kaggle/working/yolo/images/val/000060_1770.jpg: 256x416 1 pig, 5.6ms\n",
      "image 354/1744 /kaggle/working/yolo/images/val/000060_1797.jpg: 256x416 1 pig, 5.6ms\n",
      "image 355/1744 /kaggle/working/yolo/images/val/000078_0000.jpg: 256x416 7 pigs, 5.7ms\n",
      "image 356/1744 /kaggle/working/yolo/images/val/000078_0036.jpg: 256x416 3 pigs, 5.5ms\n",
      "image 357/1744 /kaggle/working/yolo/images/val/000078_0060.jpg: 256x416 4 pigs, 6.5ms\n",
      "image 358/1744 /kaggle/working/yolo/images/val/000078_0075.jpg: 256x416 5 pigs, 7.8ms\n",
      "image 359/1744 /kaggle/working/yolo/images/val/000078_0084.jpg: 256x416 4 pigs, 5.8ms\n",
      "image 360/1744 /kaggle/working/yolo/images/val/000078_0099.jpg: 256x416 3 pigs, 6.0ms\n",
      "image 361/1744 /kaggle/working/yolo/images/val/000078_0114.jpg: 256x416 4 pigs, 5.7ms\n",
      "image 362/1744 /kaggle/working/yolo/images/val/000078_0153.jpg: 256x416 3 pigs, 6.4ms\n",
      "image 363/1744 /kaggle/working/yolo/images/val/000078_0165.jpg: 256x416 2 pigs, 6.0ms\n",
      "image 364/1744 /kaggle/working/yolo/images/val/000078_0171.jpg: 256x416 3 pigs, 6.3ms\n",
      "image 365/1744 /kaggle/working/yolo/images/val/000078_0186.jpg: 256x416 4 pigs, 5.7ms\n",
      "image 366/1744 /kaggle/working/yolo/images/val/000078_0189.jpg: 256x416 4 pigs, 7.4ms\n",
      "image 367/1744 /kaggle/working/yolo/images/val/000078_0192.jpg: 256x416 5 pigs, 5.6ms\n",
      "image 368/1744 /kaggle/working/yolo/images/val/000078_0195.jpg: 256x416 5 pigs, 5.7ms\n",
      "image 369/1744 /kaggle/working/yolo/images/val/000078_0198.jpg: 256x416 5 pigs, 5.9ms\n",
      "image 370/1744 /kaggle/working/yolo/images/val/000078_0210.jpg: 256x416 2 pigs, 5.6ms\n",
      "image 371/1744 /kaggle/working/yolo/images/val/000078_0219.jpg: 256x416 1 pig, 5.6ms\n",
      "image 372/1744 /kaggle/working/yolo/images/val/000078_0231.jpg: 256x416 2 pigs, 5.7ms\n",
      "image 373/1744 /kaggle/working/yolo/images/val/000078_0237.jpg: 256x416 2 pigs, 5.6ms\n",
      "image 374/1744 /kaggle/working/yolo/images/val/000078_0243.jpg: 256x416 3 pigs, 5.6ms\n",
      "image 375/1744 /kaggle/working/yolo/images/val/000078_0258.jpg: 256x416 4 pigs, 5.8ms\n",
      "image 376/1744 /kaggle/working/yolo/images/val/000078_0270.jpg: 256x416 4 pigs, 5.6ms\n",
      "image 377/1744 /kaggle/working/yolo/images/val/000078_0291.jpg: 256x416 2 pigs, 5.6ms\n",
      "image 378/1744 /kaggle/working/yolo/images/val/000078_0294.jpg: 256x416 2 pigs, 5.8ms\n",
      "image 379/1744 /kaggle/working/yolo/images/val/000078_0303.jpg: 256x416 4 pigs, 6.0ms\n",
      "image 380/1744 /kaggle/working/yolo/images/val/000078_0309.jpg: 256x416 4 pigs, 5.7ms\n",
      "image 381/1744 /kaggle/working/yolo/images/val/000078_0315.jpg: 256x416 2 pigs, 5.8ms\n",
      "image 382/1744 /kaggle/working/yolo/images/val/000078_0318.jpg: 256x416 2 pigs, 5.7ms\n",
      "image 383/1744 /kaggle/working/yolo/images/val/000078_0321.jpg: 256x416 1 pig, 5.8ms\n",
      "image 384/1744 /kaggle/working/yolo/images/val/000078_0324.jpg: 256x416 3 pigs, 5.9ms\n",
      "image 385/1744 /kaggle/working/yolo/images/val/000078_0330.jpg: 256x416 3 pigs, 6.6ms\n",
      "image 386/1744 /kaggle/working/yolo/images/val/000078_0333.jpg: 256x416 4 pigs, 5.7ms\n",
      "image 387/1744 /kaggle/working/yolo/images/val/000078_0339.jpg: 256x416 3 pigs, 6.1ms\n",
      "image 388/1744 /kaggle/working/yolo/images/val/000078_0342.jpg: 256x416 3 pigs, 5.9ms\n",
      "image 389/1744 /kaggle/working/yolo/images/val/000078_0348.jpg: 256x416 4 pigs, 5.8ms\n",
      "image 390/1744 /kaggle/working/yolo/images/val/000078_0351.jpg: 256x416 4 pigs, 7.2ms\n",
      "image 391/1744 /kaggle/working/yolo/images/val/000078_0354.jpg: 256x416 4 pigs, 7.1ms\n",
      "image 392/1744 /kaggle/working/yolo/images/val/000078_0357.jpg: 256x416 4 pigs, 5.9ms\n",
      "image 393/1744 /kaggle/working/yolo/images/val/000078_0360.jpg: 256x416 4 pigs, 5.8ms\n",
      "image 394/1744 /kaggle/working/yolo/images/val/000078_0366.jpg: 256x416 4 pigs, 5.8ms\n",
      "image 395/1744 /kaggle/working/yolo/images/val/000078_0372.jpg: 256x416 4 pigs, 5.8ms\n",
      "image 396/1744 /kaggle/working/yolo/images/val/000078_0378.jpg: 256x416 4 pigs, 5.8ms\n",
      "image 397/1744 /kaggle/working/yolo/images/val/000078_0381.jpg: 256x416 3 pigs, 5.7ms\n",
      "image 398/1744 /kaggle/working/yolo/images/val/000078_0387.jpg: 256x416 5 pigs, 5.9ms\n",
      "image 399/1744 /kaggle/working/yolo/images/val/000078_0393.jpg: 256x416 2 pigs, 5.7ms\n",
      "image 400/1744 /kaggle/working/yolo/images/val/000078_0396.jpg: 256x416 4 pigs, 6.1ms\n",
      "image 401/1744 /kaggle/working/yolo/images/val/000078_0402.jpg: 256x416 3 pigs, 6.1ms\n",
      "image 402/1744 /kaggle/working/yolo/images/val/000078_0414.jpg: 256x416 3 pigs, 5.8ms\n",
      "image 403/1744 /kaggle/working/yolo/images/val/000078_0420.jpg: 256x416 4 pigs, 5.8ms\n",
      "image 404/1744 /kaggle/working/yolo/images/val/000078_0423.jpg: 256x416 4 pigs, 7.4ms\n",
      "image 405/1744 /kaggle/working/yolo/images/val/000078_0426.jpg: 256x416 4 pigs, 5.8ms\n",
      "image 406/1744 /kaggle/working/yolo/images/val/000078_0429.jpg: 256x416 4 pigs, 6.0ms\n",
      "image 407/1744 /kaggle/working/yolo/images/val/000078_0435.jpg: 256x416 3 pigs, 6.0ms\n",
      "image 408/1744 /kaggle/working/yolo/images/val/000078_0438.jpg: 256x416 4 pigs, 5.8ms\n",
      "image 409/1744 /kaggle/working/yolo/images/val/000078_0441.jpg: 256x416 4 pigs, 7.1ms\n",
      "image 410/1744 /kaggle/working/yolo/images/val/000078_0444.jpg: 256x416 2 pigs, 8.3ms\n",
      "image 411/1744 /kaggle/working/yolo/images/val/000078_0453.jpg: 256x416 1 pig, 5.7ms\n",
      "image 412/1744 /kaggle/working/yolo/images/val/000078_0456.jpg: 256x416 1 pig, 5.8ms\n",
      "image 413/1744 /kaggle/working/yolo/images/val/000078_0468.jpg: 256x416 1 pig, 5.9ms\n",
      "image 414/1744 /kaggle/working/yolo/images/val/000078_0471.jpg: 256x416 1 pig, 5.7ms\n",
      "image 415/1744 /kaggle/working/yolo/images/val/000078_0474.jpg: 256x416 2 pigs, 5.7ms\n",
      "image 416/1744 /kaggle/working/yolo/images/val/000078_0477.jpg: 256x416 1 pig, 5.9ms\n",
      "image 417/1744 /kaggle/working/yolo/images/val/000078_0480.jpg: 256x416 1 pig, 5.8ms\n",
      "image 418/1744 /kaggle/working/yolo/images/val/000078_0483.jpg: 256x416 1 pig, 5.7ms\n",
      "image 419/1744 /kaggle/working/yolo/images/val/000078_0486.jpg: 256x416 1 pig, 5.7ms\n",
      "image 420/1744 /kaggle/working/yolo/images/val/000078_0489.jpg: 256x416 1 pig, 5.7ms\n",
      "image 421/1744 /kaggle/working/yolo/images/val/000078_0492.jpg: 256x416 1 pig, 5.7ms\n",
      "image 422/1744 /kaggle/working/yolo/images/val/000078_0495.jpg: 256x416 2 pigs, 5.6ms\n",
      "image 423/1744 /kaggle/working/yolo/images/val/000078_0501.jpg: 256x416 1 pig, 5.6ms\n",
      "image 424/1744 /kaggle/working/yolo/images/val/000078_0504.jpg: 256x416 (no detections), 5.6ms\n",
      "image 425/1744 /kaggle/working/yolo/images/val/000078_0510.jpg: 256x416 1 pig, 5.6ms\n",
      "image 426/1744 /kaggle/working/yolo/images/val/000078_0513.jpg: 256x416 1 pig, 5.6ms\n",
      "image 427/1744 /kaggle/working/yolo/images/val/000078_0516.jpg: 256x416 1 pig, 5.6ms\n",
      "image 428/1744 /kaggle/working/yolo/images/val/000078_0519.jpg: 256x416 2 pigs, 5.5ms\n",
      "image 429/1744 /kaggle/working/yolo/images/val/000078_0531.jpg: 256x416 2 pigs, 5.8ms\n",
      "image 430/1744 /kaggle/working/yolo/images/val/000078_0534.jpg: 256x416 2 pigs, 6.3ms\n",
      "image 431/1744 /kaggle/working/yolo/images/val/000078_0546.jpg: 256x416 1 pig, 5.7ms\n",
      "image 432/1744 /kaggle/working/yolo/images/val/000078_0549.jpg: 256x416 (no detections), 5.6ms\n",
      "image 433/1744 /kaggle/working/yolo/images/val/000078_0555.jpg: 256x416 3 pigs, 5.6ms\n",
      "image 434/1744 /kaggle/working/yolo/images/val/000078_0561.jpg: 256x416 3 pigs, 5.6ms\n",
      "image 435/1744 /kaggle/working/yolo/images/val/000078_0573.jpg: 256x416 3 pigs, 5.6ms\n",
      "image 436/1744 /kaggle/working/yolo/images/val/000078_0576.jpg: 256x416 3 pigs, 5.5ms\n",
      "image 437/1744 /kaggle/working/yolo/images/val/000078_0579.jpg: 256x416 3 pigs, 5.6ms\n",
      "image 438/1744 /kaggle/working/yolo/images/val/000078_0585.jpg: 256x416 3 pigs, 5.6ms\n",
      "image 439/1744 /kaggle/working/yolo/images/val/000078_0591.jpg: 256x416 3 pigs, 5.6ms\n",
      "image 440/1744 /kaggle/working/yolo/images/val/000078_0594.jpg: 256x416 3 pigs, 5.7ms\n",
      "image 441/1744 /kaggle/working/yolo/images/val/000078_0609.jpg: 256x416 3 pigs, 5.6ms\n",
      "image 442/1744 /kaggle/working/yolo/images/val/000078_0612.jpg: 256x416 2 pigs, 5.7ms\n",
      "image 443/1744 /kaggle/working/yolo/images/val/000078_0615.jpg: 256x416 3 pigs, 5.6ms\n",
      "image 444/1744 /kaggle/working/yolo/images/val/000078_0618.jpg: 256x416 3 pigs, 5.7ms\n",
      "image 445/1744 /kaggle/working/yolo/images/val/000078_0621.jpg: 256x416 1 pig, 5.7ms\n",
      "image 446/1744 /kaggle/working/yolo/images/val/000078_0624.jpg: 256x416 2 pigs, 5.7ms\n",
      "image 447/1744 /kaggle/working/yolo/images/val/000078_0627.jpg: 256x416 2 pigs, 5.7ms\n",
      "image 448/1744 /kaggle/working/yolo/images/val/000078_0630.jpg: 256x416 2 pigs, 5.8ms\n",
      "image 449/1744 /kaggle/working/yolo/images/val/000078_0633.jpg: 256x416 2 pigs, 5.6ms\n",
      "image 450/1744 /kaggle/working/yolo/images/val/000078_0636.jpg: 256x416 1 pig, 5.9ms\n",
      "image 451/1744 /kaggle/working/yolo/images/val/000078_0639.jpg: 256x416 1 pig, 5.6ms\n",
      "image 452/1744 /kaggle/working/yolo/images/val/000078_0642.jpg: 256x416 1 pig, 5.6ms\n",
      "image 453/1744 /kaggle/working/yolo/images/val/000078_0645.jpg: 256x416 1 pig, 5.7ms\n",
      "image 454/1744 /kaggle/working/yolo/images/val/000078_0651.jpg: 256x416 1 pig, 5.7ms\n",
      "image 455/1744 /kaggle/working/yolo/images/val/000078_0654.jpg: 256x416 1 pig, 5.6ms\n",
      "image 456/1744 /kaggle/working/yolo/images/val/000078_0657.jpg: 256x416 (no detections), 5.7ms\n",
      "image 457/1744 /kaggle/working/yolo/images/val/000078_0660.jpg: 256x416 (no detections), 5.6ms\n",
      "image 458/1744 /kaggle/working/yolo/images/val/000078_0663.jpg: 256x416 (no detections), 6.2ms\n",
      "image 459/1744 /kaggle/working/yolo/images/val/000078_0666.jpg: 256x416 (no detections), 5.6ms\n",
      "image 460/1744 /kaggle/working/yolo/images/val/000078_0672.jpg: 256x416 (no detections), 5.6ms\n",
      "image 461/1744 /kaggle/working/yolo/images/val/000078_0675.jpg: 256x416 (no detections), 5.6ms\n",
      "image 462/1744 /kaggle/working/yolo/images/val/000078_0678.jpg: 256x416 (no detections), 6.0ms\n",
      "image 463/1744 /kaggle/working/yolo/images/val/000078_0690.jpg: 256x416 (no detections), 6.0ms\n",
      "image 464/1744 /kaggle/working/yolo/images/val/000078_0693.jpg: 256x416 1 pig, 5.8ms\n",
      "image 465/1744 /kaggle/working/yolo/images/val/000078_0708.jpg: 256x416 1 pig, 5.8ms\n",
      "image 466/1744 /kaggle/working/yolo/images/val/000078_0714.jpg: 256x416 1 pig, 5.7ms\n",
      "image 467/1744 /kaggle/working/yolo/images/val/000078_0720.jpg: 256x416 1 pig, 6.0ms\n",
      "image 468/1744 /kaggle/working/yolo/images/val/000078_0723.jpg: 256x416 2 pigs, 6.1ms\n",
      "image 469/1744 /kaggle/working/yolo/images/val/000078_0732.jpg: 256x416 1 pig, 5.7ms\n",
      "image 470/1744 /kaggle/working/yolo/images/val/000078_0750.jpg: 256x416 2 pigs, 5.6ms\n",
      "image 471/1744 /kaggle/working/yolo/images/val/000078_0756.jpg: 256x416 1 pig, 7.2ms\n",
      "image 472/1744 /kaggle/working/yolo/images/val/000078_0768.jpg: 256x416 (no detections), 6.1ms\n",
      "image 473/1744 /kaggle/working/yolo/images/val/000078_0777.jpg: 256x416 (no detections), 5.9ms\n",
      "image 474/1744 /kaggle/working/yolo/images/val/000078_0783.jpg: 256x416 (no detections), 6.0ms\n",
      "image 475/1744 /kaggle/working/yolo/images/val/000078_0786.jpg: 256x416 (no detections), 5.8ms\n",
      "image 476/1744 /kaggle/working/yolo/images/val/000078_0792.jpg: 256x416 1 pig, 6.0ms\n",
      "image 477/1744 /kaggle/working/yolo/images/val/000078_0798.jpg: 256x416 (no detections), 8.0ms\n",
      "image 478/1744 /kaggle/working/yolo/images/val/000078_0804.jpg: 256x416 (no detections), 8.0ms\n",
      "image 479/1744 /kaggle/working/yolo/images/val/000078_0828.jpg: 256x416 (no detections), 8.4ms\n",
      "image 480/1744 /kaggle/working/yolo/images/val/000078_0837.jpg: 256x416 1 pig, 7.9ms\n",
      "image 481/1744 /kaggle/working/yolo/images/val/000078_0840.jpg: 256x416 (no detections), 5.8ms\n",
      "image 482/1744 /kaggle/working/yolo/images/val/000078_0846.jpg: 256x416 1 pig, 6.1ms\n",
      "image 483/1744 /kaggle/working/yolo/images/val/000078_0849.jpg: 256x416 (no detections), 6.0ms\n",
      "image 484/1744 /kaggle/working/yolo/images/val/000078_0861.jpg: 256x416 (no detections), 6.2ms\n",
      "image 485/1744 /kaggle/working/yolo/images/val/000078_0864.jpg: 256x416 (no detections), 6.2ms\n",
      "image 486/1744 /kaggle/working/yolo/images/val/000078_0870.jpg: 256x416 (no detections), 6.1ms\n",
      "image 487/1744 /kaggle/working/yolo/images/val/000078_0876.jpg: 256x416 (no detections), 6.4ms\n",
      "image 488/1744 /kaggle/working/yolo/images/val/000078_0879.jpg: 256x416 (no detections), 6.1ms\n",
      "image 489/1744 /kaggle/working/yolo/images/val/000078_0882.jpg: 256x416 (no detections), 6.3ms\n",
      "image 490/1744 /kaggle/working/yolo/images/val/000078_0885.jpg: 256x416 (no detections), 6.4ms\n",
      "image 491/1744 /kaggle/working/yolo/images/val/000078_0888.jpg: 256x416 (no detections), 6.1ms\n",
      "image 492/1744 /kaggle/working/yolo/images/val/000078_0891.jpg: 256x416 (no detections), 6.2ms\n",
      "image 493/1744 /kaggle/working/yolo/images/val/000078_0894.jpg: 256x416 2 pigs, 5.7ms\n",
      "image 494/1744 /kaggle/working/yolo/images/val/000078_0900.jpg: 256x416 2 pigs, 5.6ms\n",
      "image 495/1744 /kaggle/working/yolo/images/val/000078_0903.jpg: 256x416 2 pigs, 5.7ms\n",
      "image 496/1744 /kaggle/working/yolo/images/val/000078_0906.jpg: 256x416 2 pigs, 6.1ms\n",
      "image 497/1744 /kaggle/working/yolo/images/val/000078_0915.jpg: 256x416 1 pig, 5.6ms\n",
      "image 498/1744 /kaggle/working/yolo/images/val/000078_0927.jpg: 256x416 3 pigs, 5.9ms\n",
      "image 499/1744 /kaggle/working/yolo/images/val/000078_0942.jpg: 256x416 2 pigs, 5.7ms\n",
      "image 500/1744 /kaggle/working/yolo/images/val/000078_0954.jpg: 256x416 2 pigs, 5.8ms\n",
      "image 501/1744 /kaggle/working/yolo/images/val/000078_0960.jpg: 256x416 2 pigs, 5.7ms\n",
      "image 502/1744 /kaggle/working/yolo/images/val/000078_0963.jpg: 256x416 2 pigs, 5.7ms\n",
      "image 503/1744 /kaggle/working/yolo/images/val/000078_0969.jpg: 256x416 2 pigs, 5.7ms\n",
      "image 504/1744 /kaggle/working/yolo/images/val/000078_0978.jpg: 256x416 3 pigs, 5.8ms\n",
      "image 505/1744 /kaggle/working/yolo/images/val/000078_0987.jpg: 256x416 2 pigs, 5.6ms\n",
      "image 506/1744 /kaggle/working/yolo/images/val/000078_0996.jpg: 256x416 2 pigs, 5.7ms\n",
      "image 507/1744 /kaggle/working/yolo/images/val/000078_1002.jpg: 256x416 1 pig, 5.8ms\n",
      "image 508/1744 /kaggle/working/yolo/images/val/000078_1005.jpg: 256x416 (no detections), 5.7ms\n",
      "image 509/1744 /kaggle/working/yolo/images/val/000078_1008.jpg: 256x416 (no detections), 5.6ms\n",
      "image 510/1744 /kaggle/working/yolo/images/val/000078_1011.jpg: 256x416 1 pig, 5.6ms\n",
      "image 511/1744 /kaggle/working/yolo/images/val/000078_1014.jpg: 256x416 3 pigs, 5.6ms\n",
      "image 512/1744 /kaggle/working/yolo/images/val/000078_1017.jpg: 256x416 2 pigs, 5.6ms\n",
      "image 513/1744 /kaggle/working/yolo/images/val/000078_1023.jpg: 256x416 2 pigs, 5.7ms\n",
      "image 514/1744 /kaggle/working/yolo/images/val/000078_1032.jpg: 256x416 2 pigs, 5.9ms\n",
      "image 515/1744 /kaggle/working/yolo/images/val/000078_1050.jpg: 256x416 1 pig, 5.7ms\n",
      "image 516/1744 /kaggle/working/yolo/images/val/000078_1053.jpg: 256x416 3 pigs, 6.3ms\n",
      "image 517/1744 /kaggle/working/yolo/images/val/000078_1065.jpg: 256x416 2 pigs, 5.6ms\n",
      "image 518/1744 /kaggle/working/yolo/images/val/000078_1071.jpg: 256x416 2 pigs, 5.7ms\n",
      "image 519/1744 /kaggle/working/yolo/images/val/000078_1095.jpg: 256x416 3 pigs, 5.8ms\n",
      "image 520/1744 /kaggle/working/yolo/images/val/000078_1098.jpg: 256x416 3 pigs, 5.7ms\n",
      "image 521/1744 /kaggle/working/yolo/images/val/000078_1113.jpg: 256x416 3 pigs, 5.9ms\n",
      "image 522/1744 /kaggle/working/yolo/images/val/000078_1116.jpg: 256x416 4 pigs, 5.9ms\n",
      "image 523/1744 /kaggle/working/yolo/images/val/000078_1125.jpg: 256x416 3 pigs, 5.9ms\n",
      "image 524/1744 /kaggle/working/yolo/images/val/000078_1128.jpg: 256x416 2 pigs, 5.9ms\n",
      "image 525/1744 /kaggle/working/yolo/images/val/000078_1134.jpg: 256x416 3 pigs, 5.8ms\n",
      "image 526/1744 /kaggle/working/yolo/images/val/000078_1140.jpg: 256x416 3 pigs, 5.8ms\n",
      "image 527/1744 /kaggle/working/yolo/images/val/000078_1143.jpg: 256x416 2 pigs, 6.2ms\n",
      "image 528/1744 /kaggle/working/yolo/images/val/000078_1146.jpg: 256x416 3 pigs, 6.4ms\n",
      "image 529/1744 /kaggle/working/yolo/images/val/000078_1149.jpg: 256x416 3 pigs, 5.9ms\n",
      "image 530/1744 /kaggle/working/yolo/images/val/000078_1152.jpg: 256x416 4 pigs, 5.9ms\n",
      "image 531/1744 /kaggle/working/yolo/images/val/000078_1158.jpg: 256x416 3 pigs, 5.9ms\n",
      "image 532/1744 /kaggle/working/yolo/images/val/000078_1164.jpg: 256x416 5 pigs, 5.9ms\n",
      "image 533/1744 /kaggle/working/yolo/images/val/000078_1179.jpg: 256x416 3 pigs, 6.1ms\n",
      "image 534/1744 /kaggle/working/yolo/images/val/000078_1182.jpg: 256x416 2 pigs, 6.3ms\n",
      "image 535/1744 /kaggle/working/yolo/images/val/000078_1191.jpg: 256x416 3 pigs, 5.8ms\n",
      "image 536/1744 /kaggle/working/yolo/images/val/000078_1194.jpg: 256x416 3 pigs, 6.0ms\n",
      "image 537/1744 /kaggle/working/yolo/images/val/000078_1203.jpg: 256x416 3 pigs, 6.2ms\n",
      "image 538/1744 /kaggle/working/yolo/images/val/000078_1206.jpg: 256x416 3 pigs, 5.9ms\n",
      "image 539/1744 /kaggle/working/yolo/images/val/000078_1209.jpg: 256x416 3 pigs, 5.8ms\n",
      "image 540/1744 /kaggle/working/yolo/images/val/000078_1215.jpg: 256x416 3 pigs, 6.2ms\n",
      "image 541/1744 /kaggle/working/yolo/images/val/000078_1221.jpg: 256x416 3 pigs, 5.6ms\n",
      "image 542/1744 /kaggle/working/yolo/images/val/000078_1224.jpg: 256x416 4 pigs, 5.7ms\n",
      "image 543/1744 /kaggle/working/yolo/images/val/000078_1230.jpg: 256x416 4 pigs, 5.7ms\n",
      "image 544/1744 /kaggle/working/yolo/images/val/000078_1233.jpg: 256x416 4 pigs, 5.7ms\n",
      "image 545/1744 /kaggle/working/yolo/images/val/000078_1242.jpg: 256x416 2 pigs, 5.6ms\n",
      "image 546/1744 /kaggle/working/yolo/images/val/000078_1251.jpg: 256x416 3 pigs, 6.0ms\n",
      "image 547/1744 /kaggle/working/yolo/images/val/000078_1254.jpg: 256x416 3 pigs, 5.7ms\n",
      "image 548/1744 /kaggle/working/yolo/images/val/000078_1257.jpg: 256x416 2 pigs, 5.6ms\n",
      "image 549/1744 /kaggle/working/yolo/images/val/000078_1269.jpg: 256x416 3 pigs, 5.5ms\n",
      "image 550/1744 /kaggle/working/yolo/images/val/000078_1272.jpg: 256x416 3 pigs, 5.7ms\n",
      "image 551/1744 /kaggle/working/yolo/images/val/000078_1284.jpg: 256x416 2 pigs, 5.9ms\n",
      "image 552/1744 /kaggle/working/yolo/images/val/000078_1293.jpg: 256x416 1 pig, 5.7ms\n",
      "image 553/1744 /kaggle/working/yolo/images/val/000078_1299.jpg: 256x416 1 pig, 5.7ms\n",
      "image 554/1744 /kaggle/working/yolo/images/val/000078_1305.jpg: 256x416 1 pig, 5.8ms\n",
      "image 555/1744 /kaggle/working/yolo/images/val/000078_1311.jpg: 256x416 1 pig, 6.4ms\n",
      "image 556/1744 /kaggle/working/yolo/images/val/000078_1314.jpg: 256x416 1 pig, 9.1ms\n",
      "image 557/1744 /kaggle/working/yolo/images/val/000078_1329.jpg: 256x416 1 pig, 5.7ms\n",
      "image 558/1744 /kaggle/working/yolo/images/val/000078_1344.jpg: 256x416 2 pigs, 5.9ms\n",
      "image 559/1744 /kaggle/working/yolo/images/val/000078_1347.jpg: 256x416 2 pigs, 5.8ms\n",
      "image 560/1744 /kaggle/working/yolo/images/val/000078_1353.jpg: 256x416 1 pig, 5.8ms\n",
      "image 561/1744 /kaggle/working/yolo/images/val/000078_1362.jpg: 256x416 1 pig, 6.2ms\n",
      "image 562/1744 /kaggle/working/yolo/images/val/000078_1374.jpg: 256x416 1 pig, 6.0ms\n",
      "image 563/1744 /kaggle/working/yolo/images/val/000078_1380.jpg: 256x416 2 pigs, 5.8ms\n",
      "image 564/1744 /kaggle/working/yolo/images/val/000078_1383.jpg: 256x416 1 pig, 5.8ms\n",
      "image 565/1744 /kaggle/working/yolo/images/val/000078_1392.jpg: 256x416 1 pig, 6.1ms\n",
      "image 566/1744 /kaggle/working/yolo/images/val/000078_1401.jpg: 256x416 2 pigs, 5.7ms\n",
      "image 567/1744 /kaggle/working/yolo/images/val/000078_1404.jpg: 256x416 1 pig, 9.3ms\n",
      "image 568/1744 /kaggle/working/yolo/images/val/000078_1410.jpg: 256x416 1 pig, 6.6ms\n",
      "image 569/1744 /kaggle/working/yolo/images/val/000078_1413.jpg: 256x416 2 pigs, 5.7ms\n",
      "image 570/1744 /kaggle/working/yolo/images/val/000078_1416.jpg: 256x416 1 pig, 7.7ms\n",
      "image 571/1744 /kaggle/working/yolo/images/val/000078_1419.jpg: 256x416 1 pig, 8.3ms\n",
      "image 572/1744 /kaggle/working/yolo/images/val/000078_1422.jpg: 256x416 1 pig, 5.7ms\n",
      "image 573/1744 /kaggle/working/yolo/images/val/000078_1428.jpg: 256x416 2 pigs, 6.1ms\n",
      "image 574/1744 /kaggle/working/yolo/images/val/000078_1431.jpg: 256x416 1 pig, 9.0ms\n",
      "image 575/1744 /kaggle/working/yolo/images/val/000078_1434.jpg: 256x416 3 pigs, 6.0ms\n",
      "image 576/1744 /kaggle/working/yolo/images/val/000078_1437.jpg: 256x416 3 pigs, 6.2ms\n",
      "image 577/1744 /kaggle/working/yolo/images/val/000078_1440.jpg: 256x416 3 pigs, 6.1ms\n",
      "image 578/1744 /kaggle/working/yolo/images/val/000078_1446.jpg: 256x416 4 pigs, 6.0ms\n",
      "image 579/1744 /kaggle/working/yolo/images/val/000078_1464.jpg: 256x416 2 pigs, 8.4ms\n",
      "image 580/1744 /kaggle/working/yolo/images/val/000078_1467.jpg: 256x416 2 pigs, 7.5ms\n",
      "image 581/1744 /kaggle/working/yolo/images/val/000078_1470.jpg: 256x416 4 pigs, 6.0ms\n",
      "image 582/1744 /kaggle/working/yolo/images/val/000078_1473.jpg: 256x416 4 pigs, 7.2ms\n",
      "image 583/1744 /kaggle/working/yolo/images/val/000078_1476.jpg: 256x416 3 pigs, 6.4ms\n",
      "image 584/1744 /kaggle/working/yolo/images/val/000078_1479.jpg: 256x416 3 pigs, 6.2ms\n",
      "image 585/1744 /kaggle/working/yolo/images/val/000078_1482.jpg: 256x416 2 pigs, 6.3ms\n",
      "image 586/1744 /kaggle/working/yolo/images/val/000078_1488.jpg: 256x416 3 pigs, 8.0ms\n",
      "image 587/1744 /kaggle/working/yolo/images/val/000078_1491.jpg: 256x416 2 pigs, 5.8ms\n",
      "image 588/1744 /kaggle/working/yolo/images/val/000078_1500.jpg: 256x416 4 pigs, 5.7ms\n",
      "image 589/1744 /kaggle/working/yolo/images/val/000078_1503.jpg: 256x416 3 pigs, 9.7ms\n",
      "image 590/1744 /kaggle/working/yolo/images/val/000078_1506.jpg: 256x416 3 pigs, 5.9ms\n",
      "image 591/1744 /kaggle/working/yolo/images/val/000078_1509.jpg: 256x416 2 pigs, 9.5ms\n",
      "image 592/1744 /kaggle/working/yolo/images/val/000078_1515.jpg: 256x416 2 pigs, 6.3ms\n",
      "image 593/1744 /kaggle/working/yolo/images/val/000078_1518.jpg: 256x416 2 pigs, 6.2ms\n",
      "image 594/1744 /kaggle/working/yolo/images/val/000078_1521.jpg: 256x416 2 pigs, 5.9ms\n",
      "image 595/1744 /kaggle/working/yolo/images/val/000078_1524.jpg: 256x416 2 pigs, 6.0ms\n",
      "image 596/1744 /kaggle/working/yolo/images/val/000078_1530.jpg: 256x416 1 pig, 5.8ms\n",
      "image 597/1744 /kaggle/working/yolo/images/val/000078_1539.jpg: 256x416 1 pig, 8.5ms\n",
      "image 598/1744 /kaggle/working/yolo/images/val/000078_1542.jpg: 256x416 1 pig, 5.8ms\n",
      "image 599/1744 /kaggle/working/yolo/images/val/000078_1554.jpg: 256x416 1 pig, 5.8ms\n",
      "image 600/1744 /kaggle/working/yolo/images/val/000078_1557.jpg: 256x416 1 pig, 5.7ms\n",
      "image 601/1744 /kaggle/working/yolo/images/val/000078_1563.jpg: 256x416 3 pigs, 5.8ms\n",
      "image 602/1744 /kaggle/working/yolo/images/val/000078_1584.jpg: 256x416 2 pigs, 5.8ms\n",
      "image 603/1744 /kaggle/working/yolo/images/val/000078_1590.jpg: 256x416 2 pigs, 5.9ms\n",
      "image 604/1744 /kaggle/working/yolo/images/val/000078_1596.jpg: 256x416 2 pigs, 6.1ms\n",
      "image 605/1744 /kaggle/working/yolo/images/val/000078_1605.jpg: 256x416 3 pigs, 6.0ms\n",
      "image 606/1744 /kaggle/working/yolo/images/val/000078_1620.jpg: 256x416 3 pigs, 6.3ms\n",
      "image 607/1744 /kaggle/working/yolo/images/val/000078_1638.jpg: 256x416 1 pig, 5.8ms\n",
      "image 608/1744 /kaggle/working/yolo/images/val/000078_1644.jpg: 256x416 1 pig, 9.2ms\n",
      "image 609/1744 /kaggle/working/yolo/images/val/000078_1647.jpg: 256x416 3 pigs, 6.3ms\n",
      "image 610/1744 /kaggle/working/yolo/images/val/000078_1659.jpg: 256x416 3 pigs, 5.9ms\n",
      "image 611/1744 /kaggle/working/yolo/images/val/000078_1662.jpg: 256x416 3 pigs, 5.9ms\n",
      "image 612/1744 /kaggle/working/yolo/images/val/000078_1671.jpg: 256x416 3 pigs, 6.0ms\n",
      "image 613/1744 /kaggle/working/yolo/images/val/000078_1683.jpg: 256x416 3 pigs, 5.8ms\n",
      "image 614/1744 /kaggle/working/yolo/images/val/000078_1692.jpg: 256x416 2 pigs, 5.9ms\n",
      "image 615/1744 /kaggle/working/yolo/images/val/000078_1695.jpg: 256x416 2 pigs, 5.8ms\n",
      "image 616/1744 /kaggle/working/yolo/images/val/000078_1701.jpg: 256x416 2 pigs, 5.8ms\n",
      "image 617/1744 /kaggle/working/yolo/images/val/000078_1707.jpg: 256x416 2 pigs, 5.7ms\n",
      "image 618/1744 /kaggle/working/yolo/images/val/000078_1719.jpg: 256x416 2 pigs, 5.7ms\n",
      "image 619/1744 /kaggle/working/yolo/images/val/000078_1722.jpg: 256x416 3 pigs, 5.9ms\n",
      "image 620/1744 /kaggle/working/yolo/images/val/000078_1725.jpg: 256x416 3 pigs, 9.7ms\n",
      "image 621/1744 /kaggle/working/yolo/images/val/000078_1743.jpg: 256x416 2 pigs, 6.0ms\n",
      "image 622/1744 /kaggle/working/yolo/images/val/000078_1746.jpg: 256x416 3 pigs, 5.7ms\n",
      "image 623/1744 /kaggle/working/yolo/images/val/000078_1752.jpg: 256x416 2 pigs, 5.7ms\n",
      "image 624/1744 /kaggle/working/yolo/images/val/000078_1758.jpg: 256x416 3 pigs, 5.7ms\n",
      "image 625/1744 /kaggle/working/yolo/images/val/000078_1761.jpg: 256x416 3 pigs, 5.7ms\n",
      "image 626/1744 /kaggle/working/yolo/images/val/000078_1764.jpg: 256x416 2 pigs, 5.7ms\n",
      "image 627/1744 /kaggle/working/yolo/images/val/000078_1767.jpg: 256x416 3 pigs, 5.8ms\n",
      "image 628/1744 /kaggle/working/yolo/images/val/000078_1770.jpg: 256x416 2 pigs, 8.0ms\n",
      "image 629/1744 /kaggle/working/yolo/images/val/000078_1776.jpg: 256x416 4 pigs, 7.4ms\n",
      "image 630/1744 /kaggle/working/yolo/images/val/000078_1779.jpg: 256x416 5 pigs, 5.8ms\n",
      "image 631/1744 /kaggle/working/yolo/images/val/000078_1782.jpg: 256x416 3 pigs, 5.8ms\n",
      "image 632/1744 /kaggle/working/yolo/images/val/000078_1785.jpg: 256x416 4 pigs, 8.9ms\n",
      "image 633/1744 /kaggle/working/yolo/images/val/000078_1791.jpg: 256x416 3 pigs, 5.9ms\n",
      "image 634/1744 /kaggle/working/yolo/images/val/000078_1797.jpg: 256x416 3 pigs, 6.1ms\n",
      "image 635/1744 /kaggle/working/yolo/images/val/000113_0000.jpg: 256x416 (no detections), 6.0ms\n",
      "image 636/1744 /kaggle/working/yolo/images/val/000113_0003.jpg: 256x416 (no detections), 5.8ms\n",
      "image 637/1744 /kaggle/working/yolo/images/val/000113_0015.jpg: 256x416 (no detections), 6.0ms\n",
      "image 638/1744 /kaggle/working/yolo/images/val/000113_0027.jpg: 256x416 3 pigs, 5.6ms\n",
      "image 639/1744 /kaggle/working/yolo/images/val/000113_0030.jpg: 256x416 1 pig, 5.6ms\n",
      "image 640/1744 /kaggle/working/yolo/images/val/000113_0036.jpg: 256x416 (no detections), 5.7ms\n",
      "image 641/1744 /kaggle/working/yolo/images/val/000113_0039.jpg: 256x416 1 pig, 5.6ms\n",
      "image 642/1744 /kaggle/working/yolo/images/val/000113_0042.jpg: 256x416 1 pig, 5.7ms\n",
      "image 643/1744 /kaggle/working/yolo/images/val/000113_0045.jpg: 256x416 (no detections), 5.7ms\n",
      "image 644/1744 /kaggle/working/yolo/images/val/000113_0048.jpg: 256x416 1 pig, 5.8ms\n",
      "image 645/1744 /kaggle/working/yolo/images/val/000113_0051.jpg: 256x416 1 pig, 5.6ms\n",
      "image 646/1744 /kaggle/working/yolo/images/val/000113_0054.jpg: 256x416 (no detections), 5.7ms\n",
      "image 647/1744 /kaggle/working/yolo/images/val/000113_0057.jpg: 256x416 1 pig, 5.7ms\n",
      "image 648/1744 /kaggle/working/yolo/images/val/000113_0060.jpg: 256x416 (no detections), 5.7ms\n",
      "image 649/1744 /kaggle/working/yolo/images/val/000113_0063.jpg: 256x416 (no detections), 5.7ms\n",
      "image 650/1744 /kaggle/working/yolo/images/val/000113_0066.jpg: 256x416 (no detections), 5.7ms\n",
      "image 651/1744 /kaggle/working/yolo/images/val/000113_0069.jpg: 256x416 (no detections), 5.7ms\n",
      "image 652/1744 /kaggle/working/yolo/images/val/000113_0072.jpg: 256x416 (no detections), 5.8ms\n",
      "image 653/1744 /kaggle/working/yolo/images/val/000113_0075.jpg: 256x416 (no detections), 5.9ms\n",
      "image 654/1744 /kaggle/working/yolo/images/val/000113_0078.jpg: 256x416 (no detections), 5.9ms\n",
      "image 655/1744 /kaggle/working/yolo/images/val/000113_0081.jpg: 256x416 (no detections), 5.8ms\n",
      "image 656/1744 /kaggle/working/yolo/images/val/000113_0084.jpg: 256x416 (no detections), 5.7ms\n",
      "image 657/1744 /kaggle/working/yolo/images/val/000113_0087.jpg: 256x416 (no detections), 5.7ms\n",
      "image 658/1744 /kaggle/working/yolo/images/val/000113_0093.jpg: 256x416 (no detections), 5.7ms\n",
      "image 659/1744 /kaggle/working/yolo/images/val/000113_0105.jpg: 256x416 (no detections), 5.7ms\n",
      "image 660/1744 /kaggle/working/yolo/images/val/000113_0108.jpg: 256x416 (no detections), 5.8ms\n",
      "image 661/1744 /kaggle/working/yolo/images/val/000113_0111.jpg: 256x416 (no detections), 5.7ms\n",
      "image 662/1744 /kaggle/working/yolo/images/val/000113_0114.jpg: 256x416 (no detections), 6.0ms\n",
      "image 663/1744 /kaggle/working/yolo/images/val/000113_0120.jpg: 256x416 (no detections), 5.7ms\n",
      "image 664/1744 /kaggle/working/yolo/images/val/000113_0123.jpg: 256x416 (no detections), 6.0ms\n",
      "image 665/1744 /kaggle/working/yolo/images/val/000113_0126.jpg: 256x416 (no detections), 6.0ms\n",
      "image 666/1744 /kaggle/working/yolo/images/val/000113_0129.jpg: 256x416 (no detections), 5.8ms\n",
      "image 667/1744 /kaggle/working/yolo/images/val/000113_0132.jpg: 256x416 (no detections), 5.8ms\n",
      "image 668/1744 /kaggle/working/yolo/images/val/000113_0135.jpg: 256x416 (no detections), 5.8ms\n",
      "image 669/1744 /kaggle/working/yolo/images/val/000113_0138.jpg: 256x416 1 pig, 5.7ms\n",
      "image 670/1744 /kaggle/working/yolo/images/val/000113_0141.jpg: 256x416 1 pig, 5.9ms\n",
      "image 671/1744 /kaggle/working/yolo/images/val/000113_0144.jpg: 256x416 1 pig, 5.8ms\n",
      "image 672/1744 /kaggle/working/yolo/images/val/000113_0153.jpg: 256x416 (no detections), 5.8ms\n",
      "image 673/1744 /kaggle/working/yolo/images/val/000113_0156.jpg: 256x416 (no detections), 5.7ms\n",
      "image 674/1744 /kaggle/working/yolo/images/val/000113_0159.jpg: 256x416 (no detections), 6.4ms\n",
      "image 675/1744 /kaggle/working/yolo/images/val/000113_0162.jpg: 256x416 (no detections), 5.8ms\n",
      "image 676/1744 /kaggle/working/yolo/images/val/000113_0165.jpg: 256x416 (no detections), 5.8ms\n",
      "image 677/1744 /kaggle/working/yolo/images/val/000113_0168.jpg: 256x416 (no detections), 5.7ms\n",
      "image 678/1744 /kaggle/working/yolo/images/val/000113_0171.jpg: 256x416 (no detections), 5.7ms\n",
      "image 679/1744 /kaggle/working/yolo/images/val/000113_0183.jpg: 256x416 1 pig, 5.8ms\n",
      "image 680/1744 /kaggle/working/yolo/images/val/000113_0186.jpg: 256x416 1 pig, 5.7ms\n",
      "image 681/1744 /kaggle/working/yolo/images/val/000113_0192.jpg: 256x416 1 pig, 5.7ms\n",
      "image 682/1744 /kaggle/working/yolo/images/val/000113_0198.jpg: 256x416 1 pig, 5.6ms\n",
      "image 683/1744 /kaggle/working/yolo/images/val/000113_0201.jpg: 256x416 1 pig, 5.7ms\n",
      "image 684/1744 /kaggle/working/yolo/images/val/000113_0204.jpg: 256x416 (no detections), 5.7ms\n",
      "image 685/1744 /kaggle/working/yolo/images/val/000113_0207.jpg: 256x416 1 pig, 5.6ms\n",
      "image 686/1744 /kaggle/working/yolo/images/val/000113_0210.jpg: 256x416 (no detections), 5.7ms\n",
      "image 687/1744 /kaggle/working/yolo/images/val/000113_0213.jpg: 256x416 (no detections), 5.9ms\n",
      "image 688/1744 /kaggle/working/yolo/images/val/000113_0216.jpg: 256x416 1 pig, 5.6ms\n",
      "image 689/1744 /kaggle/working/yolo/images/val/000113_0219.jpg: 256x416 (no detections), 5.6ms\n",
      "image 690/1744 /kaggle/working/yolo/images/val/000113_0222.jpg: 256x416 1 pig, 5.7ms\n",
      "image 691/1744 /kaggle/working/yolo/images/val/000113_0225.jpg: 256x416 1 pig, 5.6ms\n",
      "image 692/1744 /kaggle/working/yolo/images/val/000113_0228.jpg: 256x416 2 pigs, 5.6ms\n",
      "image 693/1744 /kaggle/working/yolo/images/val/000113_0231.jpg: 256x416 1 pig, 5.6ms\n",
      "image 694/1744 /kaggle/working/yolo/images/val/000113_0234.jpg: 256x416 2 pigs, 5.8ms\n",
      "image 695/1744 /kaggle/working/yolo/images/val/000113_0237.jpg: 256x416 2 pigs, 5.6ms\n",
      "image 696/1744 /kaggle/working/yolo/images/val/000113_0240.jpg: 256x416 2 pigs, 5.9ms\n",
      "image 697/1744 /kaggle/working/yolo/images/val/000113_0246.jpg: 256x416 1 pig, 5.7ms\n",
      "image 698/1744 /kaggle/working/yolo/images/val/000113_0249.jpg: 256x416 2 pigs, 5.6ms\n",
      "image 699/1744 /kaggle/working/yolo/images/val/000113_0252.jpg: 256x416 2 pigs, 5.7ms\n",
      "image 700/1744 /kaggle/working/yolo/images/val/000113_0255.jpg: 256x416 2 pigs, 5.9ms\n",
      "image 701/1744 /kaggle/working/yolo/images/val/000113_0258.jpg: 256x416 2 pigs, 5.9ms\n",
      "image 702/1744 /kaggle/working/yolo/images/val/000113_0261.jpg: 256x416 2 pigs, 5.7ms\n",
      "image 703/1744 /kaggle/working/yolo/images/val/000113_0264.jpg: 256x416 1 pig, 5.7ms\n",
      "image 704/1744 /kaggle/working/yolo/images/val/000113_0267.jpg: 256x416 1 pig, 5.8ms\n",
      "image 705/1744 /kaggle/working/yolo/images/val/000113_0270.jpg: 256x416 1 pig, 5.6ms\n",
      "image 706/1744 /kaggle/working/yolo/images/val/000113_0276.jpg: 256x416 2 pigs, 5.7ms\n",
      "image 707/1744 /kaggle/working/yolo/images/val/000113_0279.jpg: 256x416 2 pigs, 5.6ms\n",
      "image 708/1744 /kaggle/working/yolo/images/val/000113_0282.jpg: 256x416 2 pigs, 5.6ms\n",
      "image 709/1744 /kaggle/working/yolo/images/val/000113_0285.jpg: 256x416 2 pigs, 5.6ms\n",
      "image 710/1744 /kaggle/working/yolo/images/val/000113_0288.jpg: 256x416 1 pig, 5.7ms\n",
      "image 711/1744 /kaggle/working/yolo/images/val/000113_0291.jpg: 256x416 1 pig, 5.9ms\n",
      "image 712/1744 /kaggle/working/yolo/images/val/000113_0294.jpg: 256x416 1 pig, 6.0ms\n",
      "image 713/1744 /kaggle/working/yolo/images/val/000113_0297.jpg: 256x416 2 pigs, 5.7ms\n",
      "image 714/1744 /kaggle/working/yolo/images/val/000113_0300.jpg: 256x416 2 pigs, 5.6ms\n",
      "image 715/1744 /kaggle/working/yolo/images/val/000113_0303.jpg: 256x416 2 pigs, 5.6ms\n",
      "image 716/1744 /kaggle/working/yolo/images/val/000113_0306.jpg: 256x416 2 pigs, 5.6ms\n",
      "image 717/1744 /kaggle/working/yolo/images/val/000113_0309.jpg: 256x416 1 pig, 5.6ms\n",
      "image 718/1744 /kaggle/working/yolo/images/val/000113_0312.jpg: 256x416 2 pigs, 5.9ms\n",
      "image 719/1744 /kaggle/working/yolo/images/val/000113_0315.jpg: 256x416 1 pig, 6.0ms\n",
      "image 720/1744 /kaggle/working/yolo/images/val/000113_0318.jpg: 256x416 (no detections), 5.6ms\n",
      "image 721/1744 /kaggle/working/yolo/images/val/000113_0321.jpg: 256x416 (no detections), 5.6ms\n",
      "image 722/1744 /kaggle/working/yolo/images/val/000113_0324.jpg: 256x416 (no detections), 5.6ms\n",
      "image 723/1744 /kaggle/working/yolo/images/val/000113_0327.jpg: 256x416 (no detections), 5.9ms\n",
      "image 724/1744 /kaggle/working/yolo/images/val/000113_0330.jpg: 256x416 (no detections), 5.7ms\n",
      "image 725/1744 /kaggle/working/yolo/images/val/000113_0333.jpg: 256x416 1 pig, 5.8ms\n",
      "image 726/1744 /kaggle/working/yolo/images/val/000113_0336.jpg: 256x416 1 pig, 5.8ms\n",
      "image 727/1744 /kaggle/working/yolo/images/val/000113_0339.jpg: 256x416 1 pig, 6.1ms\n",
      "image 728/1744 /kaggle/working/yolo/images/val/000113_0342.jpg: 256x416 1 pig, 5.8ms\n",
      "image 729/1744 /kaggle/working/yolo/images/val/000113_0345.jpg: 256x416 1 pig, 5.7ms\n",
      "image 730/1744 /kaggle/working/yolo/images/val/000113_0348.jpg: 256x416 (no detections), 5.7ms\n",
      "image 731/1744 /kaggle/working/yolo/images/val/000113_0351.jpg: 256x416 1 pig, 5.6ms\n",
      "image 732/1744 /kaggle/working/yolo/images/val/000113_0354.jpg: 256x416 2 pigs, 6.3ms\n",
      "image 733/1744 /kaggle/working/yolo/images/val/000113_0357.jpg: 256x416 1 pig, 5.5ms\n",
      "image 734/1744 /kaggle/working/yolo/images/val/000113_0360.jpg: 256x416 2 pigs, 5.6ms\n",
      "image 735/1744 /kaggle/working/yolo/images/val/000113_0363.jpg: 256x416 1 pig, 5.5ms\n",
      "image 736/1744 /kaggle/working/yolo/images/val/000113_0366.jpg: 256x416 1 pig, 5.6ms\n",
      "image 737/1744 /kaggle/working/yolo/images/val/000113_0369.jpg: 256x416 2 pigs, 6.6ms\n",
      "image 738/1744 /kaggle/working/yolo/images/val/000113_0372.jpg: 256x416 1 pig, 5.6ms\n",
      "image 739/1744 /kaggle/working/yolo/images/val/000113_0375.jpg: 256x416 (no detections), 5.7ms\n",
      "image 740/1744 /kaggle/working/yolo/images/val/000113_0378.jpg: 256x416 1 pig, 5.7ms\n",
      "image 741/1744 /kaggle/working/yolo/images/val/000113_0381.jpg: 256x416 (no detections), 5.6ms\n",
      "image 742/1744 /kaggle/working/yolo/images/val/000113_0384.jpg: 256x416 1 pig, 8.8ms\n",
      "image 743/1744 /kaggle/working/yolo/images/val/000113_0387.jpg: 256x416 1 pig, 6.0ms\n",
      "image 744/1744 /kaggle/working/yolo/images/val/000113_0390.jpg: 256x416 1 pig, 6.1ms\n",
      "image 745/1744 /kaggle/working/yolo/images/val/000113_0393.jpg: 256x416 1 pig, 6.1ms\n",
      "image 746/1744 /kaggle/working/yolo/images/val/000113_0396.jpg: 256x416 1 pig, 6.1ms\n",
      "image 747/1744 /kaggle/working/yolo/images/val/000113_0399.jpg: 256x416 1 pig, 5.7ms\n",
      "image 748/1744 /kaggle/working/yolo/images/val/000113_0402.jpg: 256x416 1 pig, 5.8ms\n",
      "image 749/1744 /kaggle/working/yolo/images/val/000113_0405.jpg: 256x416 2 pigs, 5.7ms\n",
      "image 750/1744 /kaggle/working/yolo/images/val/000113_0408.jpg: 256x416 1 pig, 5.8ms\n",
      "image 751/1744 /kaggle/working/yolo/images/val/000113_0411.jpg: 256x416 1 pig, 5.7ms\n",
      "image 752/1744 /kaggle/working/yolo/images/val/000113_0414.jpg: 256x416 2 pigs, 5.8ms\n",
      "image 753/1744 /kaggle/working/yolo/images/val/000113_0417.jpg: 256x416 2 pigs, 9.4ms\n",
      "image 754/1744 /kaggle/working/yolo/images/val/000113_0420.jpg: 256x416 2 pigs, 6.1ms\n",
      "image 755/1744 /kaggle/working/yolo/images/val/000113_0423.jpg: 256x416 2 pigs, 5.6ms\n",
      "image 756/1744 /kaggle/working/yolo/images/val/000113_0426.jpg: 256x416 2 pigs, 5.6ms\n",
      "image 757/1744 /kaggle/working/yolo/images/val/000113_0429.jpg: 256x416 2 pigs, 5.7ms\n",
      "image 758/1744 /kaggle/working/yolo/images/val/000113_0432.jpg: 256x416 2 pigs, 5.6ms\n",
      "image 759/1744 /kaggle/working/yolo/images/val/000113_0435.jpg: 256x416 3 pigs, 5.8ms\n",
      "image 760/1744 /kaggle/working/yolo/images/val/000113_0438.jpg: 256x416 3 pigs, 5.9ms\n",
      "image 761/1744 /kaggle/working/yolo/images/val/000113_0441.jpg: 256x416 3 pigs, 5.8ms\n",
      "image 762/1744 /kaggle/working/yolo/images/val/000113_0444.jpg: 256x416 3 pigs, 5.8ms\n",
      "image 763/1744 /kaggle/working/yolo/images/val/000113_0447.jpg: 256x416 2 pigs, 5.9ms\n",
      "image 764/1744 /kaggle/working/yolo/images/val/000113_0450.jpg: 256x416 2 pigs, 9.2ms\n",
      "image 765/1744 /kaggle/working/yolo/images/val/000113_0453.jpg: 256x416 1 pig, 5.8ms\n",
      "image 766/1744 /kaggle/working/yolo/images/val/000113_0456.jpg: 256x416 3 pigs, 7.3ms\n",
      "image 767/1744 /kaggle/working/yolo/images/val/000113_0459.jpg: 256x416 3 pigs, 6.0ms\n",
      "image 768/1744 /kaggle/working/yolo/images/val/000113_0462.jpg: 256x416 3 pigs, 5.9ms\n",
      "image 769/1744 /kaggle/working/yolo/images/val/000113_0465.jpg: 256x416 2 pigs, 5.8ms\n",
      "image 770/1744 /kaggle/working/yolo/images/val/000113_0468.jpg: 256x416 2 pigs, 5.6ms\n",
      "image 771/1744 /kaggle/working/yolo/images/val/000113_0471.jpg: 256x416 1 pig, 5.7ms\n",
      "image 772/1744 /kaggle/working/yolo/images/val/000113_0474.jpg: 256x416 1 pig, 5.7ms\n",
      "image 773/1744 /kaggle/working/yolo/images/val/000113_0477.jpg: 256x416 1 pig, 5.7ms\n",
      "image 774/1744 /kaggle/working/yolo/images/val/000113_0480.jpg: 256x416 1 pig, 5.8ms\n",
      "image 775/1744 /kaggle/working/yolo/images/val/000113_0483.jpg: 256x416 2 pigs, 5.8ms\n",
      "image 776/1744 /kaggle/working/yolo/images/val/000113_0486.jpg: 256x416 2 pigs, 6.0ms\n",
      "image 777/1744 /kaggle/working/yolo/images/val/000113_0489.jpg: 256x416 2 pigs, 5.9ms\n",
      "image 778/1744 /kaggle/working/yolo/images/val/000113_0492.jpg: 256x416 2 pigs, 5.7ms\n",
      "image 779/1744 /kaggle/working/yolo/images/val/000113_0495.jpg: 256x416 2 pigs, 5.7ms\n",
      "image 780/1744 /kaggle/working/yolo/images/val/000113_0498.jpg: 256x416 1 pig, 5.7ms\n",
      "image 781/1744 /kaggle/working/yolo/images/val/000113_0501.jpg: 256x416 1 pig, 5.7ms\n",
      "image 782/1744 /kaggle/working/yolo/images/val/000113_0504.jpg: 256x416 (no detections), 5.9ms\n",
      "image 783/1744 /kaggle/working/yolo/images/val/000113_0507.jpg: 256x416 1 pig, 6.0ms\n",
      "image 784/1744 /kaggle/working/yolo/images/val/000113_0510.jpg: 256x416 1 pig, 5.7ms\n",
      "image 785/1744 /kaggle/working/yolo/images/val/000113_0513.jpg: 256x416 1 pig, 5.7ms\n",
      "image 786/1744 /kaggle/working/yolo/images/val/000113_0516.jpg: 256x416 2 pigs, 6.0ms\n",
      "image 787/1744 /kaggle/working/yolo/images/val/000113_0519.jpg: 256x416 2 pigs, 5.8ms\n",
      "image 788/1744 /kaggle/working/yolo/images/val/000113_0522.jpg: 256x416 1 pig, 6.1ms\n",
      "image 789/1744 /kaggle/working/yolo/images/val/000113_0525.jpg: 256x416 1 pig, 6.0ms\n",
      "image 790/1744 /kaggle/working/yolo/images/val/000113_0528.jpg: 256x416 1 pig, 5.9ms\n",
      "image 791/1744 /kaggle/working/yolo/images/val/000113_0531.jpg: 256x416 1 pig, 5.7ms\n",
      "image 792/1744 /kaggle/working/yolo/images/val/000113_0534.jpg: 256x416 2 pigs, 5.8ms\n",
      "image 793/1744 /kaggle/working/yolo/images/val/000113_0537.jpg: 256x416 3 pigs, 6.4ms\n",
      "image 794/1744 /kaggle/working/yolo/images/val/000113_0540.jpg: 256x416 3 pigs, 5.6ms\n",
      "image 795/1744 /kaggle/working/yolo/images/val/000113_0543.jpg: 256x416 3 pigs, 5.6ms\n",
      "image 796/1744 /kaggle/working/yolo/images/val/000113_0546.jpg: 256x416 2 pigs, 6.2ms\n",
      "image 797/1744 /kaggle/working/yolo/images/val/000113_0549.jpg: 256x416 2 pigs, 6.0ms\n",
      "image 798/1744 /kaggle/working/yolo/images/val/000113_0552.jpg: 256x416 2 pigs, 5.9ms\n",
      "image 799/1744 /kaggle/working/yolo/images/val/000113_0555.jpg: 256x416 2 pigs, 6.7ms\n",
      "image 800/1744 /kaggle/working/yolo/images/val/000113_0558.jpg: 256x416 3 pigs, 5.9ms\n",
      "image 801/1744 /kaggle/working/yolo/images/val/000113_0561.jpg: 256x416 3 pigs, 5.8ms\n",
      "image 802/1744 /kaggle/working/yolo/images/val/000113_0564.jpg: 256x416 3 pigs, 6.0ms\n",
      "image 803/1744 /kaggle/working/yolo/images/val/000113_0567.jpg: 256x416 3 pigs, 5.6ms\n",
      "image 804/1744 /kaggle/working/yolo/images/val/000113_0570.jpg: 256x416 3 pigs, 5.6ms\n",
      "image 805/1744 /kaggle/working/yolo/images/val/000113_0573.jpg: 256x416 2 pigs, 5.9ms\n",
      "image 806/1744 /kaggle/working/yolo/images/val/000113_0576.jpg: 256x416 2 pigs, 5.7ms\n",
      "image 807/1744 /kaggle/working/yolo/images/val/000113_0579.jpg: 256x416 2 pigs, 5.7ms\n",
      "image 808/1744 /kaggle/working/yolo/images/val/000113_0582.jpg: 256x416 2 pigs, 5.8ms\n",
      "image 809/1744 /kaggle/working/yolo/images/val/000113_0585.jpg: 256x416 2 pigs, 5.9ms\n",
      "image 810/1744 /kaggle/working/yolo/images/val/000113_0588.jpg: 256x416 3 pigs, 5.8ms\n",
      "image 811/1744 /kaggle/working/yolo/images/val/000113_0591.jpg: 256x416 1 pig, 5.7ms\n",
      "image 812/1744 /kaggle/working/yolo/images/val/000113_0594.jpg: 256x416 1 pig, 5.8ms\n",
      "image 813/1744 /kaggle/working/yolo/images/val/000113_0597.jpg: 256x416 1 pig, 5.7ms\n",
      "image 814/1744 /kaggle/working/yolo/images/val/000113_0600.jpg: 256x416 1 pig, 5.5ms\n",
      "image 815/1744 /kaggle/working/yolo/images/val/000113_0603.jpg: 256x416 1 pig, 5.7ms\n",
      "image 816/1744 /kaggle/working/yolo/images/val/000113_0606.jpg: 256x416 1 pig, 5.6ms\n",
      "image 817/1744 /kaggle/working/yolo/images/val/000113_0609.jpg: 256x416 1 pig, 5.9ms\n",
      "image 818/1744 /kaggle/working/yolo/images/val/000113_0612.jpg: 256x416 2 pigs, 5.9ms\n",
      "image 819/1744 /kaggle/working/yolo/images/val/000113_0615.jpg: 256x416 2 pigs, 5.7ms\n",
      "image 820/1744 /kaggle/working/yolo/images/val/000113_0618.jpg: 256x416 2 pigs, 5.7ms\n",
      "image 821/1744 /kaggle/working/yolo/images/val/000113_0621.jpg: 256x416 2 pigs, 5.9ms\n",
      "image 822/1744 /kaggle/working/yolo/images/val/000113_0624.jpg: 256x416 2 pigs, 5.8ms\n",
      "image 823/1744 /kaggle/working/yolo/images/val/000113_0627.jpg: 256x416 2 pigs, 5.9ms\n",
      "image 824/1744 /kaggle/working/yolo/images/val/000113_0630.jpg: 256x416 2 pigs, 5.7ms\n",
      "image 825/1744 /kaggle/working/yolo/images/val/000113_0633.jpg: 256x416 2 pigs, 5.9ms\n",
      "image 826/1744 /kaggle/working/yolo/images/val/000113_0639.jpg: 256x416 2 pigs, 6.0ms\n",
      "image 827/1744 /kaggle/working/yolo/images/val/000113_0642.jpg: 256x416 2 pigs, 6.2ms\n",
      "image 828/1744 /kaggle/working/yolo/images/val/000113_0645.jpg: 256x416 2 pigs, 6.0ms\n",
      "image 829/1744 /kaggle/working/yolo/images/val/000113_0648.jpg: 256x416 1 pig, 7.2ms\n",
      "image 830/1744 /kaggle/working/yolo/images/val/000113_0651.jpg: 256x416 2 pigs, 5.9ms\n",
      "image 831/1744 /kaggle/working/yolo/images/val/000113_0654.jpg: 256x416 2 pigs, 5.8ms\n",
      "image 832/1744 /kaggle/working/yolo/images/val/000113_0657.jpg: 256x416 2 pigs, 5.7ms\n",
      "image 833/1744 /kaggle/working/yolo/images/val/000113_0660.jpg: 256x416 3 pigs, 5.7ms\n",
      "image 834/1744 /kaggle/working/yolo/images/val/000113_0663.jpg: 256x416 3 pigs, 5.8ms\n",
      "image 835/1744 /kaggle/working/yolo/images/val/000113_0666.jpg: 256x416 2 pigs, 5.7ms\n",
      "image 836/1744 /kaggle/working/yolo/images/val/000113_0669.jpg: 256x416 2 pigs, 5.7ms\n",
      "image 837/1744 /kaggle/working/yolo/images/val/000113_0672.jpg: 256x416 1 pig, 5.7ms\n",
      "image 838/1744 /kaggle/working/yolo/images/val/000113_0675.jpg: 256x416 1 pig, 6.2ms\n",
      "image 839/1744 /kaggle/working/yolo/images/val/000113_0678.jpg: 256x416 (no detections), 5.7ms\n",
      "image 840/1744 /kaggle/working/yolo/images/val/000113_0681.jpg: 256x416 (no detections), 6.1ms\n",
      "image 841/1744 /kaggle/working/yolo/images/val/000113_0684.jpg: 256x416 (no detections), 5.8ms\n",
      "image 842/1744 /kaggle/working/yolo/images/val/000113_0687.jpg: 256x416 (no detections), 5.9ms\n",
      "image 843/1744 /kaggle/working/yolo/images/val/000113_0690.jpg: 256x416 (no detections), 5.9ms\n",
      "image 844/1744 /kaggle/working/yolo/images/val/000113_0693.jpg: 256x416 (no detections), 5.9ms\n",
      "image 845/1744 /kaggle/working/yolo/images/val/000113_0696.jpg: 256x416 1 pig, 5.8ms\n",
      "image 846/1744 /kaggle/working/yolo/images/val/000113_0699.jpg: 256x416 1 pig, 6.0ms\n",
      "image 847/1744 /kaggle/working/yolo/images/val/000113_0702.jpg: 256x416 1 pig, 5.6ms\n",
      "image 848/1744 /kaggle/working/yolo/images/val/000113_0705.jpg: 256x416 2 pigs, 6.1ms\n",
      "image 849/1744 /kaggle/working/yolo/images/val/000113_0708.jpg: 256x416 1 pig, 6.0ms\n",
      "image 850/1744 /kaggle/working/yolo/images/val/000113_0711.jpg: 256x416 (no detections), 5.9ms\n",
      "image 851/1744 /kaggle/working/yolo/images/val/000113_0714.jpg: 256x416 (no detections), 5.6ms\n",
      "image 852/1744 /kaggle/working/yolo/images/val/000113_0717.jpg: 256x416 (no detections), 5.9ms\n",
      "image 853/1744 /kaggle/working/yolo/images/val/000113_0720.jpg: 256x416 (no detections), 5.8ms\n",
      "image 854/1744 /kaggle/working/yolo/images/val/000113_0723.jpg: 256x416 (no detections), 5.9ms\n",
      "image 855/1744 /kaggle/working/yolo/images/val/000113_0726.jpg: 256x416 1 pig, 6.0ms\n",
      "image 856/1744 /kaggle/working/yolo/images/val/000113_0729.jpg: 256x416 (no detections), 5.9ms\n",
      "image 857/1744 /kaggle/working/yolo/images/val/000113_0732.jpg: 256x416 (no detections), 5.6ms\n",
      "image 858/1744 /kaggle/working/yolo/images/val/000113_0735.jpg: 256x416 (no detections), 5.7ms\n",
      "image 859/1744 /kaggle/working/yolo/images/val/000113_0738.jpg: 256x416 1 pig, 5.6ms\n",
      "image 860/1744 /kaggle/working/yolo/images/val/000113_0741.jpg: 256x416 2 pigs, 5.6ms\n",
      "image 861/1744 /kaggle/working/yolo/images/val/000113_0744.jpg: 256x416 (no detections), 5.9ms\n",
      "image 862/1744 /kaggle/working/yolo/images/val/000113_0747.jpg: 256x416 (no detections), 5.6ms\n",
      "image 863/1744 /kaggle/working/yolo/images/val/000113_0750.jpg: 256x416 1 pig, 5.6ms\n",
      "image 864/1744 /kaggle/working/yolo/images/val/000113_0753.jpg: 256x416 1 pig, 5.9ms\n",
      "image 865/1744 /kaggle/working/yolo/images/val/000113_0756.jpg: 256x416 1 pig, 5.6ms\n",
      "image 866/1744 /kaggle/working/yolo/images/val/000113_0759.jpg: 256x416 1 pig, 5.6ms\n",
      "image 867/1744 /kaggle/working/yolo/images/val/000113_0762.jpg: 256x416 1 pig, 5.7ms\n",
      "image 868/1744 /kaggle/working/yolo/images/val/000113_0765.jpg: 256x416 1 pig, 5.8ms\n",
      "image 869/1744 /kaggle/working/yolo/images/val/000113_0768.jpg: 256x416 (no detections), 5.9ms\n",
      "image 870/1744 /kaggle/working/yolo/images/val/000113_0771.jpg: 256x416 1 pig, 5.7ms\n",
      "image 871/1744 /kaggle/working/yolo/images/val/000113_0774.jpg: 256x416 2 pigs, 5.7ms\n",
      "image 872/1744 /kaggle/working/yolo/images/val/000113_0777.jpg: 256x416 2 pigs, 7.3ms\n",
      "image 873/1744 /kaggle/working/yolo/images/val/000113_0780.jpg: 256x416 2 pigs, 5.8ms\n",
      "image 874/1744 /kaggle/working/yolo/images/val/000113_0783.jpg: 256x416 2 pigs, 5.7ms\n",
      "image 875/1744 /kaggle/working/yolo/images/val/000113_0786.jpg: 256x416 2 pigs, 5.7ms\n",
      "image 876/1744 /kaggle/working/yolo/images/val/000113_0789.jpg: 256x416 2 pigs, 5.8ms\n",
      "image 877/1744 /kaggle/working/yolo/images/val/000113_0792.jpg: 256x416 2 pigs, 5.8ms\n",
      "image 878/1744 /kaggle/working/yolo/images/val/000113_0795.jpg: 256x416 2 pigs, 5.6ms\n",
      "image 879/1744 /kaggle/working/yolo/images/val/000113_0798.jpg: 256x416 2 pigs, 5.7ms\n",
      "image 880/1744 /kaggle/working/yolo/images/val/000113_0801.jpg: 256x416 2 pigs, 5.8ms\n",
      "image 881/1744 /kaggle/working/yolo/images/val/000113_0804.jpg: 256x416 2 pigs, 5.8ms\n",
      "image 882/1744 /kaggle/working/yolo/images/val/000113_0807.jpg: 256x416 2 pigs, 5.7ms\n",
      "image 883/1744 /kaggle/working/yolo/images/val/000113_0810.jpg: 256x416 2 pigs, 6.2ms\n",
      "image 884/1744 /kaggle/working/yolo/images/val/000113_0813.jpg: 256x416 2 pigs, 5.7ms\n",
      "image 885/1744 /kaggle/working/yolo/images/val/000113_0816.jpg: 256x416 2 pigs, 6.1ms\n",
      "image 886/1744 /kaggle/working/yolo/images/val/000113_0819.jpg: 256x416 2 pigs, 5.7ms\n",
      "image 887/1744 /kaggle/working/yolo/images/val/000113_0822.jpg: 256x416 2 pigs, 5.9ms\n",
      "image 888/1744 /kaggle/working/yolo/images/val/000113_0825.jpg: 256x416 2 pigs, 5.7ms\n",
      "image 889/1744 /kaggle/working/yolo/images/val/000113_0828.jpg: 256x416 2 pigs, 5.9ms\n",
      "image 890/1744 /kaggle/working/yolo/images/val/000113_0831.jpg: 256x416 2 pigs, 5.7ms\n",
      "image 891/1744 /kaggle/working/yolo/images/val/000113_0834.jpg: 256x416 2 pigs, 5.8ms\n",
      "image 892/1744 /kaggle/working/yolo/images/val/000113_0837.jpg: 256x416 2 pigs, 5.8ms\n",
      "image 893/1744 /kaggle/working/yolo/images/val/000113_0840.jpg: 256x416 2 pigs, 7.8ms\n",
      "image 894/1744 /kaggle/working/yolo/images/val/000113_0843.jpg: 256x416 2 pigs, 5.7ms\n",
      "image 895/1744 /kaggle/working/yolo/images/val/000113_0846.jpg: 256x416 2 pigs, 5.7ms\n",
      "image 896/1744 /kaggle/working/yolo/images/val/000113_0849.jpg: 256x416 2 pigs, 5.7ms\n",
      "image 897/1744 /kaggle/working/yolo/images/val/000113_0852.jpg: 256x416 2 pigs, 5.7ms\n",
      "image 898/1744 /kaggle/working/yolo/images/val/000113_0855.jpg: 256x416 2 pigs, 5.7ms\n",
      "image 899/1744 /kaggle/working/yolo/images/val/000113_0858.jpg: 256x416 2 pigs, 5.7ms\n",
      "image 900/1744 /kaggle/working/yolo/images/val/000113_0861.jpg: 256x416 2 pigs, 6.2ms\n",
      "image 901/1744 /kaggle/working/yolo/images/val/000113_0864.jpg: 256x416 2 pigs, 5.9ms\n",
      "image 902/1744 /kaggle/working/yolo/images/val/000113_0867.jpg: 256x416 1 pig, 5.7ms\n",
      "image 903/1744 /kaggle/working/yolo/images/val/000113_0870.jpg: 256x416 2 pigs, 5.7ms\n",
      "image 904/1744 /kaggle/working/yolo/images/val/000113_0873.jpg: 256x416 2 pigs, 9.4ms\n",
      "image 905/1744 /kaggle/working/yolo/images/val/000113_0876.jpg: 256x416 2 pigs, 6.0ms\n",
      "image 906/1744 /kaggle/working/yolo/images/val/000113_0879.jpg: 256x416 1 pig, 5.7ms\n",
      "image 907/1744 /kaggle/working/yolo/images/val/000113_0882.jpg: 256x416 1 pig, 5.8ms\n",
      "image 908/1744 /kaggle/working/yolo/images/val/000113_0885.jpg: 256x416 1 pig, 5.8ms\n",
      "image 909/1744 /kaggle/working/yolo/images/val/000113_0888.jpg: 256x416 1 pig, 10.0ms\n",
      "image 910/1744 /kaggle/working/yolo/images/val/000113_0891.jpg: 256x416 1 pig, 10.3ms\n",
      "image 911/1744 /kaggle/working/yolo/images/val/000113_0894.jpg: 256x416 1 pig, 9.3ms\n",
      "image 912/1744 /kaggle/working/yolo/images/val/000113_0900.jpg: 256x416 1 pig, 7.2ms\n",
      "image 913/1744 /kaggle/working/yolo/images/val/000113_0903.jpg: 256x416 1 pig, 5.8ms\n",
      "image 914/1744 /kaggle/working/yolo/images/val/000113_0906.jpg: 256x416 1 pig, 5.8ms\n",
      "image 915/1744 /kaggle/working/yolo/images/val/000113_0909.jpg: 256x416 (no detections), 5.8ms\n",
      "image 916/1744 /kaggle/working/yolo/images/val/000113_0912.jpg: 256x416 (no detections), 5.9ms\n",
      "image 917/1744 /kaggle/working/yolo/images/val/000113_0915.jpg: 256x416 1 pig, 5.7ms\n",
      "image 918/1744 /kaggle/working/yolo/images/val/000113_0918.jpg: 256x416 1 pig, 5.7ms\n",
      "image 919/1744 /kaggle/working/yolo/images/val/000113_0921.jpg: 256x416 1 pig, 6.1ms\n",
      "image 920/1744 /kaggle/working/yolo/images/val/000113_0924.jpg: 256x416 1 pig, 5.7ms\n",
      "image 921/1744 /kaggle/working/yolo/images/val/000113_0927.jpg: 256x416 (no detections), 5.7ms\n",
      "image 922/1744 /kaggle/working/yolo/images/val/000113_0930.jpg: 256x416 (no detections), 5.7ms\n",
      "image 923/1744 /kaggle/working/yolo/images/val/000113_0933.jpg: 256x416 1 pig, 5.7ms\n",
      "image 924/1744 /kaggle/working/yolo/images/val/000113_0936.jpg: 256x416 1 pig, 5.7ms\n",
      "image 925/1744 /kaggle/working/yolo/images/val/000113_0939.jpg: 256x416 1 pig, 5.6ms\n",
      "image 926/1744 /kaggle/working/yolo/images/val/000113_0942.jpg: 256x416 1 pig, 5.7ms\n",
      "image 927/1744 /kaggle/working/yolo/images/val/000113_0945.jpg: 256x416 (no detections), 5.7ms\n",
      "image 928/1744 /kaggle/working/yolo/images/val/000113_0951.jpg: 256x416 1 pig, 5.7ms\n",
      "image 929/1744 /kaggle/working/yolo/images/val/000113_0954.jpg: 256x416 (no detections), 6.2ms\n",
      "image 930/1744 /kaggle/working/yolo/images/val/000113_0957.jpg: 256x416 (no detections), 5.7ms\n",
      "image 931/1744 /kaggle/working/yolo/images/val/000113_0960.jpg: 256x416 (no detections), 5.6ms\n",
      "image 932/1744 /kaggle/working/yolo/images/val/000113_0963.jpg: 256x416 1 pig, 5.7ms\n",
      "image 933/1744 /kaggle/working/yolo/images/val/000113_0966.jpg: 256x416 1 pig, 7.6ms\n",
      "image 934/1744 /kaggle/working/yolo/images/val/000113_0969.jpg: 256x416 1 pig, 5.6ms\n",
      "image 935/1744 /kaggle/working/yolo/images/val/000113_0978.jpg: 256x416 1 pig, 5.8ms\n",
      "image 936/1744 /kaggle/working/yolo/images/val/000113_0981.jpg: 256x416 1 pig, 5.7ms\n",
      "image 937/1744 /kaggle/working/yolo/images/val/000113_0984.jpg: 256x416 1 pig, 6.3ms\n",
      "image 938/1744 /kaggle/working/yolo/images/val/000113_0987.jpg: 256x416 1 pig, 5.8ms\n",
      "image 939/1744 /kaggle/working/yolo/images/val/000113_0990.jpg: 256x416 1 pig, 5.6ms\n",
      "image 940/1744 /kaggle/working/yolo/images/val/000113_0993.jpg: 256x416 1 pig, 5.8ms\n",
      "image 941/1744 /kaggle/working/yolo/images/val/000113_0996.jpg: 256x416 1 pig, 5.7ms\n",
      "image 942/1744 /kaggle/working/yolo/images/val/000113_0999.jpg: 256x416 1 pig, 5.6ms\n",
      "image 943/1744 /kaggle/working/yolo/images/val/000113_1002.jpg: 256x416 1 pig, 5.8ms\n",
      "image 944/1744 /kaggle/working/yolo/images/val/000113_1005.jpg: 256x416 1 pig, 6.4ms\n",
      "image 945/1744 /kaggle/working/yolo/images/val/000113_1008.jpg: 256x416 1 pig, 6.0ms\n",
      "image 946/1744 /kaggle/working/yolo/images/val/000113_1011.jpg: 256x416 1 pig, 5.8ms\n",
      "image 947/1744 /kaggle/working/yolo/images/val/000113_1014.jpg: 256x416 1 pig, 5.7ms\n",
      "image 948/1744 /kaggle/working/yolo/images/val/000113_1017.jpg: 256x416 1 pig, 5.6ms\n",
      "image 949/1744 /kaggle/working/yolo/images/val/000113_1020.jpg: 256x416 (no detections), 6.1ms\n",
      "image 950/1744 /kaggle/working/yolo/images/val/000113_1023.jpg: 256x416 1 pig, 5.8ms\n",
      "image 951/1744 /kaggle/working/yolo/images/val/000113_1026.jpg: 256x416 (no detections), 5.7ms\n",
      "image 952/1744 /kaggle/working/yolo/images/val/000113_1029.jpg: 256x416 1 pig, 5.8ms\n",
      "image 953/1744 /kaggle/working/yolo/images/val/000113_1032.jpg: 256x416 1 pig, 5.7ms\n",
      "image 954/1744 /kaggle/working/yolo/images/val/000113_1035.jpg: 256x416 (no detections), 6.0ms\n",
      "image 955/1744 /kaggle/working/yolo/images/val/000113_1038.jpg: 256x416 (no detections), 5.9ms\n",
      "image 956/1744 /kaggle/working/yolo/images/val/000113_1041.jpg: 256x416 (no detections), 5.9ms\n",
      "image 957/1744 /kaggle/working/yolo/images/val/000113_1044.jpg: 256x416 (no detections), 6.9ms\n",
      "image 958/1744 /kaggle/working/yolo/images/val/000113_1047.jpg: 256x416 1 pig, 6.4ms\n",
      "image 959/1744 /kaggle/working/yolo/images/val/000113_1050.jpg: 256x416 (no detections), 6.4ms\n",
      "image 960/1744 /kaggle/working/yolo/images/val/000113_1053.jpg: 256x416 (no detections), 6.9ms\n",
      "image 961/1744 /kaggle/working/yolo/images/val/000113_1056.jpg: 256x416 (no detections), 6.6ms\n",
      "image 962/1744 /kaggle/working/yolo/images/val/000113_1059.jpg: 256x416 (no detections), 5.9ms\n",
      "image 963/1744 /kaggle/working/yolo/images/val/000113_1062.jpg: 256x416 (no detections), 6.5ms\n",
      "image 964/1744 /kaggle/working/yolo/images/val/000113_1065.jpg: 256x416 (no detections), 6.6ms\n",
      "image 965/1744 /kaggle/working/yolo/images/val/000113_1068.jpg: 256x416 (no detections), 6.5ms\n",
      "image 966/1744 /kaggle/working/yolo/images/val/000113_1071.jpg: 256x416 (no detections), 6.8ms\n",
      "image 967/1744 /kaggle/working/yolo/images/val/000113_1074.jpg: 256x416 (no detections), 6.5ms\n",
      "image 968/1744 /kaggle/working/yolo/images/val/000113_1077.jpg: 256x416 (no detections), 6.9ms\n",
      "image 969/1744 /kaggle/working/yolo/images/val/000113_1080.jpg: 256x416 (no detections), 6.0ms\n",
      "image 970/1744 /kaggle/working/yolo/images/val/000113_1083.jpg: 256x416 (no detections), 5.7ms\n",
      "image 971/1744 /kaggle/working/yolo/images/val/000113_1086.jpg: 256x416 1 pig, 5.7ms\n",
      "image 972/1744 /kaggle/working/yolo/images/val/000113_1089.jpg: 256x416 1 pig, 5.7ms\n",
      "image 973/1744 /kaggle/working/yolo/images/val/000113_1092.jpg: 256x416 1 pig, 5.7ms\n",
      "image 974/1744 /kaggle/working/yolo/images/val/000113_1095.jpg: 256x416 1 pig, 5.8ms\n",
      "image 975/1744 /kaggle/working/yolo/images/val/000113_1098.jpg: 256x416 1 pig, 5.8ms\n",
      "image 976/1744 /kaggle/working/yolo/images/val/000113_1101.jpg: 256x416 1 pig, 5.9ms\n",
      "image 977/1744 /kaggle/working/yolo/images/val/000113_1104.jpg: 256x416 1 pig, 5.8ms\n",
      "image 978/1744 /kaggle/working/yolo/images/val/000113_1107.jpg: 256x416 1 pig, 6.0ms\n",
      "image 979/1744 /kaggle/working/yolo/images/val/000113_1110.jpg: 256x416 (no detections), 5.8ms\n",
      "image 980/1744 /kaggle/working/yolo/images/val/000113_1113.jpg: 256x416 1 pig, 5.8ms\n",
      "image 981/1744 /kaggle/working/yolo/images/val/000113_1116.jpg: 256x416 1 pig, 6.2ms\n",
      "image 982/1744 /kaggle/working/yolo/images/val/000113_1119.jpg: 256x416 1 pig, 5.8ms\n",
      "image 983/1744 /kaggle/working/yolo/images/val/000113_1122.jpg: 256x416 (no detections), 5.7ms\n",
      "image 984/1744 /kaggle/working/yolo/images/val/000113_1125.jpg: 256x416 1 pig, 6.2ms\n",
      "image 985/1744 /kaggle/working/yolo/images/val/000113_1128.jpg: 256x416 1 pig, 5.8ms\n",
      "image 986/1744 /kaggle/working/yolo/images/val/000113_1131.jpg: 256x416 1 pig, 5.7ms\n",
      "image 987/1744 /kaggle/working/yolo/images/val/000113_1134.jpg: 256x416 1 pig, 5.7ms\n",
      "image 988/1744 /kaggle/working/yolo/images/val/000113_1137.jpg: 256x416 1 pig, 6.1ms\n",
      "image 989/1744 /kaggle/working/yolo/images/val/000113_1143.jpg: 256x416 1 pig, 5.7ms\n",
      "image 990/1744 /kaggle/working/yolo/images/val/000113_1146.jpg: 256x416 1 pig, 5.8ms\n",
      "image 991/1744 /kaggle/working/yolo/images/val/000113_1149.jpg: 256x416 1 pig, 5.8ms\n",
      "image 992/1744 /kaggle/working/yolo/images/val/000113_1152.jpg: 256x416 (no detections), 5.7ms\n",
      "image 993/1744 /kaggle/working/yolo/images/val/000113_1155.jpg: 256x416 1 pig, 5.9ms\n",
      "image 994/1744 /kaggle/working/yolo/images/val/000113_1158.jpg: 256x416 1 pig, 5.8ms\n",
      "image 995/1744 /kaggle/working/yolo/images/val/000113_1161.jpg: 256x416 (no detections), 5.6ms\n",
      "image 996/1744 /kaggle/working/yolo/images/val/000113_1164.jpg: 256x416 (no detections), 5.8ms\n",
      "image 997/1744 /kaggle/working/yolo/images/val/000113_1167.jpg: 256x416 (no detections), 5.7ms\n",
      "image 998/1744 /kaggle/working/yolo/images/val/000113_1170.jpg: 256x416 (no detections), 5.6ms\n",
      "image 999/1744 /kaggle/working/yolo/images/val/000113_1173.jpg: 256x416 (no detections), 5.7ms\n",
      "image 1000/1744 /kaggle/working/yolo/images/val/000113_1176.jpg: 256x416 (no detections), 5.7ms\n",
      "image 1001/1744 /kaggle/working/yolo/images/val/000113_1179.jpg: 256x416 (no detections), 5.7ms\n",
      "image 1002/1744 /kaggle/working/yolo/images/val/000113_1182.jpg: 256x416 (no detections), 5.5ms\n",
      "image 1003/1744 /kaggle/working/yolo/images/val/000113_1185.jpg: 256x416 1 pig, 5.6ms\n",
      "image 1004/1744 /kaggle/working/yolo/images/val/000113_1188.jpg: 256x416 (no detections), 6.3ms\n",
      "image 1005/1744 /kaggle/working/yolo/images/val/000113_1191.jpg: 256x416 (no detections), 6.2ms\n",
      "image 1006/1744 /kaggle/working/yolo/images/val/000113_1194.jpg: 256x416 (no detections), 6.3ms\n",
      "image 1007/1744 /kaggle/working/yolo/images/val/000113_1197.jpg: 256x416 1 pig, 6.2ms\n",
      "image 1008/1744 /kaggle/working/yolo/images/val/000113_1200.jpg: 256x416 1 pig, 6.1ms\n",
      "image 1009/1744 /kaggle/working/yolo/images/val/000113_1203.jpg: 256x416 1 pig, 5.7ms\n",
      "image 1010/1744 /kaggle/working/yolo/images/val/000113_1206.jpg: 256x416 1 pig, 5.7ms\n",
      "image 1011/1744 /kaggle/working/yolo/images/val/000113_1209.jpg: 256x416 1 pig, 5.5ms\n",
      "image 1012/1744 /kaggle/working/yolo/images/val/000113_1212.jpg: 256x416 1 pig, 5.6ms\n",
      "image 1013/1744 /kaggle/working/yolo/images/val/000113_1215.jpg: 256x416 1 pig, 5.6ms\n",
      "image 1014/1744 /kaggle/working/yolo/images/val/000113_1218.jpg: 256x416 1 pig, 5.7ms\n",
      "image 1015/1744 /kaggle/working/yolo/images/val/000113_1221.jpg: 256x416 1 pig, 5.7ms\n",
      "image 1016/1744 /kaggle/working/yolo/images/val/000113_1224.jpg: 256x416 1 pig, 6.1ms\n",
      "image 1017/1744 /kaggle/working/yolo/images/val/000113_1227.jpg: 256x416 1 pig, 5.9ms\n",
      "image 1018/1744 /kaggle/working/yolo/images/val/000113_1230.jpg: 256x416 1 pig, 6.0ms\n",
      "image 1019/1744 /kaggle/working/yolo/images/val/000113_1233.jpg: 256x416 1 pig, 6.0ms\n",
      "image 1020/1744 /kaggle/working/yolo/images/val/000113_1236.jpg: 256x416 1 pig, 5.8ms\n",
      "image 1021/1744 /kaggle/working/yolo/images/val/000113_1239.jpg: 256x416 1 pig, 5.8ms\n",
      "image 1022/1744 /kaggle/working/yolo/images/val/000113_1242.jpg: 256x416 1 pig, 5.7ms\n",
      "image 1023/1744 /kaggle/working/yolo/images/val/000113_1245.jpg: 256x416 1 pig, 5.7ms\n",
      "image 1024/1744 /kaggle/working/yolo/images/val/000113_1248.jpg: 256x416 1 pig, 5.8ms\n",
      "image 1025/1744 /kaggle/working/yolo/images/val/000113_1251.jpg: 256x416 1 pig, 5.8ms\n",
      "image 1026/1744 /kaggle/working/yolo/images/val/000113_1254.jpg: 256x416 1 pig, 5.7ms\n",
      "image 1027/1744 /kaggle/working/yolo/images/val/000113_1257.jpg: 256x416 1 pig, 5.8ms\n",
      "image 1028/1744 /kaggle/working/yolo/images/val/000113_1260.jpg: 256x416 1 pig, 5.6ms\n",
      "image 1029/1744 /kaggle/working/yolo/images/val/000113_1263.jpg: 256x416 1 pig, 5.6ms\n",
      "image 1030/1744 /kaggle/working/yolo/images/val/000113_1266.jpg: 256x416 1 pig, 5.6ms\n",
      "image 1031/1744 /kaggle/working/yolo/images/val/000113_1269.jpg: 256x416 1 pig, 5.6ms\n",
      "image 1032/1744 /kaggle/working/yolo/images/val/000113_1272.jpg: 256x416 1 pig, 5.8ms\n",
      "image 1033/1744 /kaggle/working/yolo/images/val/000113_1275.jpg: 256x416 1 pig, 5.7ms\n",
      "image 1034/1744 /kaggle/working/yolo/images/val/000113_1278.jpg: 256x416 1 pig, 5.5ms\n",
      "image 1035/1744 /kaggle/working/yolo/images/val/000113_1281.jpg: 256x416 1 pig, 5.6ms\n",
      "image 1036/1744 /kaggle/working/yolo/images/val/000113_1284.jpg: 256x416 1 pig, 5.7ms\n",
      "image 1037/1744 /kaggle/working/yolo/images/val/000113_1287.jpg: 256x416 1 pig, 5.8ms\n",
      "image 1038/1744 /kaggle/working/yolo/images/val/000113_1290.jpg: 256x416 1 pig, 5.9ms\n",
      "image 1039/1744 /kaggle/working/yolo/images/val/000113_1293.jpg: 256x416 1 pig, 5.7ms\n",
      "image 1040/1744 /kaggle/working/yolo/images/val/000113_1296.jpg: 256x416 1 pig, 5.8ms\n",
      "image 1041/1744 /kaggle/working/yolo/images/val/000113_1299.jpg: 256x416 1 pig, 5.7ms\n",
      "image 1042/1744 /kaggle/working/yolo/images/val/000113_1302.jpg: 256x416 1 pig, 5.8ms\n",
      "image 1043/1744 /kaggle/working/yolo/images/val/000113_1305.jpg: 256x416 1 pig, 5.8ms\n",
      "image 1044/1744 /kaggle/working/yolo/images/val/000113_1308.jpg: 256x416 2 pigs, 5.6ms\n",
      "image 1045/1744 /kaggle/working/yolo/images/val/000113_1311.jpg: 256x416 3 pigs, 5.6ms\n",
      "image 1046/1744 /kaggle/working/yolo/images/val/000113_1314.jpg: 256x416 2 pigs, 5.6ms\n",
      "image 1047/1744 /kaggle/working/yolo/images/val/000113_1317.jpg: 256x416 1 pig, 5.8ms\n",
      "image 1048/1744 /kaggle/working/yolo/images/val/000113_1320.jpg: 256x416 1 pig, 5.7ms\n",
      "image 1049/1744 /kaggle/working/yolo/images/val/000113_1323.jpg: 256x416 2 pigs, 5.6ms\n",
      "image 1050/1744 /kaggle/working/yolo/images/val/000113_1326.jpg: 256x416 4 pigs, 5.7ms\n",
      "image 1051/1744 /kaggle/working/yolo/images/val/000113_1329.jpg: 256x416 4 pigs, 5.7ms\n",
      "image 1052/1744 /kaggle/working/yolo/images/val/000113_1332.jpg: 256x416 3 pigs, 5.6ms\n",
      "image 1053/1744 /kaggle/working/yolo/images/val/000113_1335.jpg: 256x416 2 pigs, 5.6ms\n",
      "image 1054/1744 /kaggle/working/yolo/images/val/000113_1338.jpg: 256x416 3 pigs, 5.7ms\n",
      "image 1055/1744 /kaggle/working/yolo/images/val/000113_1341.jpg: 256x416 2 pigs, 5.7ms\n",
      "image 1056/1744 /kaggle/working/yolo/images/val/000113_1344.jpg: 256x416 2 pigs, 5.6ms\n",
      "image 1057/1744 /kaggle/working/yolo/images/val/000113_1347.jpg: 256x416 2 pigs, 5.6ms\n",
      "image 1058/1744 /kaggle/working/yolo/images/val/000113_1350.jpg: 256x416 4 pigs, 5.8ms\n",
      "image 1059/1744 /kaggle/working/yolo/images/val/000113_1353.jpg: 256x416 4 pigs, 6.0ms\n",
      "image 1060/1744 /kaggle/working/yolo/images/val/000113_1356.jpg: 256x416 3 pigs, 5.8ms\n",
      "image 1061/1744 /kaggle/working/yolo/images/val/000113_1359.jpg: 256x416 4 pigs, 5.8ms\n",
      "image 1062/1744 /kaggle/working/yolo/images/val/000113_1362.jpg: 256x416 3 pigs, 6.2ms\n",
      "image 1063/1744 /kaggle/working/yolo/images/val/000113_1365.jpg: 256x416 2 pigs, 5.8ms\n",
      "image 1064/1744 /kaggle/working/yolo/images/val/000113_1368.jpg: 256x416 3 pigs, 5.9ms\n",
      "image 1065/1744 /kaggle/working/yolo/images/val/000113_1371.jpg: 256x416 3 pigs, 5.8ms\n",
      "image 1066/1744 /kaggle/working/yolo/images/val/000113_1374.jpg: 256x416 3 pigs, 5.8ms\n",
      "image 1067/1744 /kaggle/working/yolo/images/val/000113_1377.jpg: 256x416 3 pigs, 5.8ms\n",
      "image 1068/1744 /kaggle/working/yolo/images/val/000113_1380.jpg: 256x416 3 pigs, 5.9ms\n",
      "image 1069/1744 /kaggle/working/yolo/images/val/000113_1383.jpg: 256x416 2 pigs, 5.7ms\n",
      "image 1070/1744 /kaggle/working/yolo/images/val/000113_1386.jpg: 256x416 2 pigs, 5.8ms\n",
      "image 1071/1744 /kaggle/working/yolo/images/val/000113_1389.jpg: 256x416 (no detections), 5.6ms\n",
      "image 1072/1744 /kaggle/working/yolo/images/val/000113_1392.jpg: 256x416 1 pig, 5.7ms\n",
      "image 1073/1744 /kaggle/working/yolo/images/val/000113_1395.jpg: 256x416 1 pig, 5.8ms\n",
      "image 1074/1744 /kaggle/working/yolo/images/val/000113_1398.jpg: 256x416 (no detections), 5.7ms\n",
      "image 1075/1744 /kaggle/working/yolo/images/val/000113_1401.jpg: 256x416 2 pigs, 5.9ms\n",
      "image 1076/1744 /kaggle/working/yolo/images/val/000113_1404.jpg: 256x416 1 pig, 5.8ms\n",
      "image 1077/1744 /kaggle/working/yolo/images/val/000113_1407.jpg: 256x416 1 pig, 5.6ms\n",
      "image 1078/1744 /kaggle/working/yolo/images/val/000113_1410.jpg: 256x416 3 pigs, 5.6ms\n",
      "image 1079/1744 /kaggle/working/yolo/images/val/000113_1413.jpg: 256x416 3 pigs, 5.7ms\n",
      "image 1080/1744 /kaggle/working/yolo/images/val/000113_1416.jpg: 256x416 2 pigs, 5.6ms\n",
      "image 1081/1744 /kaggle/working/yolo/images/val/000113_1419.jpg: 256x416 2 pigs, 5.7ms\n",
      "image 1082/1744 /kaggle/working/yolo/images/val/000113_1422.jpg: 256x416 3 pigs, 5.6ms\n",
      "image 1083/1744 /kaggle/working/yolo/images/val/000113_1425.jpg: 256x416 3 pigs, 5.7ms\n",
      "image 1084/1744 /kaggle/working/yolo/images/val/000113_1428.jpg: 256x416 3 pigs, 5.6ms\n",
      "image 1085/1744 /kaggle/working/yolo/images/val/000113_1431.jpg: 256x416 2 pigs, 5.7ms\n",
      "image 1086/1744 /kaggle/working/yolo/images/val/000113_1434.jpg: 256x416 3 pigs, 5.9ms\n",
      "image 1087/1744 /kaggle/working/yolo/images/val/000113_1437.jpg: 256x416 1 pig, 6.1ms\n",
      "image 1088/1744 /kaggle/working/yolo/images/val/000113_1440.jpg: 256x416 2 pigs, 5.6ms\n",
      "image 1089/1744 /kaggle/working/yolo/images/val/000113_1443.jpg: 256x416 4 pigs, 5.8ms\n",
      "image 1090/1744 /kaggle/working/yolo/images/val/000113_1446.jpg: 256x416 2 pigs, 5.6ms\n",
      "image 1091/1744 /kaggle/working/yolo/images/val/000113_1452.jpg: 256x416 2 pigs, 5.6ms\n",
      "image 1092/1744 /kaggle/working/yolo/images/val/000113_1455.jpg: 256x416 3 pigs, 5.6ms\n",
      "image 1093/1744 /kaggle/working/yolo/images/val/000113_1458.jpg: 256x416 1 pig, 5.6ms\n",
      "image 1094/1744 /kaggle/working/yolo/images/val/000113_1461.jpg: 256x416 4 pigs, 5.8ms\n",
      "image 1095/1744 /kaggle/working/yolo/images/val/000113_1464.jpg: 256x416 4 pigs, 5.7ms\n",
      "image 1096/1744 /kaggle/working/yolo/images/val/000113_1467.jpg: 256x416 4 pigs, 5.7ms\n",
      "image 1097/1744 /kaggle/working/yolo/images/val/000113_1470.jpg: 256x416 4 pigs, 5.7ms\n",
      "image 1098/1744 /kaggle/working/yolo/images/val/000113_1473.jpg: 256x416 5 pigs, 5.7ms\n",
      "image 1099/1744 /kaggle/working/yolo/images/val/000113_1476.jpg: 256x416 5 pigs, 5.8ms\n",
      "image 1100/1744 /kaggle/working/yolo/images/val/000113_1479.jpg: 256x416 4 pigs, 5.6ms\n",
      "image 1101/1744 /kaggle/working/yolo/images/val/000113_1482.jpg: 256x416 5 pigs, 5.7ms\n",
      "image 1102/1744 /kaggle/working/yolo/images/val/000113_1485.jpg: 256x416 6 pigs, 5.7ms\n",
      "image 1103/1744 /kaggle/working/yolo/images/val/000113_1488.jpg: 256x416 5 pigs, 5.6ms\n",
      "image 1104/1744 /kaggle/working/yolo/images/val/000113_1491.jpg: 256x416 3 pigs, 5.6ms\n",
      "image 1105/1744 /kaggle/working/yolo/images/val/000113_1494.jpg: 256x416 4 pigs, 5.7ms\n",
      "image 1106/1744 /kaggle/working/yolo/images/val/000113_1497.jpg: 256x416 2 pigs, 5.7ms\n",
      "image 1107/1744 /kaggle/working/yolo/images/val/000113_1500.jpg: 256x416 1 pig, 5.7ms\n",
      "image 1108/1744 /kaggle/working/yolo/images/val/000113_1503.jpg: 256x416 5 pigs, 5.7ms\n",
      "image 1109/1744 /kaggle/working/yolo/images/val/000113_1506.jpg: 256x416 2 pigs, 8.9ms\n",
      "image 1110/1744 /kaggle/working/yolo/images/val/000113_1509.jpg: 256x416 3 pigs, 5.7ms\n",
      "image 1111/1744 /kaggle/working/yolo/images/val/000113_1512.jpg: 256x416 3 pigs, 5.6ms\n",
      "image 1112/1744 /kaggle/working/yolo/images/val/000113_1515.jpg: 256x416 3 pigs, 5.6ms\n",
      "image 1113/1744 /kaggle/working/yolo/images/val/000113_1518.jpg: 256x416 3 pigs, 5.6ms\n",
      "image 1114/1744 /kaggle/working/yolo/images/val/000113_1521.jpg: 256x416 3 pigs, 5.8ms\n",
      "image 1115/1744 /kaggle/working/yolo/images/val/000113_1524.jpg: 256x416 3 pigs, 5.6ms\n",
      "image 1116/1744 /kaggle/working/yolo/images/val/000113_1527.jpg: 256x416 4 pigs, 5.6ms\n",
      "image 1117/1744 /kaggle/working/yolo/images/val/000113_1530.jpg: 256x416 5 pigs, 5.6ms\n",
      "image 1118/1744 /kaggle/working/yolo/images/val/000113_1533.jpg: 256x416 3 pigs, 5.7ms\n",
      "image 1119/1744 /kaggle/working/yolo/images/val/000113_1536.jpg: 256x416 1 pig, 5.7ms\n",
      "image 1120/1744 /kaggle/working/yolo/images/val/000113_1539.jpg: 256x416 2 pigs, 5.7ms\n",
      "image 1121/1744 /kaggle/working/yolo/images/val/000113_1542.jpg: 256x416 4 pigs, 5.8ms\n",
      "image 1122/1744 /kaggle/working/yolo/images/val/000113_1545.jpg: 256x416 4 pigs, 5.9ms\n",
      "image 1123/1744 /kaggle/working/yolo/images/val/000113_1548.jpg: 256x416 3 pigs, 5.7ms\n",
      "image 1124/1744 /kaggle/working/yolo/images/val/000113_1551.jpg: 256x416 4 pigs, 5.7ms\n",
      "image 1125/1744 /kaggle/working/yolo/images/val/000113_1554.jpg: 256x416 2 pigs, 5.7ms\n",
      "image 1126/1744 /kaggle/working/yolo/images/val/000113_1557.jpg: 256x416 1 pig, 5.6ms\n",
      "image 1127/1744 /kaggle/working/yolo/images/val/000113_1560.jpg: 256x416 3 pigs, 5.6ms\n",
      "image 1128/1744 /kaggle/working/yolo/images/val/000113_1563.jpg: 256x416 2 pigs, 5.8ms\n",
      "image 1129/1744 /kaggle/working/yolo/images/val/000113_1566.jpg: 256x416 3 pigs, 5.7ms\n",
      "image 1130/1744 /kaggle/working/yolo/images/val/000113_1569.jpg: 256x416 3 pigs, 5.9ms\n",
      "image 1131/1744 /kaggle/working/yolo/images/val/000113_1572.jpg: 256x416 2 pigs, 5.8ms\n",
      "image 1132/1744 /kaggle/working/yolo/images/val/000113_1575.jpg: 256x416 2 pigs, 5.7ms\n",
      "image 1133/1744 /kaggle/working/yolo/images/val/000113_1578.jpg: 256x416 3 pigs, 5.7ms\n",
      "image 1134/1744 /kaggle/working/yolo/images/val/000113_1581.jpg: 256x416 3 pigs, 5.6ms\n",
      "image 1135/1744 /kaggle/working/yolo/images/val/000113_1584.jpg: 256x416 2 pigs, 5.5ms\n",
      "image 1136/1744 /kaggle/working/yolo/images/val/000113_1587.jpg: 256x416 2 pigs, 5.6ms\n",
      "image 1137/1744 /kaggle/working/yolo/images/val/000113_1590.jpg: 256x416 1 pig, 5.6ms\n",
      "image 1138/1744 /kaggle/working/yolo/images/val/000113_1593.jpg: 256x416 3 pigs, 5.7ms\n",
      "image 1139/1744 /kaggle/working/yolo/images/val/000113_1599.jpg: 256x416 2 pigs, 6.3ms\n",
      "image 1140/1744 /kaggle/working/yolo/images/val/000113_1602.jpg: 256x416 2 pigs, 5.6ms\n",
      "image 1141/1744 /kaggle/working/yolo/images/val/000113_1605.jpg: 256x416 2 pigs, 5.6ms\n",
      "image 1142/1744 /kaggle/working/yolo/images/val/000113_1608.jpg: 256x416 2 pigs, 5.8ms\n",
      "image 1143/1744 /kaggle/working/yolo/images/val/000113_1611.jpg: 256x416 2 pigs, 5.7ms\n",
      "image 1144/1744 /kaggle/working/yolo/images/val/000113_1614.jpg: 256x416 1 pig, 5.9ms\n",
      "image 1145/1744 /kaggle/working/yolo/images/val/000113_1617.jpg: 256x416 2 pigs, 5.8ms\n",
      "image 1146/1744 /kaggle/working/yolo/images/val/000113_1620.jpg: 256x416 1 pig, 5.9ms\n",
      "image 1147/1744 /kaggle/working/yolo/images/val/000113_1623.jpg: 256x416 1 pig, 5.6ms\n",
      "image 1148/1744 /kaggle/working/yolo/images/val/000113_1626.jpg: 256x416 1 pig, 5.6ms\n",
      "image 1149/1744 /kaggle/working/yolo/images/val/000113_1629.jpg: 256x416 1 pig, 5.6ms\n",
      "image 1150/1744 /kaggle/working/yolo/images/val/000113_1632.jpg: 256x416 1 pig, 5.7ms\n",
      "image 1151/1744 /kaggle/working/yolo/images/val/000113_1635.jpg: 256x416 2 pigs, 8.9ms\n",
      "image 1152/1744 /kaggle/working/yolo/images/val/000113_1638.jpg: 256x416 1 pig, 5.8ms\n",
      "image 1153/1744 /kaggle/working/yolo/images/val/000113_1641.jpg: 256x416 1 pig, 5.7ms\n",
      "image 1154/1744 /kaggle/working/yolo/images/val/000113_1644.jpg: 256x416 1 pig, 5.9ms\n",
      "image 1155/1744 /kaggle/working/yolo/images/val/000113_1647.jpg: 256x416 2 pigs, 5.9ms\n",
      "image 1156/1744 /kaggle/working/yolo/images/val/000113_1650.jpg: 256x416 2 pigs, 5.9ms\n",
      "image 1157/1744 /kaggle/working/yolo/images/val/000113_1653.jpg: 256x416 2 pigs, 5.7ms\n",
      "image 1158/1744 /kaggle/working/yolo/images/val/000113_1656.jpg: 256x416 2 pigs, 5.6ms\n",
      "image 1159/1744 /kaggle/working/yolo/images/val/000113_1659.jpg: 256x416 2 pigs, 5.7ms\n",
      "image 1160/1744 /kaggle/working/yolo/images/val/000113_1662.jpg: 256x416 2 pigs, 7.7ms\n",
      "image 1161/1744 /kaggle/working/yolo/images/val/000113_1665.jpg: 256x416 2 pigs, 5.8ms\n",
      "image 1162/1744 /kaggle/working/yolo/images/val/000113_1668.jpg: 256x416 2 pigs, 5.7ms\n",
      "image 1163/1744 /kaggle/working/yolo/images/val/000113_1671.jpg: 256x416 1 pig, 5.7ms\n",
      "image 1164/1744 /kaggle/working/yolo/images/val/000113_1674.jpg: 256x416 3 pigs, 6.0ms\n",
      "image 1165/1744 /kaggle/working/yolo/images/val/000113_1677.jpg: 256x416 3 pigs, 5.7ms\n",
      "image 1166/1744 /kaggle/working/yolo/images/val/000113_1680.jpg: 256x416 3 pigs, 5.7ms\n",
      "image 1167/1744 /kaggle/working/yolo/images/val/000113_1683.jpg: 256x416 1 pig, 5.7ms\n",
      "image 1168/1744 /kaggle/working/yolo/images/val/000113_1686.jpg: 256x416 1 pig, 5.7ms\n",
      "image 1169/1744 /kaggle/working/yolo/images/val/000113_1689.jpg: 256x416 1 pig, 5.9ms\n",
      "image 1170/1744 /kaggle/working/yolo/images/val/000113_1692.jpg: 256x416 (no detections), 5.9ms\n",
      "image 1171/1744 /kaggle/working/yolo/images/val/000113_1695.jpg: 256x416 (no detections), 5.7ms\n",
      "image 1172/1744 /kaggle/working/yolo/images/val/000113_1698.jpg: 256x416 (no detections), 5.9ms\n",
      "image 1173/1744 /kaggle/working/yolo/images/val/000113_1701.jpg: 256x416 2 pigs, 6.0ms\n",
      "image 1174/1744 /kaggle/working/yolo/images/val/000113_1704.jpg: 256x416 2 pigs, 5.8ms\n",
      "image 1175/1744 /kaggle/working/yolo/images/val/000113_1707.jpg: 256x416 2 pigs, 5.8ms\n",
      "image 1176/1744 /kaggle/working/yolo/images/val/000113_1710.jpg: 256x416 1 pig, 5.9ms\n",
      "image 1177/1744 /kaggle/working/yolo/images/val/000113_1713.jpg: 256x416 1 pig, 6.1ms\n",
      "image 1178/1744 /kaggle/working/yolo/images/val/000113_1716.jpg: 256x416 (no detections), 5.8ms\n",
      "image 1179/1744 /kaggle/working/yolo/images/val/000113_1719.jpg: 256x416 (no detections), 6.5ms\n",
      "image 1180/1744 /kaggle/working/yolo/images/val/000113_1722.jpg: 256x416 1 pig, 6.7ms\n",
      "image 1181/1744 /kaggle/working/yolo/images/val/000113_1725.jpg: 256x416 1 pig, 8.3ms\n",
      "image 1182/1744 /kaggle/working/yolo/images/val/000113_1728.jpg: 256x416 1 pig, 6.7ms\n",
      "image 1183/1744 /kaggle/working/yolo/images/val/000113_1731.jpg: 256x416 1 pig, 6.7ms\n",
      "image 1184/1744 /kaggle/working/yolo/images/val/000113_1734.jpg: 256x416 1 pig, 6.6ms\n",
      "image 1185/1744 /kaggle/working/yolo/images/val/000113_1737.jpg: 256x416 1 pig, 6.1ms\n",
      "image 1186/1744 /kaggle/working/yolo/images/val/000113_1740.jpg: 256x416 2 pigs, 6.2ms\n",
      "image 1187/1744 /kaggle/working/yolo/images/val/000113_1743.jpg: 256x416 2 pigs, 5.6ms\n",
      "image 1188/1744 /kaggle/working/yolo/images/val/000113_1746.jpg: 256x416 1 pig, 5.6ms\n",
      "image 1189/1744 /kaggle/working/yolo/images/val/000113_1749.jpg: 256x416 2 pigs, 5.6ms\n",
      "image 1190/1744 /kaggle/working/yolo/images/val/000113_1752.jpg: 256x416 1 pig, 5.6ms\n",
      "image 1191/1744 /kaggle/working/yolo/images/val/000113_1755.jpg: 256x416 1 pig, 5.5ms\n",
      "image 1192/1744 /kaggle/working/yolo/images/val/000113_1758.jpg: 256x416 2 pigs, 5.7ms\n",
      "image 1193/1744 /kaggle/working/yolo/images/val/000113_1761.jpg: 256x416 1 pig, 6.2ms\n",
      "image 1194/1744 /kaggle/working/yolo/images/val/000113_1764.jpg: 256x416 2 pigs, 5.8ms\n",
      "image 1195/1744 /kaggle/working/yolo/images/val/000113_1767.jpg: 256x416 1 pig, 5.8ms\n",
      "image 1196/1744 /kaggle/working/yolo/images/val/000113_1770.jpg: 256x416 1 pig, 5.7ms\n",
      "image 1197/1744 /kaggle/working/yolo/images/val/000113_1773.jpg: 256x416 1 pig, 6.0ms\n",
      "image 1198/1744 /kaggle/working/yolo/images/val/000113_1776.jpg: 256x416 1 pig, 6.0ms\n",
      "image 1199/1744 /kaggle/working/yolo/images/val/000113_1779.jpg: 256x416 1 pig, 5.7ms\n",
      "image 1200/1744 /kaggle/working/yolo/images/val/000113_1782.jpg: 256x416 1 pig, 5.7ms\n",
      "image 1201/1744 /kaggle/working/yolo/images/val/000113_1785.jpg: 256x416 1 pig, 5.6ms\n",
      "image 1202/1744 /kaggle/working/yolo/images/val/000113_1788.jpg: 256x416 1 pig, 5.7ms\n",
      "image 1203/1744 /kaggle/working/yolo/images/val/000113_1791.jpg: 256x416 1 pig, 5.7ms\n",
      "image 1204/1744 /kaggle/working/yolo/images/val/000113_1794.jpg: 256x416 1 pig, 5.7ms\n",
      "image 1205/1744 /kaggle/working/yolo/images/val/000113_1797.jpg: 256x416 1 pig, 5.7ms\n",
      "image 1206/1744 /kaggle/working/yolo/images/val/000208_0000.jpg: 256x416 8 pigs, 6.2ms\n",
      "image 1207/1744 /kaggle/working/yolo/images/val/000208_0003.jpg: 256x416 4 pigs, 5.7ms\n",
      "image 1208/1744 /kaggle/working/yolo/images/val/000208_0006.jpg: 256x416 3 pigs, 5.9ms\n",
      "image 1209/1744 /kaggle/working/yolo/images/val/000208_0009.jpg: 256x416 3 pigs, 5.9ms\n",
      "image 1210/1744 /kaggle/working/yolo/images/val/000208_0012.jpg: 256x416 1 pig, 5.7ms\n",
      "image 1211/1744 /kaggle/working/yolo/images/val/000208_0015.jpg: 256x416 2 pigs, 5.7ms\n",
      "image 1212/1744 /kaggle/working/yolo/images/val/000208_0018.jpg: 256x416 1 pig, 5.8ms\n",
      "image 1213/1744 /kaggle/working/yolo/images/val/000208_0021.jpg: 256x416 2 pigs, 6.1ms\n",
      "image 1214/1744 /kaggle/working/yolo/images/val/000208_0024.jpg: 256x416 3 pigs, 5.7ms\n",
      "image 1215/1744 /kaggle/working/yolo/images/val/000208_0027.jpg: 256x416 3 pigs, 5.7ms\n",
      "image 1216/1744 /kaggle/working/yolo/images/val/000208_0030.jpg: 256x416 3 pigs, 5.7ms\n",
      "image 1217/1744 /kaggle/working/yolo/images/val/000208_0033.jpg: 256x416 2 pigs, 5.7ms\n",
      "image 1218/1744 /kaggle/working/yolo/images/val/000208_0036.jpg: 256x416 3 pigs, 5.8ms\n",
      "image 1219/1744 /kaggle/working/yolo/images/val/000208_0039.jpg: 256x416 4 pigs, 6.0ms\n",
      "image 1220/1744 /kaggle/working/yolo/images/val/000208_0042.jpg: 256x416 5 pigs, 5.7ms\n",
      "image 1221/1744 /kaggle/working/yolo/images/val/000208_0045.jpg: 256x416 1 pig, 5.7ms\n",
      "image 1222/1744 /kaggle/working/yolo/images/val/000208_0048.jpg: 256x416 3 pigs, 6.3ms\n",
      "image 1223/1744 /kaggle/working/yolo/images/val/000208_0051.jpg: 256x416 2 pigs, 5.8ms\n",
      "image 1224/1744 /kaggle/working/yolo/images/val/000208_0054.jpg: 256x416 2 pigs, 5.7ms\n",
      "image 1225/1744 /kaggle/working/yolo/images/val/000208_0057.jpg: 256x416 1 pig, 5.7ms\n",
      "image 1226/1744 /kaggle/working/yolo/images/val/000208_0060.jpg: 256x416 1 pig, 5.6ms\n",
      "image 1227/1744 /kaggle/working/yolo/images/val/000208_0063.jpg: 256x416 1 pig, 5.6ms\n",
      "image 1228/1744 /kaggle/working/yolo/images/val/000208_0066.jpg: 256x416 (no detections), 5.6ms\n",
      "image 1229/1744 /kaggle/working/yolo/images/val/000208_0069.jpg: 256x416 (no detections), 5.6ms\n",
      "image 1230/1744 /kaggle/working/yolo/images/val/000208_0072.jpg: 256x416 (no detections), 5.6ms\n",
      "image 1231/1744 /kaggle/working/yolo/images/val/000208_0075.jpg: 256x416 (no detections), 5.7ms\n",
      "image 1232/1744 /kaggle/working/yolo/images/val/000208_0081.jpg: 256x416 (no detections), 5.9ms\n",
      "image 1233/1744 /kaggle/working/yolo/images/val/000208_0084.jpg: 256x416 (no detections), 5.6ms\n",
      "image 1234/1744 /kaggle/working/yolo/images/val/000208_0090.jpg: 256x416 (no detections), 5.6ms\n",
      "image 1235/1744 /kaggle/working/yolo/images/val/000208_0093.jpg: 256x416 (no detections), 5.8ms\n",
      "image 1236/1744 /kaggle/working/yolo/images/val/000208_0096.jpg: 256x416 1 pig, 5.8ms\n",
      "image 1237/1744 /kaggle/working/yolo/images/val/000208_0099.jpg: 256x416 1 pig, 5.9ms\n",
      "image 1238/1744 /kaggle/working/yolo/images/val/000208_0102.jpg: 256x416 (no detections), 6.0ms\n",
      "image 1239/1744 /kaggle/working/yolo/images/val/000208_0105.jpg: 256x416 3 pigs, 6.0ms\n",
      "image 1240/1744 /kaggle/working/yolo/images/val/000208_0108.jpg: 256x416 2 pigs, 5.6ms\n",
      "image 1241/1744 /kaggle/working/yolo/images/val/000208_0111.jpg: 256x416 3 pigs, 5.6ms\n",
      "image 1242/1744 /kaggle/working/yolo/images/val/000208_0114.jpg: 256x416 3 pigs, 5.7ms\n",
      "image 1243/1744 /kaggle/working/yolo/images/val/000208_0117.jpg: 256x416 4 pigs, 5.8ms\n",
      "image 1244/1744 /kaggle/working/yolo/images/val/000208_0120.jpg: 256x416 3 pigs, 5.7ms\n",
      "image 1245/1744 /kaggle/working/yolo/images/val/000208_0123.jpg: 256x416 3 pigs, 5.8ms\n",
      "image 1246/1744 /kaggle/working/yolo/images/val/000208_0126.jpg: 256x416 3 pigs, 5.8ms\n",
      "image 1247/1744 /kaggle/working/yolo/images/val/000208_0129.jpg: 256x416 3 pigs, 5.8ms\n",
      "image 1248/1744 /kaggle/working/yolo/images/val/000208_0132.jpg: 256x416 1 pig, 5.9ms\n",
      "image 1249/1744 /kaggle/working/yolo/images/val/000208_0135.jpg: 256x416 2 pigs, 5.9ms\n",
      "image 1250/1744 /kaggle/working/yolo/images/val/000208_0138.jpg: 256x416 2 pigs, 7.3ms\n",
      "image 1251/1744 /kaggle/working/yolo/images/val/000208_0141.jpg: 256x416 1 pig, 5.8ms\n",
      "image 1252/1744 /kaggle/working/yolo/images/val/000208_0144.jpg: 256x416 2 pigs, 5.9ms\n",
      "image 1253/1744 /kaggle/working/yolo/images/val/000208_0147.jpg: 256x416 2 pigs, 5.8ms\n",
      "image 1254/1744 /kaggle/working/yolo/images/val/000208_0150.jpg: 256x416 2 pigs, 6.2ms\n",
      "image 1255/1744 /kaggle/working/yolo/images/val/000208_0153.jpg: 256x416 2 pigs, 6.0ms\n",
      "image 1256/1744 /kaggle/working/yolo/images/val/000208_0156.jpg: 256x416 1 pig, 6.2ms\n",
      "image 1257/1744 /kaggle/working/yolo/images/val/000208_0159.jpg: 256x416 (no detections), 6.1ms\n",
      "image 1258/1744 /kaggle/working/yolo/images/val/000208_0162.jpg: 256x416 (no detections), 6.0ms\n",
      "image 1259/1744 /kaggle/working/yolo/images/val/000208_0165.jpg: 256x416 2 pigs, 5.7ms\n",
      "image 1260/1744 /kaggle/working/yolo/images/val/000208_0168.jpg: 256x416 (no detections), 5.7ms\n",
      "image 1261/1744 /kaggle/working/yolo/images/val/000208_0171.jpg: 256x416 (no detections), 5.7ms\n",
      "image 1262/1744 /kaggle/working/yolo/images/val/000208_0174.jpg: 256x416 1 pig, 5.7ms\n",
      "image 1263/1744 /kaggle/working/yolo/images/val/000208_0177.jpg: 256x416 1 pig, 5.6ms\n",
      "image 1264/1744 /kaggle/working/yolo/images/val/000208_0180.jpg: 256x416 1 pig, 5.7ms\n",
      "image 1265/1744 /kaggle/working/yolo/images/val/000208_0183.jpg: 256x416 1 pig, 5.9ms\n",
      "image 1266/1744 /kaggle/working/yolo/images/val/000208_0186.jpg: 256x416 (no detections), 5.8ms\n",
      "image 1267/1744 /kaggle/working/yolo/images/val/000208_0189.jpg: 256x416 1 pig, 5.7ms\n",
      "image 1268/1744 /kaggle/working/yolo/images/val/000208_0192.jpg: 256x416 2 pigs, 5.8ms\n",
      "image 1269/1744 /kaggle/working/yolo/images/val/000208_0198.jpg: 256x416 (no detections), 5.9ms\n",
      "image 1270/1744 /kaggle/working/yolo/images/val/000208_0201.jpg: 256x416 (no detections), 6.1ms\n",
      "image 1271/1744 /kaggle/working/yolo/images/val/000208_0204.jpg: 256x416 2 pigs, 5.7ms\n",
      "image 1272/1744 /kaggle/working/yolo/images/val/000208_0207.jpg: 256x416 (no detections), 5.7ms\n",
      "image 1273/1744 /kaggle/working/yolo/images/val/000208_0210.jpg: 256x416 (no detections), 5.7ms\n",
      "image 1274/1744 /kaggle/working/yolo/images/val/000208_0213.jpg: 256x416 2 pigs, 5.8ms\n",
      "image 1275/1744 /kaggle/working/yolo/images/val/000208_0216.jpg: 256x416 (no detections), 5.8ms\n",
      "image 1276/1744 /kaggle/working/yolo/images/val/000208_0222.jpg: 256x416 (no detections), 5.8ms\n",
      "image 1277/1744 /kaggle/working/yolo/images/val/000208_0225.jpg: 256x416 (no detections), 5.7ms\n",
      "image 1278/1744 /kaggle/working/yolo/images/val/000208_0228.jpg: 256x416 (no detections), 6.0ms\n",
      "image 1279/1744 /kaggle/working/yolo/images/val/000208_0231.jpg: 256x416 (no detections), 5.7ms\n",
      "image 1280/1744 /kaggle/working/yolo/images/val/000208_0234.jpg: 256x416 2 pigs, 6.1ms\n",
      "image 1281/1744 /kaggle/working/yolo/images/val/000208_0237.jpg: 256x416 3 pigs, 6.2ms\n",
      "image 1282/1744 /kaggle/working/yolo/images/val/000208_0240.jpg: 256x416 3 pigs, 5.6ms\n",
      "image 1283/1744 /kaggle/working/yolo/images/val/000208_0243.jpg: 256x416 4 pigs, 5.7ms\n",
      "image 1284/1744 /kaggle/working/yolo/images/val/000208_0246.jpg: 256x416 4 pigs, 5.8ms\n",
      "image 1285/1744 /kaggle/working/yolo/images/val/000208_0249.jpg: 256x416 4 pigs, 5.6ms\n",
      "image 1286/1744 /kaggle/working/yolo/images/val/000208_0252.jpg: 256x416 2 pigs, 5.7ms\n",
      "image 1287/1744 /kaggle/working/yolo/images/val/000208_0255.jpg: 256x416 1 pig, 5.7ms\n",
      "image 1288/1744 /kaggle/working/yolo/images/val/000208_0258.jpg: 256x416 (no detections), 5.7ms\n",
      "image 1289/1744 /kaggle/working/yolo/images/val/000208_0261.jpg: 256x416 1 pig, 5.9ms\n",
      "image 1290/1744 /kaggle/working/yolo/images/val/000208_0264.jpg: 256x416 (no detections), 5.7ms\n",
      "image 1291/1744 /kaggle/working/yolo/images/val/000208_0267.jpg: 256x416 1 pig, 6.2ms\n",
      "image 1292/1744 /kaggle/working/yolo/images/val/000208_0270.jpg: 256x416 1 pig, 6.0ms\n",
      "image 1293/1744 /kaggle/working/yolo/images/val/000208_0273.jpg: 256x416 2 pigs, 5.7ms\n",
      "image 1294/1744 /kaggle/working/yolo/images/val/000208_0276.jpg: 256x416 1 pig, 5.8ms\n",
      "image 1295/1744 /kaggle/working/yolo/images/val/000208_0279.jpg: 256x416 2 pigs, 6.0ms\n",
      "image 1296/1744 /kaggle/working/yolo/images/val/000208_0282.jpg: 256x416 2 pigs, 5.7ms\n",
      "image 1297/1744 /kaggle/working/yolo/images/val/000208_0285.jpg: 256x416 1 pig, 5.7ms\n",
      "image 1298/1744 /kaggle/working/yolo/images/val/000208_0288.jpg: 256x416 1 pig, 5.8ms\n",
      "image 1299/1744 /kaggle/working/yolo/images/val/000208_0291.jpg: 256x416 2 pigs, 6.0ms\n",
      "image 1300/1744 /kaggle/working/yolo/images/val/000208_0294.jpg: 256x416 2 pigs, 5.9ms\n",
      "image 1301/1744 /kaggle/working/yolo/images/val/000208_0297.jpg: 256x416 2 pigs, 6.0ms\n",
      "image 1302/1744 /kaggle/working/yolo/images/val/000208_0300.jpg: 256x416 2 pigs, 5.9ms\n",
      "image 1303/1744 /kaggle/working/yolo/images/val/000208_0303.jpg: 256x416 1 pig, 6.0ms\n",
      "image 1304/1744 /kaggle/working/yolo/images/val/000208_0306.jpg: 256x416 2 pigs, 7.7ms\n",
      "image 1305/1744 /kaggle/working/yolo/images/val/000208_0309.jpg: 256x416 3 pigs, 5.8ms\n",
      "image 1306/1744 /kaggle/working/yolo/images/val/000208_0312.jpg: 256x416 2 pigs, 5.9ms\n",
      "image 1307/1744 /kaggle/working/yolo/images/val/000208_0315.jpg: 256x416 1 pig, 5.9ms\n",
      "image 1308/1744 /kaggle/working/yolo/images/val/000208_0318.jpg: 256x416 2 pigs, 5.7ms\n",
      "image 1309/1744 /kaggle/working/yolo/images/val/000208_0321.jpg: 256x416 2 pigs, 5.9ms\n",
      "image 1310/1744 /kaggle/working/yolo/images/val/000208_0324.jpg: 256x416 2 pigs, 5.8ms\n",
      "image 1311/1744 /kaggle/working/yolo/images/val/000208_0327.jpg: 256x416 2 pigs, 5.9ms\n",
      "image 1312/1744 /kaggle/working/yolo/images/val/000208_0330.jpg: 256x416 3 pigs, 5.8ms\n",
      "image 1313/1744 /kaggle/working/yolo/images/val/000208_0333.jpg: 256x416 2 pigs, 9.1ms\n",
      "image 1314/1744 /kaggle/working/yolo/images/val/000208_0336.jpg: 256x416 1 pig, 6.1ms\n",
      "image 1315/1744 /kaggle/working/yolo/images/val/000208_0339.jpg: 256x416 2 pigs, 5.9ms\n",
      "image 1316/1744 /kaggle/working/yolo/images/val/000208_0342.jpg: 256x416 2 pigs, 6.0ms\n",
      "image 1317/1744 /kaggle/working/yolo/images/val/000208_0345.jpg: 256x416 2 pigs, 6.1ms\n",
      "image 1318/1744 /kaggle/working/yolo/images/val/000208_0348.jpg: 256x416 2 pigs, 6.1ms\n",
      "image 1319/1744 /kaggle/working/yolo/images/val/000208_0354.jpg: 256x416 2 pigs, 6.4ms\n",
      "image 1320/1744 /kaggle/working/yolo/images/val/000208_0357.jpg: 256x416 2 pigs, 6.2ms\n",
      "image 1321/1744 /kaggle/working/yolo/images/val/000208_0366.jpg: 256x416 3 pigs, 6.2ms\n",
      "image 1322/1744 /kaggle/working/yolo/images/val/000208_0369.jpg: 256x416 3 pigs, 6.0ms\n",
      "image 1323/1744 /kaggle/working/yolo/images/val/000208_0375.jpg: 256x416 3 pigs, 6.0ms\n",
      "image 1324/1744 /kaggle/working/yolo/images/val/000208_0378.jpg: 256x416 2 pigs, 6.0ms\n",
      "image 1325/1744 /kaggle/working/yolo/images/val/000208_0381.jpg: 256x416 2 pigs, 6.1ms\n",
      "image 1326/1744 /kaggle/working/yolo/images/val/000208_0384.jpg: 256x416 2 pigs, 6.0ms\n",
      "image 1327/1744 /kaggle/working/yolo/images/val/000208_0387.jpg: 256x416 2 pigs, 11.5ms\n",
      "image 1328/1744 /kaggle/working/yolo/images/val/000208_0390.jpg: 256x416 2 pigs, 6.2ms\n",
      "image 1329/1744 /kaggle/working/yolo/images/val/000208_0393.jpg: 256x416 3 pigs, 6.1ms\n",
      "image 1330/1744 /kaggle/working/yolo/images/val/000208_0396.jpg: 256x416 4 pigs, 6.1ms\n",
      "image 1331/1744 /kaggle/working/yolo/images/val/000208_0399.jpg: 256x416 3 pigs, 8.4ms\n",
      "image 1332/1744 /kaggle/working/yolo/images/val/000208_0402.jpg: 256x416 3 pigs, 9.1ms\n",
      "image 1333/1744 /kaggle/working/yolo/images/val/000208_0405.jpg: 256x416 2 pigs, 8.3ms\n",
      "image 1334/1744 /kaggle/working/yolo/images/val/000208_0408.jpg: 256x416 4 pigs, 6.3ms\n",
      "image 1335/1744 /kaggle/working/yolo/images/val/000208_0411.jpg: 256x416 2 pigs, 9.0ms\n",
      "image 1336/1744 /kaggle/working/yolo/images/val/000208_0414.jpg: 256x416 3 pigs, 9.4ms\n",
      "image 1337/1744 /kaggle/working/yolo/images/val/000208_0417.jpg: 256x416 3 pigs, 11.1ms\n",
      "image 1338/1744 /kaggle/working/yolo/images/val/000208_0420.jpg: 256x416 4 pigs, 6.0ms\n",
      "image 1339/1744 /kaggle/working/yolo/images/val/000208_0423.jpg: 256x416 3 pigs, 8.3ms\n",
      "image 1340/1744 /kaggle/working/yolo/images/val/000208_0426.jpg: 256x416 2 pigs, 6.1ms\n",
      "image 1341/1744 /kaggle/working/yolo/images/val/000208_0429.jpg: 256x416 3 pigs, 5.7ms\n",
      "image 1342/1744 /kaggle/working/yolo/images/val/000208_0432.jpg: 256x416 3 pigs, 5.7ms\n",
      "image 1343/1744 /kaggle/working/yolo/images/val/000208_0435.jpg: 256x416 5 pigs, 5.7ms\n",
      "image 1344/1744 /kaggle/working/yolo/images/val/000208_0438.jpg: 256x416 4 pigs, 5.7ms\n",
      "image 1345/1744 /kaggle/working/yolo/images/val/000208_0441.jpg: 256x416 7 pigs, 5.7ms\n",
      "image 1346/1744 /kaggle/working/yolo/images/val/000208_0444.jpg: 256x416 2 pigs, 5.7ms\n",
      "image 1347/1744 /kaggle/working/yolo/images/val/000208_0447.jpg: 256x416 4 pigs, 5.7ms\n",
      "image 1348/1744 /kaggle/working/yolo/images/val/000208_0450.jpg: 256x416 4 pigs, 5.8ms\n",
      "image 1349/1744 /kaggle/working/yolo/images/val/000208_0453.jpg: 256x416 3 pigs, 6.4ms\n",
      "image 1350/1744 /kaggle/working/yolo/images/val/000208_0456.jpg: 256x416 5 pigs, 6.5ms\n",
      "image 1351/1744 /kaggle/working/yolo/images/val/000208_0459.jpg: 256x416 3 pigs, 6.9ms\n",
      "image 1352/1744 /kaggle/working/yolo/images/val/000208_0462.jpg: 256x416 5 pigs, 7.5ms\n",
      "image 1353/1744 /kaggle/working/yolo/images/val/000208_0465.jpg: 256x416 3 pigs, 6.6ms\n",
      "image 1354/1744 /kaggle/working/yolo/images/val/000208_0468.jpg: 256x416 3 pigs, 6.6ms\n",
      "image 1355/1744 /kaggle/working/yolo/images/val/000208_0471.jpg: 256x416 5 pigs, 6.7ms\n",
      "image 1356/1744 /kaggle/working/yolo/images/val/000208_0474.jpg: 256x416 6 pigs, 6.7ms\n",
      "image 1357/1744 /kaggle/working/yolo/images/val/000208_0477.jpg: 256x416 5 pigs, 14.7ms\n",
      "image 1358/1744 /kaggle/working/yolo/images/val/000208_0480.jpg: 256x416 6 pigs, 13.7ms\n",
      "image 1359/1744 /kaggle/working/yolo/images/val/000208_0483.jpg: 256x416 8 pigs, 6.2ms\n",
      "image 1360/1744 /kaggle/working/yolo/images/val/000208_0486.jpg: 256x416 6 pigs, 6.4ms\n",
      "image 1361/1744 /kaggle/working/yolo/images/val/000208_0489.jpg: 256x416 7 pigs, 8.3ms\n",
      "image 1362/1744 /kaggle/working/yolo/images/val/000208_0492.jpg: 256x416 4 pigs, 8.7ms\n",
      "image 1363/1744 /kaggle/working/yolo/images/val/000208_0495.jpg: 256x416 7 pigs, 7.7ms\n",
      "image 1364/1744 /kaggle/working/yolo/images/val/000208_0498.jpg: 256x416 3 pigs, 5.9ms\n",
      "image 1365/1744 /kaggle/working/yolo/images/val/000208_0501.jpg: 256x416 (no detections), 7.4ms\n",
      "image 1366/1744 /kaggle/working/yolo/images/val/000208_0504.jpg: 256x416 2 pigs, 6.9ms\n",
      "image 1367/1744 /kaggle/working/yolo/images/val/000208_0507.jpg: 256x416 2 pigs, 5.9ms\n",
      "image 1368/1744 /kaggle/working/yolo/images/val/000208_0510.jpg: 256x416 4 pigs, 5.9ms\n",
      "image 1369/1744 /kaggle/working/yolo/images/val/000208_0513.jpg: 256x416 2 pigs, 5.8ms\n",
      "image 1370/1744 /kaggle/working/yolo/images/val/000208_0516.jpg: 256x416 1 pig, 5.8ms\n",
      "image 1371/1744 /kaggle/working/yolo/images/val/000208_0519.jpg: 256x416 1 pig, 5.9ms\n",
      "image 1372/1744 /kaggle/working/yolo/images/val/000208_0522.jpg: 256x416 4 pigs, 5.8ms\n",
      "image 1373/1744 /kaggle/working/yolo/images/val/000208_0525.jpg: 256x416 4 pigs, 5.9ms\n",
      "image 1374/1744 /kaggle/working/yolo/images/val/000208_0528.jpg: 256x416 3 pigs, 5.9ms\n",
      "image 1375/1744 /kaggle/working/yolo/images/val/000208_0531.jpg: 256x416 4 pigs, 6.2ms\n",
      "image 1376/1744 /kaggle/working/yolo/images/val/000208_0534.jpg: 256x416 2 pigs, 5.8ms\n",
      "image 1377/1744 /kaggle/working/yolo/images/val/000208_0537.jpg: 256x416 2 pigs, 5.8ms\n",
      "image 1378/1744 /kaggle/working/yolo/images/val/000208_0540.jpg: 256x416 3 pigs, 5.8ms\n",
      "image 1379/1744 /kaggle/working/yolo/images/val/000208_0543.jpg: 256x416 3 pigs, 5.6ms\n",
      "image 1380/1744 /kaggle/working/yolo/images/val/000208_0546.jpg: 256x416 6 pigs, 5.7ms\n",
      "image 1381/1744 /kaggle/working/yolo/images/val/000208_0549.jpg: 256x416 5 pigs, 5.7ms\n",
      "image 1382/1744 /kaggle/working/yolo/images/val/000208_0552.jpg: 256x416 6 pigs, 5.7ms\n",
      "image 1383/1744 /kaggle/working/yolo/images/val/000208_0555.jpg: 256x416 6 pigs, 5.6ms\n",
      "image 1384/1744 /kaggle/working/yolo/images/val/000208_0558.jpg: 256x416 6 pigs, 5.6ms\n",
      "image 1385/1744 /kaggle/working/yolo/images/val/000208_0561.jpg: 256x416 5 pigs, 5.7ms\n",
      "image 1386/1744 /kaggle/working/yolo/images/val/000208_0564.jpg: 256x416 5 pigs, 5.6ms\n",
      "image 1387/1744 /kaggle/working/yolo/images/val/000208_0567.jpg: 256x416 6 pigs, 5.7ms\n",
      "image 1388/1744 /kaggle/working/yolo/images/val/000208_0573.jpg: 256x416 6 pigs, 5.7ms\n",
      "image 1389/1744 /kaggle/working/yolo/images/val/000208_0576.jpg: 256x416 5 pigs, 5.8ms\n",
      "image 1390/1744 /kaggle/working/yolo/images/val/000208_0579.jpg: 256x416 6 pigs, 5.6ms\n",
      "image 1391/1744 /kaggle/working/yolo/images/val/000208_0582.jpg: 256x416 5 pigs, 5.7ms\n",
      "image 1392/1744 /kaggle/working/yolo/images/val/000208_0591.jpg: 256x416 5 pigs, 5.6ms\n",
      "image 1393/1744 /kaggle/working/yolo/images/val/000208_0594.jpg: 256x416 5 pigs, 5.6ms\n",
      "image 1394/1744 /kaggle/working/yolo/images/val/000208_0597.jpg: 256x416 4 pigs, 5.8ms\n",
      "image 1395/1744 /kaggle/working/yolo/images/val/000208_0600.jpg: 256x416 4 pigs, 5.6ms\n",
      "image 1396/1744 /kaggle/working/yolo/images/val/000208_0603.jpg: 256x416 4 pigs, 5.8ms\n",
      "image 1397/1744 /kaggle/working/yolo/images/val/000208_0606.jpg: 256x416 4 pigs, 5.8ms\n",
      "image 1398/1744 /kaggle/working/yolo/images/val/000208_0609.jpg: 256x416 3 pigs, 5.8ms\n",
      "image 1399/1744 /kaggle/working/yolo/images/val/000208_0612.jpg: 256x416 3 pigs, 5.7ms\n",
      "image 1400/1744 /kaggle/working/yolo/images/val/000208_0615.jpg: 256x416 3 pigs, 5.7ms\n",
      "image 1401/1744 /kaggle/working/yolo/images/val/000208_0618.jpg: 256x416 4 pigs, 5.7ms\n",
      "image 1402/1744 /kaggle/working/yolo/images/val/000208_0621.jpg: 256x416 3 pigs, 5.8ms\n",
      "image 1403/1744 /kaggle/working/yolo/images/val/000208_0624.jpg: 256x416 4 pigs, 5.6ms\n",
      "image 1404/1744 /kaggle/working/yolo/images/val/000208_0627.jpg: 256x416 3 pigs, 5.6ms\n",
      "image 1405/1744 /kaggle/working/yolo/images/val/000208_0630.jpg: 256x416 3 pigs, 5.5ms\n",
      "image 1406/1744 /kaggle/working/yolo/images/val/000208_0633.jpg: 256x416 2 pigs, 6.2ms\n",
      "image 1407/1744 /kaggle/working/yolo/images/val/000208_0636.jpg: 256x416 3 pigs, 5.5ms\n",
      "image 1408/1744 /kaggle/working/yolo/images/val/000208_0639.jpg: 256x416 3 pigs, 5.7ms\n",
      "image 1409/1744 /kaggle/working/yolo/images/val/000208_0645.jpg: 256x416 3 pigs, 5.9ms\n",
      "image 1410/1744 /kaggle/working/yolo/images/val/000208_0648.jpg: 256x416 3 pigs, 9.4ms\n",
      "image 1411/1744 /kaggle/working/yolo/images/val/000208_0651.jpg: 256x416 3 pigs, 5.6ms\n",
      "image 1412/1744 /kaggle/working/yolo/images/val/000208_0654.jpg: 256x416 3 pigs, 5.6ms\n",
      "image 1413/1744 /kaggle/working/yolo/images/val/000208_0663.jpg: 256x416 3 pigs, 5.6ms\n",
      "image 1414/1744 /kaggle/working/yolo/images/val/000208_0666.jpg: 256x416 3 pigs, 5.6ms\n",
      "image 1415/1744 /kaggle/working/yolo/images/val/000208_0672.jpg: 256x416 4 pigs, 6.4ms\n",
      "image 1416/1744 /kaggle/working/yolo/images/val/000208_0675.jpg: 256x416 4 pigs, 5.9ms\n",
      "image 1417/1744 /kaggle/working/yolo/images/val/000208_0678.jpg: 256x416 4 pigs, 6.5ms\n",
      "image 1418/1744 /kaggle/working/yolo/images/val/000208_0681.jpg: 256x416 3 pigs, 5.8ms\n",
      "image 1419/1744 /kaggle/working/yolo/images/val/000208_0684.jpg: 256x416 3 pigs, 5.7ms\n",
      "image 1420/1744 /kaggle/working/yolo/images/val/000208_0687.jpg: 256x416 3 pigs, 5.7ms\n",
      "image 1421/1744 /kaggle/working/yolo/images/val/000208_0693.jpg: 256x416 3 pigs, 5.6ms\n",
      "image 1422/1744 /kaggle/working/yolo/images/val/000208_0699.jpg: 256x416 3 pigs, 6.1ms\n",
      "image 1423/1744 /kaggle/working/yolo/images/val/000208_0702.jpg: 256x416 3 pigs, 5.9ms\n",
      "image 1424/1744 /kaggle/working/yolo/images/val/000208_0708.jpg: 256x416 3 pigs, 6.0ms\n",
      "image 1425/1744 /kaggle/working/yolo/images/val/000208_0711.jpg: 256x416 3 pigs, 8.8ms\n",
      "image 1426/1744 /kaggle/working/yolo/images/val/000208_0714.jpg: 256x416 3 pigs, 5.8ms\n",
      "image 1427/1744 /kaggle/working/yolo/images/val/000208_0717.jpg: 256x416 3 pigs, 5.8ms\n",
      "image 1428/1744 /kaggle/working/yolo/images/val/000208_0720.jpg: 256x416 4 pigs, 5.7ms\n",
      "image 1429/1744 /kaggle/working/yolo/images/val/000208_0723.jpg: 256x416 4 pigs, 5.6ms\n",
      "image 1430/1744 /kaggle/working/yolo/images/val/000208_0726.jpg: 256x416 3 pigs, 5.7ms\n",
      "image 1431/1744 /kaggle/working/yolo/images/val/000208_0729.jpg: 256x416 4 pigs, 6.1ms\n",
      "image 1432/1744 /kaggle/working/yolo/images/val/000208_0732.jpg: 256x416 3 pigs, 5.8ms\n",
      "image 1433/1744 /kaggle/working/yolo/images/val/000208_0735.jpg: 256x416 3 pigs, 6.0ms\n",
      "image 1434/1744 /kaggle/working/yolo/images/val/000208_0738.jpg: 256x416 3 pigs, 5.7ms\n",
      "image 1435/1744 /kaggle/working/yolo/images/val/000208_0744.jpg: 256x416 4 pigs, 5.9ms\n",
      "image 1436/1744 /kaggle/working/yolo/images/val/000208_0750.jpg: 256x416 3 pigs, 5.6ms\n",
      "image 1437/1744 /kaggle/working/yolo/images/val/000208_0753.jpg: 256x416 4 pigs, 5.6ms\n",
      "image 1438/1744 /kaggle/working/yolo/images/val/000208_0756.jpg: 256x416 3 pigs, 5.6ms\n",
      "image 1439/1744 /kaggle/working/yolo/images/val/000208_0759.jpg: 256x416 4 pigs, 5.6ms\n",
      "image 1440/1744 /kaggle/working/yolo/images/val/000208_0762.jpg: 256x416 5 pigs, 5.6ms\n",
      "image 1441/1744 /kaggle/working/yolo/images/val/000208_0765.jpg: 256x416 5 pigs, 5.6ms\n",
      "image 1442/1744 /kaggle/working/yolo/images/val/000208_0768.jpg: 256x416 4 pigs, 5.6ms\n",
      "image 1443/1744 /kaggle/working/yolo/images/val/000208_0771.jpg: 256x416 4 pigs, 5.6ms\n",
      "image 1444/1744 /kaggle/working/yolo/images/val/000208_0774.jpg: 256x416 4 pigs, 5.7ms\n",
      "image 1445/1744 /kaggle/working/yolo/images/val/000208_0777.jpg: 256x416 3 pigs, 5.6ms\n",
      "image 1446/1744 /kaggle/working/yolo/images/val/000208_0780.jpg: 256x416 3 pigs, 5.9ms\n",
      "image 1447/1744 /kaggle/working/yolo/images/val/000208_0783.jpg: 256x416 2 pigs, 5.7ms\n",
      "image 1448/1744 /kaggle/working/yolo/images/val/000208_0786.jpg: 256x416 3 pigs, 5.8ms\n",
      "image 1449/1744 /kaggle/working/yolo/images/val/000208_0789.jpg: 256x416 4 pigs, 5.7ms\n",
      "image 1450/1744 /kaggle/working/yolo/images/val/000208_0792.jpg: 256x416 3 pigs, 5.6ms\n",
      "image 1451/1744 /kaggle/working/yolo/images/val/000208_0795.jpg: 256x416 4 pigs, 5.8ms\n",
      "image 1452/1744 /kaggle/working/yolo/images/val/000208_0798.jpg: 256x416 5 pigs, 5.9ms\n",
      "image 1453/1744 /kaggle/working/yolo/images/val/000208_0801.jpg: 256x416 3 pigs, 5.8ms\n",
      "image 1454/1744 /kaggle/working/yolo/images/val/000208_0804.jpg: 256x416 2 pigs, 5.9ms\n",
      "image 1455/1744 /kaggle/working/yolo/images/val/000208_0807.jpg: 256x416 3 pigs, 5.9ms\n",
      "image 1456/1744 /kaggle/working/yolo/images/val/000208_0810.jpg: 256x416 3 pigs, 5.8ms\n",
      "image 1457/1744 /kaggle/working/yolo/images/val/000208_0813.jpg: 256x416 3 pigs, 5.9ms\n",
      "image 1458/1744 /kaggle/working/yolo/images/val/000208_0816.jpg: 256x416 4 pigs, 5.7ms\n",
      "image 1459/1744 /kaggle/working/yolo/images/val/000208_0819.jpg: 256x416 5 pigs, 5.7ms\n",
      "image 1460/1744 /kaggle/working/yolo/images/val/000208_0822.jpg: 256x416 3 pigs, 5.7ms\n",
      "image 1461/1744 /kaggle/working/yolo/images/val/000208_0825.jpg: 256x416 4 pigs, 5.7ms\n",
      "image 1462/1744 /kaggle/working/yolo/images/val/000208_0828.jpg: 256x416 5 pigs, 5.6ms\n",
      "image 1463/1744 /kaggle/working/yolo/images/val/000208_0831.jpg: 256x416 4 pigs, 5.5ms\n",
      "image 1464/1744 /kaggle/working/yolo/images/val/000208_0834.jpg: 256x416 3 pigs, 5.5ms\n",
      "image 1465/1744 /kaggle/working/yolo/images/val/000208_0837.jpg: 256x416 1 pig, 8.9ms\n",
      "image 1466/1744 /kaggle/working/yolo/images/val/000208_0840.jpg: 256x416 1 pig, 5.6ms\n",
      "image 1467/1744 /kaggle/working/yolo/images/val/000208_0843.jpg: 256x416 1 pig, 5.9ms\n",
      "image 1468/1744 /kaggle/working/yolo/images/val/000208_0846.jpg: 256x416 2 pigs, 5.6ms\n",
      "image 1469/1744 /kaggle/working/yolo/images/val/000208_0849.jpg: 256x416 3 pigs, 5.8ms\n",
      "image 1470/1744 /kaggle/working/yolo/images/val/000208_0855.jpg: 256x416 2 pigs, 5.8ms\n",
      "image 1471/1744 /kaggle/working/yolo/images/val/000208_0858.jpg: 256x416 2 pigs, 5.6ms\n",
      "image 1472/1744 /kaggle/working/yolo/images/val/000208_0861.jpg: 256x416 2 pigs, 5.8ms\n",
      "image 1473/1744 /kaggle/working/yolo/images/val/000208_0864.jpg: 256x416 2 pigs, 5.8ms\n",
      "image 1474/1744 /kaggle/working/yolo/images/val/000208_0867.jpg: 256x416 2 pigs, 6.0ms\n",
      "image 1475/1744 /kaggle/working/yolo/images/val/000208_0873.jpg: 256x416 2 pigs, 6.4ms\n",
      "image 1476/1744 /kaggle/working/yolo/images/val/000208_0876.jpg: 256x416 3 pigs, 5.6ms\n",
      "image 1477/1744 /kaggle/working/yolo/images/val/000208_0879.jpg: 256x416 2 pigs, 6.3ms\n",
      "image 1478/1744 /kaggle/working/yolo/images/val/000208_0882.jpg: 256x416 3 pigs, 5.7ms\n",
      "image 1479/1744 /kaggle/working/yolo/images/val/000208_0885.jpg: 256x416 2 pigs, 5.5ms\n",
      "image 1480/1744 /kaggle/working/yolo/images/val/000208_0888.jpg: 256x416 3 pigs, 6.0ms\n",
      "image 1481/1744 /kaggle/working/yolo/images/val/000208_0891.jpg: 256x416 4 pigs, 5.8ms\n",
      "image 1482/1744 /kaggle/working/yolo/images/val/000208_0894.jpg: 256x416 3 pigs, 5.8ms\n",
      "image 1483/1744 /kaggle/working/yolo/images/val/000208_0897.jpg: 256x416 3 pigs, 5.7ms\n",
      "image 1484/1744 /kaggle/working/yolo/images/val/000208_0900.jpg: 256x416 3 pigs, 5.8ms\n",
      "image 1485/1744 /kaggle/working/yolo/images/val/000208_0906.jpg: 256x416 3 pigs, 5.8ms\n",
      "image 1486/1744 /kaggle/working/yolo/images/val/000208_0909.jpg: 256x416 2 pigs, 5.8ms\n",
      "image 1487/1744 /kaggle/working/yolo/images/val/000208_0912.jpg: 256x416 3 pigs, 5.8ms\n",
      "image 1488/1744 /kaggle/working/yolo/images/val/000208_0918.jpg: 256x416 1 pig, 5.7ms\n",
      "image 1489/1744 /kaggle/working/yolo/images/val/000208_0921.jpg: 256x416 2 pigs, 5.8ms\n",
      "image 1490/1744 /kaggle/working/yolo/images/val/000208_0924.jpg: 256x416 3 pigs, 5.7ms\n",
      "image 1491/1744 /kaggle/working/yolo/images/val/000208_0930.jpg: 256x416 4 pigs, 5.6ms\n",
      "image 1492/1744 /kaggle/working/yolo/images/val/000208_0933.jpg: 256x416 2 pigs, 5.6ms\n",
      "image 1493/1744 /kaggle/working/yolo/images/val/000208_0936.jpg: 256x416 3 pigs, 5.6ms\n",
      "image 1494/1744 /kaggle/working/yolo/images/val/000208_0945.jpg: 256x416 3 pigs, 5.8ms\n",
      "image 1495/1744 /kaggle/working/yolo/images/val/000208_0948.jpg: 256x416 3 pigs, 5.9ms\n",
      "image 1496/1744 /kaggle/working/yolo/images/val/000208_0951.jpg: 256x416 2 pigs, 5.9ms\n",
      "image 1497/1744 /kaggle/working/yolo/images/val/000208_0954.jpg: 256x416 2 pigs, 5.7ms\n",
      "image 1498/1744 /kaggle/working/yolo/images/val/000208_0957.jpg: 256x416 4 pigs, 5.9ms\n",
      "image 1499/1744 /kaggle/working/yolo/images/val/000208_0963.jpg: 256x416 4 pigs, 5.6ms\n",
      "image 1500/1744 /kaggle/working/yolo/images/val/000208_0966.jpg: 256x416 2 pigs, 5.7ms\n",
      "image 1501/1744 /kaggle/working/yolo/images/val/000208_0969.jpg: 256x416 2 pigs, 5.8ms\n",
      "image 1502/1744 /kaggle/working/yolo/images/val/000208_0972.jpg: 256x416 3 pigs, 5.8ms\n",
      "image 1503/1744 /kaggle/working/yolo/images/val/000208_0975.jpg: 256x416 2 pigs, 5.8ms\n",
      "image 1504/1744 /kaggle/working/yolo/images/val/000208_0978.jpg: 256x416 4 pigs, 8.3ms\n",
      "image 1505/1744 /kaggle/working/yolo/images/val/000208_0981.jpg: 256x416 3 pigs, 5.6ms\n",
      "image 1506/1744 /kaggle/working/yolo/images/val/000208_0984.jpg: 256x416 4 pigs, 5.7ms\n",
      "image 1507/1744 /kaggle/working/yolo/images/val/000208_0987.jpg: 256x416 4 pigs, 5.6ms\n",
      "image 1508/1744 /kaggle/working/yolo/images/val/000208_0990.jpg: 256x416 6 pigs, 5.7ms\n",
      "image 1509/1744 /kaggle/working/yolo/images/val/000208_0993.jpg: 256x416 5 pigs, 5.6ms\n",
      "image 1510/1744 /kaggle/working/yolo/images/val/000208_0996.jpg: 256x416 5 pigs, 5.7ms\n",
      "image 1511/1744 /kaggle/working/yolo/images/val/000208_0999.jpg: 256x416 3 pigs, 6.1ms\n",
      "image 1512/1744 /kaggle/working/yolo/images/val/000208_1002.jpg: 256x416 4 pigs, 5.7ms\n",
      "image 1513/1744 /kaggle/working/yolo/images/val/000208_1005.jpg: 256x416 5 pigs, 5.6ms\n",
      "image 1514/1744 /kaggle/working/yolo/images/val/000208_1008.jpg: 256x416 3 pigs, 8.4ms\n",
      "image 1515/1744 /kaggle/working/yolo/images/val/000208_1011.jpg: 256x416 3 pigs, 5.6ms\n",
      "image 1516/1744 /kaggle/working/yolo/images/val/000208_1014.jpg: 256x416 4 pigs, 5.8ms\n",
      "image 1517/1744 /kaggle/working/yolo/images/val/000208_1017.jpg: 256x416 4 pigs, 5.6ms\n",
      "image 1518/1744 /kaggle/working/yolo/images/val/000208_1020.jpg: 256x416 5 pigs, 5.8ms\n",
      "image 1519/1744 /kaggle/working/yolo/images/val/000208_1023.jpg: 256x416 3 pigs, 5.8ms\n",
      "image 1520/1744 /kaggle/working/yolo/images/val/000208_1026.jpg: 256x416 3 pigs, 5.8ms\n",
      "image 1521/1744 /kaggle/working/yolo/images/val/000208_1029.jpg: 256x416 2 pigs, 6.2ms\n",
      "image 1522/1744 /kaggle/working/yolo/images/val/000208_1032.jpg: 256x416 2 pigs, 6.0ms\n",
      "image 1523/1744 /kaggle/working/yolo/images/val/000208_1035.jpg: 256x416 2 pigs, 5.8ms\n",
      "image 1524/1744 /kaggle/working/yolo/images/val/000208_1038.jpg: 256x416 2 pigs, 5.8ms\n",
      "image 1525/1744 /kaggle/working/yolo/images/val/000208_1044.jpg: 256x416 2 pigs, 5.7ms\n",
      "image 1526/1744 /kaggle/working/yolo/images/val/000208_1050.jpg: 256x416 2 pigs, 5.8ms\n",
      "image 1527/1744 /kaggle/working/yolo/images/val/000208_1053.jpg: 256x416 3 pigs, 5.7ms\n",
      "image 1528/1744 /kaggle/working/yolo/images/val/000208_1056.jpg: 256x416 4 pigs, 5.7ms\n",
      "image 1529/1744 /kaggle/working/yolo/images/val/000208_1059.jpg: 256x416 4 pigs, 5.7ms\n",
      "image 1530/1744 /kaggle/working/yolo/images/val/000208_1062.jpg: 256x416 4 pigs, 5.7ms\n",
      "image 1531/1744 /kaggle/working/yolo/images/val/000208_1065.jpg: 256x416 2 pigs, 5.7ms\n",
      "image 1532/1744 /kaggle/working/yolo/images/val/000208_1068.jpg: 256x416 4 pigs, 5.7ms\n",
      "image 1533/1744 /kaggle/working/yolo/images/val/000208_1071.jpg: 256x416 3 pigs, 5.7ms\n",
      "image 1534/1744 /kaggle/working/yolo/images/val/000208_1074.jpg: 256x416 3 pigs, 5.7ms\n",
      "image 1535/1744 /kaggle/working/yolo/images/val/000208_1077.jpg: 256x416 4 pigs, 5.6ms\n",
      "image 1536/1744 /kaggle/working/yolo/images/val/000208_1080.jpg: 256x416 4 pigs, 5.7ms\n",
      "image 1537/1744 /kaggle/working/yolo/images/val/000208_1083.jpg: 256x416 3 pigs, 5.7ms\n",
      "image 1538/1744 /kaggle/working/yolo/images/val/000208_1086.jpg: 256x416 3 pigs, 5.7ms\n",
      "image 1539/1744 /kaggle/working/yolo/images/val/000208_1089.jpg: 256x416 3 pigs, 5.7ms\n",
      "image 1540/1744 /kaggle/working/yolo/images/val/000208_1092.jpg: 256x416 3 pigs, 5.7ms\n",
      "image 1541/1744 /kaggle/working/yolo/images/val/000208_1095.jpg: 256x416 3 pigs, 5.7ms\n",
      "image 1542/1744 /kaggle/working/yolo/images/val/000208_1104.jpg: 256x416 3 pigs, 5.8ms\n",
      "image 1543/1744 /kaggle/working/yolo/images/val/000208_1107.jpg: 256x416 3 pigs, 5.6ms\n",
      "image 1544/1744 /kaggle/working/yolo/images/val/000208_1110.jpg: 256x416 2 pigs, 5.9ms\n",
      "image 1545/1744 /kaggle/working/yolo/images/val/000208_1113.jpg: 256x416 3 pigs, 5.7ms\n",
      "image 1546/1744 /kaggle/working/yolo/images/val/000208_1116.jpg: 256x416 4 pigs, 5.8ms\n",
      "image 1547/1744 /kaggle/working/yolo/images/val/000208_1122.jpg: 256x416 3 pigs, 5.7ms\n",
      "image 1548/1744 /kaggle/working/yolo/images/val/000208_1128.jpg: 256x416 3 pigs, 6.4ms\n",
      "image 1549/1744 /kaggle/working/yolo/images/val/000208_1131.jpg: 256x416 3 pigs, 5.6ms\n",
      "image 1550/1744 /kaggle/working/yolo/images/val/000208_1134.jpg: 256x416 5 pigs, 6.1ms\n",
      "image 1551/1744 /kaggle/working/yolo/images/val/000208_1137.jpg: 256x416 5 pigs, 5.7ms\n",
      "image 1552/1744 /kaggle/working/yolo/images/val/000208_1143.jpg: 256x416 5 pigs, 6.0ms\n",
      "image 1553/1744 /kaggle/working/yolo/images/val/000208_1146.jpg: 256x416 6 pigs, 5.6ms\n",
      "image 1554/1744 /kaggle/working/yolo/images/val/000208_1149.jpg: 256x416 3 pigs, 8.1ms\n",
      "image 1555/1744 /kaggle/working/yolo/images/val/000208_1152.jpg: 256x416 5 pigs, 5.9ms\n",
      "image 1556/1744 /kaggle/working/yolo/images/val/000208_1155.jpg: 256x416 5 pigs, 5.9ms\n",
      "image 1557/1744 /kaggle/working/yolo/images/val/000208_1158.jpg: 256x416 4 pigs, 6.0ms\n",
      "image 1558/1744 /kaggle/working/yolo/images/val/000208_1161.jpg: 256x416 5 pigs, 5.8ms\n",
      "image 1559/1744 /kaggle/working/yolo/images/val/000208_1164.jpg: 256x416 3 pigs, 5.9ms\n",
      "image 1560/1744 /kaggle/working/yolo/images/val/000208_1167.jpg: 256x416 4 pigs, 6.0ms\n",
      "image 1561/1744 /kaggle/working/yolo/images/val/000208_1170.jpg: 256x416 3 pigs, 6.0ms\n",
      "image 1562/1744 /kaggle/working/yolo/images/val/000208_1173.jpg: 256x416 3 pigs, 5.8ms\n",
      "image 1563/1744 /kaggle/working/yolo/images/val/000208_1176.jpg: 256x416 4 pigs, 5.7ms\n",
      "image 1564/1744 /kaggle/working/yolo/images/val/000208_1179.jpg: 256x416 4 pigs, 6.5ms\n",
      "image 1565/1744 /kaggle/working/yolo/images/val/000208_1182.jpg: 256x416 5 pigs, 5.8ms\n",
      "image 1566/1744 /kaggle/working/yolo/images/val/000208_1185.jpg: 256x416 4 pigs, 5.9ms\n",
      "image 1567/1744 /kaggle/working/yolo/images/val/000208_1188.jpg: 256x416 2 pigs, 6.0ms\n",
      "image 1568/1744 /kaggle/working/yolo/images/val/000208_1191.jpg: 256x416 4 pigs, 5.9ms\n",
      "image 1569/1744 /kaggle/working/yolo/images/val/000208_1194.jpg: 256x416 4 pigs, 5.9ms\n",
      "image 1570/1744 /kaggle/working/yolo/images/val/000208_1197.jpg: 256x416 3 pigs, 6.0ms\n",
      "image 1571/1744 /kaggle/working/yolo/images/val/000208_1200.jpg: 256x416 3 pigs, 6.0ms\n",
      "image 1572/1744 /kaggle/working/yolo/images/val/000208_1203.jpg: 256x416 3 pigs, 6.0ms\n",
      "image 1573/1744 /kaggle/working/yolo/images/val/000208_1206.jpg: 256x416 3 pigs, 5.9ms\n",
      "image 1574/1744 /kaggle/working/yolo/images/val/000208_1209.jpg: 256x416 3 pigs, 5.9ms\n",
      "image 1575/1744 /kaggle/working/yolo/images/val/000208_1212.jpg: 256x416 2 pigs, 5.9ms\n",
      "image 1576/1744 /kaggle/working/yolo/images/val/000208_1215.jpg: 256x416 4 pigs, 6.0ms\n",
      "image 1577/1744 /kaggle/working/yolo/images/val/000208_1218.jpg: 256x416 2 pigs, 6.0ms\n",
      "image 1578/1744 /kaggle/working/yolo/images/val/000208_1221.jpg: 256x416 2 pigs, 6.2ms\n",
      "image 1579/1744 /kaggle/working/yolo/images/val/000208_1224.jpg: 256x416 3 pigs, 5.7ms\n",
      "image 1580/1744 /kaggle/working/yolo/images/val/000208_1227.jpg: 256x416 3 pigs, 6.8ms\n",
      "image 1581/1744 /kaggle/working/yolo/images/val/000208_1230.jpg: 256x416 3 pigs, 6.4ms\n",
      "image 1582/1744 /kaggle/working/yolo/images/val/000208_1233.jpg: 256x416 3 pigs, 6.0ms\n",
      "image 1583/1744 /kaggle/working/yolo/images/val/000208_1239.jpg: 256x416 3 pigs, 6.1ms\n",
      "image 1584/1744 /kaggle/working/yolo/images/val/000208_1242.jpg: 256x416 3 pigs, 6.0ms\n",
      "image 1585/1744 /kaggle/working/yolo/images/val/000208_1245.jpg: 256x416 3 pigs, 6.1ms\n",
      "image 1586/1744 /kaggle/working/yolo/images/val/000208_1248.jpg: 256x416 3 pigs, 6.3ms\n",
      "image 1587/1744 /kaggle/working/yolo/images/val/000208_1251.jpg: 256x416 3 pigs, 12.5ms\n",
      "image 1588/1744 /kaggle/working/yolo/images/val/000208_1254.jpg: 256x416 4 pigs, 6.5ms\n",
      "image 1589/1744 /kaggle/working/yolo/images/val/000208_1257.jpg: 256x416 4 pigs, 9.9ms\n",
      "image 1590/1744 /kaggle/working/yolo/images/val/000208_1260.jpg: 256x416 4 pigs, 8.6ms\n",
      "image 1591/1744 /kaggle/working/yolo/images/val/000208_1263.jpg: 256x416 5 pigs, 8.7ms\n",
      "image 1592/1744 /kaggle/working/yolo/images/val/000208_1266.jpg: 256x416 5 pigs, 6.4ms\n",
      "image 1593/1744 /kaggle/working/yolo/images/val/000208_1269.jpg: 256x416 4 pigs, 5.9ms\n",
      "image 1594/1744 /kaggle/working/yolo/images/val/000208_1272.jpg: 256x416 4 pigs, 6.1ms\n",
      "image 1595/1744 /kaggle/working/yolo/images/val/000208_1275.jpg: 256x416 5 pigs, 6.0ms\n",
      "image 1596/1744 /kaggle/working/yolo/images/val/000208_1278.jpg: 256x416 4 pigs, 6.0ms\n",
      "image 1597/1744 /kaggle/working/yolo/images/val/000208_1281.jpg: 256x416 4 pigs, 8.4ms\n",
      "image 1598/1744 /kaggle/working/yolo/images/val/000208_1284.jpg: 256x416 4 pigs, 5.9ms\n",
      "image 1599/1744 /kaggle/working/yolo/images/val/000208_1290.jpg: 256x416 4 pigs, 5.8ms\n",
      "image 1600/1744 /kaggle/working/yolo/images/val/000208_1296.jpg: 256x416 4 pigs, 5.7ms\n",
      "image 1601/1744 /kaggle/working/yolo/images/val/000208_1302.jpg: 256x416 5 pigs, 6.2ms\n",
      "image 1602/1744 /kaggle/working/yolo/images/val/000208_1305.jpg: 256x416 4 pigs, 6.2ms\n",
      "image 1603/1744 /kaggle/working/yolo/images/val/000208_1308.jpg: 256x416 3 pigs, 6.1ms\n",
      "image 1604/1744 /kaggle/working/yolo/images/val/000208_1311.jpg: 256x416 3 pigs, 5.8ms\n",
      "image 1605/1744 /kaggle/working/yolo/images/val/000208_1314.jpg: 256x416 3 pigs, 5.8ms\n",
      "image 1606/1744 /kaggle/working/yolo/images/val/000208_1317.jpg: 256x416 3 pigs, 6.0ms\n",
      "image 1607/1744 /kaggle/working/yolo/images/val/000208_1320.jpg: 256x416 3 pigs, 5.9ms\n",
      "image 1608/1744 /kaggle/working/yolo/images/val/000208_1323.jpg: 256x416 3 pigs, 6.7ms\n",
      "image 1609/1744 /kaggle/working/yolo/images/val/000208_1326.jpg: 256x416 3 pigs, 6.4ms\n",
      "image 1610/1744 /kaggle/working/yolo/images/val/000208_1329.jpg: 256x416 4 pigs, 6.1ms\n",
      "image 1611/1744 /kaggle/working/yolo/images/val/000208_1332.jpg: 256x416 5 pigs, 5.8ms\n",
      "image 1612/1744 /kaggle/working/yolo/images/val/000208_1335.jpg: 256x416 4 pigs, 5.7ms\n",
      "image 1613/1744 /kaggle/working/yolo/images/val/000208_1338.jpg: 256x416 4 pigs, 5.8ms\n",
      "image 1614/1744 /kaggle/working/yolo/images/val/000208_1341.jpg: 256x416 4 pigs, 5.7ms\n",
      "image 1615/1744 /kaggle/working/yolo/images/val/000208_1344.jpg: 256x416 3 pigs, 5.8ms\n",
      "image 1616/1744 /kaggle/working/yolo/images/val/000208_1347.jpg: 256x416 3 pigs, 6.0ms\n",
      "image 1617/1744 /kaggle/working/yolo/images/val/000208_1350.jpg: 256x416 2 pigs, 5.9ms\n",
      "image 1618/1744 /kaggle/working/yolo/images/val/000208_1356.jpg: 256x416 3 pigs, 6.0ms\n",
      "image 1619/1744 /kaggle/working/yolo/images/val/000208_1362.jpg: 256x416 2 pigs, 5.9ms\n",
      "image 1620/1744 /kaggle/working/yolo/images/val/000208_1365.jpg: 256x416 2 pigs, 5.9ms\n",
      "image 1621/1744 /kaggle/working/yolo/images/val/000208_1368.jpg: 256x416 3 pigs, 5.9ms\n",
      "image 1622/1744 /kaggle/working/yolo/images/val/000208_1371.jpg: 256x416 3 pigs, 5.7ms\n",
      "image 1623/1744 /kaggle/working/yolo/images/val/000208_1374.jpg: 256x416 3 pigs, 6.2ms\n",
      "image 1624/1744 /kaggle/working/yolo/images/val/000208_1377.jpg: 256x416 3 pigs, 5.8ms\n",
      "image 1625/1744 /kaggle/working/yolo/images/val/000208_1380.jpg: 256x416 4 pigs, 5.8ms\n",
      "image 1626/1744 /kaggle/working/yolo/images/val/000208_1386.jpg: 256x416 3 pigs, 5.7ms\n",
      "image 1627/1744 /kaggle/working/yolo/images/val/000208_1392.jpg: 256x416 4 pigs, 5.9ms\n",
      "image 1628/1744 /kaggle/working/yolo/images/val/000208_1398.jpg: 256x416 3 pigs, 5.7ms\n",
      "image 1629/1744 /kaggle/working/yolo/images/val/000208_1404.jpg: 256x416 3 pigs, 5.9ms\n",
      "image 1630/1744 /kaggle/working/yolo/images/val/000208_1410.jpg: 256x416 3 pigs, 6.0ms\n",
      "image 1631/1744 /kaggle/working/yolo/images/val/000208_1416.jpg: 256x416 4 pigs, 9.1ms\n",
      "image 1632/1744 /kaggle/working/yolo/images/val/000208_1422.jpg: 256x416 3 pigs, 5.7ms\n",
      "image 1633/1744 /kaggle/working/yolo/images/val/000208_1425.jpg: 256x416 3 pigs, 6.4ms\n",
      "image 1634/1744 /kaggle/working/yolo/images/val/000208_1428.jpg: 256x416 4 pigs, 6.2ms\n",
      "image 1635/1744 /kaggle/working/yolo/images/val/000208_1431.jpg: 256x416 3 pigs, 6.8ms\n",
      "image 1636/1744 /kaggle/working/yolo/images/val/000208_1434.jpg: 256x416 2 pigs, 6.1ms\n",
      "image 1637/1744 /kaggle/working/yolo/images/val/000208_1437.jpg: 256x416 3 pigs, 6.1ms\n",
      "image 1638/1744 /kaggle/working/yolo/images/val/000208_1440.jpg: 256x416 2 pigs, 5.9ms\n",
      "image 1639/1744 /kaggle/working/yolo/images/val/000208_1443.jpg: 256x416 3 pigs, 5.9ms\n",
      "image 1640/1744 /kaggle/working/yolo/images/val/000208_1446.jpg: 256x416 3 pigs, 6.0ms\n",
      "image 1641/1744 /kaggle/working/yolo/images/val/000208_1449.jpg: 256x416 1 pig, 5.9ms\n",
      "image 1642/1744 /kaggle/working/yolo/images/val/000208_1452.jpg: 256x416 1 pig, 5.9ms\n",
      "image 1643/1744 /kaggle/working/yolo/images/val/000208_1455.jpg: 256x416 2 pigs, 5.7ms\n",
      "image 1644/1744 /kaggle/working/yolo/images/val/000208_1458.jpg: 256x416 2 pigs, 5.8ms\n",
      "image 1645/1744 /kaggle/working/yolo/images/val/000208_1461.jpg: 256x416 2 pigs, 5.8ms\n",
      "image 1646/1744 /kaggle/working/yolo/images/val/000208_1464.jpg: 256x416 2 pigs, 6.2ms\n",
      "image 1647/1744 /kaggle/working/yolo/images/val/000208_1467.jpg: 256x416 1 pig, 5.8ms\n",
      "image 1648/1744 /kaggle/working/yolo/images/val/000208_1470.jpg: 256x416 1 pig, 5.8ms\n",
      "image 1649/1744 /kaggle/working/yolo/images/val/000208_1473.jpg: 256x416 1 pig, 5.7ms\n",
      "image 1650/1744 /kaggle/working/yolo/images/val/000208_1479.jpg: 256x416 3 pigs, 5.7ms\n",
      "image 1651/1744 /kaggle/working/yolo/images/val/000208_1485.jpg: 256x416 2 pigs, 6.0ms\n",
      "image 1652/1744 /kaggle/working/yolo/images/val/000208_1491.jpg: 256x416 1 pig, 5.9ms\n",
      "image 1653/1744 /kaggle/working/yolo/images/val/000208_1494.jpg: 256x416 1 pig, 5.9ms\n",
      "image 1654/1744 /kaggle/working/yolo/images/val/000208_1497.jpg: 256x416 3 pigs, 6.2ms\n",
      "image 1655/1744 /kaggle/working/yolo/images/val/000208_1500.jpg: 256x416 2 pigs, 6.0ms\n",
      "image 1656/1744 /kaggle/working/yolo/images/val/000208_1503.jpg: 256x416 3 pigs, 5.8ms\n",
      "image 1657/1744 /kaggle/working/yolo/images/val/000208_1509.jpg: 256x416 2 pigs, 5.7ms\n",
      "image 1658/1744 /kaggle/working/yolo/images/val/000208_1512.jpg: 256x416 4 pigs, 5.7ms\n",
      "image 1659/1744 /kaggle/working/yolo/images/val/000208_1515.jpg: 256x416 3 pigs, 5.7ms\n",
      "image 1660/1744 /kaggle/working/yolo/images/val/000208_1518.jpg: 256x416 2 pigs, 5.9ms\n",
      "image 1661/1744 /kaggle/working/yolo/images/val/000208_1521.jpg: 256x416 1 pig, 5.7ms\n",
      "image 1662/1744 /kaggle/working/yolo/images/val/000208_1524.jpg: 256x416 (no detections), 5.8ms\n",
      "image 1663/1744 /kaggle/working/yolo/images/val/000208_1527.jpg: 256x416 1 pig, 5.8ms\n",
      "image 1664/1744 /kaggle/working/yolo/images/val/000208_1530.jpg: 256x416 1 pig, 5.6ms\n",
      "image 1665/1744 /kaggle/working/yolo/images/val/000208_1533.jpg: 256x416 1 pig, 6.4ms\n",
      "image 1666/1744 /kaggle/working/yolo/images/val/000208_1536.jpg: 256x416 2 pigs, 5.5ms\n",
      "image 1667/1744 /kaggle/working/yolo/images/val/000208_1539.jpg: 256x416 4 pigs, 5.6ms\n",
      "image 1668/1744 /kaggle/working/yolo/images/val/000208_1542.jpg: 256x416 1 pig, 5.6ms\n",
      "image 1669/1744 /kaggle/working/yolo/images/val/000208_1545.jpg: 256x416 1 pig, 5.7ms\n",
      "image 1670/1744 /kaggle/working/yolo/images/val/000208_1548.jpg: 256x416 3 pigs, 7.7ms\n",
      "image 1671/1744 /kaggle/working/yolo/images/val/000208_1551.jpg: 256x416 4 pigs, 5.7ms\n",
      "image 1672/1744 /kaggle/working/yolo/images/val/000208_1554.jpg: 256x416 3 pigs, 5.8ms\n",
      "image 1673/1744 /kaggle/working/yolo/images/val/000208_1557.jpg: 256x416 3 pigs, 5.6ms\n",
      "image 1674/1744 /kaggle/working/yolo/images/val/000208_1560.jpg: 256x416 4 pigs, 5.7ms\n",
      "image 1675/1744 /kaggle/working/yolo/images/val/000208_1563.jpg: 256x416 5 pigs, 5.7ms\n",
      "image 1676/1744 /kaggle/working/yolo/images/val/000208_1566.jpg: 256x416 6 pigs, 6.2ms\n",
      "image 1677/1744 /kaggle/working/yolo/images/val/000208_1569.jpg: 256x416 4 pigs, 5.6ms\n",
      "image 1678/1744 /kaggle/working/yolo/images/val/000208_1572.jpg: 256x416 3 pigs, 5.7ms\n",
      "image 1679/1744 /kaggle/working/yolo/images/val/000208_1575.jpg: 256x416 3 pigs, 5.6ms\n",
      "image 1680/1744 /kaggle/working/yolo/images/val/000208_1578.jpg: 256x416 3 pigs, 5.6ms\n",
      "image 1681/1744 /kaggle/working/yolo/images/val/000208_1581.jpg: 256x416 3 pigs, 9.0ms\n",
      "image 1682/1744 /kaggle/working/yolo/images/val/000208_1584.jpg: 256x416 4 pigs, 5.9ms\n",
      "image 1683/1744 /kaggle/working/yolo/images/val/000208_1590.jpg: 256x416 5 pigs, 5.6ms\n",
      "image 1684/1744 /kaggle/working/yolo/images/val/000208_1593.jpg: 256x416 5 pigs, 5.5ms\n",
      "image 1685/1744 /kaggle/working/yolo/images/val/000208_1596.jpg: 256x416 4 pigs, 5.6ms\n",
      "image 1686/1744 /kaggle/working/yolo/images/val/000208_1602.jpg: 256x416 2 pigs, 5.9ms\n",
      "image 1687/1744 /kaggle/working/yolo/images/val/000208_1605.jpg: 256x416 3 pigs, 5.6ms\n",
      "image 1688/1744 /kaggle/working/yolo/images/val/000208_1608.jpg: 256x416 4 pigs, 5.6ms\n",
      "image 1689/1744 /kaggle/working/yolo/images/val/000208_1611.jpg: 256x416 3 pigs, 5.7ms\n",
      "image 1690/1744 /kaggle/working/yolo/images/val/000208_1614.jpg: 256x416 3 pigs, 5.6ms\n",
      "image 1691/1744 /kaggle/working/yolo/images/val/000208_1617.jpg: 256x416 2 pigs, 5.7ms\n",
      "image 1692/1744 /kaggle/working/yolo/images/val/000208_1620.jpg: 256x416 4 pigs, 5.7ms\n",
      "image 1693/1744 /kaggle/working/yolo/images/val/000208_1623.jpg: 256x416 4 pigs, 5.5ms\n",
      "image 1694/1744 /kaggle/working/yolo/images/val/000208_1626.jpg: 256x416 4 pigs, 5.6ms\n",
      "image 1695/1744 /kaggle/working/yolo/images/val/000208_1629.jpg: 256x416 3 pigs, 5.7ms\n",
      "image 1696/1744 /kaggle/working/yolo/images/val/000208_1632.jpg: 256x416 3 pigs, 5.6ms\n",
      "image 1697/1744 /kaggle/working/yolo/images/val/000208_1638.jpg: 256x416 4 pigs, 5.6ms\n",
      "image 1698/1744 /kaggle/working/yolo/images/val/000208_1644.jpg: 256x416 4 pigs, 5.6ms\n",
      "image 1699/1744 /kaggle/working/yolo/images/val/000208_1647.jpg: 256x416 3 pigs, 5.6ms\n",
      "image 1700/1744 /kaggle/working/yolo/images/val/000208_1650.jpg: 256x416 3 pigs, 5.8ms\n",
      "image 1701/1744 /kaggle/working/yolo/images/val/000208_1653.jpg: 256x416 2 pigs, 5.6ms\n",
      "image 1702/1744 /kaggle/working/yolo/images/val/000208_1656.jpg: 256x416 2 pigs, 5.6ms\n",
      "image 1703/1744 /kaggle/working/yolo/images/val/000208_1662.jpg: 256x416 2 pigs, 6.5ms\n",
      "image 1704/1744 /kaggle/working/yolo/images/val/000208_1665.jpg: 256x416 2 pigs, 5.6ms\n",
      "image 1705/1744 /kaggle/working/yolo/images/val/000208_1668.jpg: 256x416 2 pigs, 6.2ms\n",
      "image 1706/1744 /kaggle/working/yolo/images/val/000208_1671.jpg: 256x416 2 pigs, 6.4ms\n",
      "image 1707/1744 /kaggle/working/yolo/images/val/000208_1674.jpg: 256x416 2 pigs, 6.0ms\n",
      "image 1708/1744 /kaggle/working/yolo/images/val/000208_1677.jpg: 256x416 2 pigs, 6.0ms\n",
      "image 1709/1744 /kaggle/working/yolo/images/val/000208_1680.jpg: 256x416 1 pig, 5.8ms\n",
      "image 1710/1744 /kaggle/working/yolo/images/val/000208_1683.jpg: 256x416 1 pig, 5.9ms\n",
      "image 1711/1744 /kaggle/working/yolo/images/val/000208_1686.jpg: 256x416 1 pig, 5.9ms\n",
      "image 1712/1744 /kaggle/working/yolo/images/val/000208_1689.jpg: 256x416 2 pigs, 5.7ms\n",
      "image 1713/1744 /kaggle/working/yolo/images/val/000208_1692.jpg: 256x416 2 pigs, 5.6ms\n",
      "image 1714/1744 /kaggle/working/yolo/images/val/000208_1695.jpg: 256x416 2 pigs, 5.6ms\n",
      "image 1715/1744 /kaggle/working/yolo/images/val/000208_1698.jpg: 256x416 1 pig, 5.6ms\n",
      "image 1716/1744 /kaggle/working/yolo/images/val/000208_1701.jpg: 256x416 1 pig, 5.6ms\n",
      "image 1717/1744 /kaggle/working/yolo/images/val/000208_1704.jpg: 256x416 1 pig, 5.8ms\n",
      "image 1718/1744 /kaggle/working/yolo/images/val/000208_1707.jpg: 256x416 (no detections), 5.6ms\n",
      "image 1719/1744 /kaggle/working/yolo/images/val/000208_1710.jpg: 256x416 (no detections), 6.9ms\n",
      "image 1720/1744 /kaggle/working/yolo/images/val/000208_1713.jpg: 256x416 (no detections), 5.6ms\n",
      "image 1721/1744 /kaggle/working/yolo/images/val/000208_1716.jpg: 256x416 (no detections), 5.7ms\n",
      "image 1722/1744 /kaggle/working/yolo/images/val/000208_1719.jpg: 256x416 1 pig, 5.8ms\n",
      "image 1723/1744 /kaggle/working/yolo/images/val/000208_1722.jpg: 256x416 (no detections), 6.0ms\n",
      "image 1724/1744 /kaggle/working/yolo/images/val/000208_1725.jpg: 256x416 (no detections), 5.7ms\n",
      "image 1725/1744 /kaggle/working/yolo/images/val/000208_1728.jpg: 256x416 (no detections), 5.6ms\n",
      "image 1726/1744 /kaggle/working/yolo/images/val/000208_1734.jpg: 256x416 (no detections), 6.5ms\n",
      "image 1727/1744 /kaggle/working/yolo/images/val/000208_1740.jpg: 256x416 (no detections), 5.8ms\n",
      "image 1728/1744 /kaggle/working/yolo/images/val/000208_1746.jpg: 256x416 (no detections), 5.7ms\n",
      "image 1729/1744 /kaggle/working/yolo/images/val/000208_1749.jpg: 256x416 (no detections), 5.8ms\n",
      "image 1730/1744 /kaggle/working/yolo/images/val/000208_1752.jpg: 256x416 (no detections), 5.7ms\n",
      "image 1731/1744 /kaggle/working/yolo/images/val/000208_1758.jpg: 256x416 (no detections), 5.7ms\n",
      "image 1732/1744 /kaggle/working/yolo/images/val/000208_1761.jpg: 256x416 1 pig, 5.8ms\n",
      "image 1733/1744 /kaggle/working/yolo/images/val/000208_1764.jpg: 256x416 1 pig, 5.9ms\n",
      "image 1734/1744 /kaggle/working/yolo/images/val/000208_1767.jpg: 256x416 2 pigs, 6.1ms\n",
      "image 1735/1744 /kaggle/working/yolo/images/val/000208_1770.jpg: 256x416 2 pigs, 5.6ms\n",
      "image 1736/1744 /kaggle/working/yolo/images/val/000208_1773.jpg: 256x416 1 pig, 6.2ms\n",
      "image 1737/1744 /kaggle/working/yolo/images/val/000208_1776.jpg: 256x416 2 pigs, 5.9ms\n",
      "image 1738/1744 /kaggle/working/yolo/images/val/000208_1779.jpg: 256x416 2 pigs, 5.9ms\n",
      "image 1739/1744 /kaggle/working/yolo/images/val/000208_1782.jpg: 256x416 1 pig, 5.6ms\n",
      "image 1740/1744 /kaggle/working/yolo/images/val/000208_1785.jpg: 256x416 (no detections), 5.6ms\n",
      "image 1741/1744 /kaggle/working/yolo/images/val/000208_1788.jpg: 256x416 1 pig, 5.7ms\n",
      "image 1742/1744 /kaggle/working/yolo/images/val/000208_1791.jpg: 256x416 2 pigs, 6.0ms\n",
      "image 1743/1744 /kaggle/working/yolo/images/val/000208_1794.jpg: 256x416 3 pigs, 6.0ms\n",
      "image 1744/1744 /kaggle/working/yolo/images/val/000208_1797.jpg: 256x416 2 pigs, 6.0ms\n",
      "Speed: 0.9ms preprocess, 6.0ms inference, 1.2ms postprocess per image at shape (1, 3, 256, 416)\n",
      "Results saved to \u001b[1m/kaggle/working/yolo/runs/predict\u001b[0m\n",
      "Saved predictions to: /kaggle/working/yolo/runs/predict\n"
     ]
    }
   ],
   "source": [
    "preds = model.predict(\n",
    "    source=str(YOLO_DIR/\"images/val\")+\"/**/*.jpg\",\n",
    "    save=True,\n",
    "    imgsz=416,\n",
    "    conf=0.25,   # confidence threshold\n",
    "    project=str(YOLO_DIR/\"runs\"),\n",
    "    name=\"predict\",\n",
    "    exist_ok=True\n",
    ")\n",
    "print(\"Saved predictions to:\", YOLO_DIR/\"runs\"/\"predict\")"
   ]
  },
  {
   "cell_type": "code",
   "execution_count": 17,
   "id": "930f525b",
   "metadata": {
    "execution": {
     "iopub.execute_input": "2025-05-13T15:38:00.365891Z",
     "iopub.status.busy": "2025-05-13T15:38:00.365162Z",
     "iopub.status.idle": "2025-05-13T15:38:19.163435Z",
     "shell.execute_reply": "2025-05-13T15:38:19.162766Z"
    },
    "papermill": {
     "duration": 19.685939,
     "end_time": "2025-05-13T15:38:19.164574",
     "exception": false,
     "start_time": "2025-05-13T15:37:59.478635",
     "status": "completed"
    },
    "tags": []
   },
   "outputs": [
    {
     "name": "stdout",
     "output_type": "stream",
     "text": [
      "Ultralytics 8.3.133 🚀 Python-3.11.11 torch-2.5.1+cu124 CPU (Intel Xeon 2.00GHz)\n",
      "💡 ProTip: Export to OpenVINO format for best performance on Intel CPUs. Learn more at https://docs.ultralytics.com/integrations/openvino/\n",
      "\n",
      "\u001b[34m\u001b[1mPyTorch:\u001b[0m starting from '/kaggle/working/yolo/runs/yolov8_pig/weights/best.pt' with input shape (1, 3, 416, 416) BCHW and output shape(s) (1, 5, 3549) (5.9 MB)\n",
      "\u001b[31m\u001b[1mrequirements:\u001b[0m Ultralytics requirements ['onnxslim>=0.1.46', 'onnxruntime-gpu'] not found, attempting AutoUpdate...\n",
      "Collecting onnxslim>=0.1.46\n",
      "  Downloading onnxslim-0.1.52-py3-none-any.whl.metadata (5.0 kB)\n",
      "Collecting onnxruntime-gpu\n",
      "  Downloading onnxruntime_gpu-1.22.0-cp311-cp311-manylinux_2_27_x86_64.manylinux_2_28_x86_64.whl.metadata (4.9 kB)\n",
      "Requirement already satisfied: onnx in /usr/local/lib/python3.11/dist-packages (from onnxslim>=0.1.46) (1.17.0)\n",
      "Requirement already satisfied: sympy in /usr/local/lib/python3.11/dist-packages (from onnxslim>=0.1.46) (1.13.1)\n",
      "Requirement already satisfied: packaging in /usr/local/lib/python3.11/dist-packages (from onnxslim>=0.1.46) (24.2)\n",
      "Collecting coloredlogs (from onnxruntime-gpu)\n",
      "  Downloading coloredlogs-15.0.1-py2.py3-none-any.whl.metadata (12 kB)\n",
      "Requirement already satisfied: flatbuffers in /usr/local/lib/python3.11/dist-packages (from onnxruntime-gpu) (25.2.10)\n",
      "Requirement already satisfied: numpy>=1.21.6 in /usr/local/lib/python3.11/dist-packages (from onnxruntime-gpu) (1.26.4)\n",
      "Requirement already satisfied: protobuf in /usr/local/lib/python3.11/dist-packages (from onnxruntime-gpu) (3.20.3)\n",
      "Requirement already satisfied: mkl_fft in /usr/local/lib/python3.11/dist-packages (from numpy>=1.21.6->onnxruntime-gpu) (1.3.8)\n",
      "Requirement already satisfied: mkl_random in /usr/local/lib/python3.11/dist-packages (from numpy>=1.21.6->onnxruntime-gpu) (1.2.4)\n",
      "Requirement already satisfied: mkl_umath in /usr/local/lib/python3.11/dist-packages (from numpy>=1.21.6->onnxruntime-gpu) (0.1.1)\n",
      "Requirement already satisfied: mkl in /usr/local/lib/python3.11/dist-packages (from numpy>=1.21.6->onnxruntime-gpu) (2025.1.0)\n",
      "Requirement already satisfied: tbb4py in /usr/local/lib/python3.11/dist-packages (from numpy>=1.21.6->onnxruntime-gpu) (2022.1.0)\n",
      "Requirement already satisfied: mkl-service in /usr/local/lib/python3.11/dist-packages (from numpy>=1.21.6->onnxruntime-gpu) (2.4.1)\n",
      "Collecting humanfriendly>=9.1 (from coloredlogs->onnxruntime-gpu)\n",
      "  Downloading humanfriendly-10.0-py2.py3-none-any.whl.metadata (9.2 kB)\n",
      "Requirement already satisfied: mpmath<1.4,>=1.1.0 in /usr/local/lib/python3.11/dist-packages (from sympy->onnxslim>=0.1.46) (1.3.0)\n",
      "Requirement already satisfied: intel-openmp<2026,>=2024 in /usr/local/lib/python3.11/dist-packages (from mkl->numpy>=1.21.6->onnxruntime-gpu) (2024.2.0)\n",
      "Requirement already satisfied: tbb==2022.* in /usr/local/lib/python3.11/dist-packages (from mkl->numpy>=1.21.6->onnxruntime-gpu) (2022.1.0)\n",
      "Requirement already satisfied: tcmlib==1.* in /usr/local/lib/python3.11/dist-packages (from tbb==2022.*->mkl->numpy>=1.21.6->onnxruntime-gpu) (1.2.0)\n",
      "Requirement already satisfied: intel-cmplr-lib-rt in /usr/local/lib/python3.11/dist-packages (from mkl_umath->numpy>=1.21.6->onnxruntime-gpu) (2024.2.0)\n",
      "Requirement already satisfied: intel-cmplr-lib-ur==2024.2.0 in /usr/local/lib/python3.11/dist-packages (from intel-openmp<2026,>=2024->mkl->numpy>=1.21.6->onnxruntime-gpu) (2024.2.0)\n",
      "Downloading onnxslim-0.1.52-py3-none-any.whl (145 kB)\n",
      "   ━━━━━━━━━━━━━━━━━━━━━━━━━━━━━━━━━━━━━━━━ 145.6/145.6 kB 5.8 MB/s eta 0:00:00\n",
      "Downloading onnxruntime_gpu-1.22.0-cp311-cp311-manylinux_2_27_x86_64.manylinux_2_28_x86_64.whl (283.2 MB)\n",
      "   ━━━━━━━━━━━━━━━━━━━━━━━━━━━━━━━━━━━━━━━━ 283.2/283.2 MB 251.3 MB/s eta 0:00:00\n",
      "Downloading coloredlogs-15.0.1-py2.py3-none-any.whl (46 kB)\n",
      "   ━━━━━━━━━━━━━━━━━━━━━━━━━━━━━━━━━━━━━━━━ 46.0/46.0 kB 260.6 MB/s eta 0:00:00\n",
      "Downloading humanfriendly-10.0-py2.py3-none-any.whl (86 kB)\n",
      "   ━━━━━━━━━━━━━━━━━━━━━━━━━━━━━━━━━━━━━━━━ 86.8/86.8 kB 166.6 MB/s eta 0:00:00\n",
      "Installing collected packages: humanfriendly, coloredlogs, onnxslim, onnxruntime-gpu\n",
      "Successfully installed coloredlogs-15.0.1 humanfriendly-10.0 onnxruntime-gpu-1.22.0 onnxslim-0.1.52\n",
      "\n",
      "\u001b[31m\u001b[1mrequirements:\u001b[0m AutoUpdate success ✅ 11.2s, installed 2 packages: ['onnxslim>=0.1.46', 'onnxruntime-gpu']\n",
      "WARNING ⚠️ \u001b[31m\u001b[1mrequirements:\u001b[0m \u001b[1mRestart runtime or rerun command for updates to take effect\u001b[0m\n",
      "\n",
      "\n",
      "\u001b[34m\u001b[1mONNX:\u001b[0m starting export with onnx 1.17.0 opset 12...\n",
      "\u001b[34m\u001b[1mONNX:\u001b[0m slimming with onnxslim 0.1.52...\n",
      "\u001b[34m\u001b[1mONNX:\u001b[0m export success ✅ 17.3s, saved as '/kaggle/working/yolo/runs/yolov8_pig/weights/best.onnx' (11.6 MB)\n",
      "\n",
      "Export complete (18.8s)\n",
      "Results saved to \u001b[1m/kaggle/working/yolo/runs/yolov8_pig/weights\u001b[0m\n",
      "Predict:         yolo predict task=detect model=/kaggle/working/yolo/runs/yolov8_pig/weights/best.onnx imgsz=416  \n",
      "Validate:        yolo val task=detect model=/kaggle/working/yolo/runs/yolov8_pig/weights/best.onnx imgsz=416 data=/kaggle/working/yolo/data.yaml  \n",
      "Visualize:       https://netron.app\n",
      "Exported ONNX model to: models/best.onnx\n"
     ]
    }
   ],
   "source": [
    "model.export(format='onnx',  \n",
    "             imgsz=416,\n",
    "             dynamic=True,\n",
    "             batch=1,\n",
    "             opset=12\n",
    ")\n",
    "print(\"Exported ONNX model to:\", Path(\"models\")/\"best.onnx\")"
   ]
  },
  {
   "cell_type": "code",
   "execution_count": null,
   "id": "01e20bc7",
   "metadata": {
    "papermill": {
     "duration": 0.953425,
     "end_time": "2025-05-13T15:38:21.045173",
     "exception": false,
     "start_time": "2025-05-13T15:38:20.091748",
     "status": "completed"
    },
    "tags": []
   },
   "outputs": [],
   "source": []
  },
  {
   "cell_type": "markdown",
   "id": "15508725",
   "metadata": {
    "papermill": {
     "duration": 0.934389,
     "end_time": "2025-05-13T15:38:22.845364",
     "exception": false,
     "start_time": "2025-05-13T15:38:21.910975",
     "status": "completed"
    },
    "tags": []
   },
   "source": [
    "### Improved version"
   ]
  },
  {
   "cell_type": "code",
   "execution_count": 18,
   "id": "08e0c63e",
   "metadata": {
    "execution": {
     "iopub.execute_input": "2025-05-13T15:38:24.645148Z",
     "iopub.status.busy": "2025-05-13T15:38:24.644310Z",
     "iopub.status.idle": "2025-05-13T15:38:24.648244Z",
     "shell.execute_reply": "2025-05-13T15:38:24.647512Z"
    },
    "papermill": {
     "duration": 0.876884,
     "end_time": "2025-05-13T15:38:24.649382",
     "exception": false,
     "start_time": "2025-05-13T15:38:23.772498",
     "status": "completed"
    },
    "tags": []
   },
   "outputs": [],
   "source": [
    "# !pip install -U ultralytics"
   ]
  },
  {
   "cell_type": "code",
   "execution_count": 19,
   "id": "c8c5501e",
   "metadata": {
    "execution": {
     "iopub.execute_input": "2025-05-13T15:38:26.625299Z",
     "iopub.status.busy": "2025-05-13T15:38:26.624553Z",
     "iopub.status.idle": "2025-05-13T15:38:26.628400Z",
     "shell.execute_reply": "2025-05-13T15:38:26.627757Z"
    },
    "papermill": {
     "duration": 1.049364,
     "end_time": "2025-05-13T15:38:26.629412",
     "exception": false,
     "start_time": "2025-05-13T15:38:25.580048",
     "status": "completed"
    },
    "tags": []
   },
   "outputs": [],
   "source": [
    "# from ultralytics import YOLO\n",
    "# from pathlib import Path\n",
    "# import yaml"
   ]
  },
  {
   "cell_type": "code",
   "execution_count": 20,
   "id": "f737a219",
   "metadata": {
    "execution": {
     "iopub.execute_input": "2025-05-13T15:38:28.436009Z",
     "iopub.status.busy": "2025-05-13T15:38:28.435502Z",
     "iopub.status.idle": "2025-05-13T15:38:28.439063Z",
     "shell.execute_reply": "2025-05-13T15:38:28.438477Z"
    },
    "papermill": {
     "duration": 0.883016,
     "end_time": "2025-05-13T15:38:28.440100",
     "exception": false,
     "start_time": "2025-05-13T15:38:27.557084",
     "status": "completed"
    },
    "tags": []
   },
   "outputs": [],
   "source": [
    "\n",
    "# YOLO_DIR   = Path(\"/kaggle/working/yolo\")\n",
    "# DATA_YAML  = YOLO_DIR/\"data.yaml\"\n",
    "# RUNS_DIR   = YOLO_DIR/\"runs\"\n",
    "# RUN_NAME   = \"yolov8m_pig_improved\"\n",
    "# WEIGHTS    = RUNS_DIR/RUN_NAME/\"weights\"/\"best.pt\"\n",
    "\n",
    "# # 3) Re-write data.yaml if needed\n",
    "# config = {\n",
    "#     'path': str(YOLO_DIR),\n",
    "#     'train': 'images/train',\n",
    "#     'val':   'images/val',\n",
    "#     'nc':    1,\n",
    "#     'names': ['pig']\n",
    "# }\n",
    "# with open(DATA_YAML,'w') as f:\n",
    "#     yaml.dump(config, f)\n",
    "\n",
    "# # 4) Load a medium-sized YOLOv8 backbone\n",
    "# model = YOLO('yolov8m.pt')  # upgrade from nano to medium"
   ]
  },
  {
   "cell_type": "code",
   "execution_count": null,
   "id": "3e325e39",
   "metadata": {
    "papermill": {
     "duration": 0.960468,
     "end_time": "2025-05-13T15:38:30.346957",
     "exception": false,
     "start_time": "2025-05-13T15:38:29.386489",
     "status": "completed"
    },
    "tags": []
   },
   "outputs": [],
   "source": []
  },
  {
   "cell_type": "code",
   "execution_count": 21,
   "id": "550a04a8",
   "metadata": {
    "execution": {
     "iopub.execute_input": "2025-05-13T15:38:32.219092Z",
     "iopub.status.busy": "2025-05-13T15:38:32.218548Z",
     "iopub.status.idle": "2025-05-13T15:38:32.221810Z",
     "shell.execute_reply": "2025-05-13T15:38:32.221298Z"
    },
    "papermill": {
     "duration": 0.973167,
     "end_time": "2025-05-13T15:38:32.222967",
     "exception": false,
     "start_time": "2025-05-13T15:38:31.249800",
     "status": "completed"
    },
    "tags": []
   },
   "outputs": [],
   "source": [
    "# # 5) Train with stronger settings\n",
    "# results = model.train(\n",
    "#     data=str(DATA_YAML),\n",
    "#     model='yolov8m.pt',\n",
    "#     epochs=100,\n",
    "#     imgsz=640,\n",
    "#     batch=8,\n",
    "#     optimizer='SGD',\n",
    "#     lr0=0.01,\n",
    "#     lrf=0.2,            # final LR = lr0 * lrf\n",
    "#     momentum=0.937,\n",
    "#     weight_decay=0.0005,\n",
    "#     patience=50,        # early stop if no improvement\n",
    "#     augment=True,         # stronger aug & hyperparams\n",
    "#     project=str(RUNS_DIR),\n",
    "#     name=RUN_NAME,\n",
    "#     save=True,\n",
    "#     device='0'\n",
    "# )\n"
   ]
  },
  {
   "cell_type": "code",
   "execution_count": 22,
   "id": "7d92478e",
   "metadata": {
    "execution": {
     "iopub.execute_input": "2025-05-13T15:38:34.132153Z",
     "iopub.status.busy": "2025-05-13T15:38:34.131851Z",
     "iopub.status.idle": "2025-05-13T15:38:34.135383Z",
     "shell.execute_reply": "2025-05-13T15:38:34.134568Z"
    },
    "papermill": {
     "duration": 0.982164,
     "end_time": "2025-05-13T15:38:34.136900",
     "exception": false,
     "start_time": "2025-05-13T15:38:33.154736",
     "status": "completed"
    },
    "tags": []
   },
   "outputs": [],
   "source": [
    "# from ultralytics import YOLO\n",
    "# val_model = YOLO(str(WEIGHTS))\n",
    "# print(\"New val metrics:\", val_model.val())"
   ]
  },
  {
   "cell_type": "code",
   "execution_count": 23,
   "id": "d7165700",
   "metadata": {
    "execution": {
     "iopub.execute_input": "2025-05-13T15:38:35.968764Z",
     "iopub.status.busy": "2025-05-13T15:38:35.968090Z",
     "iopub.status.idle": "2025-05-13T15:38:35.971536Z",
     "shell.execute_reply": "2025-05-13T15:38:35.970813Z"
    },
    "papermill": {
     "duration": 0.927245,
     "end_time": "2025-05-13T15:38:35.972725",
     "exception": false,
     "start_time": "2025-05-13T15:38:35.045480",
     "status": "completed"
    },
    "tags": []
   },
   "outputs": [],
   "source": [
    "\n",
    "# # 6) Summarize your new metrics\n",
    "# metrics = model.val()  \n",
    "# print(metrics)\n",
    "\n"
   ]
  },
  {
   "cell_type": "code",
   "execution_count": 24,
   "id": "86cf7883",
   "metadata": {
    "execution": {
     "iopub.execute_input": "2025-05-13T15:38:37.773171Z",
     "iopub.status.busy": "2025-05-13T15:38:37.772467Z",
     "iopub.status.idle": "2025-05-13T15:38:37.775786Z",
     "shell.execute_reply": "2025-05-13T15:38:37.775228Z"
    },
    "papermill": {
     "duration": 0.870429,
     "end_time": "2025-05-13T15:38:37.776761",
     "exception": false,
     "start_time": "2025-05-13T15:38:36.906332",
     "status": "completed"
    },
    "tags": []
   },
   "outputs": [],
   "source": [
    "# # 7) Plot PR and loss curves\n",
    "# # (Ultralytics automatically saves them under runs/<name>/)\n",
    "# from IPython.display import display, Image\n",
    "# display(Image(str(RUNS_DIR/RUN_NAME/'results.png')))"
   ]
  },
  {
   "cell_type": "code",
   "execution_count": null,
   "id": "6d9f8339",
   "metadata": {
    "papermill": {
     "duration": 0.939131,
     "end_time": "2025-05-13T15:38:39.639904",
     "exception": false,
     "start_time": "2025-05-13T15:38:38.700773",
     "status": "completed"
    },
    "tags": []
   },
   "outputs": [],
   "source": []
  },
  {
   "cell_type": "code",
   "execution_count": null,
   "id": "8b89bea9",
   "metadata": {
    "papermill": {
     "duration": 0.863149,
     "end_time": "2025-05-13T15:38:41.428631",
     "exception": false,
     "start_time": "2025-05-13T15:38:40.565482",
     "status": "completed"
    },
    "tags": []
   },
   "outputs": [],
   "source": []
  }
 ],
 "metadata": {
  "kaggle": {
   "accelerator": "nvidiaTeslaT4",
   "dataSources": [
    {
     "datasetId": 7401158,
     "sourceId": 11787511,
     "sourceType": "datasetVersion"
    }
   ],
   "dockerImageVersionId": 31011,
   "isGpuEnabled": true,
   "isInternetEnabled": true,
   "language": "python",
   "sourceType": "notebook"
  },
  "kernelspec": {
   "display_name": "Python 3",
   "language": "python",
   "name": "python3"
  },
  "language_info": {
   "codemirror_mode": {
    "name": "ipython",
    "version": 3
   },
   "file_extension": ".py",
   "mimetype": "text/x-python",
   "name": "python",
   "nbconvert_exporter": "python",
   "pygments_lexer": "ipython3",
   "version": "3.11.11"
  },
  "papermill": {
   "default_parameters": {},
   "duration": 6020.29514,
   "end_time": "2025-05-13T15:38:45.670944",
   "environment_variables": {},
   "exception": null,
   "input_path": "__notebook__.ipynb",
   "output_path": "__notebook__.ipynb",
   "parameters": {},
   "start_time": "2025-05-13T13:58:25.375804",
   "version": "2.6.0"
  }
 },
 "nbformat": 4,
 "nbformat_minor": 5
}
